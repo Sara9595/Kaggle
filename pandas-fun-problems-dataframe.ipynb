{
 "cells": [
  {
   "cell_type": "markdown",
   "id": "ecc7c22a",
   "metadata": {
    "papermill": {
     "duration": 0.018269,
     "end_time": "2024-05-15T16:08:41.189093",
     "exception": false,
     "start_time": "2024-05-15T16:08:41.170824",
     "status": "completed"
    },
    "tags": []
   },
   "source": [
    "# Pandas Fun Problems - DataFrame\n",
    "\n",
    "Dive deeper into Pandas with  second notebook, focusing on DataFrames, the backbone of data manipulation in Pandas. This notebook guides you through various DataFrame operations, enhancing your data analysis skills.\n",
    "\n",
    "- [Practice Problems Source](https://www.practiceprobs.com/problemsets/python-pandas/dataframe/)\n",
    "- [YouTube Tutorial](https://www.youtube.com/watch?v=8xUgesdShE8)\n",
    "\n",
    "After mastering Series, understanding DataFrames is crucial for any data science endeavor. This problem set and accompanying tutorial offer hands-on experience and insights into effective DataFrame usage.\n",
    "\n",
    "Share your thoughts and solutions in the comments. Your interaction enriches the learning experience for all.\n",
    "\n",
    "### **Found this useful? Support with an upvote!**\n"
   ]
  },
  {
   "cell_type": "markdown",
   "id": "8004f4ff",
   "metadata": {
    "papermill": {
     "duration": 0.017427,
     "end_time": "2024-05-15T16:08:41.224565",
     "exception": false,
     "start_time": "2024-05-15T16:08:41.207138",
     "status": "completed"
    },
    "tags": []
   },
   "source": [
    "# Q1 - Hobbies Problem"
   ]
  },
  {
   "cell_type": "markdown",
   "id": "56e3f748",
   "metadata": {
    "papermill": {
     "duration": 0.017437,
     "end_time": "2024-05-15T16:08:41.259801",
     "exception": false,
     "start_time": "2024-05-15T16:08:41.242364",
     "status": "completed"
    },
    "tags": []
   },
   "source": [
    "You polled five heterosexual couples on their hobbies."
   ]
  },
  {
   "cell_type": "code",
   "execution_count": 1,
   "id": "b0b2e7dd",
   "metadata": {
    "execution": {
     "iopub.execute_input": "2024-05-15T16:08:41.298501Z",
     "iopub.status.busy": "2024-05-15T16:08:41.298026Z",
     "iopub.status.idle": "2024-05-15T16:08:42.298081Z",
     "shell.execute_reply": "2024-05-15T16:08:42.296522Z"
    },
    "papermill": {
     "duration": 1.022419,
     "end_time": "2024-05-15T16:08:42.300975",
     "exception": false,
     "start_time": "2024-05-15T16:08:41.278556",
     "status": "completed"
    },
    "tags": []
   },
   "outputs": [
    {
     "name": "stdout",
     "output_type": "stream",
     "text": [
      "                                   man                               woman\n",
      "0           [fishing, biking, reading]           [biking, reading, movies]\n",
      "1          [hunting, mudding, fishing]                 [fishing, drinking]\n",
      "2           [reading, movies, running]                 [knitting, reading]\n",
      "3  [running, reading, biking, mudding]  [running, biking, fishing, movies]\n",
      "4          [movies, reading, yodeling]                            [movies]\n"
     ]
    }
   ],
   "source": [
    "import numpy as np\n",
    "import pandas as pd\n",
    "\n",
    "couples = pd.DataFrame({\n",
    "    'man': [\n",
    "        ['fishing', 'biking', 'reading'],\n",
    "        ['hunting', 'mudding', 'fishing'],\n",
    "        ['reading', 'movies', 'running'],\n",
    "        ['running', 'reading', 'biking', 'mudding'],\n",
    "        ['movies', 'reading', 'yodeling']\n",
    "    ],\n",
    "    'woman': [\n",
    "        ['biking', 'reading', 'movies'],\n",
    "        ['fishing', 'drinking'],\n",
    "        ['knitting', 'reading'],\n",
    "        ['running', 'biking', 'fishing', 'movies'],\n",
    "        ['movies']\n",
    "    ]\n",
    "})\n",
    "print(couples)"
   ]
  },
  {
   "cell_type": "markdown",
   "id": "b4cbaa22",
   "metadata": {
    "papermill": {
     "duration": 0.018146,
     "end_time": "2024-05-15T16:08:42.337258",
     "exception": false,
     "start_time": "2024-05-15T16:08:42.319112",
     "status": "completed"
    },
    "tags": []
   },
   "source": [
    "For each couple, determine what hobbies each man has that his wife doesn’t and what hobbies each woman has that her husband doesn’t."
   ]
  },
  {
   "cell_type": "markdown",
   "id": "116fbdb6",
   "metadata": {
    "papermill": {
     "duration": 0.017803,
     "end_time": "2024-05-15T16:08:42.373119",
     "exception": false,
     "start_time": "2024-05-15T16:08:42.355316",
     "status": "completed"
    },
    "tags": []
   },
   "source": [
    "## Solution 1"
   ]
  },
  {
   "cell_type": "code",
   "execution_count": 2,
   "id": "aea7acaa",
   "metadata": {
    "execution": {
     "iopub.execute_input": "2024-05-15T16:08:42.412246Z",
     "iopub.status.busy": "2024-05-15T16:08:42.411345Z",
     "iopub.status.idle": "2024-05-15T16:08:42.421538Z",
     "shell.execute_reply": "2024-05-15T16:08:42.420006Z"
    },
    "papermill": {
     "duration": 0.032442,
     "end_time": "2024-05-15T16:08:42.424071",
     "exception": false,
     "start_time": "2024-05-15T16:08:42.391629",
     "status": "completed"
    },
    "tags": []
   },
   "outputs": [
    {
     "name": "stdout",
     "output_type": "stream",
     "text": [
      "[['fishing'], ['hunting', 'mudding'], ['movies', 'running'], ['reading', 'mudding'], ['yodeling', 'reading']]\n",
      "[['movies'], ['drinking'], ['knitting'], ['movies', 'fishing'], []]\n"
     ]
    }
   ],
   "source": [
    "man_hobbies = []\n",
    "woman_hobbies = []\n",
    "for index, row in couples.iterrows():\n",
    "    man_hobbies.append(list(set(row['man']) - set(row['woman'])))\n",
    "    woman_hobbies.append(list(set(row['woman']) - set(row['man'])))\n",
    "\n",
    "print(man_hobbies)\n",
    "print(woman_hobbies)"
   ]
  },
  {
   "cell_type": "markdown",
   "id": "602df552",
   "metadata": {
    "papermill": {
     "duration": 0.017681,
     "end_time": "2024-05-15T16:08:42.460076",
     "exception": false,
     "start_time": "2024-05-15T16:08:42.442395",
     "status": "completed"
    },
    "tags": []
   },
   "source": [
    "## Solution 2 - more professional"
   ]
  },
  {
   "cell_type": "code",
   "execution_count": 3,
   "id": "57578d0f",
   "metadata": {
    "execution": {
     "iopub.execute_input": "2024-05-15T16:08:42.498467Z",
     "iopub.status.busy": "2024-05-15T16:08:42.497853Z",
     "iopub.status.idle": "2024-05-15T16:08:42.505333Z",
     "shell.execute_reply": "2024-05-15T16:08:42.504062Z"
    },
    "papermill": {
     "duration": 0.029659,
     "end_time": "2024-05-15T16:08:42.507977",
     "exception": false,
     "start_time": "2024-05-15T16:08:42.478318",
     "status": "completed"
    },
    "tags": []
   },
   "outputs": [],
   "source": [
    "couples = pd.DataFrame({\n",
    "    'man': [\n",
    "        ['fishing', 'biking', 'reading'],\n",
    "        ['hunting', 'mudding', 'fishing'],\n",
    "        ['reading', 'movies', 'running'],\n",
    "        ['running', 'reading', 'biking', 'mudding'],\n",
    "        ['movies', 'reading', 'yodeling']\n",
    "    ],\n",
    "    'woman': [\n",
    "        ['biking', 'reading', 'movies'],\n",
    "        ['fishing', 'drinking'],\n",
    "        ['knitting', 'reading'],\n",
    "        ['running', 'biking', 'fishing', 'movies'],\n",
    "        ['movies']\n",
    "    ]\n",
    "})"
   ]
  },
  {
   "cell_type": "code",
   "execution_count": 4,
   "id": "b3bc6983",
   "metadata": {
    "execution": {
     "iopub.execute_input": "2024-05-15T16:08:42.546352Z",
     "iopub.status.busy": "2024-05-15T16:08:42.545928Z",
     "iopub.status.idle": "2024-05-15T16:08:42.564776Z",
     "shell.execute_reply": "2024-05-15T16:08:42.563486Z"
    },
    "papermill": {
     "duration": 0.04095,
     "end_time": "2024-05-15T16:08:42.567369",
     "exception": false,
     "start_time": "2024-05-15T16:08:42.526419",
     "status": "completed"
    },
    "tags": []
   },
   "outputs": [
    {
     "data": {
      "text/html": [
       "<div>\n",
       "<style scoped>\n",
       "    .dataframe tbody tr th:only-of-type {\n",
       "        vertical-align: middle;\n",
       "    }\n",
       "\n",
       "    .dataframe tbody tr th {\n",
       "        vertical-align: top;\n",
       "    }\n",
       "\n",
       "    .dataframe thead th {\n",
       "        text-align: right;\n",
       "    }\n",
       "</style>\n",
       "<table border=\"1\" class=\"dataframe\">\n",
       "  <thead>\n",
       "    <tr style=\"text-align: right;\">\n",
       "      <th></th>\n",
       "      <th>man</th>\n",
       "      <th>woman</th>\n",
       "    </tr>\n",
       "  </thead>\n",
       "  <tbody>\n",
       "    <tr>\n",
       "      <th>0</th>\n",
       "      <td>{biking, reading, fishing}</td>\n",
       "      <td>{biking, reading, movies}</td>\n",
       "    </tr>\n",
       "    <tr>\n",
       "      <th>1</th>\n",
       "      <td>{fishing, hunting, mudding}</td>\n",
       "      <td>{drinking, fishing}</td>\n",
       "    </tr>\n",
       "    <tr>\n",
       "      <th>2</th>\n",
       "      <td>{reading, movies, running}</td>\n",
       "      <td>{knitting, reading}</td>\n",
       "    </tr>\n",
       "    <tr>\n",
       "      <th>3</th>\n",
       "      <td>{reading, biking, mudding, running}</td>\n",
       "      <td>{biking, fishing, movies, running}</td>\n",
       "    </tr>\n",
       "    <tr>\n",
       "      <th>4</th>\n",
       "      <td>{yodeling, reading, movies}</td>\n",
       "      <td>{movies}</td>\n",
       "    </tr>\n",
       "  </tbody>\n",
       "</table>\n",
       "</div>"
      ],
      "text/plain": [
       "                                   man                               woman\n",
       "0           {biking, reading, fishing}           {biking, reading, movies}\n",
       "1          {fishing, hunting, mudding}                 {drinking, fishing}\n",
       "2           {reading, movies, running}                 {knitting, reading}\n",
       "3  {reading, biking, mudding, running}  {biking, fishing, movies, running}\n",
       "4          {yodeling, reading, movies}                            {movies}"
      ]
     },
     "execution_count": 4,
     "metadata": {},
     "output_type": "execute_result"
    }
   ],
   "source": [
    "couples.map(set)"
   ]
  },
  {
   "cell_type": "code",
   "execution_count": 5,
   "id": "0edbf5bf",
   "metadata": {
    "execution": {
     "iopub.execute_input": "2024-05-15T16:08:42.606360Z",
     "iopub.status.busy": "2024-05-15T16:08:42.605965Z",
     "iopub.status.idle": "2024-05-15T16:08:42.612107Z",
     "shell.execute_reply": "2024-05-15T16:08:42.610771Z"
    },
    "papermill": {
     "duration": 0.028329,
     "end_time": "2024-05-15T16:08:42.614540",
     "exception": false,
     "start_time": "2024-05-15T16:08:42.586211",
     "status": "completed"
    },
    "tags": []
   },
   "outputs": [],
   "source": [
    "sets = couples.map(set)"
   ]
  },
  {
   "cell_type": "code",
   "execution_count": 6,
   "id": "4c793a84",
   "metadata": {
    "execution": {
     "iopub.execute_input": "2024-05-15T16:08:42.653552Z",
     "iopub.status.busy": "2024-05-15T16:08:42.653171Z",
     "iopub.status.idle": "2024-05-15T16:08:42.665339Z",
     "shell.execute_reply": "2024-05-15T16:08:42.664279Z"
    },
    "papermill": {
     "duration": 0.034454,
     "end_time": "2024-05-15T16:08:42.667859",
     "exception": false,
     "start_time": "2024-05-15T16:08:42.633405",
     "status": "completed"
    },
    "tags": []
   },
   "outputs": [],
   "source": [
    "woman_not_man = sets.diff(axis=1, periods=1).drop(columns='man')"
   ]
  },
  {
   "cell_type": "code",
   "execution_count": 7,
   "id": "4581f077",
   "metadata": {
    "execution": {
     "iopub.execute_input": "2024-05-15T16:08:42.706262Z",
     "iopub.status.busy": "2024-05-15T16:08:42.705874Z",
     "iopub.status.idle": "2024-05-15T16:08:42.713082Z",
     "shell.execute_reply": "2024-05-15T16:08:42.712181Z"
    },
    "papermill": {
     "duration": 0.029226,
     "end_time": "2024-05-15T16:08:42.715539",
     "exception": false,
     "start_time": "2024-05-15T16:08:42.686313",
     "status": "completed"
    },
    "tags": []
   },
   "outputs": [],
   "source": [
    "man_not_woman = sets.diff(periods=-1, axis=1).drop(columns='woman')"
   ]
  },
  {
   "cell_type": "code",
   "execution_count": 8,
   "id": "eef689ee",
   "metadata": {
    "execution": {
     "iopub.execute_input": "2024-05-15T16:08:42.755358Z",
     "iopub.status.busy": "2024-05-15T16:08:42.754952Z",
     "iopub.status.idle": "2024-05-15T16:08:42.761674Z",
     "shell.execute_reply": "2024-05-15T16:08:42.760402Z"
    },
    "papermill": {
     "duration": 0.029824,
     "end_time": "2024-05-15T16:08:42.764270",
     "exception": false,
     "start_time": "2024-05-15T16:08:42.734446",
     "status": "completed"
    },
    "tags": []
   },
   "outputs": [],
   "source": [
    "hobbies_not_shared = pd.concat((man_not_woman, woman_not_man), axis=1).map(list)"
   ]
  },
  {
   "cell_type": "code",
   "execution_count": 9,
   "id": "2e349f17",
   "metadata": {
    "execution": {
     "iopub.execute_input": "2024-05-15T16:08:42.803493Z",
     "iopub.status.busy": "2024-05-15T16:08:42.803103Z",
     "iopub.status.idle": "2024-05-15T16:08:42.813003Z",
     "shell.execute_reply": "2024-05-15T16:08:42.811747Z"
    },
    "papermill": {
     "duration": 0.033423,
     "end_time": "2024-05-15T16:08:42.816370",
     "exception": false,
     "start_time": "2024-05-15T16:08:42.782947",
     "status": "completed"
    },
    "tags": []
   },
   "outputs": [
    {
     "name": "stdout",
     "output_type": "stream",
     "text": [
      "                   man              woman\n",
      "0            [fishing]           [movies]\n",
      "1   [hunting, mudding]         [drinking]\n",
      "2    [movies, running]         [knitting]\n",
      "3   [reading, mudding]  [movies, fishing]\n",
      "4  [yodeling, reading]                 []\n"
     ]
    }
   ],
   "source": [
    "print(hobbies_not_shared)"
   ]
  },
  {
   "cell_type": "markdown",
   "id": "fa78514b",
   "metadata": {
    "papermill": {
     "duration": 0.018434,
     "end_time": "2024-05-15T16:08:42.855914",
     "exception": false,
     "start_time": "2024-05-15T16:08:42.837480",
     "status": "completed"
    },
    "tags": []
   },
   "source": [
    "# Q2 - Party Time Problem"
   ]
  },
  {
   "cell_type": "markdown",
   "id": "293aa2f8",
   "metadata": {
    "papermill": {
     "duration": 0.018408,
     "end_time": "2024-05-15T16:08:42.892803",
     "exception": false,
     "start_time": "2024-05-15T16:08:42.874395",
     "status": "completed"
    },
    "tags": []
   },
   "source": [
    "Whenever your friends John and Judy visit you together, y’all have a party 🥳. Given a DataFrame with 10 rows representing the next 10 days of your schedule and whether John and Judy are scheduled to make an appearance, insert a new column called days_til_party that indicates how many days until the next party."
   ]
  },
  {
   "cell_type": "code",
   "execution_count": 10,
   "id": "97849bf0",
   "metadata": {
    "execution": {
     "iopub.execute_input": "2024-05-15T16:08:42.932395Z",
     "iopub.status.busy": "2024-05-15T16:08:42.931583Z",
     "iopub.status.idle": "2024-05-15T16:08:42.945468Z",
     "shell.execute_reply": "2024-05-15T16:08:42.944567Z"
    },
    "papermill": {
     "duration": 0.037063,
     "end_time": "2024-05-15T16:08:42.948460",
     "exception": false,
     "start_time": "2024-05-15T16:08:42.911397",
     "status": "completed"
    },
    "tags": []
   },
   "outputs": [
    {
     "name": "stdout",
     "output_type": "stream",
     "text": [
      "    john   judy\n",
      "0   True   True\n",
      "1  False  False\n",
      "2  False   True\n",
      "3   True  False\n",
      "4  False   True\n",
      "5   True   True\n",
      "6   True  False\n",
      "7   True  False\n",
      "8   True  False\n",
      "9   True  False\n"
     ]
    }
   ],
   "source": [
    "import numpy as np\n",
    "import pandas as pd\n",
    "\n",
    "generator = np.random.default_rng(123)\n",
    "df = pd.DataFrame({\n",
    "    'john': generator.choice([True, False], size=10, replace=True),\n",
    "    'judy': generator.choice([True, False], size=10, replace=True)\n",
    "})\n",
    "print(df)\n",
    "#     john   judy\n",
    "# 0   True   True\n",
    "# 1  False  False\n",
    "# 2  False   True\n",
    "# 3   True  False\n",
    "# 4  False   True\n",
    "# 5   True   True\n",
    "# 6   True  False\n",
    "# 7   True  False\n",
    "# 8   True  False\n",
    "# 9   True  False\n"
   ]
  },
  {
   "cell_type": "markdown",
   "id": "dbf1f9d0",
   "metadata": {
    "papermill": {
     "duration": 0.018355,
     "end_time": "2024-05-15T16:08:42.985517",
     "exception": false,
     "start_time": "2024-05-15T16:08:42.967162",
     "status": "completed"
    },
    "tags": []
   },
   "source": [
    "days_til_party should be 0 on days when a party occurs, 1 on days when a party doesn’t occur but will occur the next day, etc."
   ]
  },
  {
   "cell_type": "markdown",
   "id": "dcf064a5",
   "metadata": {
    "papermill": {
     "duration": 0.019586,
     "end_time": "2024-05-15T16:08:43.024302",
     "exception": false,
     "start_time": "2024-05-15T16:08:43.004716",
     "status": "completed"
    },
    "tags": []
   },
   "source": [
    "## Solution "
   ]
  },
  {
   "cell_type": "code",
   "execution_count": 11,
   "id": "bb749110",
   "metadata": {
    "execution": {
     "iopub.execute_input": "2024-05-15T16:08:43.063491Z",
     "iopub.status.busy": "2024-05-15T16:08:43.063108Z",
     "iopub.status.idle": "2024-05-15T16:08:43.071931Z",
     "shell.execute_reply": "2024-05-15T16:08:43.070545Z"
    },
    "papermill": {
     "duration": 0.031579,
     "end_time": "2024-05-15T16:08:43.074463",
     "exception": false,
     "start_time": "2024-05-15T16:08:43.042884",
     "status": "completed"
    },
    "tags": []
   },
   "outputs": [
    {
     "data": {
      "text/plain": [
       "0     True\n",
       "1    False\n",
       "2    False\n",
       "3    False\n",
       "4    False\n",
       "5     True\n",
       "6    False\n",
       "7    False\n",
       "8    False\n",
       "9    False\n",
       "dtype: bool"
      ]
     },
     "execution_count": 11,
     "metadata": {},
     "output_type": "execute_result"
    }
   ],
   "source": [
    "party = df.john & df.judy\n",
    "party"
   ]
  },
  {
   "cell_type": "code",
   "execution_count": 12,
   "id": "e4d40cf9",
   "metadata": {
    "execution": {
     "iopub.execute_input": "2024-05-15T16:08:43.176259Z",
     "iopub.status.busy": "2024-05-15T16:08:43.175840Z",
     "iopub.status.idle": "2024-05-15T16:08:43.184344Z",
     "shell.execute_reply": "2024-05-15T16:08:43.183160Z"
    },
    "papermill": {
     "duration": 0.093762,
     "end_time": "2024-05-15T16:08:43.187344",
     "exception": false,
     "start_time": "2024-05-15T16:08:43.093582",
     "status": "completed"
    },
    "tags": []
   },
   "outputs": [
    {
     "data": {
      "text/plain": [
       "9    0\n",
       "8    0\n",
       "7    0\n",
       "6    0\n",
       "5    1\n",
       "4    1\n",
       "3    1\n",
       "2    1\n",
       "1    1\n",
       "0    2\n",
       "dtype: int64"
      ]
     },
     "execution_count": 12,
     "metadata": {},
     "output_type": "execute_result"
    }
   ],
   "source": [
    "grps = party.iloc[::-1].cumsum()\n",
    "grps"
   ]
  },
  {
   "cell_type": "code",
   "execution_count": 13,
   "id": "02f5719a",
   "metadata": {
    "execution": {
     "iopub.execute_input": "2024-05-15T16:08:43.227851Z",
     "iopub.status.busy": "2024-05-15T16:08:43.227192Z",
     "iopub.status.idle": "2024-05-15T16:08:43.242312Z",
     "shell.execute_reply": "2024-05-15T16:08:43.240899Z"
    },
    "papermill": {
     "duration": 0.038681,
     "end_time": "2024-05-15T16:08:43.245125",
     "exception": false,
     "start_time": "2024-05-15T16:08:43.206444",
     "status": "completed"
    },
    "tags": []
   },
   "outputs": [
    {
     "data": {
      "text/plain": [
       "0    0\n",
       "1    4\n",
       "2    3\n",
       "3    2\n",
       "4    1\n",
       "5    0\n",
       "6    3\n",
       "7    2\n",
       "8    1\n",
       "9    0\n",
       "Name: days_til_party, dtype: int64"
      ]
     },
     "execution_count": 13,
     "metadata": {},
     "output_type": "execute_result"
    }
   ],
   "source": [
    "df['days_til_party'] = party.groupby(grps).cumcount(ascending=False)\n",
    "df['days_til_party']"
   ]
  },
  {
   "cell_type": "code",
   "execution_count": 14,
   "id": "8aa39ca0",
   "metadata": {
    "execution": {
     "iopub.execute_input": "2024-05-15T16:08:43.285790Z",
     "iopub.status.busy": "2024-05-15T16:08:43.285336Z",
     "iopub.status.idle": "2024-05-15T16:08:43.304250Z",
     "shell.execute_reply": "2024-05-15T16:08:43.302969Z"
    },
    "papermill": {
     "duration": 0.041628,
     "end_time": "2024-05-15T16:08:43.306541",
     "exception": false,
     "start_time": "2024-05-15T16:08:43.264913",
     "status": "completed"
    },
    "tags": []
   },
   "outputs": [
    {
     "data": {
      "text/html": [
       "<div>\n",
       "<style scoped>\n",
       "    .dataframe tbody tr th:only-of-type {\n",
       "        vertical-align: middle;\n",
       "    }\n",
       "\n",
       "    .dataframe tbody tr th {\n",
       "        vertical-align: top;\n",
       "    }\n",
       "\n",
       "    .dataframe thead th {\n",
       "        text-align: right;\n",
       "    }\n",
       "</style>\n",
       "<table border=\"1\" class=\"dataframe\">\n",
       "  <thead>\n",
       "    <tr style=\"text-align: right;\">\n",
       "      <th></th>\n",
       "      <th>john</th>\n",
       "      <th>judy</th>\n",
       "      <th>days_til_party</th>\n",
       "    </tr>\n",
       "  </thead>\n",
       "  <tbody>\n",
       "    <tr>\n",
       "      <th>0</th>\n",
       "      <td>True</td>\n",
       "      <td>True</td>\n",
       "      <td>0.0</td>\n",
       "    </tr>\n",
       "    <tr>\n",
       "      <th>1</th>\n",
       "      <td>False</td>\n",
       "      <td>False</td>\n",
       "      <td>4.0</td>\n",
       "    </tr>\n",
       "    <tr>\n",
       "      <th>2</th>\n",
       "      <td>False</td>\n",
       "      <td>True</td>\n",
       "      <td>3.0</td>\n",
       "    </tr>\n",
       "    <tr>\n",
       "      <th>3</th>\n",
       "      <td>True</td>\n",
       "      <td>False</td>\n",
       "      <td>2.0</td>\n",
       "    </tr>\n",
       "    <tr>\n",
       "      <th>4</th>\n",
       "      <td>False</td>\n",
       "      <td>True</td>\n",
       "      <td>1.0</td>\n",
       "    </tr>\n",
       "    <tr>\n",
       "      <th>5</th>\n",
       "      <td>True</td>\n",
       "      <td>True</td>\n",
       "      <td>0.0</td>\n",
       "    </tr>\n",
       "    <tr>\n",
       "      <th>6</th>\n",
       "      <td>True</td>\n",
       "      <td>False</td>\n",
       "      <td>NaN</td>\n",
       "    </tr>\n",
       "    <tr>\n",
       "      <th>7</th>\n",
       "      <td>True</td>\n",
       "      <td>False</td>\n",
       "      <td>NaN</td>\n",
       "    </tr>\n",
       "    <tr>\n",
       "      <th>8</th>\n",
       "      <td>True</td>\n",
       "      <td>False</td>\n",
       "      <td>NaN</td>\n",
       "    </tr>\n",
       "    <tr>\n",
       "      <th>9</th>\n",
       "      <td>True</td>\n",
       "      <td>False</td>\n",
       "      <td>NaN</td>\n",
       "    </tr>\n",
       "  </tbody>\n",
       "</table>\n",
       "</div>"
      ],
      "text/plain": [
       "    john   judy  days_til_party\n",
       "0   True   True             0.0\n",
       "1  False  False             4.0\n",
       "2  False   True             3.0\n",
       "3   True  False             2.0\n",
       "4  False   True             1.0\n",
       "5   True   True             0.0\n",
       "6   True  False             NaN\n",
       "7   True  False             NaN\n",
       "8   True  False             NaN\n",
       "9   True  False             NaN"
      ]
     },
     "execution_count": 14,
     "metadata": {},
     "output_type": "execute_result"
    }
   ],
   "source": [
    "df.loc[(party.loc[party].index[-1] + 1):, 'days_til_party'] = pd.NA\n",
    "df"
   ]
  },
  {
   "cell_type": "markdown",
   "id": "e3646545",
   "metadata": {
    "papermill": {
     "duration": 0.020007,
     "end_time": "2024-05-15T16:08:43.347308",
     "exception": false,
     "start_time": "2024-05-15T16:08:43.327301",
     "status": "completed"
    },
    "tags": []
   },
   "source": [
    "# Q3 - Vending Machines Problem"
   ]
  },
  {
   "cell_type": "markdown",
   "id": "b18de4cb",
   "metadata": {
    "papermill": {
     "duration": 0.019912,
     "end_time": "2024-05-15T16:08:43.387074",
     "exception": false,
     "start_time": "2024-05-15T16:08:43.367162",
     "status": "completed"
    },
    "tags": []
   },
   "source": [
    "You own a collection of vending machines, and you want to evaluate your inventory. Given a DataFrame of (machine, product, stock), determine the number of machines carrying each product and how many of them are out of stock."
   ]
  },
  {
   "cell_type": "code",
   "execution_count": 15,
   "id": "d089438c",
   "metadata": {
    "execution": {
     "iopub.execute_input": "2024-05-15T16:08:43.428591Z",
     "iopub.status.busy": "2024-05-15T16:08:43.428171Z",
     "iopub.status.idle": "2024-05-15T16:08:43.438372Z",
     "shell.execute_reply": "2024-05-15T16:08:43.437023Z"
    },
    "papermill": {
     "duration": 0.034568,
     "end_time": "2024-05-15T16:08:43.441535",
     "exception": false,
     "start_time": "2024-05-15T16:08:43.406967",
     "status": "completed"
    },
    "tags": []
   },
   "outputs": [
    {
     "name": "stdout",
     "output_type": "stream",
     "text": [
      "  machine   product  stock\n",
      "0     abc  skittles     10\n",
      "1     abc      soap      0\n",
      "2     def      soap     15\n",
      "3     def      m&ms      2\n",
      "4     def  skittles      0\n",
      "5     ghi      m&ms      3\n"
     ]
    }
   ],
   "source": [
    "import numpy as np\n",
    "import pandas as pd\n",
    "\n",
    "machine_products = pd.DataFrame({\n",
    "    'machine': ['abc', 'abc', 'def', 'def', 'def', 'ghi'],\n",
    "    'product': ['skittles', 'soap', 'soap', 'm&ms', 'skittles', 'm&ms'],\n",
    "    'stock': [10, 0, 15, 2, 0, 3]\n",
    "})\n",
    "print(machine_products)\n",
    "#   machine   product  stock\n",
    "# 0     abc  skittles     10\n",
    "# 1     abc      soap      0\n",
    "# 2     def      soap     15\n",
    "# 3     def      m&ms      2\n",
    "# 4     def  skittles      0\n",
    "# 5     ghi      m&ms      3\n"
   ]
  },
  {
   "cell_type": "markdown",
   "id": "2755d768",
   "metadata": {
    "papermill": {
     "duration": 0.019757,
     "end_time": "2024-05-15T16:08:43.480951",
     "exception": false,
     "start_time": "2024-05-15T16:08:43.461194",
     "status": "completed"
    },
    "tags": []
   },
   "source": [
    "Build a new DataFrame with product as the row index, and calculated columns n_machines and n_machines_empty."
   ]
  },
  {
   "cell_type": "markdown",
   "id": "ab675e36",
   "metadata": {
    "papermill": {
     "duration": 0.019357,
     "end_time": "2024-05-15T16:08:43.519957",
     "exception": false,
     "start_time": "2024-05-15T16:08:43.500600",
     "status": "completed"
    },
    "tags": []
   },
   "source": [
    "## Solution 1"
   ]
  },
  {
   "cell_type": "code",
   "execution_count": 16,
   "id": "119c3bc6",
   "metadata": {
    "execution": {
     "iopub.execute_input": "2024-05-15T16:08:43.561862Z",
     "iopub.status.busy": "2024-05-15T16:08:43.560871Z",
     "iopub.status.idle": "2024-05-15T16:08:43.585455Z",
     "shell.execute_reply": "2024-05-15T16:08:43.584247Z"
    },
    "papermill": {
     "duration": 0.048297,
     "end_time": "2024-05-15T16:08:43.588017",
     "exception": false,
     "start_time": "2024-05-15T16:08:43.539720",
     "status": "completed"
    },
    "tags": []
   },
   "outputs": [
    {
     "data": {
      "text/html": [
       "<div>\n",
       "<style scoped>\n",
       "    .dataframe tbody tr th:only-of-type {\n",
       "        vertical-align: middle;\n",
       "    }\n",
       "\n",
       "    .dataframe tbody tr th {\n",
       "        vertical-align: top;\n",
       "    }\n",
       "\n",
       "    .dataframe thead th {\n",
       "        text-align: right;\n",
       "    }\n",
       "</style>\n",
       "<table border=\"1\" class=\"dataframe\">\n",
       "  <thead>\n",
       "    <tr style=\"text-align: right;\">\n",
       "      <th></th>\n",
       "      <th>machine</th>\n",
       "      <th>stock</th>\n",
       "    </tr>\n",
       "    <tr>\n",
       "      <th>product</th>\n",
       "      <th></th>\n",
       "      <th></th>\n",
       "    </tr>\n",
       "  </thead>\n",
       "  <tbody>\n",
       "    <tr>\n",
       "      <th>m&amp;ms</th>\n",
       "      <td>2</td>\n",
       "      <td>0</td>\n",
       "    </tr>\n",
       "    <tr>\n",
       "      <th>skittles</th>\n",
       "      <td>2</td>\n",
       "      <td>1</td>\n",
       "    </tr>\n",
       "    <tr>\n",
       "      <th>soap</th>\n",
       "      <td>2</td>\n",
       "      <td>1</td>\n",
       "    </tr>\n",
       "  </tbody>\n",
       "</table>\n",
       "</div>"
      ],
      "text/plain": [
       "          machine  stock\n",
       "product                 \n",
       "m&ms            2      0\n",
       "skittles        2      1\n",
       "soap            2      1"
      ]
     },
     "execution_count": 16,
     "metadata": {},
     "output_type": "execute_result"
    }
   ],
   "source": [
    "new_df = machine_products.pivot_table(index='product', aggfunc={'machine': 'nunique', 'stock': lambda x: sum(x == 0)})\n",
    "new_df"
   ]
  },
  {
   "cell_type": "code",
   "execution_count": 17,
   "id": "e380427e",
   "metadata": {
    "execution": {
     "iopub.execute_input": "2024-05-15T16:08:43.629472Z",
     "iopub.status.busy": "2024-05-15T16:08:43.629064Z",
     "iopub.status.idle": "2024-05-15T16:08:43.636772Z",
     "shell.execute_reply": "2024-05-15T16:08:43.635565Z"
    },
    "papermill": {
     "duration": 0.031964,
     "end_time": "2024-05-15T16:08:43.639727",
     "exception": false,
     "start_time": "2024-05-15T16:08:43.607763",
     "status": "completed"
    },
    "tags": []
   },
   "outputs": [
    {
     "name": "stdout",
     "output_type": "stream",
     "text": [
      "          n_machines  n_machines_empty\n",
      "product                               \n",
      "m&ms               2                 0\n",
      "skittles           2                 1\n",
      "soap               2                 1\n"
     ]
    }
   ],
   "source": [
    "new_df.columns = ['n_machines', 'n_machines_empty']\n",
    "print(new_df)"
   ]
  },
  {
   "cell_type": "markdown",
   "id": "32bfc719",
   "metadata": {
    "papermill": {
     "duration": 0.019533,
     "end_time": "2024-05-15T16:08:43.679312",
     "exception": false,
     "start_time": "2024-05-15T16:08:43.659779",
     "status": "completed"
    },
    "tags": []
   },
   "source": [
    "## Solution 2 - more professional"
   ]
  },
  {
   "cell_type": "code",
   "execution_count": 18,
   "id": "db466a92",
   "metadata": {
    "execution": {
     "iopub.execute_input": "2024-05-15T16:08:43.720854Z",
     "iopub.status.busy": "2024-05-15T16:08:43.720433Z",
     "iopub.status.idle": "2024-05-15T16:08:43.742210Z",
     "shell.execute_reply": "2024-05-15T16:08:43.741066Z"
    },
    "papermill": {
     "duration": 0.04562,
     "end_time": "2024-05-15T16:08:43.744725",
     "exception": false,
     "start_time": "2024-05-15T16:08:43.699105",
     "status": "completed"
    },
    "tags": []
   },
   "outputs": [
    {
     "data": {
      "text/html": [
       "<div>\n",
       "<style scoped>\n",
       "    .dataframe tbody tr th:only-of-type {\n",
       "        vertical-align: middle;\n",
       "    }\n",
       "\n",
       "    .dataframe tbody tr th {\n",
       "        vertical-align: top;\n",
       "    }\n",
       "\n",
       "    .dataframe thead th {\n",
       "        text-align: right;\n",
       "    }\n",
       "</style>\n",
       "<table border=\"1\" class=\"dataframe\">\n",
       "  <thead>\n",
       "    <tr style=\"text-align: right;\">\n",
       "      <th></th>\n",
       "      <th>n_machines</th>\n",
       "      <th>n_machines_empty</th>\n",
       "    </tr>\n",
       "    <tr>\n",
       "      <th>product</th>\n",
       "      <th></th>\n",
       "      <th></th>\n",
       "    </tr>\n",
       "  </thead>\n",
       "  <tbody>\n",
       "    <tr>\n",
       "      <th>m&amp;ms</th>\n",
       "      <td>2</td>\n",
       "      <td>0</td>\n",
       "    </tr>\n",
       "    <tr>\n",
       "      <th>skittles</th>\n",
       "      <td>2</td>\n",
       "      <td>1</td>\n",
       "    </tr>\n",
       "    <tr>\n",
       "      <th>soap</th>\n",
       "      <td>2</td>\n",
       "      <td>1</td>\n",
       "    </tr>\n",
       "  </tbody>\n",
       "</table>\n",
       "</div>"
      ],
      "text/plain": [
       "          n_machines  n_machines_empty\n",
       "product                               \n",
       "m&ms               2                 0\n",
       "skittles           2                 1\n",
       "soap               2                 1"
      ]
     },
     "execution_count": 18,
     "metadata": {},
     "output_type": "execute_result"
    }
   ],
   "source": [
    "def count_zero(x): return (x == 0).sum()\n",
    "machine_products.groupby('product').agg(\n",
    "    n_machines = ('stock', 'count'),\n",
    "    n_machines_empty = ('stock', count_zero)\n",
    ")\n"
   ]
  },
  {
   "cell_type": "markdown",
   "id": "f0eeb333",
   "metadata": {
    "papermill": {
     "duration": 0.020868,
     "end_time": "2024-05-15T16:08:43.786409",
     "exception": false,
     "start_time": "2024-05-15T16:08:43.765541",
     "status": "completed"
    },
    "tags": []
   },
   "source": [
    "# Q4 - Cradle Robbers Problem"
   ]
  },
  {
   "cell_type": "markdown",
   "id": "445d74b9",
   "metadata": {
    "papermill": {
     "duration": 0.020712,
     "end_time": "2024-05-15T16:08:43.827976",
     "exception": false,
     "start_time": "2024-05-15T16:08:43.807264",
     "status": "completed"
    },
    "tags": []
   },
   "source": [
    "Given a DataFrame of married couples and a separate DataFrame with each person’s age, identify “cradle robbers”, people:\n",
    "\n",
    "who are at least 20 years older than their spouse and\n",
    "whose spouse is under the age of 30\n"
   ]
  },
  {
   "cell_type": "code",
   "execution_count": 19,
   "id": "fcf4f815",
   "metadata": {
    "execution": {
     "iopub.execute_input": "2024-05-15T16:08:43.870656Z",
     "iopub.status.busy": "2024-05-15T16:08:43.870266Z",
     "iopub.status.idle": "2024-05-15T16:08:43.886536Z",
     "shell.execute_reply": "2024-05-15T16:08:43.884934Z"
    },
    "papermill": {
     "duration": 0.040695,
     "end_time": "2024-05-15T16:08:43.888984",
     "exception": false,
     "start_time": "2024-05-15T16:08:43.848289",
     "status": "completed"
    },
    "tags": []
   },
   "outputs": [
    {
     "name": "stdout",
     "output_type": "stream",
     "text": [
      "   person1  person2\n",
      "0     Cody    Sarah\n",
      "1   Dustin    Amber\n",
      "2    Peter  Brianna\n",
      "3     Adam  Caitlin\n",
      "4     Ryan   Rachel\n",
      "5    Brian  Kristen\n",
      "6   Jordan   Alyssa\n",
      "7  Gregory   Morgan\n",
      "     person  age\n",
      "0      Adam   62\n",
      "1    Alyssa   40\n",
      "2     Amber   41\n",
      "3     Brian   50\n",
      "4   Brianna   65\n",
      "5   Caitlin   29\n",
      "6      Cody   27\n",
      "7    Dustin   39\n",
      "8   Gregory   42\n",
      "9    Jordan   39\n",
      "10  Kristen   33\n",
      "11   Rachel   61\n",
      "12   Morgan   43\n",
      "13    Peter   55\n",
      "14     Ryan   28\n",
      "15    Sarah   36\n"
     ]
    }
   ],
   "source": [
    "import numpy as np\n",
    "import pandas as pd\n",
    "\n",
    "couples = pd.DataFrame({\n",
    "    'person1': ['Cody', 'Dustin', 'Peter', 'Adam', 'Ryan', 'Brian', 'Jordan', 'Gregory'],\n",
    "    'person2': ['Sarah', 'Amber', 'Brianna', 'Caitlin', 'Rachel', 'Kristen', 'Alyssa', 'Morgan']\n",
    "}).convert_dtypes()\n",
    "\n",
    "ages = pd.DataFrame({\n",
    "    'person': ['Adam', 'Alyssa', 'Amber', 'Brian', 'Brianna', 'Caitlin', 'Cody', 'Dustin', 'Gregory', 'Jordan',\n",
    "               'Kristen', 'Rachel', 'Morgan', 'Peter', 'Ryan', 'Sarah'],\n",
    "    'age': [62, 40, 41, 50, 65, 29, 27, 39, 42, 39, 33, 61, 43, 55, 28, 36]\n",
    "}).convert_dtypes()\n",
    "\n",
    "print(couples)\n",
    "#    person1  person2\n",
    "# 0     Cody    Sarah\n",
    "# 1   Dustin    Amber\n",
    "# 2    Peter  Brianna\n",
    "# 3     Adam  Caitlin\n",
    "# 4     Ryan   Rachel\n",
    "# 5    Brian  Kristen\n",
    "# 6   Jordan   Alyssa\n",
    "# 7  Gregory   Morgan\n",
    "\n",
    "print(ages)\n",
    "#      person  age\n",
    "# 0      Adam   62\n",
    "# 1    Alyssa   40\n",
    "# 2     Amber   41\n",
    "# 3     Brian   50\n",
    "# 4   Brianna   65\n",
    "# 5   Caitlin   29\n",
    "# 6      Cody   27\n",
    "# 7    Dustin   39\n",
    "# 8   Gregory   42\n",
    "# 9    Jordan   39\n",
    "# 10  Kristen   33\n",
    "# 11   Rachel   61\n",
    "# 12   Morgan   43\n",
    "# 13    Peter   55\n",
    "# 14     Ryan   28\n",
    "# 15    Sarah   36"
   ]
  },
  {
   "cell_type": "markdown",
   "id": "2837bbbc",
   "metadata": {
    "papermill": {
     "duration": 0.020058,
     "end_time": "2024-05-15T16:08:43.929465",
     "exception": false,
     "start_time": "2024-05-15T16:08:43.909407",
     "status": "completed"
    },
    "tags": []
   },
   "source": [
    "## Solution "
   ]
  },
  {
   "cell_type": "code",
   "execution_count": 20,
   "id": "4706f0d9",
   "metadata": {
    "execution": {
     "iopub.execute_input": "2024-05-15T16:08:43.972758Z",
     "iopub.status.busy": "2024-05-15T16:08:43.972279Z",
     "iopub.status.idle": "2024-05-15T16:08:43.982515Z",
     "shell.execute_reply": "2024-05-15T16:08:43.981240Z"
    },
    "papermill": {
     "duration": 0.035334,
     "end_time": "2024-05-15T16:08:43.985228",
     "exception": false,
     "start_time": "2024-05-15T16:08:43.949894",
     "status": "completed"
    },
    "tags": []
   },
   "outputs": [
    {
     "data": {
      "text/plain": [
       "person\n",
       "Adam       62\n",
       "Alyssa     40\n",
       "Amber      41\n",
       "Brian      50\n",
       "Brianna    65\n",
       "Caitlin    29\n",
       "Cody       27\n",
       "Dustin     39\n",
       "Gregory    42\n",
       "Jordan     39\n",
       "Kristen    33\n",
       "Rachel     61\n",
       "Morgan     43\n",
       "Peter      55\n",
       "Ryan       28\n",
       "Sarah      36\n",
       "Name: age, dtype: Int64"
      ]
     },
     "execution_count": 20,
     "metadata": {},
     "output_type": "execute_result"
    }
   ],
   "source": [
    "ages = ages.set_index('person').age\n",
    "ages"
   ]
  },
  {
   "cell_type": "code",
   "execution_count": 21,
   "id": "51f29a45",
   "metadata": {
    "execution": {
     "iopub.execute_input": "2024-05-15T16:08:44.030603Z",
     "iopub.status.busy": "2024-05-15T16:08:44.030179Z",
     "iopub.status.idle": "2024-05-15T16:08:44.040276Z",
     "shell.execute_reply": "2024-05-15T16:08:44.039050Z"
    },
    "papermill": {
     "duration": 0.036629,
     "end_time": "2024-05-15T16:08:44.042753",
     "exception": false,
     "start_time": "2024-05-15T16:08:44.006124",
     "status": "completed"
    },
    "tags": []
   },
   "outputs": [],
   "source": [
    "couples['age1'] = ages.loc[couples.person1].to_numpy()\n",
    "couples['age2'] = ages.loc[couples.person2].to_numpy()"
   ]
  },
  {
   "cell_type": "code",
   "execution_count": 22,
   "id": "496f9eea",
   "metadata": {
    "execution": {
     "iopub.execute_input": "2024-05-15T16:08:44.086429Z",
     "iopub.status.busy": "2024-05-15T16:08:44.086066Z",
     "iopub.status.idle": "2024-05-15T16:08:44.094315Z",
     "shell.execute_reply": "2024-05-15T16:08:44.093095Z"
    },
    "papermill": {
     "duration": 0.033426,
     "end_time": "2024-05-15T16:08:44.096764",
     "exception": false,
     "start_time": "2024-05-15T16:08:44.063338",
     "status": "completed"
    },
    "tags": []
   },
   "outputs": [],
   "source": [
    "cr1 = couples.loc[(couples.age1 - couples.age2 >= 20) & (couples.age2 < 30), 'person1']\n",
    "cr2 = couples.loc[(couples.age2 - couples.age1 >= 20) & (couples.age1 < 30), 'person2']"
   ]
  },
  {
   "cell_type": "code",
   "execution_count": 23,
   "id": "97dbb451",
   "metadata": {
    "execution": {
     "iopub.execute_input": "2024-05-15T16:08:44.140050Z",
     "iopub.status.busy": "2024-05-15T16:08:44.139276Z",
     "iopub.status.idle": "2024-05-15T16:08:44.148402Z",
     "shell.execute_reply": "2024-05-15T16:08:44.147174Z"
    },
    "papermill": {
     "duration": 0.033438,
     "end_time": "2024-05-15T16:08:44.150752",
     "exception": false,
     "start_time": "2024-05-15T16:08:44.117314",
     "status": "completed"
    },
    "tags": []
   },
   "outputs": [
    {
     "data": {
      "text/plain": [
       "3      Adam\n",
       "4    Rachel\n",
       "dtype: string"
      ]
     },
     "execution_count": 23,
     "metadata": {},
     "output_type": "execute_result"
    }
   ],
   "source": [
    "cradle_robbers = pd.concat((cr1, cr2))\n",
    "cradle_robbers"
   ]
  },
  {
   "cell_type": "markdown",
   "id": "47d9cbba",
   "metadata": {
    "papermill": {
     "duration": 0.021127,
     "end_time": "2024-05-15T16:08:44.192486",
     "exception": false,
     "start_time": "2024-05-15T16:08:44.171359",
     "status": "completed"
    },
    "tags": []
   },
   "source": [
    "# Q5 - Potholes Problem"
   ]
  },
  {
   "cell_type": "markdown",
   "id": "e137a755",
   "metadata": {
    "papermill": {
     "duration": 0.020075,
     "end_time": "2024-05-15T16:08:44.233078",
     "exception": false,
     "start_time": "2024-05-15T16:08:44.213003",
     "status": "completed"
    },
    "tags": []
   },
   "source": [
    "Fed up with your city’s roads, you go around collecting data on potholes in your area. Due to an unfortunate ☕ coffee spill, you lost bits and pieces of your data."
   ]
  },
  {
   "cell_type": "code",
   "execution_count": 24,
   "id": "fefe04e0",
   "metadata": {
    "execution": {
     "iopub.execute_input": "2024-05-15T16:08:44.276470Z",
     "iopub.status.busy": "2024-05-15T16:08:44.275718Z",
     "iopub.status.idle": "2024-05-15T16:08:44.291135Z",
     "shell.execute_reply": "2024-05-15T16:08:44.289349Z"
    },
    "papermill": {
     "duration": 0.040446,
     "end_time": "2024-05-15T16:08:44.293911",
     "exception": false,
     "start_time": "2024-05-15T16:08:44.253465",
     "status": "completed"
    },
    "tags": []
   },
   "outputs": [
    {
     "name": "stdout",
     "output_type": "stream",
     "text": [
      "   length  width  depth    location\n",
      "0     5.1    2.8    2.6      center\n",
      "1     NaN    5.8    NaN  north edge\n",
      "2     6.2    6.5    4.2        <NA>\n",
      "3     4.3    6.1    0.8      center\n",
      "4     6.0    5.8    2.6  north edge\n",
      "5     5.1    NaN    NaN      center\n",
      "6     6.5    6.3    3.9   west edge\n",
      "7     4.3    6.1    4.8   west edge\n",
      "8     NaN    5.4    4.0        <NA>\n",
      "9     NaN    5.0    NaN        <NA>\n"
     ]
    }
   ],
   "source": [
    "import numpy as np\n",
    "import pandas as pd\n",
    "\n",
    "potholes = pd.DataFrame({\n",
    "    'length':[5.1, np.nan, 6.2, 4.3, 6.0, 5.1, 6.5, 4.3, np.nan, np.nan],\n",
    "    'width':[2.8, 5.8, 6.5, 6.1, 5.8, np.nan, 6.3, 6.1, 5.4, 5.0],\n",
    "    'depth':[2.6, np.nan, 4.2, 0.8, 2.6, np.nan, 3.9, 4.8, 4.0, np.nan],\n",
    "    'location':pd.Series(['center', 'north edge', np.nan, 'center', 'north edge', 'center', 'west edge',\n",
    "                          'west edge', np.nan, np.nan], dtype='string')\n",
    "})\n",
    "\n",
    "print(potholes)\n",
    "#    length  width  depth    location\n",
    "# 0     5.1    2.8    2.6      center\n",
    "# 1     NaN    5.8    NaN  north edge\n",
    "# 2     6.2    6.5    4.2        <NA>\n",
    "# 3     4.3    6.1    0.8      center\n",
    "# 4     6.0    5.8    2.6  north edge\n",
    "# 5     5.1    NaN    NaN      center\n",
    "# 6     6.5    6.3    3.9   west edge\n",
    "# 7     4.3    6.1    4.8   west edge\n",
    "# 8     NaN    5.4    4.0        <NA>\n",
    "# 9     NaN    5.0    NaN        <NA>"
   ]
  },
  {
   "cell_type": "markdown",
   "id": "7d2c3c62",
   "metadata": {
    "papermill": {
     "duration": 0.020883,
     "end_time": "2024-05-15T16:08:44.336758",
     "exception": false,
     "start_time": "2024-05-15T16:08:44.315875",
     "status": "completed"
    },
    "tags": []
   },
   "source": [
    "Given your DataFrame of pothole measurements, discard rows where more than half the values are NaN, elsewhere impute NaNs with the average value per column unless the column is non-numeric, in which case use the mode."
   ]
  },
  {
   "cell_type": "markdown",
   "id": "33248457",
   "metadata": {
    "papermill": {
     "duration": 0.021198,
     "end_time": "2024-05-15T16:08:44.378830",
     "exception": false,
     "start_time": "2024-05-15T16:08:44.357632",
     "status": "completed"
    },
    "tags": []
   },
   "source": [
    "## Solution "
   ]
  },
  {
   "cell_type": "code",
   "execution_count": 25,
   "id": "915e558c",
   "metadata": {
    "execution": {
     "iopub.execute_input": "2024-05-15T16:08:44.423097Z",
     "iopub.status.busy": "2024-05-15T16:08:44.421985Z",
     "iopub.status.idle": "2024-05-15T16:08:44.439935Z",
     "shell.execute_reply": "2024-05-15T16:08:44.438786Z"
    },
    "papermill": {
     "duration": 0.042856,
     "end_time": "2024-05-15T16:08:44.442672",
     "exception": false,
     "start_time": "2024-05-15T16:08:44.399816",
     "status": "completed"
    },
    "tags": []
   },
   "outputs": [
    {
     "data": {
      "text/html": [
       "<div>\n",
       "<style scoped>\n",
       "    .dataframe tbody tr th:only-of-type {\n",
       "        vertical-align: middle;\n",
       "    }\n",
       "\n",
       "    .dataframe tbody tr th {\n",
       "        vertical-align: top;\n",
       "    }\n",
       "\n",
       "    .dataframe thead th {\n",
       "        text-align: right;\n",
       "    }\n",
       "</style>\n",
       "<table border=\"1\" class=\"dataframe\">\n",
       "  <thead>\n",
       "    <tr style=\"text-align: right;\">\n",
       "      <th></th>\n",
       "      <th>length</th>\n",
       "      <th>width</th>\n",
       "      <th>depth</th>\n",
       "      <th>location</th>\n",
       "    </tr>\n",
       "  </thead>\n",
       "  <tbody>\n",
       "    <tr>\n",
       "      <th>0</th>\n",
       "      <td>5.1</td>\n",
       "      <td>2.8</td>\n",
       "      <td>2.6</td>\n",
       "      <td>center</td>\n",
       "    </tr>\n",
       "    <tr>\n",
       "      <th>1</th>\n",
       "      <td>NaN</td>\n",
       "      <td>5.8</td>\n",
       "      <td>NaN</td>\n",
       "      <td>north edge</td>\n",
       "    </tr>\n",
       "    <tr>\n",
       "      <th>2</th>\n",
       "      <td>6.2</td>\n",
       "      <td>6.5</td>\n",
       "      <td>4.2</td>\n",
       "      <td>&lt;NA&gt;</td>\n",
       "    </tr>\n",
       "    <tr>\n",
       "      <th>3</th>\n",
       "      <td>4.3</td>\n",
       "      <td>6.1</td>\n",
       "      <td>0.8</td>\n",
       "      <td>center</td>\n",
       "    </tr>\n",
       "    <tr>\n",
       "      <th>4</th>\n",
       "      <td>6.0</td>\n",
       "      <td>5.8</td>\n",
       "      <td>2.6</td>\n",
       "      <td>north edge</td>\n",
       "    </tr>\n",
       "    <tr>\n",
       "      <th>5</th>\n",
       "      <td>5.1</td>\n",
       "      <td>NaN</td>\n",
       "      <td>NaN</td>\n",
       "      <td>center</td>\n",
       "    </tr>\n",
       "    <tr>\n",
       "      <th>6</th>\n",
       "      <td>6.5</td>\n",
       "      <td>6.3</td>\n",
       "      <td>3.9</td>\n",
       "      <td>west edge</td>\n",
       "    </tr>\n",
       "    <tr>\n",
       "      <th>7</th>\n",
       "      <td>4.3</td>\n",
       "      <td>6.1</td>\n",
       "      <td>4.8</td>\n",
       "      <td>west edge</td>\n",
       "    </tr>\n",
       "    <tr>\n",
       "      <th>8</th>\n",
       "      <td>NaN</td>\n",
       "      <td>5.4</td>\n",
       "      <td>4.0</td>\n",
       "      <td>&lt;NA&gt;</td>\n",
       "    </tr>\n",
       "  </tbody>\n",
       "</table>\n",
       "</div>"
      ],
      "text/plain": [
       "   length  width  depth    location\n",
       "0     5.1    2.8    2.6      center\n",
       "1     NaN    5.8    NaN  north edge\n",
       "2     6.2    6.5    4.2        <NA>\n",
       "3     4.3    6.1    0.8      center\n",
       "4     6.0    5.8    2.6  north edge\n",
       "5     5.1    NaN    NaN      center\n",
       "6     6.5    6.3    3.9   west edge\n",
       "7     4.3    6.1    4.8   west edge\n",
       "8     NaN    5.4    4.0        <NA>"
      ]
     },
     "execution_count": 25,
     "metadata": {},
     "output_type": "execute_result"
    }
   ],
   "source": [
    "# Discard rows where more than half the values are NaN\n",
    "potholes = potholes.dropna(thresh=potholes.shape[1] / 2)\n",
    "potholes"
   ]
  },
  {
   "cell_type": "code",
   "execution_count": 26,
   "id": "5b12fb36",
   "metadata": {
    "execution": {
     "iopub.execute_input": "2024-05-15T16:08:44.486557Z",
     "iopub.status.busy": "2024-05-15T16:08:44.486158Z",
     "iopub.status.idle": "2024-05-15T16:08:44.492279Z",
     "shell.execute_reply": "2024-05-15T16:08:44.491259Z"
    },
    "papermill": {
     "duration": 0.030835,
     "end_time": "2024-05-15T16:08:44.494444",
     "exception": false,
     "start_time": "2024-05-15T16:08:44.463609",
     "status": "completed"
    },
    "tags": []
   },
   "outputs": [],
   "source": [
    "# Separate numeric and non-numeric columns\n",
    "numeric_columns = potholes.select_dtypes(include=np.number).columns\n",
    "non_numeric_columns = potholes.select_dtypes(exclude=np.number).columns"
   ]
  },
  {
   "cell_type": "code",
   "execution_count": 27,
   "id": "226c946d",
   "metadata": {
    "execution": {
     "iopub.execute_input": "2024-05-15T16:08:44.539123Z",
     "iopub.status.busy": "2024-05-15T16:08:44.538626Z",
     "iopub.status.idle": "2024-05-15T16:08:44.552210Z",
     "shell.execute_reply": "2024-05-15T16:08:44.550251Z"
    },
    "papermill": {
     "duration": 0.039803,
     "end_time": "2024-05-15T16:08:44.555268",
     "exception": false,
     "start_time": "2024-05-15T16:08:44.515465",
     "status": "completed"
    },
    "tags": []
   },
   "outputs": [],
   "source": [
    "# Impute NaNs with the average value per numeric column\n",
    "potholes[numeric_columns] = potholes[numeric_columns].fillna(potholes[numeric_columns].mean())\n",
    "\n",
    "# Impute NaNs in non-numeric columns with the mode\n",
    "potholes[non_numeric_columns] = potholes[non_numeric_columns].fillna(potholes[non_numeric_columns].mode().iloc[0])"
   ]
  },
  {
   "cell_type": "code",
   "execution_count": 28,
   "id": "06af6c18",
   "metadata": {
    "execution": {
     "iopub.execute_input": "2024-05-15T16:08:44.600632Z",
     "iopub.status.busy": "2024-05-15T16:08:44.599403Z",
     "iopub.status.idle": "2024-05-15T16:08:44.609711Z",
     "shell.execute_reply": "2024-05-15T16:08:44.608481Z"
    },
    "papermill": {
     "duration": 0.035578,
     "end_time": "2024-05-15T16:08:44.612205",
     "exception": false,
     "start_time": "2024-05-15T16:08:44.576627",
     "status": "completed"
    },
    "tags": []
   },
   "outputs": [
    {
     "name": "stdout",
     "output_type": "stream",
     "text": [
      "     length  width     depth    location\n",
      "0  5.100000    2.8  2.600000      center\n",
      "1  5.357143    5.8  3.271429  north edge\n",
      "2  6.200000    6.5  4.200000      center\n",
      "3  4.300000    6.1  0.800000      center\n",
      "4  6.000000    5.8  2.600000  north edge\n",
      "5  5.100000    5.6  3.271429      center\n",
      "6  6.500000    6.3  3.900000   west edge\n",
      "7  4.300000    6.1  4.800000   west edge\n",
      "8  5.357143    5.4  4.000000      center\n"
     ]
    }
   ],
   "source": [
    "print(potholes)"
   ]
  },
  {
   "cell_type": "markdown",
   "id": "6e06e622",
   "metadata": {
    "papermill": {
     "duration": 0.021267,
     "end_time": "2024-05-15T16:08:44.654903",
     "exception": false,
     "start_time": "2024-05-15T16:08:44.633636",
     "status": "completed"
    },
    "tags": []
   },
   "source": [
    "# Q6 - AFOLs Problem"
   ]
  },
  {
   "cell_type": "markdown",
   "id": "428a74cc",
   "metadata": {
    "papermill": {
     "duration": 0.021293,
     "end_time": "2024-05-15T16:08:44.697679",
     "exception": false,
     "start_time": "2024-05-15T16:08:44.676386",
     "status": "completed"
    },
    "tags": []
   },
   "source": [
    "You're developing the comment system for a social platform for AFOLs (Adult Fans Of Legos). The comment data looks like this."
   ]
  },
  {
   "cell_type": "code",
   "execution_count": 29,
   "id": "36e3c41d",
   "metadata": {
    "execution": {
     "iopub.execute_input": "2024-05-15T16:08:44.743154Z",
     "iopub.status.busy": "2024-05-15T16:08:44.742246Z",
     "iopub.status.idle": "2024-05-15T16:08:44.756450Z",
     "shell.execute_reply": "2024-05-15T16:08:44.755126Z"
    },
    "papermill": {
     "duration": 0.039926,
     "end_time": "2024-05-15T16:08:44.759205",
     "exception": false,
     "start_time": "2024-05-15T16:08:44.719279",
     "status": "completed"
    },
    "tags": []
   },
   "outputs": [
    {
     "name": "stdout",
     "output_type": "stream",
     "text": [
      "   parent_id             comment\n",
      "id                              \n",
      "32      <NA>   Legos are awesome\n",
      "12      <NA>    Legos are okay..\n",
      "11        12         Just okay??\n",
      "4         12       Okay, troll..\n",
      "31         4         I'm serious\n",
      "75        12           yeah, nah\n",
      "41        75  u from down undah?\n",
      "5         41           nah, yeah\n",
      "82      <NA>        I love legos\n",
      "81        82             U 4 rl?\n",
      "71        81                  no\n",
      "95        82             Me too!\n",
      "96        82                same\n"
     ]
    }
   ],
   "source": [
    "import numpy as np\n",
    "import pandas as pd\n",
    "\n",
    "comments = pd.DataFrame([\n",
    "    [32, pd.NA, 'Legos are awesome'],\n",
    "    [12, pd.NA, 'Legos are okay..'],\n",
    "      [11, 12, 'Just okay??'],\n",
    "      [4, 12, 'Okay, troll..'],\n",
    "        [31, 4, \"I'm serious\"],\n",
    "      [75, 12, 'yeah, nah'],\n",
    "        [41, 75, 'u from down undah?'],\n",
    "          [5, 41, 'nah, yeah'],\n",
    "    [82, pd.NA, 'I love legos'],\n",
    "      [81, 82, 'U 4 rl?'],\n",
    "        [71, 81, 'no'],\n",
    "      [95, 82, 'Me too!'],\n",
    "      [96, 82, 'same']\n",
    "], columns=['id', 'parent_id', 'comment'])\n",
    "\n",
    "# Make id the index\n",
    "comments.set_index('id', inplace=True)\n",
    "\n",
    "print(comments)\n",
    "#    parent_id             comment\n",
    "# id                              \n",
    "# 32      <NA>   Legos are awesome\n",
    "# 12      <NA>    Legos are okay..\n",
    "# 11        12         Just okay??\n",
    "# 4         12       Okay, troll..\n",
    "# 31         4         I'm serious\n",
    "# 75        12           yeah, nah\n",
    "# 41        75  u from down undah?\n",
    "# 5         41           nah, yeah\n",
    "# 82      <NA>        I love legos\n",
    "# 81        82             U 4 rl?\n",
    "# 71        81                  no\n",
    "# 95        82             Me too!\n",
    "# 96        82                same"
   ]
  },
  {
   "cell_type": "markdown",
   "id": "e6efbdb8",
   "metadata": {
    "papermill": {
     "duration": 0.022029,
     "end_time": "2024-05-15T16:08:44.802997",
     "exception": false,
     "start_time": "2024-05-15T16:08:44.780968",
     "status": "completed"
    },
    "tags": []
   },
   "source": [
    "Each comment can have one or none parent_id that identifies its parent comment.\n",
    "\n",
    "Insert a column called n_descendants in comments that displays how many total comments are nested below each comment. For example, comment 12 has six descendants.\n",
    "\n"
   ]
  },
  {
   "cell_type": "markdown",
   "id": "2acc2fbb",
   "metadata": {
    "papermill": {
     "duration": 0.021496,
     "end_time": "2024-05-15T16:08:44.846148",
     "exception": false,
     "start_time": "2024-05-15T16:08:44.824652",
     "status": "completed"
    },
    "tags": []
   },
   "source": [
    "## Solution"
   ]
  },
  {
   "cell_type": "code",
   "execution_count": 30,
   "id": "852cf3bf",
   "metadata": {
    "execution": {
     "iopub.execute_input": "2024-05-15T16:08:44.890915Z",
     "iopub.status.busy": "2024-05-15T16:08:44.890472Z",
     "iopub.status.idle": "2024-05-15T16:08:44.897008Z",
     "shell.execute_reply": "2024-05-15T16:08:44.895742Z"
    },
    "papermill": {
     "duration": 0.031928,
     "end_time": "2024-05-15T16:08:44.899545",
     "exception": false,
     "start_time": "2024-05-15T16:08:44.867617",
     "status": "completed"
    },
    "tags": []
   },
   "outputs": [],
   "source": [
    "# Function to calculate the number of descendants for each comment\n",
    "def count_descendants(comment_id, comments_df):\n",
    "    descendants = comments_df[comments_df['parent_id'] == comment_id]\n",
    "    count = len(descendants)\n",
    "    for desc_id in descendants.index:\n",
    "        count += count_descendants(desc_id, comments_df)\n",
    "    return count\n"
   ]
  },
  {
   "cell_type": "code",
   "execution_count": 31,
   "id": "29355d24",
   "metadata": {
    "execution": {
     "iopub.execute_input": "2024-05-15T16:08:44.945111Z",
     "iopub.status.busy": "2024-05-15T16:08:44.944655Z",
     "iopub.status.idle": "2024-05-15T16:08:44.970909Z",
     "shell.execute_reply": "2024-05-15T16:08:44.969248Z"
    },
    "papermill": {
     "duration": 0.052472,
     "end_time": "2024-05-15T16:08:44.973764",
     "exception": false,
     "start_time": "2024-05-15T16:08:44.921292",
     "status": "completed"
    },
    "tags": []
   },
   "outputs": [
    {
     "data": {
      "text/html": [
       "<div>\n",
       "<style scoped>\n",
       "    .dataframe tbody tr th:only-of-type {\n",
       "        vertical-align: middle;\n",
       "    }\n",
       "\n",
       "    .dataframe tbody tr th {\n",
       "        vertical-align: top;\n",
       "    }\n",
       "\n",
       "    .dataframe thead th {\n",
       "        text-align: right;\n",
       "    }\n",
       "</style>\n",
       "<table border=\"1\" class=\"dataframe\">\n",
       "  <thead>\n",
       "    <tr style=\"text-align: right;\">\n",
       "      <th></th>\n",
       "      <th>parent_id</th>\n",
       "      <th>comment</th>\n",
       "      <th>n_descendants</th>\n",
       "    </tr>\n",
       "    <tr>\n",
       "      <th>id</th>\n",
       "      <th></th>\n",
       "      <th></th>\n",
       "      <th></th>\n",
       "    </tr>\n",
       "  </thead>\n",
       "  <tbody>\n",
       "    <tr>\n",
       "      <th>32</th>\n",
       "      <td>&lt;NA&gt;</td>\n",
       "      <td>Legos are awesome</td>\n",
       "      <td>0</td>\n",
       "    </tr>\n",
       "    <tr>\n",
       "      <th>12</th>\n",
       "      <td>&lt;NA&gt;</td>\n",
       "      <td>Legos are okay..</td>\n",
       "      <td>6</td>\n",
       "    </tr>\n",
       "    <tr>\n",
       "      <th>11</th>\n",
       "      <td>12</td>\n",
       "      <td>Just okay??</td>\n",
       "      <td>0</td>\n",
       "    </tr>\n",
       "    <tr>\n",
       "      <th>4</th>\n",
       "      <td>12</td>\n",
       "      <td>Okay, troll..</td>\n",
       "      <td>1</td>\n",
       "    </tr>\n",
       "    <tr>\n",
       "      <th>31</th>\n",
       "      <td>4</td>\n",
       "      <td>I'm serious</td>\n",
       "      <td>0</td>\n",
       "    </tr>\n",
       "    <tr>\n",
       "      <th>75</th>\n",
       "      <td>12</td>\n",
       "      <td>yeah, nah</td>\n",
       "      <td>2</td>\n",
       "    </tr>\n",
       "    <tr>\n",
       "      <th>41</th>\n",
       "      <td>75</td>\n",
       "      <td>u from down undah?</td>\n",
       "      <td>1</td>\n",
       "    </tr>\n",
       "    <tr>\n",
       "      <th>5</th>\n",
       "      <td>41</td>\n",
       "      <td>nah, yeah</td>\n",
       "      <td>0</td>\n",
       "    </tr>\n",
       "    <tr>\n",
       "      <th>82</th>\n",
       "      <td>&lt;NA&gt;</td>\n",
       "      <td>I love legos</td>\n",
       "      <td>4</td>\n",
       "    </tr>\n",
       "    <tr>\n",
       "      <th>81</th>\n",
       "      <td>82</td>\n",
       "      <td>U 4 rl?</td>\n",
       "      <td>1</td>\n",
       "    </tr>\n",
       "    <tr>\n",
       "      <th>71</th>\n",
       "      <td>81</td>\n",
       "      <td>no</td>\n",
       "      <td>0</td>\n",
       "    </tr>\n",
       "    <tr>\n",
       "      <th>95</th>\n",
       "      <td>82</td>\n",
       "      <td>Me too!</td>\n",
       "      <td>0</td>\n",
       "    </tr>\n",
       "    <tr>\n",
       "      <th>96</th>\n",
       "      <td>82</td>\n",
       "      <td>same</td>\n",
       "      <td>0</td>\n",
       "    </tr>\n",
       "  </tbody>\n",
       "</table>\n",
       "</div>"
      ],
      "text/plain": [
       "   parent_id             comment  n_descendants\n",
       "id                                             \n",
       "32      <NA>   Legos are awesome              0\n",
       "12      <NA>    Legos are okay..              6\n",
       "11        12         Just okay??              0\n",
       "4         12       Okay, troll..              1\n",
       "31         4         I'm serious              0\n",
       "75        12           yeah, nah              2\n",
       "41        75  u from down undah?              1\n",
       "5         41           nah, yeah              0\n",
       "82      <NA>        I love legos              4\n",
       "81        82             U 4 rl?              1\n",
       "71        81                  no              0\n",
       "95        82             Me too!              0\n",
       "96        82                same              0"
      ]
     },
     "execution_count": 31,
     "metadata": {},
     "output_type": "execute_result"
    }
   ],
   "source": [
    "# Applying the function to each comment and creating the n_descendants column\n",
    "comments['n_descendants'] = comments.index.map(lambda x: count_descendants(x, comments))\n",
    "comments"
   ]
  },
  {
   "cell_type": "markdown",
   "id": "ae3f1b1f",
   "metadata": {
    "papermill": {
     "duration": 0.023576,
     "end_time": "2024-05-15T16:08:45.020811",
     "exception": false,
     "start_time": "2024-05-15T16:08:44.997235",
     "status": "completed"
    },
    "tags": []
   },
   "source": [
    "# Q7 - Humans Problem"
   ]
  },
  {
   "cell_type": "markdown",
   "id": "8718fcee",
   "metadata": {
    "papermill": {
     "duration": 0.021548,
     "end_time": "2024-05-15T16:08:45.068075",
     "exception": false,
     "start_time": "2024-05-15T16:08:45.046527",
     "status": "completed"
    },
    "tags": []
   },
   "source": [
    "You've developed a 🤖 machine learning model that classifies images. Specifically, it outputs labels with non-negligible probabilities.\n",
    "\n"
   ]
  },
  {
   "cell_type": "code",
   "execution_count": 32,
   "id": "5856706a",
   "metadata": {
    "execution": {
     "iopub.execute_input": "2024-05-15T16:08:45.120018Z",
     "iopub.status.busy": "2024-05-15T16:08:45.119122Z",
     "iopub.status.idle": "2024-05-15T16:08:45.135393Z",
     "shell.execute_reply": "2024-05-15T16:08:45.133872Z"
    },
    "papermill": {
     "duration": 0.048772,
     "end_time": "2024-05-15T16:08:45.139819",
     "exception": false,
     "start_time": "2024-05-15T16:08:45.091047",
     "status": "completed"
    },
    "tags": []
   },
   "outputs": [
    {
     "name": "stdout",
     "output_type": "stream",
     "text": [
      "                                                preds\n",
      "12        {'dog': 0.55, 'cat': 0.25, 'squirrel': 0.2}\n",
      "41  {'telephone pole': 0.8, 'tower': 0.1, 'stick':...\n",
      "43       {'man': 0.65, 'woman': 0.33, 'monkey': 0.02}\n",
      "46  {'waiter': 0.45, 'waitress': 0.30, 'newspaper'...\n",
      "49                    {'nurse': 0.50, 'doctor': 0.50}\n",
      "72  {'baseball': 0.8, 'basketball': 0.15, 'footbal...\n",
      "91     {'woman': 0.62, 'man': 0.28, 'elephant': 0.10}\n"
     ]
    }
   ],
   "source": [
    "import pandas as pd\n",
    "\n",
    "predictions = pd.DataFrame.from_dict({\n",
    "    'preds': {\n",
    "        12: \"{'dog': 0.55, 'cat': 0.25, 'squirrel': 0.2}\",\n",
    "        41: \"{'telephone pole': 0.8, 'tower': 0.1, 'stick': 0.1}\",\n",
    "        43: \"{'man': 0.65, 'woman': 0.33, 'monkey': 0.02}\",\n",
    "        46: \"{'waiter': 0.45, 'waitress': 0.30, 'newspaper': 0.15, 'cat': 0.10}\",\n",
    "        49: \"{'nurse': 0.50, 'doctor': 0.50}\",\n",
    "        72: \"{'baseball': 0.8, 'basketball': 0.15, 'football': 0.05}\",\n",
    "        91: \"{'woman': 0.62, 'man': 0.28, 'elephant': 0.10}\"\n",
    "    }\n",
    "})\n",
    "\n",
    "print(predictions)\n",
    "#                                                                  preds\n",
    "# 12                         {'dog': 0.55, 'cat': 0.25, 'squirrel': 0.2}\n",
    "# 41                 {'telephone pole': 0.8, 'tower': 0.1, 'stick': 0.1}\n",
    "# 43                        {'man': 0.65, 'woman': 0.33, 'monkey': 0.02}\n",
    "# 46  {'waiter': 0.45, 'waitress': 0.30, 'newspaper': 0.15, 'cat': 0.10}\n",
    "# 49                                     {'nurse': 0.50, 'doctor': 0.50}\n",
    "# 72             {'baseball': 0.8, 'basketball': 0.15, 'football': 0.05}\n",
    "# 91                      {'woman': 0.62, 'man': 0.28, 'elephant': 0.10}"
   ]
  },
  {
   "cell_type": "markdown",
   "id": "dab61b9c",
   "metadata": {
    "papermill": {
     "duration": 0.022768,
     "end_time": "2024-05-15T16:08:45.193284",
     "exception": false,
     "start_time": "2024-05-15T16:08:45.170516",
     "status": "completed"
    },
    "tags": []
   },
   "source": [
    "Each row in predictions represents predictions for a different image.\n",
    "\n",
    "Insert a column called prob_human that calculates the probability each image represents a human. You can use the following list of strings to identify human labels.\n",
    "\n"
   ]
  },
  {
   "cell_type": "code",
   "execution_count": 33,
   "id": "a0ea5d8a",
   "metadata": {
    "execution": {
     "iopub.execute_input": "2024-05-15T16:08:45.239767Z",
     "iopub.status.busy": "2024-05-15T16:08:45.238922Z",
     "iopub.status.idle": "2024-05-15T16:08:45.244171Z",
     "shell.execute_reply": "2024-05-15T16:08:45.243223Z"
    },
    "papermill": {
     "duration": 0.031463,
     "end_time": "2024-05-15T16:08:45.246770",
     "exception": false,
     "start_time": "2024-05-15T16:08:45.215307",
     "status": "completed"
    },
    "tags": []
   },
   "outputs": [],
   "source": [
    "humans = ['doctor', 'man', 'nurse', 'teacher', 'waiter', 'waitress', 'woman']"
   ]
  },
  {
   "cell_type": "markdown",
   "id": "9350d8db",
   "metadata": {
    "papermill": {
     "duration": 0.022636,
     "end_time": "2024-05-15T16:08:45.292056",
     "exception": false,
     "start_time": "2024-05-15T16:08:45.269420",
     "status": "completed"
    },
    "tags": []
   },
   "source": [
    "## Solution"
   ]
  },
  {
   "cell_type": "code",
   "execution_count": 34,
   "id": "51ed61b2",
   "metadata": {
    "execution": {
     "iopub.execute_input": "2024-05-15T16:08:45.338184Z",
     "iopub.status.busy": "2024-05-15T16:08:45.337745Z",
     "iopub.status.idle": "2024-05-15T16:08:45.345358Z",
     "shell.execute_reply": "2024-05-15T16:08:45.344122Z"
    },
    "papermill": {
     "duration": 0.033966,
     "end_time": "2024-05-15T16:08:45.348192",
     "exception": false,
     "start_time": "2024-05-15T16:08:45.314226",
     "status": "completed"
    },
    "tags": []
   },
   "outputs": [],
   "source": [
    "# Convert preds from strings to dictionaries\n",
    "import ast\n",
    "predictions['preds'] = predictions.preds.map(ast.literal_eval)\n",
    "\n",
    "# Helper function to sum subset of dict values\n",
    "def sum_dict_vals(x, keys):\n",
    "    \"\"\"Given a dict, x, subset it by keys, then sum its values\"\"\"\n",
    "    return sum(x[k] for k in keys if k in x.keys())"
   ]
  },
  {
   "cell_type": "code",
   "execution_count": 35,
   "id": "525f3441",
   "metadata": {
    "execution": {
     "iopub.execute_input": "2024-05-15T16:08:45.398900Z",
     "iopub.status.busy": "2024-05-15T16:08:45.397312Z",
     "iopub.status.idle": "2024-05-15T16:08:45.411263Z",
     "shell.execute_reply": "2024-05-15T16:08:45.409874Z"
    },
    "papermill": {
     "duration": 0.044992,
     "end_time": "2024-05-15T16:08:45.415439",
     "exception": false,
     "start_time": "2024-05-15T16:08:45.370447",
     "status": "completed"
    },
    "tags": []
   },
   "outputs": [
    {
     "name": "stdout",
     "output_type": "stream",
     "text": [
      "                                                preds  prob_human\n",
      "12        {'dog': 0.55, 'cat': 0.25, 'squirrel': 0.2}        0.00\n",
      "41  {'telephone pole': 0.8, 'tower': 0.1, 'stick':...        0.00\n",
      "43       {'man': 0.65, 'woman': 0.33, 'monkey': 0.02}        0.98\n",
      "46  {'waiter': 0.45, 'waitress': 0.3, 'newspaper':...        0.75\n",
      "49                      {'nurse': 0.5, 'doctor': 0.5}        1.00\n",
      "72  {'baseball': 0.8, 'basketball': 0.15, 'footbal...        0.00\n",
      "91      {'woman': 0.62, 'man': 0.28, 'elephant': 0.1}        0.90\n"
     ]
    }
   ],
   "source": [
    "# Insert prob_human column\n",
    "predictions['prob_human'] = predictions.preds.apply(sum_dict_vals, args=(humans,))\n",
    "\n",
    "print(predictions)"
   ]
  },
  {
   "cell_type": "markdown",
   "id": "fa34732e",
   "metadata": {
    "papermill": {
     "duration": 0.022121,
     "end_time": "2024-05-15T16:08:45.462212",
     "exception": false,
     "start_time": "2024-05-15T16:08:45.440091",
     "status": "completed"
    },
    "tags": []
   },
   "source": [
    "# My Additional Practice Questions\n",
    "\n",
    "Here are some new problems I've designed to explore more  Pandas features and scenarios:"
   ]
  },
  {
   "cell_type": "markdown",
   "id": "c07e5515",
   "metadata": {
    "papermill": {
     "duration": 0.021944,
     "end_time": "2024-05-15T16:08:45.508616",
     "exception": false,
     "start_time": "2024-05-15T16:08:45.486672",
     "status": "completed"
    },
    "tags": []
   },
   "source": [
    "Soon."
   ]
  }
 ],
 "metadata": {
  "kaggle": {
   "accelerator": "none",
   "dataSources": [],
   "dockerImageVersionId": 30664,
   "isGpuEnabled": false,
   "isInternetEnabled": true,
   "language": "python",
   "sourceType": "notebook"
  },
  "kernelspec": {
   "display_name": "Python 3",
   "language": "python",
   "name": "python3"
  },
  "language_info": {
   "codemirror_mode": {
    "name": "ipython",
    "version": 3
   },
   "file_extension": ".py",
   "mimetype": "text/x-python",
   "name": "python",
   "nbconvert_exporter": "python",
   "pygments_lexer": "ipython3",
   "version": "3.10.13"
  },
  "papermill": {
   "default_parameters": {},
   "duration": 8.459609,
   "end_time": "2024-05-15T16:08:46.052616",
   "environment_variables": {},
   "exception": null,
   "input_path": "__notebook__.ipynb",
   "output_path": "__notebook__.ipynb",
   "parameters": {},
   "start_time": "2024-05-15T16:08:37.593007",
   "version": "2.5.0"
  }
 },
 "nbformat": 4,
 "nbformat_minor": 5
}
