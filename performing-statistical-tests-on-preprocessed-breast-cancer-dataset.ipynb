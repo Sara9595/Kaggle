{
 "cells": [
  {
   "cell_type": "markdown",
   "id": "e0949ac0",
   "metadata": {
    "papermill": {
     "duration": 0.010371,
     "end_time": "2024-07-04T09:17:19.707016",
     "exception": false,
     "start_time": "2024-07-04T09:17:19.696645",
     "status": "completed"
    },
    "tags": []
   },
   "source": [
    "## In this notebook, we will perform some statistical tests on preprocessed breast cancer dataset"
   ]
  },
  {
   "cell_type": "code",
   "execution_count": 1,
   "id": "cba2d698",
   "metadata": {
    "execution": {
     "iopub.execute_input": "2024-07-04T09:17:19.729225Z",
     "iopub.status.busy": "2024-07-04T09:17:19.728759Z",
     "iopub.status.idle": "2024-07-04T09:17:22.077151Z",
     "shell.execute_reply": "2024-07-04T09:17:22.075804Z"
    },
    "papermill": {
     "duration": 2.363255,
     "end_time": "2024-07-04T09:17:22.080334",
     "exception": false,
     "start_time": "2024-07-04T09:17:19.717079",
     "status": "completed"
    },
    "tags": []
   },
   "outputs": [],
   "source": [
    "# import necessary libraries\n",
    "import pandas as pd\n",
    "import numpy as np\n",
    "import scipy.stats as stats\n",
    "from scipy.stats import norm, shapiro, levene"
   ]
  },
  {
   "cell_type": "code",
   "execution_count": 2,
   "id": "6007baeb",
   "metadata": {
    "execution": {
     "iopub.execute_input": "2024-07-04T09:17:22.103370Z",
     "iopub.status.busy": "2024-07-04T09:17:22.102775Z",
     "iopub.status.idle": "2024-07-04T09:17:22.130761Z",
     "shell.execute_reply": "2024-07-04T09:17:22.129497Z"
    },
    "papermill": {
     "duration": 0.043112,
     "end_time": "2024-07-04T09:17:22.133518",
     "exception": false,
     "start_time": "2024-07-04T09:17:22.090406",
     "status": "completed"
    },
    "tags": []
   },
   "outputs": [],
   "source": [
    "# Load the dataset\n",
    "file_path = '/kaggle/input/breastcancer-preprocessed/BreastCancer-Preprocessed.csv'\n",
    "df = pd.read_csv(file_path)"
   ]
  },
  {
   "cell_type": "markdown",
   "id": "d45fea9e",
   "metadata": {
    "papermill": {
     "duration": 0.009887,
     "end_time": "2024-07-04T09:17:22.153892",
     "exception": false,
     "start_time": "2024-07-04T09:17:22.144005",
     "status": "completed"
    },
    "tags": []
   },
   "source": [
    "##  Display the first few rows of the dataset to understand its structure"
   ]
  },
  {
   "cell_type": "code",
   "execution_count": 3,
   "id": "4281e4fd",
   "metadata": {
    "execution": {
     "iopub.execute_input": "2024-07-04T09:17:22.175772Z",
     "iopub.status.busy": "2024-07-04T09:17:22.175332Z",
     "iopub.status.idle": "2024-07-04T09:17:22.210510Z",
     "shell.execute_reply": "2024-07-04T09:17:22.209062Z"
    },
    "papermill": {
     "duration": 0.049268,
     "end_time": "2024-07-04T09:17:22.213184",
     "exception": false,
     "start_time": "2024-07-04T09:17:22.163916",
     "status": "completed"
    },
    "tags": []
   },
   "outputs": [
    {
     "data": {
      "text/html": [
       "<div>\n",
       "<style scoped>\n",
       "    .dataframe tbody tr th:only-of-type {\n",
       "        vertical-align: middle;\n",
       "    }\n",
       "\n",
       "    .dataframe tbody tr th {\n",
       "        vertical-align: top;\n",
       "    }\n",
       "\n",
       "    .dataframe thead th {\n",
       "        text-align: right;\n",
       "    }\n",
       "</style>\n",
       "<table border=\"1\" class=\"dataframe\">\n",
       "  <thead>\n",
       "    <tr style=\"text-align: right;\">\n",
       "      <th></th>\n",
       "      <th>id</th>\n",
       "      <th>age</th>\n",
       "      <th>pathsize</th>\n",
       "      <th>lnpos</th>\n",
       "      <th>histgrad</th>\n",
       "      <th>er</th>\n",
       "      <th>pr</th>\n",
       "      <th>status</th>\n",
       "      <th>time</th>\n",
       "      <th>lnpos_YN</th>\n",
       "      <th>pathsize_Cat</th>\n",
       "    </tr>\n",
       "  </thead>\n",
       "  <tbody>\n",
       "    <tr>\n",
       "      <th>0</th>\n",
       "      <td>1.0</td>\n",
       "      <td>60.0</td>\n",
       "      <td>NaN</td>\n",
       "      <td>0.0</td>\n",
       "      <td>3.0</td>\n",
       "      <td>0.0</td>\n",
       "      <td>0.0</td>\n",
       "      <td>0.0</td>\n",
       "      <td>9.466667</td>\n",
       "      <td>No</td>\n",
       "      <td>NaN</td>\n",
       "    </tr>\n",
       "    <tr>\n",
       "      <th>1</th>\n",
       "      <td>2.0</td>\n",
       "      <td>79.0</td>\n",
       "      <td>NaN</td>\n",
       "      <td>0.0</td>\n",
       "      <td>NaN</td>\n",
       "      <td>NaN</td>\n",
       "      <td>NaN</td>\n",
       "      <td>0.0</td>\n",
       "      <td>8.600000</td>\n",
       "      <td>No</td>\n",
       "      <td>NaN</td>\n",
       "    </tr>\n",
       "    <tr>\n",
       "      <th>2</th>\n",
       "      <td>3.0</td>\n",
       "      <td>82.0</td>\n",
       "      <td>NaN</td>\n",
       "      <td>0.0</td>\n",
       "      <td>2.0</td>\n",
       "      <td>NaN</td>\n",
       "      <td>NaN</td>\n",
       "      <td>0.0</td>\n",
       "      <td>19.333333</td>\n",
       "      <td>No</td>\n",
       "      <td>NaN</td>\n",
       "    </tr>\n",
       "    <tr>\n",
       "      <th>3</th>\n",
       "      <td>4.0</td>\n",
       "      <td>66.0</td>\n",
       "      <td>NaN</td>\n",
       "      <td>0.0</td>\n",
       "      <td>2.0</td>\n",
       "      <td>1.0</td>\n",
       "      <td>1.0</td>\n",
       "      <td>0.0</td>\n",
       "      <td>16.333333</td>\n",
       "      <td>No</td>\n",
       "      <td>NaN</td>\n",
       "    </tr>\n",
       "    <tr>\n",
       "      <th>4</th>\n",
       "      <td>5.0</td>\n",
       "      <td>52.0</td>\n",
       "      <td>NaN</td>\n",
       "      <td>0.0</td>\n",
       "      <td>3.0</td>\n",
       "      <td>NaN</td>\n",
       "      <td>NaN</td>\n",
       "      <td>0.0</td>\n",
       "      <td>8.500000</td>\n",
       "      <td>No</td>\n",
       "      <td>NaN</td>\n",
       "    </tr>\n",
       "  </tbody>\n",
       "</table>\n",
       "</div>"
      ],
      "text/plain": [
       "    id   age  pathsize  lnpos  histgrad   er   pr  status       time lnpos_YN  \\\n",
       "0  1.0  60.0       NaN    0.0       3.0  0.0  0.0     0.0   9.466667       No   \n",
       "1  2.0  79.0       NaN    0.0       NaN  NaN  NaN     0.0   8.600000       No   \n",
       "2  3.0  82.0       NaN    0.0       2.0  NaN  NaN     0.0  19.333333       No   \n",
       "3  4.0  66.0       NaN    0.0       2.0  1.0  1.0     0.0  16.333333       No   \n",
       "4  5.0  52.0       NaN    0.0       3.0  NaN  NaN     0.0   8.500000       No   \n",
       "\n",
       "  pathsize_Cat  \n",
       "0          NaN  \n",
       "1          NaN  \n",
       "2          NaN  \n",
       "3          NaN  \n",
       "4          NaN  "
      ]
     },
     "execution_count": 3,
     "metadata": {},
     "output_type": "execute_result"
    }
   ],
   "source": [
    "df.head()"
   ]
  },
  {
   "cell_type": "markdown",
   "id": "293e6cdb",
   "metadata": {
    "papermill": {
     "duration": 0.010007,
     "end_time": "2024-07-04T09:17:22.233522",
     "exception": false,
     "start_time": "2024-07-04T09:17:22.223515",
     "status": "completed"
    },
    "tags": []
   },
   "source": [
    "## Understanding the Variables\n",
    "\n",
    "The `lnpos_YN` and `status` are categorical variables that we want to test for independence.\n",
    "Let's take a look at the unique values in these columns."
   ]
  },
  {
   "cell_type": "code",
   "execution_count": 4,
   "id": "326de70f",
   "metadata": {
    "execution": {
     "iopub.execute_input": "2024-07-04T09:17:22.255676Z",
     "iopub.status.busy": "2024-07-04T09:17:22.255222Z",
     "iopub.status.idle": "2024-07-04T09:17:22.268666Z",
     "shell.execute_reply": "2024-07-04T09:17:22.266986Z"
    },
    "papermill": {
     "duration": 0.027694,
     "end_time": "2024-07-04T09:17:22.271419",
     "exception": false,
     "start_time": "2024-07-04T09:17:22.243725",
     "status": "completed"
    },
    "tags": []
   },
   "outputs": [
    {
     "name": "stdout",
     "output_type": "stream",
     "text": [
      "Unique values in 'lnpos_YN': ['No' 'Yes']\n",
      "Unique values in 'status': [0. 1.]\n"
     ]
    }
   ],
   "source": [
    "# Check the unique values in 'lnpos_YN' and 'status'\n",
    "print(\"Unique values in 'lnpos_YN':\", df['lnpos_YN'].unique())\n",
    "print(\"Unique values in 'status':\", df['status'].unique())\n"
   ]
  },
  {
   "cell_type": "markdown",
   "id": "a7e09d30",
   "metadata": {
    "papermill": {
     "duration": 0.010298,
     "end_time": "2024-07-04T09:17:22.292502",
     "exception": false,
     "start_time": "2024-07-04T09:17:22.282204",
     "status": "completed"
    },
    "tags": []
   },
   "source": [
    "## Creating a Contingency Table\n",
    "\n",
    "We will create a contingency table to summarize the relationship between the two categorical variables."
   ]
  },
  {
   "cell_type": "code",
   "execution_count": 5,
   "id": "a03c08d8",
   "metadata": {
    "execution": {
     "iopub.execute_input": "2024-07-04T09:17:22.315068Z",
     "iopub.status.busy": "2024-07-04T09:17:22.314685Z",
     "iopub.status.idle": "2024-07-04T09:17:22.352190Z",
     "shell.execute_reply": "2024-07-04T09:17:22.350986Z"
    },
    "papermill": {
     "duration": 0.051877,
     "end_time": "2024-07-04T09:17:22.354841",
     "exception": false,
     "start_time": "2024-07-04T09:17:22.302964",
     "status": "completed"
    },
    "tags": []
   },
   "outputs": [
    {
     "data": {
      "text/html": [
       "<div>\n",
       "<style scoped>\n",
       "    .dataframe tbody tr th:only-of-type {\n",
       "        vertical-align: middle;\n",
       "    }\n",
       "\n",
       "    .dataframe tbody tr th {\n",
       "        vertical-align: top;\n",
       "    }\n",
       "\n",
       "    .dataframe thead th {\n",
       "        text-align: right;\n",
       "    }\n",
       "</style>\n",
       "<table border=\"1\" class=\"dataframe\">\n",
       "  <thead>\n",
       "    <tr style=\"text-align: right;\">\n",
       "      <th>status</th>\n",
       "      <th>0.0</th>\n",
       "      <th>1.0</th>\n",
       "    </tr>\n",
       "    <tr>\n",
       "      <th>lnpos_YN</th>\n",
       "      <th></th>\n",
       "      <th></th>\n",
       "    </tr>\n",
       "  </thead>\n",
       "  <tbody>\n",
       "    <tr>\n",
       "      <th>No</th>\n",
       "      <td>887</td>\n",
       "      <td>42</td>\n",
       "    </tr>\n",
       "    <tr>\n",
       "      <th>Yes</th>\n",
       "      <td>248</td>\n",
       "      <td>30</td>\n",
       "    </tr>\n",
       "  </tbody>\n",
       "</table>\n",
       "</div>"
      ],
      "text/plain": [
       "status    0.0  1.0\n",
       "lnpos_YN          \n",
       "No        887   42\n",
       "Yes       248   30"
      ]
     },
     "execution_count": 5,
     "metadata": {},
     "output_type": "execute_result"
    }
   ],
   "source": [
    "# Create a contingency table\n",
    "contingency_table = pd.crosstab(df['lnpos_YN'], df['status'])\n",
    "contingency_table\n"
   ]
  },
  {
   "cell_type": "code",
   "execution_count": 6,
   "id": "00071120",
   "metadata": {
    "execution": {
     "iopub.execute_input": "2024-07-04T09:17:22.378403Z",
     "iopub.status.busy": "2024-07-04T09:17:22.377984Z",
     "iopub.status.idle": "2024-07-04T09:17:22.392283Z",
     "shell.execute_reply": "2024-07-04T09:17:22.391011Z"
    },
    "papermill": {
     "duration": 0.029465,
     "end_time": "2024-07-04T09:17:22.395490",
     "exception": false,
     "start_time": "2024-07-04T09:17:22.366025",
     "status": "completed"
    },
    "tags": []
   },
   "outputs": [
    {
     "data": {
      "text/html": [
       "<div>\n",
       "<style scoped>\n",
       "    .dataframe tbody tr th:only-of-type {\n",
       "        vertical-align: middle;\n",
       "    }\n",
       "\n",
       "    .dataframe tbody tr th {\n",
       "        vertical-align: top;\n",
       "    }\n",
       "\n",
       "    .dataframe thead th {\n",
       "        text-align: right;\n",
       "    }\n",
       "</style>\n",
       "<table border=\"1\" class=\"dataframe\">\n",
       "  <thead>\n",
       "    <tr style=\"text-align: right;\">\n",
       "      <th>status</th>\n",
       "      <th>0.0</th>\n",
       "      <th>1.0</th>\n",
       "    </tr>\n",
       "    <tr>\n",
       "      <th>lnpos_YN</th>\n",
       "      <th></th>\n",
       "      <th></th>\n",
       "    </tr>\n",
       "  </thead>\n",
       "  <tbody>\n",
       "    <tr>\n",
       "      <th>No</th>\n",
       "      <td>95.479010</td>\n",
       "      <td>4.520990</td>\n",
       "    </tr>\n",
       "    <tr>\n",
       "      <th>Yes</th>\n",
       "      <td>89.208633</td>\n",
       "      <td>10.791367</td>\n",
       "    </tr>\n",
       "  </tbody>\n",
       "</table>\n",
       "</div>"
      ],
      "text/plain": [
       "status          0.0        1.0\n",
       "lnpos_YN                      \n",
       "No        95.479010   4.520990\n",
       "Yes       89.208633  10.791367"
      ]
     },
     "execution_count": 6,
     "metadata": {},
     "output_type": "execute_result"
    }
   ],
   "source": [
    "# Calculate row-wise percentages\n",
    "row_percentage = contingency_table.apply(lambda x: x / x.sum() * 100, axis=1)\n",
    "row_percentage"
   ]
  },
  {
   "cell_type": "markdown",
   "id": "3e4d43d3",
   "metadata": {
    "papermill": {
     "duration": 0.01162,
     "end_time": "2024-07-04T09:17:22.419192",
     "exception": false,
     "start_time": "2024-07-04T09:17:22.407572",
     "status": "completed"
    },
    "tags": []
   },
   "source": [
    "## Performing the Chi-Square Test for Independence\n",
    "\n",
    "The Chi-Square Test for Independence will help us determine whether there is a significant association between `lnpos_YN` and `status`.\n"
   ]
  },
  {
   "cell_type": "code",
   "execution_count": 7,
   "id": "067d051a",
   "metadata": {
    "execution": {
     "iopub.execute_input": "2024-07-04T09:17:22.443271Z",
     "iopub.status.busy": "2024-07-04T09:17:22.442820Z",
     "iopub.status.idle": "2024-07-04T09:17:22.453626Z",
     "shell.execute_reply": "2024-07-04T09:17:22.452299Z"
    },
    "papermill": {
     "duration": 0.026553,
     "end_time": "2024-07-04T09:17:22.456694",
     "exception": false,
     "start_time": "2024-07-04T09:17:22.430141",
     "status": "completed"
    },
    "tags": []
   },
   "outputs": [
    {
     "name": "stdout",
     "output_type": "stream",
     "text": [
      "Chi-Square Statistic: 13.900758213995182\n",
      "***********************************\n",
      "p-value: 0.00019272070767964805\n",
      "***********************************\n",
      "Degrees of Freedom: 1\n",
      "***********************************\n",
      "Expected Frequencies Table:\n",
      " [[873.58326429  55.41673571]\n",
      " [261.41673571  16.58326429]]\n"
     ]
    }
   ],
   "source": [
    "# Perform the Chi-Square Test for Independence\n",
    "chi2, p, dof, expected = stats.chi2_contingency(contingency_table)\n",
    "\n",
    "print(\"Chi-Square Statistic:\", chi2)\n",
    "print(\"***********************************\")\n",
    "print(\"p-value:\", p)\n",
    "print(\"***********************************\")\n",
    "print(\"Degrees of Freedom:\", dof)\n",
    "print(\"***********************************\")\n",
    "print(\"Expected Frequencies Table:\\n\", expected)"
   ]
  },
  {
   "cell_type": "markdown",
   "id": "552150ce",
   "metadata": {
    "papermill": {
     "duration": 0.010711,
     "end_time": "2024-07-04T09:17:22.478671",
     "exception": false,
     "start_time": "2024-07-04T09:17:22.467960",
     "status": "completed"
    },
    "tags": []
   },
   "source": [
    "## Interpreting the Results\n",
    "\n",
    "- **Chi-Square Statistic**: A measure of how much the observed counts deviate from the expected counts.\n",
    "- **p-value**: The probability of obtaining a Chi-Square statistic at least as extreme as the one computed, assuming that the variables are independent.\n",
    "- **Degrees of Freedom**: Number of values that are free to vary given the constraints.\n",
    "- **Expected Frequencies Table**: The expected counts if the variables are truly independent.\n",
    "\n",
    "If the p-value is less than our significance level (typically 0.05), we reject the null hypothesis and conclude that there is a significant association between `lnpos_YN` and `status`.\n"
   ]
  },
  {
   "cell_type": "markdown",
   "id": "0c4ffa05",
   "metadata": {
    "papermill": {
     "duration": 0.011248,
     "end_time": "2024-07-04T09:17:22.501057",
     "exception": false,
     "start_time": "2024-07-04T09:17:22.489809",
     "status": "completed"
    },
    "tags": []
   },
   "source": [
    "## Calculate the residuals"
   ]
  },
  {
   "cell_type": "code",
   "execution_count": 8,
   "id": "c3748758",
   "metadata": {
    "execution": {
     "iopub.execute_input": "2024-07-04T09:17:22.525855Z",
     "iopub.status.busy": "2024-07-04T09:17:22.525415Z",
     "iopub.status.idle": "2024-07-04T09:17:22.534341Z",
     "shell.execute_reply": "2024-07-04T09:17:22.533020Z"
    },
    "papermill": {
     "duration": 0.025069,
     "end_time": "2024-07-04T09:17:22.537666",
     "exception": false,
     "start_time": "2024-07-04T09:17:22.512597",
     "status": "completed"
    },
    "tags": []
   },
   "outputs": [
    {
     "name": "stdout",
     "output_type": "stream",
     "text": [
      "Residuals:\n",
      " status          0.0        1.0\n",
      "lnpos_YN                      \n",
      "No        13.416736 -13.416736\n",
      "Yes      -13.416736  13.416736\n"
     ]
    }
   ],
   "source": [
    "# Calculate the residuals\n",
    "residuals = (contingency_table - expected)\n",
    "print(\"Residuals:\\n\", residuals)"
   ]
  },
  {
   "cell_type": "markdown",
   "id": "2a36e4c5",
   "metadata": {
    "papermill": {
     "duration": 0.011043,
     "end_time": "2024-07-04T09:17:22.562283",
     "exception": false,
     "start_time": "2024-07-04T09:17:22.551240",
     "status": "completed"
    },
    "tags": []
   },
   "source": [
    "## Interpreting the Residuals\n",
    "\n",
    "Residuals show the difference between observed and expected frequencies, standardized by the expected frequency. Large residuals indicate cells that contribute significantly to the Chi-Square statistic.\n"
   ]
  },
  {
   "cell_type": "markdown",
   "id": "1bbd06b3",
   "metadata": {
    "papermill": {
     "duration": 0.010678,
     "end_time": "2024-07-04T09:17:22.583850",
     "exception": false,
     "start_time": "2024-07-04T09:17:22.573172",
     "status": "completed"
    },
    "tags": []
   },
   "source": [
    "## Calculating the Odds Ratio\n",
    "\n",
    "The odds ratio will provide a measure of association between the two categorical variables. Note that the odds ratio is only appropriate for 2x2 tables.\n"
   ]
  },
  {
   "cell_type": "code",
   "execution_count": 9,
   "id": "0fe65963",
   "metadata": {
    "execution": {
     "iopub.execute_input": "2024-07-04T09:17:22.607659Z",
     "iopub.status.busy": "2024-07-04T09:17:22.607237Z",
     "iopub.status.idle": "2024-07-04T09:17:22.617973Z",
     "shell.execute_reply": "2024-07-04T09:17:22.616837Z"
    },
    "papermill": {
     "duration": 0.026068,
     "end_time": "2024-07-04T09:17:22.620970",
     "exception": false,
     "start_time": "2024-07-04T09:17:22.594902",
     "status": "completed"
    },
    "tags": []
   },
   "outputs": [
    {
     "name": "stdout",
     "output_type": "stream",
     "text": [
      "Odds Ratio: 2.55\n",
      "95% Confidence Interval (CI): (1.5663, 4.1668)\n"
     ]
    }
   ],
   "source": [
    "   # Check if the table is 2x2\n",
    "if contingency_table.shape == (2, 2):\n",
    "    # Extract values from the contingency table\n",
    "    a = contingency_table.iloc[0, 0]\n",
    "    b = contingency_table.iloc[0, 1]\n",
    "    c = contingency_table.iloc[1, 0]\n",
    "    d = contingency_table.iloc[1, 1]\n",
    "    \n",
    "    # Calculate the Odds Ratio\n",
    "    odds_ratio = (a / b) / (c / d)\n",
    "    \n",
    "    log_OddsRatio = np.log(odds_ratio)\n",
    "    _log_or = np.sqrt(1/a + 1/b + 1/c + 1/d)\n",
    "    \n",
    "    # 95% Confidence interval for odds ratio\n",
    "    z = norm.ppf(0.975)\n",
    "    CI_lower = np.exp(log_OddsRatio - z * _log_or)\n",
    "    CI_upper = np.exp(log_OddsRatio + z * _log_or)\n",
    "    \n",
    "    # Output results\n",
    "    print(f\"Odds Ratio: {odds_ratio:.2f}\")\n",
    "    print(f\"95% Confidence Interval (CI): ({CI_lower:.4f}, {CI_upper:.4f})\")\n",
    "     "
   ]
  },
  {
   "cell_type": "markdown",
   "id": "e1f4c4d6",
   "metadata": {
    "papermill": {
     "duration": 0.012852,
     "end_time": "2024-07-04T09:17:22.648521",
     "exception": false,
     "start_time": "2024-07-04T09:17:22.635669",
     "status": "completed"
    },
    "tags": []
   },
   "source": [
    "## Interpreting the Results\n",
    "\n",
    "- **Odds Ratio**: Measure of association between the two variables, applicable for 2x2 tables.\n",
    "- **95% Confidence interval for odds ratio** : A confidence interval (CI) provides a range of values that is likely to contain the population parameter with a certain level of confidence (usually 95%). \n"
   ]
  },
  {
   "cell_type": "markdown",
   "id": "a42ee765",
   "metadata": {
    "papermill": {
     "duration": 0.011234,
     "end_time": "2024-07-04T09:17:22.672807",
     "exception": false,
     "start_time": "2024-07-04T09:17:22.661573",
     "status": "completed"
    },
    "tags": []
   },
   "source": [
    "## The Fisher Exact Test "
   ]
  },
  {
   "cell_type": "code",
   "execution_count": 10,
   "id": "0d3c156a",
   "metadata": {
    "execution": {
     "iopub.execute_input": "2024-07-04T09:17:22.696422Z",
     "iopub.status.busy": "2024-07-04T09:17:22.696063Z",
     "iopub.status.idle": "2024-07-04T09:17:22.703711Z",
     "shell.execute_reply": "2024-07-04T09:17:22.702525Z"
    },
    "papermill": {
     "duration": 0.023008,
     "end_time": "2024-07-04T09:17:22.706766",
     "exception": false,
     "start_time": "2024-07-04T09:17:22.683758",
     "status": "completed"
    },
    "tags": []
   },
   "outputs": [
    {
     "name": "stdout",
     "output_type": "stream",
     "text": [
      "All expected frequencies are 5 or greater. Performing Chi-Square Test for Independence.\n"
     ]
    }
   ],
   "source": [
    "# Fisher is typically used when sample sizes are small, especially when the expected frequency in any of the cells of a contingency table is less than 5\n",
    "# Check if any expected frequency is less than 5\n",
    "\n",
    "if (expected < 5).any():\n",
    "    print(\"At least one expected frequency is less than 5. Performing Fisher Exact Test.\")\n",
    "    \n",
    "    # Fisher Exact Test can only be performed on 2x2 tables\n",
    "    if contingency_table.shape == (2, 2):\n",
    "        oddsratio, p_fisher = stats.fisher_exact(contingency_table)\n",
    "        print(\"Fisher Exact Test p-value:\", p_fisher)\n",
    "    else:\n",
    "        print(\"Fisher Exact Test is not applicable for tables larger than 2x2.\")\n",
    "else:\n",
    "    print(\"All expected frequencies are 5 or greater. Performing Chi-Square Test for Independence.\")\n"
   ]
  },
  {
   "cell_type": "markdown",
   "id": "0fc13f1c",
   "metadata": {
    "papermill": {
     "duration": 0.011199,
     "end_time": "2024-07-04T09:17:22.729279",
     "exception": false,
     "start_time": "2024-07-04T09:17:22.718080",
     "status": "completed"
    },
    "tags": []
   },
   "source": [
    "## Independent t test"
   ]
  },
  {
   "cell_type": "code",
   "execution_count": 11,
   "id": "8ee4deb6",
   "metadata": {
    "execution": {
     "iopub.execute_input": "2024-07-04T09:17:22.753908Z",
     "iopub.status.busy": "2024-07-04T09:17:22.753515Z",
     "iopub.status.idle": "2024-07-04T09:17:22.765105Z",
     "shell.execute_reply": "2024-07-04T09:17:22.763859Z"
    },
    "papermill": {
     "duration": 0.026892,
     "end_time": "2024-07-04T09:17:22.767811",
     "exception": false,
     "start_time": "2024-07-04T09:17:22.740919",
     "status": "completed"
    },
    "tags": []
   },
   "outputs": [
    {
     "data": {
      "text/plain": [
       "lnpos_YN\n",
       "No     929\n",
       "Yes    278\n",
       "Name: count, dtype: int64"
      ]
     },
     "execution_count": 11,
     "metadata": {},
     "output_type": "execute_result"
    }
   ],
   "source": [
    "df.lnpos_YN.value_counts()\n"
   ]
  },
  {
   "cell_type": "code",
   "execution_count": 12,
   "id": "a632df64",
   "metadata": {
    "execution": {
     "iopub.execute_input": "2024-07-04T09:17:22.792600Z",
     "iopub.status.busy": "2024-07-04T09:17:22.792172Z",
     "iopub.status.idle": "2024-07-04T09:17:22.805010Z",
     "shell.execute_reply": "2024-07-04T09:17:22.803401Z"
    },
    "papermill": {
     "duration": 0.028495,
     "end_time": "2024-07-04T09:17:22.807994",
     "exception": false,
     "start_time": "2024-07-04T09:17:22.779499",
     "status": "completed"
    },
    "tags": []
   },
   "outputs": [
    {
     "data": {
      "text/plain": [
       "8        27.633333\n",
       "9        11.133333\n",
       "10       11.066667\n",
       "20      107.800000\n",
       "27       48.666667\n",
       "           ...    \n",
       "1200     33.700000\n",
       "1201     32.366667\n",
       "1202      6.866667\n",
       "1204     15.166667\n",
       "1205     45.133333\n",
       "Name: time, Length: 278, dtype: float64"
      ]
     },
     "execution_count": 12,
     "metadata": {},
     "output_type": "execute_result"
    }
   ],
   "source": [
    "df[df['lnpos_YN'] == 'Yes']['time']"
   ]
  },
  {
   "cell_type": "code",
   "execution_count": 13,
   "id": "884b6719",
   "metadata": {
    "execution": {
     "iopub.execute_input": "2024-07-04T09:17:22.834359Z",
     "iopub.status.busy": "2024-07-04T09:17:22.833225Z",
     "iopub.status.idle": "2024-07-04T09:17:22.842192Z",
     "shell.execute_reply": "2024-07-04T09:17:22.841027Z"
    },
    "papermill": {
     "duration": 0.024398,
     "end_time": "2024-07-04T09:17:22.844871",
     "exception": false,
     "start_time": "2024-07-04T09:17:22.820473",
     "status": "completed"
    },
    "tags": []
   },
   "outputs": [],
   "source": [
    "groupY =df[df['lnpos_YN'] == 'Yes']['time']\n",
    "groupN = df[df['lnpos_YN'] == 'No']['time']"
   ]
  },
  {
   "cell_type": "markdown",
   "id": "367be87e",
   "metadata": {
    "papermill": {
     "duration": 0.011344,
     "end_time": "2024-07-04T09:17:22.868153",
     "exception": false,
     "start_time": "2024-07-04T09:17:22.856809",
     "status": "completed"
    },
    "tags": []
   },
   "source": [
    "**Check normality**"
   ]
  },
  {
   "cell_type": "code",
   "execution_count": 14,
   "id": "8a34f980",
   "metadata": {
    "execution": {
     "iopub.execute_input": "2024-07-04T09:17:22.893313Z",
     "iopub.status.busy": "2024-07-04T09:17:22.892868Z",
     "iopub.status.idle": "2024-07-04T09:17:22.901786Z",
     "shell.execute_reply": "2024-07-04T09:17:22.900173Z"
    },
    "papermill": {
     "duration": 0.024616,
     "end_time": "2024-07-04T09:17:22.904402",
     "exception": false,
     "start_time": "2024-07-04T09:17:22.879786",
     "status": "completed"
    },
    "tags": []
   },
   "outputs": [
    {
     "name": "stdout",
     "output_type": "stream",
     "text": [
      "ShapiroResult(statistic=0.958610475063324, pvalue=1.531057368424826e-15)\n",
      "ShapiroResult(statistic=0.9339127540588379, pvalue=8.318342126223399e-10)\n"
     ]
    }
   ],
   "source": [
    "sh_lnpose_Y = stats.shapiro(groupY)\n",
    "sh_lnpose_N = stats.shapiro(groupN)\n",
    "print(sh_lnpose_N)\n",
    "print(sh_lnpose_Y)"
   ]
  },
  {
   "cell_type": "code",
   "execution_count": 15,
   "id": "ff058461",
   "metadata": {
    "execution": {
     "iopub.execute_input": "2024-07-04T09:17:22.930396Z",
     "iopub.status.busy": "2024-07-04T09:17:22.929971Z",
     "iopub.status.idle": "2024-07-04T09:17:22.939340Z",
     "shell.execute_reply": "2024-07-04T09:17:22.937916Z"
    },
    "papermill": {
     "duration": 0.025818,
     "end_time": "2024-07-04T09:17:22.942354",
     "exception": false,
     "start_time": "2024-07-04T09:17:22.916536",
     "status": "completed"
    },
    "tags": []
   },
   "outputs": [
    {
     "data": {
      "text/plain": [
       "LeveneResult(statistic=1.1169212722022501, pvalue=0.29079417684064907)"
      ]
     },
     "execution_count": 15,
     "metadata": {},
     "output_type": "execute_result"
    }
   ],
   "source": [
    "levene1 = levene(groupN,groupY)\n",
    "levene1"
   ]
  },
  {
   "cell_type": "code",
   "execution_count": 16,
   "id": "62cc8102",
   "metadata": {
    "execution": {
     "iopub.execute_input": "2024-07-04T09:17:22.968528Z",
     "iopub.status.busy": "2024-07-04T09:17:22.968064Z",
     "iopub.status.idle": "2024-07-04T09:17:22.978252Z",
     "shell.execute_reply": "2024-07-04T09:17:22.976806Z"
    },
    "papermill": {
     "duration": 0.026341,
     "end_time": "2024-07-04T09:17:22.980870",
     "exception": false,
     "start_time": "2024-07-04T09:17:22.954529",
     "status": "completed"
    },
    "tags": []
   },
   "outputs": [
    {
     "name": "stdout",
     "output_type": "stream",
     "text": [
      "H0 is acceptible and variances are equal in lnpose_YN and Time\n"
     ]
    }
   ],
   "source": [
    "if levene1.pvalue > 0.05 :\n",
    "    t_statistics , p_value = stats.ttest_ind(groupN,groupY,equal_var=True)\n",
    "    print('H0 is acceptible and variances are equal in lnpose_YN and Time')\n",
    "else:\n",
    "    t_statistics , p_value = stats.ttest_ind(groupN,groupY, equal_var=False)\n",
    "    print('H1 is acceptible and variances are not equal in lnpose_YN and Time')"
   ]
  },
  {
   "cell_type": "code",
   "execution_count": 17,
   "id": "d56a58b7",
   "metadata": {
    "execution": {
     "iopub.execute_input": "2024-07-04T09:17:23.007285Z",
     "iopub.status.busy": "2024-07-04T09:17:23.006876Z",
     "iopub.status.idle": "2024-07-04T09:17:23.015798Z",
     "shell.execute_reply": "2024-07-04T09:17:23.014655Z"
    },
    "papermill": {
     "duration": 0.025046,
     "end_time": "2024-07-04T09:17:23.018371",
     "exception": false,
     "start_time": "2024-07-04T09:17:22.993325",
     "status": "completed"
    },
    "tags": []
   },
   "outputs": [
    {
     "data": {
      "text/plain": [
       "array(['<= 2', '2 <  <= 5', '> 5'], dtype=object)"
      ]
     },
     "execution_count": 17,
     "metadata": {},
     "output_type": "execute_result"
    }
   ],
   "source": [
    "pathsize_groups = df['pathsize_Cat'].dropna().unique()\n",
    "pathsize_groups"
   ]
  },
  {
   "cell_type": "code",
   "execution_count": 18,
   "id": "3206aa0d",
   "metadata": {
    "execution": {
     "iopub.execute_input": "2024-07-04T09:17:23.044101Z",
     "iopub.status.busy": "2024-07-04T09:17:23.043722Z",
     "iopub.status.idle": "2024-07-04T09:17:23.074070Z",
     "shell.execute_reply": "2024-07-04T09:17:23.072641Z"
    },
    "papermill": {
     "duration": 0.046434,
     "end_time": "2024-07-04T09:17:23.076835",
     "exception": false,
     "start_time": "2024-07-04T09:17:23.030401",
     "status": "completed"
    },
    "tags": []
   },
   "outputs": [
    {
     "data": {
      "text/html": [
       "<div>\n",
       "<style scoped>\n",
       "    .dataframe tbody tr th:only-of-type {\n",
       "        vertical-align: middle;\n",
       "    }\n",
       "\n",
       "    .dataframe tbody tr th {\n",
       "        vertical-align: top;\n",
       "    }\n",
       "\n",
       "    .dataframe thead th {\n",
       "        text-align: right;\n",
       "    }\n",
       "</style>\n",
       "<table border=\"1\" class=\"dataframe\">\n",
       "  <thead>\n",
       "    <tr style=\"text-align: right;\">\n",
       "      <th></th>\n",
       "      <th>id</th>\n",
       "      <th>age</th>\n",
       "      <th>pathsize</th>\n",
       "      <th>lnpos</th>\n",
       "      <th>histgrad</th>\n",
       "      <th>er</th>\n",
       "      <th>pr</th>\n",
       "      <th>status</th>\n",
       "      <th>time</th>\n",
       "      <th>lnpos_YN</th>\n",
       "      <th>pathsize_Cat</th>\n",
       "    </tr>\n",
       "  </thead>\n",
       "  <tbody>\n",
       "    <tr>\n",
       "      <th>86</th>\n",
       "      <td>14.0</td>\n",
       "      <td>44.0</td>\n",
       "      <td>0.10</td>\n",
       "      <td>1.0</td>\n",
       "      <td>NaN</td>\n",
       "      <td>NaN</td>\n",
       "      <td>NaN</td>\n",
       "      <td>0.0</td>\n",
       "      <td>108.900000</td>\n",
       "      <td>Yes</td>\n",
       "      <td>&lt;= 2</td>\n",
       "    </tr>\n",
       "    <tr>\n",
       "      <th>87</th>\n",
       "      <td>15.0</td>\n",
       "      <td>60.0</td>\n",
       "      <td>0.15</td>\n",
       "      <td>0.0</td>\n",
       "      <td>1.0</td>\n",
       "      <td>1.0</td>\n",
       "      <td>1.0</td>\n",
       "      <td>0.0</td>\n",
       "      <td>16.366667</td>\n",
       "      <td>No</td>\n",
       "      <td>&lt;= 2</td>\n",
       "    </tr>\n",
       "    <tr>\n",
       "      <th>88</th>\n",
       "      <td>16.0</td>\n",
       "      <td>49.0</td>\n",
       "      <td>0.20</td>\n",
       "      <td>0.0</td>\n",
       "      <td>1.0</td>\n",
       "      <td>NaN</td>\n",
       "      <td>NaN</td>\n",
       "      <td>0.0</td>\n",
       "      <td>94.333333</td>\n",
       "      <td>No</td>\n",
       "      <td>&lt;= 2</td>\n",
       "    </tr>\n",
       "    <tr>\n",
       "      <th>89</th>\n",
       "      <td>17.0</td>\n",
       "      <td>41.0</td>\n",
       "      <td>0.20</td>\n",
       "      <td>0.0</td>\n",
       "      <td>1.0</td>\n",
       "      <td>NaN</td>\n",
       "      <td>NaN</td>\n",
       "      <td>0.0</td>\n",
       "      <td>87.500000</td>\n",
       "      <td>No</td>\n",
       "      <td>&lt;= 2</td>\n",
       "    </tr>\n",
       "    <tr>\n",
       "      <th>90</th>\n",
       "      <td>18.0</td>\n",
       "      <td>39.0</td>\n",
       "      <td>0.26</td>\n",
       "      <td>0.0</td>\n",
       "      <td>2.0</td>\n",
       "      <td>NaN</td>\n",
       "      <td>NaN</td>\n",
       "      <td>0.0</td>\n",
       "      <td>73.033333</td>\n",
       "      <td>No</td>\n",
       "      <td>&lt;= 2</td>\n",
       "    </tr>\n",
       "    <tr>\n",
       "      <th>...</th>\n",
       "      <td>...</td>\n",
       "      <td>...</td>\n",
       "      <td>...</td>\n",
       "      <td>...</td>\n",
       "      <td>...</td>\n",
       "      <td>...</td>\n",
       "      <td>...</td>\n",
       "      <td>...</td>\n",
       "      <td>...</td>\n",
       "      <td>...</td>\n",
       "      <td>...</td>\n",
       "    </tr>\n",
       "    <tr>\n",
       "      <th>907</th>\n",
       "      <td>1249.0</td>\n",
       "      <td>38.0</td>\n",
       "      <td>2.00</td>\n",
       "      <td>0.0</td>\n",
       "      <td>2.0</td>\n",
       "      <td>NaN</td>\n",
       "      <td>NaN</td>\n",
       "      <td>1.0</td>\n",
       "      <td>25.433333</td>\n",
       "      <td>No</td>\n",
       "      <td>&lt;= 2</td>\n",
       "    </tr>\n",
       "    <tr>\n",
       "      <th>908</th>\n",
       "      <td>1252.0</td>\n",
       "      <td>29.0</td>\n",
       "      <td>1.50</td>\n",
       "      <td>1.0</td>\n",
       "      <td>3.0</td>\n",
       "      <td>NaN</td>\n",
       "      <td>0.0</td>\n",
       "      <td>0.0</td>\n",
       "      <td>35.666667</td>\n",
       "      <td>Yes</td>\n",
       "      <td>&lt;= 2</td>\n",
       "    </tr>\n",
       "    <tr>\n",
       "      <th>909</th>\n",
       "      <td>1256.0</td>\n",
       "      <td>59.0</td>\n",
       "      <td>1.20</td>\n",
       "      <td>0.0</td>\n",
       "      <td>NaN</td>\n",
       "      <td>1.0</td>\n",
       "      <td>0.0</td>\n",
       "      <td>0.0</td>\n",
       "      <td>133.800000</td>\n",
       "      <td>No</td>\n",
       "      <td>&lt;= 2</td>\n",
       "    </tr>\n",
       "    <tr>\n",
       "      <th>910</th>\n",
       "      <td>1261.0</td>\n",
       "      <td>41.0</td>\n",
       "      <td>1.20</td>\n",
       "      <td>0.0</td>\n",
       "      <td>2.0</td>\n",
       "      <td>1.0</td>\n",
       "      <td>1.0</td>\n",
       "      <td>0.0</td>\n",
       "      <td>90.166667</td>\n",
       "      <td>No</td>\n",
       "      <td>&lt;= 2</td>\n",
       "    </tr>\n",
       "    <tr>\n",
       "      <th>911</th>\n",
       "      <td>1262.0</td>\n",
       "      <td>71.0</td>\n",
       "      <td>1.60</td>\n",
       "      <td>0.0</td>\n",
       "      <td>3.0</td>\n",
       "      <td>0.0</td>\n",
       "      <td>0.0</td>\n",
       "      <td>0.0</td>\n",
       "      <td>22.566667</td>\n",
       "      <td>No</td>\n",
       "      <td>&lt;= 2</td>\n",
       "    </tr>\n",
       "  </tbody>\n",
       "</table>\n",
       "<p>826 rows × 11 columns</p>\n",
       "</div>"
      ],
      "text/plain": [
       "         id   age  pathsize  lnpos  histgrad   er   pr  status        time  \\\n",
       "86     14.0  44.0      0.10    1.0       NaN  NaN  NaN     0.0  108.900000   \n",
       "87     15.0  60.0      0.15    0.0       1.0  1.0  1.0     0.0   16.366667   \n",
       "88     16.0  49.0      0.20    0.0       1.0  NaN  NaN     0.0   94.333333   \n",
       "89     17.0  41.0      0.20    0.0       1.0  NaN  NaN     0.0   87.500000   \n",
       "90     18.0  39.0      0.26    0.0       2.0  NaN  NaN     0.0   73.033333   \n",
       "..      ...   ...       ...    ...       ...  ...  ...     ...         ...   \n",
       "907  1249.0  38.0      2.00    0.0       2.0  NaN  NaN     1.0   25.433333   \n",
       "908  1252.0  29.0      1.50    1.0       3.0  NaN  0.0     0.0   35.666667   \n",
       "909  1256.0  59.0      1.20    0.0       NaN  1.0  0.0     0.0  133.800000   \n",
       "910  1261.0  41.0      1.20    0.0       2.0  1.0  1.0     0.0   90.166667   \n",
       "911  1262.0  71.0      1.60    0.0       3.0  0.0  0.0     0.0   22.566667   \n",
       "\n",
       "    lnpos_YN pathsize_Cat  \n",
       "86       Yes         <= 2  \n",
       "87        No         <= 2  \n",
       "88        No         <= 2  \n",
       "89        No         <= 2  \n",
       "90        No         <= 2  \n",
       "..       ...          ...  \n",
       "907       No         <= 2  \n",
       "908      Yes         <= 2  \n",
       "909       No         <= 2  \n",
       "910       No         <= 2  \n",
       "911       No         <= 2  \n",
       "\n",
       "[826 rows x 11 columns]"
      ]
     },
     "execution_count": 18,
     "metadata": {},
     "output_type": "execute_result"
    }
   ],
   "source": [
    "df[df['pathsize_Cat'] == pathsize_groups[0]]"
   ]
  },
  {
   "cell_type": "code",
   "execution_count": 19,
   "id": "9f4d53fe",
   "metadata": {
    "execution": {
     "iopub.execute_input": "2024-07-04T09:17:23.103650Z",
     "iopub.status.busy": "2024-07-04T09:17:23.103244Z",
     "iopub.status.idle": "2024-07-04T09:17:23.116036Z",
     "shell.execute_reply": "2024-07-04T09:17:23.114883Z"
    },
    "papermill": {
     "duration": 0.02927,
     "end_time": "2024-07-04T09:17:23.118590",
     "exception": false,
     "start_time": "2024-07-04T09:17:23.089320",
     "status": "completed"
    },
    "tags": []
   },
   "outputs": [],
   "source": [
    "for level, group in df.groupby('pathsize_Cat'):\n",
    "     groupN = group[group['lnpos_YN'] == 'No']['time']\n",
    "     groupY = group[group['lnpos_YN'] == 'Yes']['time']\n",
    " "
   ]
  },
  {
   "cell_type": "code",
   "execution_count": 20,
   "id": "203493e4",
   "metadata": {
    "execution": {
     "iopub.execute_input": "2024-07-04T09:17:23.144884Z",
     "iopub.status.busy": "2024-07-04T09:17:23.144486Z",
     "iopub.status.idle": "2024-07-04T09:17:23.157834Z",
     "shell.execute_reply": "2024-07-04T09:17:23.156338Z"
    },
    "papermill": {
     "duration": 0.029426,
     "end_time": "2024-07-04T09:17:23.160360",
     "exception": false,
     "start_time": "2024-07-04T09:17:23.130934",
     "status": "completed"
    },
    "tags": []
   },
   "outputs": [
    {
     "name": "stdout",
     "output_type": "stream",
     "text": [
      "Shapiro test for pathsize_Cat group1: ShapiroResult(statistic=0.9486790895462036, pvalue=0.7078753113746643)\n",
      "Shapiro test for pathsize_Cat group2: ShapiroResult(statistic=0.9288694262504578, pvalue=0.5058420300483704)\n",
      "Levene test for pathsize_Cat: LeveneResult(statistic=0.05583725989193762, pvalue=0.8179702620924999)\n",
      "T-Test for pathsize_Cat: t_statistic = -0.3014836920469003, p_value = 0.7692217601243535\n"
     ]
    }
   ],
   "source": [
    "shapiro_pathsize_group1 = shapiro(groupN)\n",
    "shapiro_pathsize_group2 = shapiro(groupY)\n",
    "\n",
    "# Check homogeneity of variances for pathsize_Cat groups\n",
    "levene_pathsize = levene(groupN, groupY)\n",
    "\n",
    "# Perform pairwise t-tests based on Levene's test result\n",
    "if levene_pathsize.pvalue > 0.05:\n",
    "    # Use equal variances\n",
    "    t_statistic_1, p_value_1 = stats.ttest_ind(groupN, groupY, equal_var=True)\n",
    "else:\n",
    "    # Use unequal variances\n",
    "    t_statistic_1, p_value_1 = stats.ttest_ind(groupN, groupY, equal_var=False)\n",
    "\n",
    "# Print results\n",
    "\n",
    "\n",
    "print(f'Shapiro test for pathsize_Cat group1: {shapiro_pathsize_group1}')\n",
    "print(f'Shapiro test for pathsize_Cat group2: {shapiro_pathsize_group2}')\n",
    "print(f'Levene test for pathsize_Cat: {levene_pathsize}')\n",
    "print(f'T-Test for pathsize_Cat: t_statistic = {t_statistic_1}, p_value = {p_value_1}')"
   ]
  },
  {
   "cell_type": "code",
   "execution_count": null,
   "id": "deda3964",
   "metadata": {
    "papermill": {
     "duration": 0.012249,
     "end_time": "2024-07-04T09:17:23.185804",
     "exception": false,
     "start_time": "2024-07-04T09:17:23.173555",
     "status": "completed"
    },
    "tags": []
   },
   "outputs": [],
   "source": []
  }
 ],
 "metadata": {
  "kaggle": {
   "accelerator": "none",
   "dataSources": [
    {
     "datasetId": 5211930,
     "sourceId": 8691661,
     "sourceType": "datasetVersion"
    }
   ],
   "dockerImageVersionId": 30732,
   "isGpuEnabled": false,
   "isInternetEnabled": true,
   "language": "python",
   "sourceType": "notebook"
  },
  "kernelspec": {
   "display_name": "Python 3",
   "language": "python",
   "name": "python3"
  },
  "language_info": {
   "codemirror_mode": {
    "name": "ipython",
    "version": 3
   },
   "file_extension": ".py",
   "mimetype": "text/x-python",
   "name": "python",
   "nbconvert_exporter": "python",
   "pygments_lexer": "ipython3",
   "version": "3.10.13"
  },
  "papermill": {
   "default_parameters": {},
   "duration": 7.38668,
   "end_time": "2024-07-04T09:17:23.820867",
   "environment_variables": {},
   "exception": null,
   "input_path": "__notebook__.ipynb",
   "output_path": "__notebook__.ipynb",
   "parameters": {},
   "start_time": "2024-07-04T09:17:16.434187",
   "version": "2.5.0"
  }
 },
 "nbformat": 4,
 "nbformat_minor": 5
}
