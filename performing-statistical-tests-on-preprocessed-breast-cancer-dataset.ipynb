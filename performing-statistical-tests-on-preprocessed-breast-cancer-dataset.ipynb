{
 "cells": [
  {
   "cell_type": "markdown",
   "id": "d11eb384",
   "metadata": {
    "papermill": {
     "duration": 0.016381,
     "end_time": "2024-07-16T08:55:58.162720",
     "exception": false,
     "start_time": "2024-07-16T08:55:58.146339",
     "status": "completed"
    },
    "tags": []
   },
   "source": [
    "## In this notebook, we will perform some statistical tests on preprocessed breast cancer dataset"
   ]
  },
  {
   "cell_type": "code",
   "execution_count": 1,
   "id": "9ca2934d",
   "metadata": {
    "execution": {
     "iopub.execute_input": "2024-07-16T08:55:58.194946Z",
     "iopub.status.busy": "2024-07-16T08:55:58.194294Z",
     "iopub.status.idle": "2024-07-16T08:56:00.253535Z",
     "shell.execute_reply": "2024-07-16T08:56:00.252559Z"
    },
    "papermill": {
     "duration": 2.078503,
     "end_time": "2024-07-16T08:56:00.256383",
     "exception": false,
     "start_time": "2024-07-16T08:55:58.177880",
     "status": "completed"
    },
    "tags": []
   },
   "outputs": [],
   "source": [
    "# import necessary libraries\n",
    "import pandas as pd\n",
    "import numpy as np\n",
    "import scipy.stats as stats\n",
    "from scipy.stats import norm, shapiro, levene"
   ]
  },
  {
   "cell_type": "code",
   "execution_count": 2,
   "id": "7f7294f5",
   "metadata": {
    "execution": {
     "iopub.execute_input": "2024-07-16T08:56:00.288960Z",
     "iopub.status.busy": "2024-07-16T08:56:00.288418Z",
     "iopub.status.idle": "2024-07-16T08:56:00.315428Z",
     "shell.execute_reply": "2024-07-16T08:56:00.314258Z"
    },
    "papermill": {
     "duration": 0.046392,
     "end_time": "2024-07-16T08:56:00.318098",
     "exception": false,
     "start_time": "2024-07-16T08:56:00.271706",
     "status": "completed"
    },
    "tags": []
   },
   "outputs": [],
   "source": [
    "# Load the dataset\n",
    "file_path = '/kaggle/input/breastcancer-preprocessed/BreastCancer-Preprocessed.csv'\n",
    "df = pd.read_csv(file_path)"
   ]
  },
  {
   "cell_type": "markdown",
   "id": "a812f730",
   "metadata": {
    "papermill": {
     "duration": 0.014602,
     "end_time": "2024-07-16T08:56:00.347434",
     "exception": false,
     "start_time": "2024-07-16T08:56:00.332832",
     "status": "completed"
    },
    "tags": []
   },
   "source": [
    "##  Display the first few rows of the dataset to understand its structure"
   ]
  },
  {
   "cell_type": "code",
   "execution_count": 3,
   "id": "f2939126",
   "metadata": {
    "execution": {
     "iopub.execute_input": "2024-07-16T08:56:00.379199Z",
     "iopub.status.busy": "2024-07-16T08:56:00.378736Z",
     "iopub.status.idle": "2024-07-16T08:56:00.412081Z",
     "shell.execute_reply": "2024-07-16T08:56:00.410919Z"
    },
    "papermill": {
     "duration": 0.052809,
     "end_time": "2024-07-16T08:56:00.414895",
     "exception": false,
     "start_time": "2024-07-16T08:56:00.362086",
     "status": "completed"
    },
    "tags": []
   },
   "outputs": [
    {
     "data": {
      "text/html": [
       "<div>\n",
       "<style scoped>\n",
       "    .dataframe tbody tr th:only-of-type {\n",
       "        vertical-align: middle;\n",
       "    }\n",
       "\n",
       "    .dataframe tbody tr th {\n",
       "        vertical-align: top;\n",
       "    }\n",
       "\n",
       "    .dataframe thead th {\n",
       "        text-align: right;\n",
       "    }\n",
       "</style>\n",
       "<table border=\"1\" class=\"dataframe\">\n",
       "  <thead>\n",
       "    <tr style=\"text-align: right;\">\n",
       "      <th></th>\n",
       "      <th>id</th>\n",
       "      <th>age</th>\n",
       "      <th>pathsize</th>\n",
       "      <th>lnpos</th>\n",
       "      <th>histgrad</th>\n",
       "      <th>er</th>\n",
       "      <th>pr</th>\n",
       "      <th>status</th>\n",
       "      <th>time</th>\n",
       "      <th>lnpos_YN</th>\n",
       "      <th>pathsize_Cat</th>\n",
       "    </tr>\n",
       "  </thead>\n",
       "  <tbody>\n",
       "    <tr>\n",
       "      <th>0</th>\n",
       "      <td>1.0</td>\n",
       "      <td>60.0</td>\n",
       "      <td>NaN</td>\n",
       "      <td>0.0</td>\n",
       "      <td>3.0</td>\n",
       "      <td>0.0</td>\n",
       "      <td>0.0</td>\n",
       "      <td>0.0</td>\n",
       "      <td>9.466667</td>\n",
       "      <td>No</td>\n",
       "      <td>NaN</td>\n",
       "    </tr>\n",
       "    <tr>\n",
       "      <th>1</th>\n",
       "      <td>2.0</td>\n",
       "      <td>79.0</td>\n",
       "      <td>NaN</td>\n",
       "      <td>0.0</td>\n",
       "      <td>NaN</td>\n",
       "      <td>NaN</td>\n",
       "      <td>NaN</td>\n",
       "      <td>0.0</td>\n",
       "      <td>8.600000</td>\n",
       "      <td>No</td>\n",
       "      <td>NaN</td>\n",
       "    </tr>\n",
       "    <tr>\n",
       "      <th>2</th>\n",
       "      <td>3.0</td>\n",
       "      <td>82.0</td>\n",
       "      <td>NaN</td>\n",
       "      <td>0.0</td>\n",
       "      <td>2.0</td>\n",
       "      <td>NaN</td>\n",
       "      <td>NaN</td>\n",
       "      <td>0.0</td>\n",
       "      <td>19.333333</td>\n",
       "      <td>No</td>\n",
       "      <td>NaN</td>\n",
       "    </tr>\n",
       "    <tr>\n",
       "      <th>3</th>\n",
       "      <td>4.0</td>\n",
       "      <td>66.0</td>\n",
       "      <td>NaN</td>\n",
       "      <td>0.0</td>\n",
       "      <td>2.0</td>\n",
       "      <td>1.0</td>\n",
       "      <td>1.0</td>\n",
       "      <td>0.0</td>\n",
       "      <td>16.333333</td>\n",
       "      <td>No</td>\n",
       "      <td>NaN</td>\n",
       "    </tr>\n",
       "    <tr>\n",
       "      <th>4</th>\n",
       "      <td>5.0</td>\n",
       "      <td>52.0</td>\n",
       "      <td>NaN</td>\n",
       "      <td>0.0</td>\n",
       "      <td>3.0</td>\n",
       "      <td>NaN</td>\n",
       "      <td>NaN</td>\n",
       "      <td>0.0</td>\n",
       "      <td>8.500000</td>\n",
       "      <td>No</td>\n",
       "      <td>NaN</td>\n",
       "    </tr>\n",
       "  </tbody>\n",
       "</table>\n",
       "</div>"
      ],
      "text/plain": [
       "    id   age  pathsize  lnpos  histgrad   er   pr  status       time lnpos_YN  \\\n",
       "0  1.0  60.0       NaN    0.0       3.0  0.0  0.0     0.0   9.466667       No   \n",
       "1  2.0  79.0       NaN    0.0       NaN  NaN  NaN     0.0   8.600000       No   \n",
       "2  3.0  82.0       NaN    0.0       2.0  NaN  NaN     0.0  19.333333       No   \n",
       "3  4.0  66.0       NaN    0.0       2.0  1.0  1.0     0.0  16.333333       No   \n",
       "4  5.0  52.0       NaN    0.0       3.0  NaN  NaN     0.0   8.500000       No   \n",
       "\n",
       "  pathsize_Cat  \n",
       "0          NaN  \n",
       "1          NaN  \n",
       "2          NaN  \n",
       "3          NaN  \n",
       "4          NaN  "
      ]
     },
     "execution_count": 3,
     "metadata": {},
     "output_type": "execute_result"
    }
   ],
   "source": [
    "df.head()"
   ]
  },
  {
   "cell_type": "markdown",
   "id": "ee74f122",
   "metadata": {
    "papermill": {
     "duration": 0.014882,
     "end_time": "2024-07-16T08:56:00.445078",
     "exception": false,
     "start_time": "2024-07-16T08:56:00.430196",
     "status": "completed"
    },
    "tags": []
   },
   "source": [
    "## Understanding the Variables\n",
    "\n",
    "The `lnpos_YN` and `status` are categorical variables that we want to test for independence.\n",
    "Let's take a look at the unique values in these columns."
   ]
  },
  {
   "cell_type": "code",
   "execution_count": 4,
   "id": "04092015",
   "metadata": {
    "execution": {
     "iopub.execute_input": "2024-07-16T08:56:00.478216Z",
     "iopub.status.busy": "2024-07-16T08:56:00.477348Z",
     "iopub.status.idle": "2024-07-16T08:56:00.488698Z",
     "shell.execute_reply": "2024-07-16T08:56:00.487391Z"
    },
    "papermill": {
     "duration": 0.030466,
     "end_time": "2024-07-16T08:56:00.491251",
     "exception": false,
     "start_time": "2024-07-16T08:56:00.460785",
     "status": "completed"
    },
    "tags": []
   },
   "outputs": [
    {
     "name": "stdout",
     "output_type": "stream",
     "text": [
      "Unique values in 'lnpos_YN': ['No' 'Yes']\n",
      "Unique values in 'status': [0. 1.]\n"
     ]
    }
   ],
   "source": [
    "# Check the unique values in 'lnpos_YN' and 'status'\n",
    "print(\"Unique values in 'lnpos_YN':\", df['lnpos_YN'].unique())\n",
    "print(\"Unique values in 'status':\", df['status'].unique())\n"
   ]
  },
  {
   "cell_type": "markdown",
   "id": "e6bc8c68",
   "metadata": {
    "papermill": {
     "duration": 0.014992,
     "end_time": "2024-07-16T08:56:00.521692",
     "exception": false,
     "start_time": "2024-07-16T08:56:00.506700",
     "status": "completed"
    },
    "tags": []
   },
   "source": [
    "## Creating a Contingency Table\n",
    "\n",
    "We will create a contingency table to summarize the relationship between the two categorical variables."
   ]
  },
  {
   "cell_type": "code",
   "execution_count": 5,
   "id": "fc0b3eb5",
   "metadata": {
    "execution": {
     "iopub.execute_input": "2024-07-16T08:56:00.553747Z",
     "iopub.status.busy": "2024-07-16T08:56:00.553340Z",
     "iopub.status.idle": "2024-07-16T08:56:00.589632Z",
     "shell.execute_reply": "2024-07-16T08:56:00.588509Z"
    },
    "papermill": {
     "duration": 0.055366,
     "end_time": "2024-07-16T08:56:00.592165",
     "exception": false,
     "start_time": "2024-07-16T08:56:00.536799",
     "status": "completed"
    },
    "tags": []
   },
   "outputs": [
    {
     "data": {
      "text/html": [
       "<div>\n",
       "<style scoped>\n",
       "    .dataframe tbody tr th:only-of-type {\n",
       "        vertical-align: middle;\n",
       "    }\n",
       "\n",
       "    .dataframe tbody tr th {\n",
       "        vertical-align: top;\n",
       "    }\n",
       "\n",
       "    .dataframe thead th {\n",
       "        text-align: right;\n",
       "    }\n",
       "</style>\n",
       "<table border=\"1\" class=\"dataframe\">\n",
       "  <thead>\n",
       "    <tr style=\"text-align: right;\">\n",
       "      <th>status</th>\n",
       "      <th>0.0</th>\n",
       "      <th>1.0</th>\n",
       "    </tr>\n",
       "    <tr>\n",
       "      <th>lnpos_YN</th>\n",
       "      <th></th>\n",
       "      <th></th>\n",
       "    </tr>\n",
       "  </thead>\n",
       "  <tbody>\n",
       "    <tr>\n",
       "      <th>No</th>\n",
       "      <td>887</td>\n",
       "      <td>42</td>\n",
       "    </tr>\n",
       "    <tr>\n",
       "      <th>Yes</th>\n",
       "      <td>248</td>\n",
       "      <td>30</td>\n",
       "    </tr>\n",
       "  </tbody>\n",
       "</table>\n",
       "</div>"
      ],
      "text/plain": [
       "status    0.0  1.0\n",
       "lnpos_YN          \n",
       "No        887   42\n",
       "Yes       248   30"
      ]
     },
     "execution_count": 5,
     "metadata": {},
     "output_type": "execute_result"
    }
   ],
   "source": [
    "# Create a contingency table\n",
    "contingency_table = pd.crosstab(df['lnpos_YN'], df['status'])\n",
    "contingency_table\n"
   ]
  },
  {
   "cell_type": "code",
   "execution_count": 6,
   "id": "ea172007",
   "metadata": {
    "execution": {
     "iopub.execute_input": "2024-07-16T08:56:00.624983Z",
     "iopub.status.busy": "2024-07-16T08:56:00.624542Z",
     "iopub.status.idle": "2024-07-16T08:56:00.638801Z",
     "shell.execute_reply": "2024-07-16T08:56:00.637438Z"
    },
    "papermill": {
     "duration": 0.033544,
     "end_time": "2024-07-16T08:56:00.641360",
     "exception": false,
     "start_time": "2024-07-16T08:56:00.607816",
     "status": "completed"
    },
    "tags": []
   },
   "outputs": [
    {
     "data": {
      "text/html": [
       "<div>\n",
       "<style scoped>\n",
       "    .dataframe tbody tr th:only-of-type {\n",
       "        vertical-align: middle;\n",
       "    }\n",
       "\n",
       "    .dataframe tbody tr th {\n",
       "        vertical-align: top;\n",
       "    }\n",
       "\n",
       "    .dataframe thead th {\n",
       "        text-align: right;\n",
       "    }\n",
       "</style>\n",
       "<table border=\"1\" class=\"dataframe\">\n",
       "  <thead>\n",
       "    <tr style=\"text-align: right;\">\n",
       "      <th>status</th>\n",
       "      <th>0.0</th>\n",
       "      <th>1.0</th>\n",
       "    </tr>\n",
       "    <tr>\n",
       "      <th>lnpos_YN</th>\n",
       "      <th></th>\n",
       "      <th></th>\n",
       "    </tr>\n",
       "  </thead>\n",
       "  <tbody>\n",
       "    <tr>\n",
       "      <th>No</th>\n",
       "      <td>95.479010</td>\n",
       "      <td>4.520990</td>\n",
       "    </tr>\n",
       "    <tr>\n",
       "      <th>Yes</th>\n",
       "      <td>89.208633</td>\n",
       "      <td>10.791367</td>\n",
       "    </tr>\n",
       "  </tbody>\n",
       "</table>\n",
       "</div>"
      ],
      "text/plain": [
       "status          0.0        1.0\n",
       "lnpos_YN                      \n",
       "No        95.479010   4.520990\n",
       "Yes       89.208633  10.791367"
      ]
     },
     "execution_count": 6,
     "metadata": {},
     "output_type": "execute_result"
    }
   ],
   "source": [
    "# Calculate row-wise percentages\n",
    "row_percentage = contingency_table.apply(lambda x: x / x.sum() * 100, axis=1)\n",
    "row_percentage"
   ]
  },
  {
   "cell_type": "markdown",
   "id": "0e0a40c5",
   "metadata": {
    "papermill": {
     "duration": 0.015622,
     "end_time": "2024-07-16T08:56:00.672703",
     "exception": false,
     "start_time": "2024-07-16T08:56:00.657081",
     "status": "completed"
    },
    "tags": []
   },
   "source": [
    "## Performing the Chi-Square Test for Independence\n",
    "\n",
    "The Chi-Square Test for Independence will help us determine whether there is a significant association between `lnpos_YN` and `status`.\n"
   ]
  },
  {
   "cell_type": "code",
   "execution_count": 7,
   "id": "297b2e1b",
   "metadata": {
    "execution": {
     "iopub.execute_input": "2024-07-16T08:56:00.707206Z",
     "iopub.status.busy": "2024-07-16T08:56:00.706778Z",
     "iopub.status.idle": "2024-07-16T08:56:00.718069Z",
     "shell.execute_reply": "2024-07-16T08:56:00.716670Z"
    },
    "papermill": {
     "duration": 0.032048,
     "end_time": "2024-07-16T08:56:00.720839",
     "exception": false,
     "start_time": "2024-07-16T08:56:00.688791",
     "status": "completed"
    },
    "tags": []
   },
   "outputs": [
    {
     "name": "stdout",
     "output_type": "stream",
     "text": [
      "Chi-Square Statistic: 13.900758213995182\n",
      "***********************************\n",
      "p-value: 0.00019272070767964805\n",
      "***********************************\n",
      "Degrees of Freedom: 1\n",
      "***********************************\n",
      "Expected Frequencies Table:\n",
      " [[873.58326429  55.41673571]\n",
      " [261.41673571  16.58326429]]\n"
     ]
    }
   ],
   "source": [
    "# Perform the Chi-Square Test for Independence\n",
    "chi2, p, dof, expected = stats.chi2_contingency(contingency_table)\n",
    "\n",
    "print(\"Chi-Square Statistic:\", chi2)\n",
    "print(\"***********************************\")\n",
    "print(\"p-value:\", p)\n",
    "print(\"***********************************\")\n",
    "print(\"Degrees of Freedom:\", dof)\n",
    "print(\"***********************************\")\n",
    "print(\"Expected Frequencies Table:\\n\", expected)"
   ]
  },
  {
   "cell_type": "markdown",
   "id": "461e7d4f",
   "metadata": {
    "papermill": {
     "duration": 0.015689,
     "end_time": "2024-07-16T08:56:00.752438",
     "exception": false,
     "start_time": "2024-07-16T08:56:00.736749",
     "status": "completed"
    },
    "tags": []
   },
   "source": [
    "## Interpreting the Results\n",
    "\n",
    "- **Chi-Square Statistic**: A measure of how much the observed counts deviate from the expected counts.\n",
    "- **p-value**: The probability of obtaining a Chi-Square statistic at least as extreme as the one computed, assuming that the variables are independent.\n",
    "- **Degrees of Freedom**: Number of values that are free to vary given the constraints.\n",
    "- **Expected Frequencies Table**: The expected counts if the variables are truly independent.\n",
    "\n",
    "If the p-value is less than our significance level (typically 0.05), we reject the null hypothesis and conclude that there is a significant association between `lnpos_YN` and `status`.\n"
   ]
  },
  {
   "cell_type": "markdown",
   "id": "9d5e742f",
   "metadata": {
    "papermill": {
     "duration": 0.015563,
     "end_time": "2024-07-16T08:56:00.784327",
     "exception": false,
     "start_time": "2024-07-16T08:56:00.768764",
     "status": "completed"
    },
    "tags": []
   },
   "source": [
    "## Calculate the residuals"
   ]
  },
  {
   "cell_type": "code",
   "execution_count": 8,
   "id": "954831e1",
   "metadata": {
    "execution": {
     "iopub.execute_input": "2024-07-16T08:56:00.822665Z",
     "iopub.status.busy": "2024-07-16T08:56:00.822076Z",
     "iopub.status.idle": "2024-07-16T08:56:00.833482Z",
     "shell.execute_reply": "2024-07-16T08:56:00.829907Z"
    },
    "papermill": {
     "duration": 0.035746,
     "end_time": "2024-07-16T08:56:00.836130",
     "exception": false,
     "start_time": "2024-07-16T08:56:00.800384",
     "status": "completed"
    },
    "tags": []
   },
   "outputs": [
    {
     "name": "stdout",
     "output_type": "stream",
     "text": [
      "Residuals:\n",
      " status          0.0        1.0\n",
      "lnpos_YN                      \n",
      "No        13.416736 -13.416736\n",
      "Yes      -13.416736  13.416736\n"
     ]
    }
   ],
   "source": [
    "# Calculate the residuals\n",
    "residuals = (contingency_table - expected)\n",
    "print(\"Residuals:\\n\", residuals)"
   ]
  },
  {
   "cell_type": "markdown",
   "id": "0991c310",
   "metadata": {
    "papermill": {
     "duration": 0.016614,
     "end_time": "2024-07-16T08:56:00.875763",
     "exception": false,
     "start_time": "2024-07-16T08:56:00.859149",
     "status": "completed"
    },
    "tags": []
   },
   "source": [
    "## Interpreting the Residuals\n",
    "\n",
    "Residuals show the difference between observed and expected frequencies, standardized by the expected frequency. Large residuals indicate cells that contribute significantly to the Chi-Square statistic.\n"
   ]
  },
  {
   "cell_type": "markdown",
   "id": "449380bf",
   "metadata": {
    "papermill": {
     "duration": 0.015488,
     "end_time": "2024-07-16T08:56:00.907306",
     "exception": false,
     "start_time": "2024-07-16T08:56:00.891818",
     "status": "completed"
    },
    "tags": []
   },
   "source": [
    "## Calculating the Odds Ratio\n",
    "\n",
    "The odds ratio will provide a measure of association between the two categorical variables. Note that the odds ratio is only appropriate for 2x2 tables.\n"
   ]
  },
  {
   "cell_type": "code",
   "execution_count": 9,
   "id": "179ba89c",
   "metadata": {
    "execution": {
     "iopub.execute_input": "2024-07-16T08:56:00.941757Z",
     "iopub.status.busy": "2024-07-16T08:56:00.941321Z",
     "iopub.status.idle": "2024-07-16T08:56:00.953399Z",
     "shell.execute_reply": "2024-07-16T08:56:00.952159Z"
    },
    "papermill": {
     "duration": 0.033229,
     "end_time": "2024-07-16T08:56:00.956592",
     "exception": false,
     "start_time": "2024-07-16T08:56:00.923363",
     "status": "completed"
    },
    "tags": []
   },
   "outputs": [
    {
     "name": "stdout",
     "output_type": "stream",
     "text": [
      "Odds Ratio: 2.55\n",
      "95% Confidence Interval (CI): (1.5663, 4.1668)\n"
     ]
    }
   ],
   "source": [
    "   # Check if the table is 2x2\n",
    "if contingency_table.shape == (2, 2):\n",
    "    # Extract values from the contingency table\n",
    "    a = contingency_table.iloc[0, 0]\n",
    "    b = contingency_table.iloc[0, 1]\n",
    "    c = contingency_table.iloc[1, 0]\n",
    "    d = contingency_table.iloc[1, 1]\n",
    "    \n",
    "    # Calculate the Odds Ratio\n",
    "    odds_ratio = (a / b) / (c / d)\n",
    "    \n",
    "    log_OddsRatio = np.log(odds_ratio)\n",
    "    _log_or = np.sqrt(1/a + 1/b + 1/c + 1/d)\n",
    "    \n",
    "    # 95% Confidence interval for odds ratio\n",
    "    z = norm.ppf(0.975)\n",
    "    CI_lower = np.exp(log_OddsRatio - z * _log_or)\n",
    "    CI_upper = np.exp(log_OddsRatio + z * _log_or)\n",
    "    \n",
    "    # Output results\n",
    "    print(f\"Odds Ratio: {odds_ratio:.2f}\")\n",
    "    print(f\"95% Confidence Interval (CI): ({CI_lower:.4f}, {CI_upper:.4f})\")\n",
    "     "
   ]
  },
  {
   "cell_type": "markdown",
   "id": "b9812d8a",
   "metadata": {
    "papermill": {
     "duration": 0.020219,
     "end_time": "2024-07-16T08:56:00.999678",
     "exception": false,
     "start_time": "2024-07-16T08:56:00.979459",
     "status": "completed"
    },
    "tags": []
   },
   "source": [
    "## Interpreting the Results\n",
    "\n",
    "- **Odds Ratio**: Measure of association between the two variables, applicable for 2x2 tables.\n",
    "- **95% Confidence interval for odds ratio** : A confidence interval (CI) provides a range of values that is likely to contain the population parameter with a certain level of confidence (usually 95%). \n"
   ]
  },
  {
   "cell_type": "markdown",
   "id": "0efdb101",
   "metadata": {
    "papermill": {
     "duration": 0.015834,
     "end_time": "2024-07-16T08:56:01.031546",
     "exception": false,
     "start_time": "2024-07-16T08:56:01.015712",
     "status": "completed"
    },
    "tags": []
   },
   "source": [
    "## The Fisher Exact Test "
   ]
  },
  {
   "cell_type": "code",
   "execution_count": 10,
   "id": "394be969",
   "metadata": {
    "execution": {
     "iopub.execute_input": "2024-07-16T08:56:01.066571Z",
     "iopub.status.busy": "2024-07-16T08:56:01.066168Z",
     "iopub.status.idle": "2024-07-16T08:56:01.074774Z",
     "shell.execute_reply": "2024-07-16T08:56:01.073368Z"
    },
    "papermill": {
     "duration": 0.029367,
     "end_time": "2024-07-16T08:56:01.077555",
     "exception": false,
     "start_time": "2024-07-16T08:56:01.048188",
     "status": "completed"
    },
    "tags": []
   },
   "outputs": [
    {
     "name": "stdout",
     "output_type": "stream",
     "text": [
      "All expected frequencies are 5 or greater. Performing Chi-Square Test for Independence.\n"
     ]
    }
   ],
   "source": [
    "# Fisher is typically used when sample sizes are small, especially when the expected frequency in any of the cells of a contingency table is less than 5\n",
    "# Check if any expected frequency is less than 5\n",
    "\n",
    "if (expected < 5).any():\n",
    "    print(\"At least one expected frequency is less than 5. Performing Fisher Exact Test.\")\n",
    "    \n",
    "    # Fisher Exact Test can only be performed on 2x2 tables\n",
    "    if contingency_table.shape == (2, 2):\n",
    "        oddsratio, p_fisher = stats.fisher_exact(contingency_table)\n",
    "        print(\"Fisher Exact Test p-value:\", p_fisher)\n",
    "    else:\n",
    "        print(\"Fisher Exact Test is not applicable for tables larger than 2x2.\")\n",
    "else:\n",
    "    print(\"All expected frequencies are 5 or greater. Performing Chi-Square Test for Independence.\")\n"
   ]
  },
  {
   "cell_type": "markdown",
   "id": "d454088f",
   "metadata": {
    "papermill": {
     "duration": 0.017543,
     "end_time": "2024-07-16T08:56:01.112774",
     "exception": false,
     "start_time": "2024-07-16T08:56:01.095231",
     "status": "completed"
    },
    "tags": []
   },
   "source": [
    "## Independent t test"
   ]
  },
  {
   "cell_type": "code",
   "execution_count": 11,
   "id": "c4831c82",
   "metadata": {
    "execution": {
     "iopub.execute_input": "2024-07-16T08:56:01.157811Z",
     "iopub.status.busy": "2024-07-16T08:56:01.157366Z",
     "iopub.status.idle": "2024-07-16T08:56:01.169634Z",
     "shell.execute_reply": "2024-07-16T08:56:01.168281Z"
    },
    "papermill": {
     "duration": 0.04175,
     "end_time": "2024-07-16T08:56:01.172293",
     "exception": false,
     "start_time": "2024-07-16T08:56:01.130543",
     "status": "completed"
    },
    "tags": []
   },
   "outputs": [
    {
     "data": {
      "text/plain": [
       "lnpos_YN\n",
       "No     929\n",
       "Yes    278\n",
       "Name: count, dtype: int64"
      ]
     },
     "execution_count": 11,
     "metadata": {},
     "output_type": "execute_result"
    }
   ],
   "source": [
    "df.lnpos_YN.value_counts()\n"
   ]
  },
  {
   "cell_type": "code",
   "execution_count": 12,
   "id": "6eb90565",
   "metadata": {
    "execution": {
     "iopub.execute_input": "2024-07-16T08:56:01.270706Z",
     "iopub.status.busy": "2024-07-16T08:56:01.270165Z",
     "iopub.status.idle": "2024-07-16T08:56:01.283738Z",
     "shell.execute_reply": "2024-07-16T08:56:01.282438Z"
    },
    "papermill": {
     "duration": 0.034749,
     "end_time": "2024-07-16T08:56:01.286915",
     "exception": false,
     "start_time": "2024-07-16T08:56:01.252166",
     "status": "completed"
    },
    "tags": []
   },
   "outputs": [
    {
     "data": {
      "text/plain": [
       "8        27.633333\n",
       "9        11.133333\n",
       "10       11.066667\n",
       "20      107.800000\n",
       "27       48.666667\n",
       "           ...    \n",
       "1200     33.700000\n",
       "1201     32.366667\n",
       "1202      6.866667\n",
       "1204     15.166667\n",
       "1205     45.133333\n",
       "Name: time, Length: 278, dtype: float64"
      ]
     },
     "execution_count": 12,
     "metadata": {},
     "output_type": "execute_result"
    }
   ],
   "source": [
    "df[df['lnpos_YN'] == 'Yes']['time']"
   ]
  },
  {
   "cell_type": "code",
   "execution_count": 13,
   "id": "bbfa0aed",
   "metadata": {
    "execution": {
     "iopub.execute_input": "2024-07-16T08:56:01.332115Z",
     "iopub.status.busy": "2024-07-16T08:56:01.331718Z",
     "iopub.status.idle": "2024-07-16T08:56:01.340793Z",
     "shell.execute_reply": "2024-07-16T08:56:01.339512Z"
    },
    "papermill": {
     "duration": 0.034328,
     "end_time": "2024-07-16T08:56:01.343798",
     "exception": false,
     "start_time": "2024-07-16T08:56:01.309470",
     "status": "completed"
    },
    "tags": []
   },
   "outputs": [],
   "source": [
    "groupY =df[df['lnpos_YN'] == 'Yes']['time']\n",
    "groupN = df[df['lnpos_YN'] == 'No']['time']"
   ]
  },
  {
   "cell_type": "markdown",
   "id": "7c57ab14",
   "metadata": {
    "papermill": {
     "duration": 0.016508,
     "end_time": "2024-07-16T08:56:01.377079",
     "exception": false,
     "start_time": "2024-07-16T08:56:01.360571",
     "status": "completed"
    },
    "tags": []
   },
   "source": [
    "**Check normality**"
   ]
  },
  {
   "cell_type": "code",
   "execution_count": 14,
   "id": "9beb5926",
   "metadata": {
    "execution": {
     "iopub.execute_input": "2024-07-16T08:56:01.412569Z",
     "iopub.status.busy": "2024-07-16T08:56:01.412086Z",
     "iopub.status.idle": "2024-07-16T08:56:01.421731Z",
     "shell.execute_reply": "2024-07-16T08:56:01.420315Z"
    },
    "papermill": {
     "duration": 0.030936,
     "end_time": "2024-07-16T08:56:01.424466",
     "exception": false,
     "start_time": "2024-07-16T08:56:01.393530",
     "status": "completed"
    },
    "tags": []
   },
   "outputs": [
    {
     "name": "stdout",
     "output_type": "stream",
     "text": [
      "ShapiroResult(statistic=0.958610475063324, pvalue=1.531057368424826e-15)\n",
      "ShapiroResult(statistic=0.9339127540588379, pvalue=8.318342126223399e-10)\n"
     ]
    }
   ],
   "source": [
    "sh_lnpose_Y = stats.shapiro(groupY)\n",
    "sh_lnpose_N = stats.shapiro(groupN)\n",
    "print(sh_lnpose_N)\n",
    "print(sh_lnpose_Y)"
   ]
  },
  {
   "cell_type": "code",
   "execution_count": 15,
   "id": "db38c80d",
   "metadata": {
    "execution": {
     "iopub.execute_input": "2024-07-16T08:56:01.461118Z",
     "iopub.status.busy": "2024-07-16T08:56:01.460619Z",
     "iopub.status.idle": "2024-07-16T08:56:01.471098Z",
     "shell.execute_reply": "2024-07-16T08:56:01.469773Z"
    },
    "papermill": {
     "duration": 0.031569,
     "end_time": "2024-07-16T08:56:01.473615",
     "exception": false,
     "start_time": "2024-07-16T08:56:01.442046",
     "status": "completed"
    },
    "tags": []
   },
   "outputs": [
    {
     "data": {
      "text/plain": [
       "LeveneResult(statistic=1.1169212722022501, pvalue=0.29079417684064907)"
      ]
     },
     "execution_count": 15,
     "metadata": {},
     "output_type": "execute_result"
    }
   ],
   "source": [
    "levene1 = levene(groupN,groupY)\n",
    "levene1"
   ]
  },
  {
   "cell_type": "code",
   "execution_count": 16,
   "id": "56751a08",
   "metadata": {
    "execution": {
     "iopub.execute_input": "2024-07-16T08:56:01.510121Z",
     "iopub.status.busy": "2024-07-16T08:56:01.508989Z",
     "iopub.status.idle": "2024-07-16T08:56:01.520590Z",
     "shell.execute_reply": "2024-07-16T08:56:01.519280Z"
    },
    "papermill": {
     "duration": 0.03377,
     "end_time": "2024-07-16T08:56:01.524165",
     "exception": false,
     "start_time": "2024-07-16T08:56:01.490395",
     "status": "completed"
    },
    "tags": []
   },
   "outputs": [
    {
     "name": "stdout",
     "output_type": "stream",
     "text": [
      "H0 is acceptible and variances are equal in lnpose_YN and Time\n"
     ]
    }
   ],
   "source": [
    "if levene1.pvalue > 0.05 :\n",
    "    t_statistics , p_value = stats.ttest_ind(groupN,groupY,equal_var=True)\n",
    "    print('H0 is acceptible and variances are equal in lnpose_YN and Time')\n",
    "else:\n",
    "    t_statistics , p_value = stats.ttest_ind(groupN,groupY, equal_var=False)\n",
    "    print('H1 is acceptible and variances are not equal in lnpose_YN and Time')"
   ]
  },
  {
   "cell_type": "code",
   "execution_count": 17,
   "id": "c4e2fb9c",
   "metadata": {
    "execution": {
     "iopub.execute_input": "2024-07-16T08:56:01.561341Z",
     "iopub.status.busy": "2024-07-16T08:56:01.560862Z",
     "iopub.status.idle": "2024-07-16T08:56:01.570402Z",
     "shell.execute_reply": "2024-07-16T08:56:01.569211Z"
    },
    "papermill": {
     "duration": 0.031205,
     "end_time": "2024-07-16T08:56:01.573245",
     "exception": false,
     "start_time": "2024-07-16T08:56:01.542040",
     "status": "completed"
    },
    "tags": []
   },
   "outputs": [
    {
     "data": {
      "text/plain": [
       "array(['<= 2', '2 <  <= 5', '> 5'], dtype=object)"
      ]
     },
     "execution_count": 17,
     "metadata": {},
     "output_type": "execute_result"
    }
   ],
   "source": [
    "pathsize_groups = df['pathsize_Cat'].dropna().unique()\n",
    "pathsize_groups"
   ]
  },
  {
   "cell_type": "code",
   "execution_count": 18,
   "id": "bd3dbe44",
   "metadata": {
    "execution": {
     "iopub.execute_input": "2024-07-16T08:56:01.614477Z",
     "iopub.status.busy": "2024-07-16T08:56:01.614082Z",
     "iopub.status.idle": "2024-07-16T08:56:01.645821Z",
     "shell.execute_reply": "2024-07-16T08:56:01.644550Z"
    },
    "papermill": {
     "duration": 0.054425,
     "end_time": "2024-07-16T08:56:01.648834",
     "exception": false,
     "start_time": "2024-07-16T08:56:01.594409",
     "status": "completed"
    },
    "tags": []
   },
   "outputs": [
    {
     "data": {
      "text/html": [
       "<div>\n",
       "<style scoped>\n",
       "    .dataframe tbody tr th:only-of-type {\n",
       "        vertical-align: middle;\n",
       "    }\n",
       "\n",
       "    .dataframe tbody tr th {\n",
       "        vertical-align: top;\n",
       "    }\n",
       "\n",
       "    .dataframe thead th {\n",
       "        text-align: right;\n",
       "    }\n",
       "</style>\n",
       "<table border=\"1\" class=\"dataframe\">\n",
       "  <thead>\n",
       "    <tr style=\"text-align: right;\">\n",
       "      <th></th>\n",
       "      <th>id</th>\n",
       "      <th>age</th>\n",
       "      <th>pathsize</th>\n",
       "      <th>lnpos</th>\n",
       "      <th>histgrad</th>\n",
       "      <th>er</th>\n",
       "      <th>pr</th>\n",
       "      <th>status</th>\n",
       "      <th>time</th>\n",
       "      <th>lnpos_YN</th>\n",
       "      <th>pathsize_Cat</th>\n",
       "    </tr>\n",
       "  </thead>\n",
       "  <tbody>\n",
       "    <tr>\n",
       "      <th>86</th>\n",
       "      <td>14.0</td>\n",
       "      <td>44.0</td>\n",
       "      <td>0.10</td>\n",
       "      <td>1.0</td>\n",
       "      <td>NaN</td>\n",
       "      <td>NaN</td>\n",
       "      <td>NaN</td>\n",
       "      <td>0.0</td>\n",
       "      <td>108.900000</td>\n",
       "      <td>Yes</td>\n",
       "      <td>&lt;= 2</td>\n",
       "    </tr>\n",
       "    <tr>\n",
       "      <th>87</th>\n",
       "      <td>15.0</td>\n",
       "      <td>60.0</td>\n",
       "      <td>0.15</td>\n",
       "      <td>0.0</td>\n",
       "      <td>1.0</td>\n",
       "      <td>1.0</td>\n",
       "      <td>1.0</td>\n",
       "      <td>0.0</td>\n",
       "      <td>16.366667</td>\n",
       "      <td>No</td>\n",
       "      <td>&lt;= 2</td>\n",
       "    </tr>\n",
       "    <tr>\n",
       "      <th>88</th>\n",
       "      <td>16.0</td>\n",
       "      <td>49.0</td>\n",
       "      <td>0.20</td>\n",
       "      <td>0.0</td>\n",
       "      <td>1.0</td>\n",
       "      <td>NaN</td>\n",
       "      <td>NaN</td>\n",
       "      <td>0.0</td>\n",
       "      <td>94.333333</td>\n",
       "      <td>No</td>\n",
       "      <td>&lt;= 2</td>\n",
       "    </tr>\n",
       "    <tr>\n",
       "      <th>89</th>\n",
       "      <td>17.0</td>\n",
       "      <td>41.0</td>\n",
       "      <td>0.20</td>\n",
       "      <td>0.0</td>\n",
       "      <td>1.0</td>\n",
       "      <td>NaN</td>\n",
       "      <td>NaN</td>\n",
       "      <td>0.0</td>\n",
       "      <td>87.500000</td>\n",
       "      <td>No</td>\n",
       "      <td>&lt;= 2</td>\n",
       "    </tr>\n",
       "    <tr>\n",
       "      <th>90</th>\n",
       "      <td>18.0</td>\n",
       "      <td>39.0</td>\n",
       "      <td>0.26</td>\n",
       "      <td>0.0</td>\n",
       "      <td>2.0</td>\n",
       "      <td>NaN</td>\n",
       "      <td>NaN</td>\n",
       "      <td>0.0</td>\n",
       "      <td>73.033333</td>\n",
       "      <td>No</td>\n",
       "      <td>&lt;= 2</td>\n",
       "    </tr>\n",
       "    <tr>\n",
       "      <th>...</th>\n",
       "      <td>...</td>\n",
       "      <td>...</td>\n",
       "      <td>...</td>\n",
       "      <td>...</td>\n",
       "      <td>...</td>\n",
       "      <td>...</td>\n",
       "      <td>...</td>\n",
       "      <td>...</td>\n",
       "      <td>...</td>\n",
       "      <td>...</td>\n",
       "      <td>...</td>\n",
       "    </tr>\n",
       "    <tr>\n",
       "      <th>907</th>\n",
       "      <td>1249.0</td>\n",
       "      <td>38.0</td>\n",
       "      <td>2.00</td>\n",
       "      <td>0.0</td>\n",
       "      <td>2.0</td>\n",
       "      <td>NaN</td>\n",
       "      <td>NaN</td>\n",
       "      <td>1.0</td>\n",
       "      <td>25.433333</td>\n",
       "      <td>No</td>\n",
       "      <td>&lt;= 2</td>\n",
       "    </tr>\n",
       "    <tr>\n",
       "      <th>908</th>\n",
       "      <td>1252.0</td>\n",
       "      <td>29.0</td>\n",
       "      <td>1.50</td>\n",
       "      <td>1.0</td>\n",
       "      <td>3.0</td>\n",
       "      <td>NaN</td>\n",
       "      <td>0.0</td>\n",
       "      <td>0.0</td>\n",
       "      <td>35.666667</td>\n",
       "      <td>Yes</td>\n",
       "      <td>&lt;= 2</td>\n",
       "    </tr>\n",
       "    <tr>\n",
       "      <th>909</th>\n",
       "      <td>1256.0</td>\n",
       "      <td>59.0</td>\n",
       "      <td>1.20</td>\n",
       "      <td>0.0</td>\n",
       "      <td>NaN</td>\n",
       "      <td>1.0</td>\n",
       "      <td>0.0</td>\n",
       "      <td>0.0</td>\n",
       "      <td>133.800000</td>\n",
       "      <td>No</td>\n",
       "      <td>&lt;= 2</td>\n",
       "    </tr>\n",
       "    <tr>\n",
       "      <th>910</th>\n",
       "      <td>1261.0</td>\n",
       "      <td>41.0</td>\n",
       "      <td>1.20</td>\n",
       "      <td>0.0</td>\n",
       "      <td>2.0</td>\n",
       "      <td>1.0</td>\n",
       "      <td>1.0</td>\n",
       "      <td>0.0</td>\n",
       "      <td>90.166667</td>\n",
       "      <td>No</td>\n",
       "      <td>&lt;= 2</td>\n",
       "    </tr>\n",
       "    <tr>\n",
       "      <th>911</th>\n",
       "      <td>1262.0</td>\n",
       "      <td>71.0</td>\n",
       "      <td>1.60</td>\n",
       "      <td>0.0</td>\n",
       "      <td>3.0</td>\n",
       "      <td>0.0</td>\n",
       "      <td>0.0</td>\n",
       "      <td>0.0</td>\n",
       "      <td>22.566667</td>\n",
       "      <td>No</td>\n",
       "      <td>&lt;= 2</td>\n",
       "    </tr>\n",
       "  </tbody>\n",
       "</table>\n",
       "<p>826 rows × 11 columns</p>\n",
       "</div>"
      ],
      "text/plain": [
       "         id   age  pathsize  lnpos  histgrad   er   pr  status        time  \\\n",
       "86     14.0  44.0      0.10    1.0       NaN  NaN  NaN     0.0  108.900000   \n",
       "87     15.0  60.0      0.15    0.0       1.0  1.0  1.0     0.0   16.366667   \n",
       "88     16.0  49.0      0.20    0.0       1.0  NaN  NaN     0.0   94.333333   \n",
       "89     17.0  41.0      0.20    0.0       1.0  NaN  NaN     0.0   87.500000   \n",
       "90     18.0  39.0      0.26    0.0       2.0  NaN  NaN     0.0   73.033333   \n",
       "..      ...   ...       ...    ...       ...  ...  ...     ...         ...   \n",
       "907  1249.0  38.0      2.00    0.0       2.0  NaN  NaN     1.0   25.433333   \n",
       "908  1252.0  29.0      1.50    1.0       3.0  NaN  0.0     0.0   35.666667   \n",
       "909  1256.0  59.0      1.20    0.0       NaN  1.0  0.0     0.0  133.800000   \n",
       "910  1261.0  41.0      1.20    0.0       2.0  1.0  1.0     0.0   90.166667   \n",
       "911  1262.0  71.0      1.60    0.0       3.0  0.0  0.0     0.0   22.566667   \n",
       "\n",
       "    lnpos_YN pathsize_Cat  \n",
       "86       Yes         <= 2  \n",
       "87        No         <= 2  \n",
       "88        No         <= 2  \n",
       "89        No         <= 2  \n",
       "90        No         <= 2  \n",
       "..       ...          ...  \n",
       "907       No         <= 2  \n",
       "908      Yes         <= 2  \n",
       "909       No         <= 2  \n",
       "910       No         <= 2  \n",
       "911       No         <= 2  \n",
       "\n",
       "[826 rows x 11 columns]"
      ]
     },
     "execution_count": 18,
     "metadata": {},
     "output_type": "execute_result"
    }
   ],
   "source": [
    "df[df['pathsize_Cat'] == pathsize_groups[0]]"
   ]
  },
  {
   "cell_type": "code",
   "execution_count": 19,
   "id": "5f205a0b",
   "metadata": {
    "execution": {
     "iopub.execute_input": "2024-07-16T08:56:01.686379Z",
     "iopub.status.busy": "2024-07-16T08:56:01.685978Z",
     "iopub.status.idle": "2024-07-16T08:56:01.698679Z",
     "shell.execute_reply": "2024-07-16T08:56:01.697467Z"
    },
    "papermill": {
     "duration": 0.035144,
     "end_time": "2024-07-16T08:56:01.701523",
     "exception": false,
     "start_time": "2024-07-16T08:56:01.666379",
     "status": "completed"
    },
    "tags": []
   },
   "outputs": [],
   "source": [
    "for level, group in df.groupby('pathsize_Cat'):\n",
    "     groupN = group[group['lnpos_YN'] == 'No']['time']\n",
    "     groupY = group[group['lnpos_YN'] == 'Yes']['time']\n",
    " "
   ]
  },
  {
   "cell_type": "code",
   "execution_count": 20,
   "id": "83a8d6ac",
   "metadata": {
    "execution": {
     "iopub.execute_input": "2024-07-16T08:56:01.738768Z",
     "iopub.status.busy": "2024-07-16T08:56:01.738345Z",
     "iopub.status.idle": "2024-07-16T08:56:01.752462Z",
     "shell.execute_reply": "2024-07-16T08:56:01.750772Z"
    },
    "papermill": {
     "duration": 0.035864,
     "end_time": "2024-07-16T08:56:01.755131",
     "exception": false,
     "start_time": "2024-07-16T08:56:01.719267",
     "status": "completed"
    },
    "tags": []
   },
   "outputs": [
    {
     "name": "stdout",
     "output_type": "stream",
     "text": [
      "Shapiro test for pathsize_Cat group1: ShapiroResult(statistic=0.9486790895462036, pvalue=0.7078753113746643)\n",
      "Shapiro test for pathsize_Cat group2: ShapiroResult(statistic=0.9288694262504578, pvalue=0.5058420300483704)\n",
      "Levene test for pathsize_Cat: LeveneResult(statistic=0.05583725989193762, pvalue=0.8179702620924999)\n",
      "T-Test for pathsize_Cat: t_statistic = -0.3014836920469003, p_value = 0.7692217601243535\n"
     ]
    }
   ],
   "source": [
    "shapiro_pathsize_group1 = shapiro(groupN)\n",
    "shapiro_pathsize_group2 = shapiro(groupY)\n",
    "\n",
    "# Check homogeneity of variances for pathsize_Cat groups\n",
    "levene_pathsize = levene(groupN, groupY)\n",
    "\n",
    "# Perform pairwise t-tests based on Levene's test result\n",
    "if levene_pathsize.pvalue > 0.05:\n",
    "    # Use equal variances\n",
    "    t_statistic_1, p_value_1 = stats.ttest_ind(groupN, groupY, equal_var=True)\n",
    "else:\n",
    "    # Use unequal variances\n",
    "    t_statistic_1, p_value_1 = stats.ttest_ind(groupN, groupY, equal_var=False)\n",
    "\n",
    "# Print results\n",
    "\n",
    "\n",
    "print(f'Shapiro test for pathsize_Cat group1: {shapiro_pathsize_group1}')\n",
    "print(f'Shapiro test for pathsize_Cat group2: {shapiro_pathsize_group2}')\n",
    "print(f'Levene test for pathsize_Cat: {levene_pathsize}')\n",
    "print(f'T-Test for pathsize_Cat: t_statistic = {t_statistic_1}, p_value = {p_value_1}')"
   ]
  },
  {
   "cell_type": "markdown",
   "id": "1e9fee40",
   "metadata": {
    "papermill": {
     "duration": 0.017452,
     "end_time": "2024-07-16T08:56:01.790114",
     "exception": false,
     "start_time": "2024-07-16T08:56:01.772662",
     "status": "completed"
    },
    "tags": []
   },
   "source": [
    "## ANOVA Test"
   ]
  },
  {
   "cell_type": "markdown",
   "id": "a4f293b4",
   "metadata": {
    "papermill": {
     "duration": 0.017151,
     "end_time": "2024-07-16T08:56:01.824994",
     "exception": false,
     "start_time": "2024-07-16T08:56:01.807843",
     "status": "completed"
    },
    "tags": []
   },
   "source": [
    "* ANOVA (Analysis of Variance) is a statistical method used to compare means of three or more samples to understand if at least one sample mean is significantly different from the others. Here, we will perform ANOVA to analyze if there is a significant difference in the means of the time variable across different histgrad categories.\n",
    "\n",
    "* **Steps**\n",
    "\n",
    "**1. Handling Missing Data and Values**\n",
    "* Check and handle missing data in histgrad and time.\n",
    "\n",
    "**2. Checking Assumptions for ANOVA**\n",
    "*  Normality: Each group's time should be approximately normally distributed.\n",
    "*  Homogeneity of variances: The variances across groups should be approximately equal.\n",
    "\n",
    "**3. Performing ANOVA**\n",
    "* Use Python's scipy.stats library to perform the ANOVA test.\n",
    "\n",
    "**4. Interpreting Results**\n",
    "* Understanding the ANOVA output and making conclusions."
   ]
  },
  {
   "cell_type": "markdown",
   "id": "4f63b5ae",
   "metadata": {
    "papermill": {
     "duration": 0.017174,
     "end_time": "2024-07-16T08:56:01.859659",
     "exception": false,
     "start_time": "2024-07-16T08:56:01.842485",
     "status": "completed"
    },
    "tags": []
   },
   "source": [
    "**Step 1**"
   ]
  },
  {
   "cell_type": "code",
   "execution_count": 21,
   "id": "a335f37c",
   "metadata": {
    "execution": {
     "iopub.execute_input": "2024-07-16T08:56:01.897040Z",
     "iopub.status.busy": "2024-07-16T08:56:01.895980Z",
     "iopub.status.idle": "2024-07-16T08:56:01.915899Z",
     "shell.execute_reply": "2024-07-16T08:56:01.914682Z"
    },
    "papermill": {
     "duration": 0.042014,
     "end_time": "2024-07-16T08:56:01.919123",
     "exception": false,
     "start_time": "2024-07-16T08:56:01.877109",
     "status": "completed"
    },
    "tags": []
   },
   "outputs": [
    {
     "data": {
      "text/plain": [
       "histgrad    287\n",
       "time          0\n",
       "dtype: int64"
      ]
     },
     "execution_count": 21,
     "metadata": {},
     "output_type": "execute_result"
    }
   ],
   "source": [
    "missing_data = df[['histgrad', 'time']].isnull().sum()\n",
    "missing_data"
   ]
  },
  {
   "cell_type": "code",
   "execution_count": 22,
   "id": "7fc1a53a",
   "metadata": {
    "execution": {
     "iopub.execute_input": "2024-07-16T08:56:01.970971Z",
     "iopub.status.busy": "2024-07-16T08:56:01.970435Z",
     "iopub.status.idle": "2024-07-16T08:56:02.005551Z",
     "shell.execute_reply": "2024-07-16T08:56:02.004365Z"
    },
    "papermill": {
     "duration": 0.067694,
     "end_time": "2024-07-16T08:56:02.008127",
     "exception": false,
     "start_time": "2024-07-16T08:56:01.940433",
     "status": "completed"
    },
    "tags": []
   },
   "outputs": [
    {
     "data": {
      "text/html": [
       "<div>\n",
       "<style scoped>\n",
       "    .dataframe tbody tr th:only-of-type {\n",
       "        vertical-align: middle;\n",
       "    }\n",
       "\n",
       "    .dataframe tbody tr th {\n",
       "        vertical-align: top;\n",
       "    }\n",
       "\n",
       "    .dataframe thead th {\n",
       "        text-align: right;\n",
       "    }\n",
       "</style>\n",
       "<table border=\"1\" class=\"dataframe\">\n",
       "  <thead>\n",
       "    <tr style=\"text-align: right;\">\n",
       "      <th></th>\n",
       "      <th>id</th>\n",
       "      <th>age</th>\n",
       "      <th>pathsize</th>\n",
       "      <th>lnpos</th>\n",
       "      <th>histgrad</th>\n",
       "      <th>er</th>\n",
       "      <th>pr</th>\n",
       "      <th>status</th>\n",
       "      <th>time</th>\n",
       "      <th>lnpos_YN</th>\n",
       "      <th>pathsize_Cat</th>\n",
       "    </tr>\n",
       "  </thead>\n",
       "  <tbody>\n",
       "    <tr>\n",
       "      <th>0</th>\n",
       "      <td>1.0</td>\n",
       "      <td>60.0</td>\n",
       "      <td>NaN</td>\n",
       "      <td>0.0</td>\n",
       "      <td>3.0</td>\n",
       "      <td>0.0</td>\n",
       "      <td>0.0</td>\n",
       "      <td>0.0</td>\n",
       "      <td>9.466667</td>\n",
       "      <td>No</td>\n",
       "      <td>NaN</td>\n",
       "    </tr>\n",
       "    <tr>\n",
       "      <th>2</th>\n",
       "      <td>3.0</td>\n",
       "      <td>82.0</td>\n",
       "      <td>NaN</td>\n",
       "      <td>0.0</td>\n",
       "      <td>2.0</td>\n",
       "      <td>NaN</td>\n",
       "      <td>NaN</td>\n",
       "      <td>0.0</td>\n",
       "      <td>19.333333</td>\n",
       "      <td>No</td>\n",
       "      <td>NaN</td>\n",
       "    </tr>\n",
       "    <tr>\n",
       "      <th>3</th>\n",
       "      <td>4.0</td>\n",
       "      <td>66.0</td>\n",
       "      <td>NaN</td>\n",
       "      <td>0.0</td>\n",
       "      <td>2.0</td>\n",
       "      <td>1.0</td>\n",
       "      <td>1.0</td>\n",
       "      <td>0.0</td>\n",
       "      <td>16.333333</td>\n",
       "      <td>No</td>\n",
       "      <td>NaN</td>\n",
       "    </tr>\n",
       "    <tr>\n",
       "      <th>4</th>\n",
       "      <td>5.0</td>\n",
       "      <td>52.0</td>\n",
       "      <td>NaN</td>\n",
       "      <td>0.0</td>\n",
       "      <td>3.0</td>\n",
       "      <td>NaN</td>\n",
       "      <td>NaN</td>\n",
       "      <td>0.0</td>\n",
       "      <td>8.500000</td>\n",
       "      <td>No</td>\n",
       "      <td>NaN</td>\n",
       "    </tr>\n",
       "    <tr>\n",
       "      <th>6</th>\n",
       "      <td>7.0</td>\n",
       "      <td>50.0</td>\n",
       "      <td>NaN</td>\n",
       "      <td>0.0</td>\n",
       "      <td>2.0</td>\n",
       "      <td>1.0</td>\n",
       "      <td>0.0</td>\n",
       "      <td>0.0</td>\n",
       "      <td>17.666667</td>\n",
       "      <td>No</td>\n",
       "      <td>NaN</td>\n",
       "    </tr>\n",
       "    <tr>\n",
       "      <th>...</th>\n",
       "      <td>...</td>\n",
       "      <td>...</td>\n",
       "      <td>...</td>\n",
       "      <td>...</td>\n",
       "      <td>...</td>\n",
       "      <td>...</td>\n",
       "      <td>...</td>\n",
       "      <td>...</td>\n",
       "      <td>...</td>\n",
       "      <td>...</td>\n",
       "      <td>...</td>\n",
       "    </tr>\n",
       "    <tr>\n",
       "      <th>1202</th>\n",
       "      <td>1038.0</td>\n",
       "      <td>37.0</td>\n",
       "      <td>5.5</td>\n",
       "      <td>5.0</td>\n",
       "      <td>3.0</td>\n",
       "      <td>0.0</td>\n",
       "      <td>0.0</td>\n",
       "      <td>0.0</td>\n",
       "      <td>6.866667</td>\n",
       "      <td>Yes</td>\n",
       "      <td>&gt; 5</td>\n",
       "    </tr>\n",
       "    <tr>\n",
       "      <th>1203</th>\n",
       "      <td>1039.0</td>\n",
       "      <td>64.0</td>\n",
       "      <td>6.0</td>\n",
       "      <td>0.0</td>\n",
       "      <td>3.0</td>\n",
       "      <td>0.0</td>\n",
       "      <td>1.0</td>\n",
       "      <td>0.0</td>\n",
       "      <td>15.766667</td>\n",
       "      <td>No</td>\n",
       "      <td>&gt; 5</td>\n",
       "    </tr>\n",
       "    <tr>\n",
       "      <th>1204</th>\n",
       "      <td>1041.0</td>\n",
       "      <td>57.0</td>\n",
       "      <td>6.5</td>\n",
       "      <td>7.0</td>\n",
       "      <td>3.0</td>\n",
       "      <td>1.0</td>\n",
       "      <td>1.0</td>\n",
       "      <td>0.0</td>\n",
       "      <td>15.166667</td>\n",
       "      <td>Yes</td>\n",
       "      <td>&gt; 5</td>\n",
       "    </tr>\n",
       "    <tr>\n",
       "      <th>1205</th>\n",
       "      <td>1202.0</td>\n",
       "      <td>51.0</td>\n",
       "      <td>5.5</td>\n",
       "      <td>11.0</td>\n",
       "      <td>2.0</td>\n",
       "      <td>0.0</td>\n",
       "      <td>0.0</td>\n",
       "      <td>1.0</td>\n",
       "      <td>45.133333</td>\n",
       "      <td>Yes</td>\n",
       "      <td>&gt; 5</td>\n",
       "    </tr>\n",
       "    <tr>\n",
       "      <th>1206</th>\n",
       "      <td>1203.0</td>\n",
       "      <td>32.0</td>\n",
       "      <td>7.0</td>\n",
       "      <td>0.0</td>\n",
       "      <td>3.0</td>\n",
       "      <td>0.0</td>\n",
       "      <td>0.0</td>\n",
       "      <td>1.0</td>\n",
       "      <td>21.766667</td>\n",
       "      <td>No</td>\n",
       "      <td>&gt; 5</td>\n",
       "    </tr>\n",
       "  </tbody>\n",
       "</table>\n",
       "<p>920 rows × 11 columns</p>\n",
       "</div>"
      ],
      "text/plain": [
       "          id   age  pathsize  lnpos  histgrad   er   pr  status       time  \\\n",
       "0        1.0  60.0       NaN    0.0       3.0  0.0  0.0     0.0   9.466667   \n",
       "2        3.0  82.0       NaN    0.0       2.0  NaN  NaN     0.0  19.333333   \n",
       "3        4.0  66.0       NaN    0.0       2.0  1.0  1.0     0.0  16.333333   \n",
       "4        5.0  52.0       NaN    0.0       3.0  NaN  NaN     0.0   8.500000   \n",
       "6        7.0  50.0       NaN    0.0       2.0  1.0  0.0     0.0  17.666667   \n",
       "...      ...   ...       ...    ...       ...  ...  ...     ...        ...   \n",
       "1202  1038.0  37.0       5.5    5.0       3.0  0.0  0.0     0.0   6.866667   \n",
       "1203  1039.0  64.0       6.0    0.0       3.0  0.0  1.0     0.0  15.766667   \n",
       "1204  1041.0  57.0       6.5    7.0       3.0  1.0  1.0     0.0  15.166667   \n",
       "1205  1202.0  51.0       5.5   11.0       2.0  0.0  0.0     1.0  45.133333   \n",
       "1206  1203.0  32.0       7.0    0.0       3.0  0.0  0.0     1.0  21.766667   \n",
       "\n",
       "     lnpos_YN pathsize_Cat  \n",
       "0          No          NaN  \n",
       "2          No          NaN  \n",
       "3          No          NaN  \n",
       "4          No          NaN  \n",
       "6          No          NaN  \n",
       "...       ...          ...  \n",
       "1202      Yes          > 5  \n",
       "1203       No          > 5  \n",
       "1204      Yes          > 5  \n",
       "1205      Yes          > 5  \n",
       "1206       No          > 5  \n",
       "\n",
       "[920 rows x 11 columns]"
      ]
     },
     "execution_count": 22,
     "metadata": {},
     "output_type": "execute_result"
    }
   ],
   "source": [
    "cleaned_data = df.dropna(subset=['histgrad'])\n",
    "cleaned_data"
   ]
  },
  {
   "cell_type": "code",
   "execution_count": 23,
   "id": "5b2f7b33",
   "metadata": {
    "execution": {
     "iopub.execute_input": "2024-07-16T08:56:02.046893Z",
     "iopub.status.busy": "2024-07-16T08:56:02.045785Z",
     "iopub.status.idle": "2024-07-16T08:56:02.053644Z",
     "shell.execute_reply": "2024-07-16T08:56:02.052564Z"
    },
    "papermill": {
     "duration": 0.029943,
     "end_time": "2024-07-16T08:56:02.056090",
     "exception": false,
     "start_time": "2024-07-16T08:56:02.026147",
     "status": "completed"
    },
    "tags": []
   },
   "outputs": [
    {
     "data": {
      "text/plain": [
       "(920, 11)"
      ]
     },
     "execution_count": 23,
     "metadata": {},
     "output_type": "execute_result"
    }
   ],
   "source": [
    "cleaned_data.shape"
   ]
  },
  {
   "cell_type": "markdown",
   "id": "df2a3692",
   "metadata": {
    "papermill": {
     "duration": 0.025447,
     "end_time": "2024-07-16T08:56:02.103174",
     "exception": false,
     "start_time": "2024-07-16T08:56:02.077727",
     "status": "completed"
    },
    "tags": []
   },
   "source": [
    "**Step 2**\n",
    "\n",
    "We need to check if the time variable is normally distributed for each histgrad group. We can use the Shapiro-Wilk test for normality and Levene's test to check for equality of variances."
   ]
  },
  {
   "cell_type": "code",
   "execution_count": 24,
   "id": "87911501",
   "metadata": {
    "execution": {
     "iopub.execute_input": "2024-07-16T08:56:02.161154Z",
     "iopub.status.busy": "2024-07-16T08:56:02.160453Z",
     "iopub.status.idle": "2024-07-16T08:56:02.166555Z",
     "shell.execute_reply": "2024-07-16T08:56:02.165016Z"
    },
    "papermill": {
     "duration": 0.039332,
     "end_time": "2024-07-16T08:56:02.169516",
     "exception": false,
     "start_time": "2024-07-16T08:56:02.130184",
     "status": "completed"
    },
    "tags": []
   },
   "outputs": [],
   "source": [
    "from scipy.stats import shapiro, levene"
   ]
  },
  {
   "cell_type": "code",
   "execution_count": 25,
   "id": "f977e45f",
   "metadata": {
    "execution": {
     "iopub.execute_input": "2024-07-16T08:56:02.221636Z",
     "iopub.status.busy": "2024-07-16T08:56:02.221237Z",
     "iopub.status.idle": "2024-07-16T08:56:02.236438Z",
     "shell.execute_reply": "2024-07-16T08:56:02.235231Z"
    },
    "papermill": {
     "duration": 0.041042,
     "end_time": "2024-07-16T08:56:02.239057",
     "exception": false,
     "start_time": "2024-07-16T08:56:02.198015",
     "status": "completed"
    },
    "tags": []
   },
   "outputs": [
    {
     "name": "stdout",
     "output_type": "stream",
     "text": [
      "Histgrad 3.0: Stat=0.944, p=0.000\n",
      "Histgrad 2.0: Stat=0.962, p=0.000\n",
      "Histgrad 1.0: Stat=0.958, p=0.011\n",
      "Levene’s Test: Stat=0.432, p=0.650\n"
     ]
    }
   ],
   "source": [
    "# Check for normality using Shapiro-Wilk test\n",
    "for i in cleaned_data['histgrad'].unique():\n",
    "    stat, p = shapiro(cleaned_data[cleaned_data['histgrad'] == i]['time'])\n",
    "    print(f'Histgrad {i}: Stat={stat:.3f}, p={p:.3f}')\n",
    "\n",
    "# Check for homogeneity of variances using Levene's test\n",
    "stat, p = levene(\n",
    "   cleaned_data[cleaned_data['histgrad'] == 1.0]['time'],\n",
    "    cleaned_data[cleaned_data['histgrad'] == 2.0]['time'],\n",
    "    cleaned_data[cleaned_data['histgrad'] == 3.0]['time']\n",
    ")\n",
    "print(f'Levene’s Test: Stat={stat:.3f}, p={p:.3f}')"
   ]
  },
  {
   "cell_type": "markdown",
   "id": "c91c1eb3",
   "metadata": {
    "papermill": {
     "duration": 0.01825,
     "end_time": "2024-07-16T08:56:02.275800",
     "exception": false,
     "start_time": "2024-07-16T08:56:02.257550",
     "status": "completed"
    },
    "tags": []
   },
   "source": [
    "* The Shapiro-Wilk test results indicate that the time variable is not normally distributed for any of the histgrad groups (all p-values are less than 0.05, indicating a violation of the normality assumption).\n",
    "\n",
    "\n",
    "*  The p-value for Levene's test is 0.650, which is greater than 0.05, indicating that the assumption of homogeneity of variances is met.\n",
    "\n",
    "Even though ANOVA is robust to deviations from normality, particularly with large sample sizes, it's good to be aware of this violation. For more robust analysis, non-parametric tests like the Kruskal-Wallis test can be considered. However, we'll proceed with ANOVA for the purpose of learning."
   ]
  },
  {
   "cell_type": "markdown",
   "id": "b0880405",
   "metadata": {
    "papermill": {
     "duration": 0.024656,
     "end_time": "2024-07-16T08:56:02.318856",
     "exception": false,
     "start_time": "2024-07-16T08:56:02.294200",
     "status": "completed"
    },
    "tags": []
   },
   "source": [
    "**Step 3**\n",
    "* Performing ANOVA\n",
    "We can now perform the ANOVA test using the f_oneway function from scipy.stats."
   ]
  },
  {
   "cell_type": "code",
   "execution_count": 26,
   "id": "bb3dca32",
   "metadata": {
    "execution": {
     "iopub.execute_input": "2024-07-16T08:56:02.359709Z",
     "iopub.status.busy": "2024-07-16T08:56:02.358779Z",
     "iopub.status.idle": "2024-07-16T08:56:02.373976Z",
     "shell.execute_reply": "2024-07-16T08:56:02.372467Z"
    },
    "papermill": {
     "duration": 0.03777,
     "end_time": "2024-07-16T08:56:02.376484",
     "exception": false,
     "start_time": "2024-07-16T08:56:02.338714",
     "status": "completed"
    },
    "tags": []
   },
   "outputs": [
    {
     "data": {
      "text/plain": [
       "F_onewayResult(statistic=6.9885425713625615, pvalue=0.0009723280343059178)"
      ]
     },
     "execution_count": 26,
     "metadata": {},
     "output_type": "execute_result"
    }
   ],
   "source": [
    "from scipy.stats import f_oneway\n",
    "avova_result = f_oneway(    \n",
    "    cleaned_data[cleaned_data['histgrad'] == 1.0]['time'],\n",
    "    cleaned_data[cleaned_data['histgrad'] == 2.0]['time'],\n",
    "    cleaned_data[cleaned_data['histgrad'] == 3.0]['time']\n",
    ")\n",
    "avova_result"
   ]
  },
  {
   "cell_type": "markdown",
   "id": "d55b881a",
   "metadata": {
    "papermill": {
     "duration": 0.018245,
     "end_time": "2024-07-16T08:56:02.413587",
     "exception": false,
     "start_time": "2024-07-16T08:56:02.395342",
     "status": "completed"
    },
    "tags": []
   },
   "source": [
    "* The ANOVA test results are as follows:\n",
    "\n",
    "F-statistic: 6.99\n",
    "p-value: 0.00097"
   ]
  },
  {
   "cell_type": "markdown",
   "id": "487af88c",
   "metadata": {
    "papermill": {
     "duration": 0.018299,
     "end_time": "2024-07-16T08:56:02.450816",
     "exception": false,
     "start_time": "2024-07-16T08:56:02.432517",
     "status": "completed"
    },
    "tags": []
   },
   "source": [
    "**Step 4**\n",
    "\n",
    "Since the p-value is much less than 0.05, we reject the null hypothesis that the means of time are equal across different histgrad groups. This indicates that there is a statistically significant difference in time among the different histgrad levels."
   ]
  },
  {
   "cell_type": "markdown",
   "id": "47332ea3",
   "metadata": {
    "papermill": {
     "duration": 0.018128,
     "end_time": "2024-07-16T08:56:02.487508",
     "exception": false,
     "start_time": "2024-07-16T08:56:02.469380",
     "status": "completed"
    },
    "tags": []
   },
   "source": [
    "**Summary** :\n",
    "Here are the steps we took to perform the ANOVA test:\n",
    "\n",
    "* Handled missing values by removing rows with missing histgrad values.\n",
    "* Checked assumptions for ANOVA:\n",
    "* Normality using the Shapiro-Wilk test (not met, but we proceeded due to the robustness of ANOVA).\n",
    "* Homogeneity of variances using Levene's test (met).\n",
    "* Performed ANOVA using the f_oneway function.\n",
    "* Interpreted the results, concluding that there is a significant difference in time among different histgrad groups."
   ]
  },
  {
   "cell_type": "markdown",
   "id": "5a43d595",
   "metadata": {
    "papermill": {
     "duration": 0.018946,
     "end_time": "2024-07-16T08:56:02.524949",
     "exception": false,
     "start_time": "2024-07-16T08:56:02.506003",
     "status": "completed"
    },
    "tags": []
   },
   "source": [
    "**To determine which specific groups have different means, you can perform a post-hoc test after finding a significant result with ANOVA.**"
   ]
  },
  {
   "cell_type": "code",
   "execution_count": 27,
   "id": "18abe055",
   "metadata": {
    "execution": {
     "iopub.execute_input": "2024-07-16T08:56:02.564301Z",
     "iopub.status.busy": "2024-07-16T08:56:02.563219Z",
     "iopub.status.idle": "2024-07-16T08:56:19.488944Z",
     "shell.execute_reply": "2024-07-16T08:56:19.487083Z"
    },
    "papermill": {
     "duration": 16.948085,
     "end_time": "2024-07-16T08:56:19.491576",
     "exception": false,
     "start_time": "2024-07-16T08:56:02.543491",
     "status": "completed"
    },
    "tags": []
   },
   "outputs": [
    {
     "name": "stdout",
     "output_type": "stream",
     "text": [
      "Collecting scikit-posthocs\r\n",
      "  Downloading scikit_posthocs-0.9.0-py3-none-any.whl.metadata (5.8 kB)\r\n",
      "Requirement already satisfied: numpy in /opt/conda/lib/python3.10/site-packages (from scikit-posthocs) (1.26.4)\r\n",
      "Requirement already satisfied: scipy>=1.9.0 in /opt/conda/lib/python3.10/site-packages (from scikit-posthocs) (1.11.4)\r\n",
      "Requirement already satisfied: statsmodels in /opt/conda/lib/python3.10/site-packages (from scikit-posthocs) (0.14.1)\r\n",
      "Requirement already satisfied: pandas>=0.20.0 in /opt/conda/lib/python3.10/site-packages (from scikit-posthocs) (2.2.2)\r\n",
      "Requirement already satisfied: seaborn in /opt/conda/lib/python3.10/site-packages (from scikit-posthocs) (0.12.2)\r\n",
      "Requirement already satisfied: matplotlib in /opt/conda/lib/python3.10/site-packages (from scikit-posthocs) (3.7.5)\r\n",
      "Requirement already satisfied: python-dateutil>=2.8.2 in /opt/conda/lib/python3.10/site-packages (from pandas>=0.20.0->scikit-posthocs) (2.9.0.post0)\r\n",
      "Requirement already satisfied: pytz>=2020.1 in /opt/conda/lib/python3.10/site-packages (from pandas>=0.20.0->scikit-posthocs) (2023.3.post1)\r\n",
      "Requirement already satisfied: tzdata>=2022.7 in /opt/conda/lib/python3.10/site-packages (from pandas>=0.20.0->scikit-posthocs) (2023.4)\r\n",
      "Requirement already satisfied: contourpy>=1.0.1 in /opt/conda/lib/python3.10/site-packages (from matplotlib->scikit-posthocs) (1.2.0)\r\n",
      "Requirement already satisfied: cycler>=0.10 in /opt/conda/lib/python3.10/site-packages (from matplotlib->scikit-posthocs) (0.12.1)\r\n",
      "Requirement already satisfied: fonttools>=4.22.0 in /opt/conda/lib/python3.10/site-packages (from matplotlib->scikit-posthocs) (4.47.0)\r\n",
      "Requirement already satisfied: kiwisolver>=1.0.1 in /opt/conda/lib/python3.10/site-packages (from matplotlib->scikit-posthocs) (1.4.5)\r\n",
      "Requirement already satisfied: packaging>=20.0 in /opt/conda/lib/python3.10/site-packages (from matplotlib->scikit-posthocs) (21.3)\r\n",
      "Requirement already satisfied: pillow>=6.2.0 in /opt/conda/lib/python3.10/site-packages (from matplotlib->scikit-posthocs) (9.5.0)\r\n",
      "Requirement already satisfied: pyparsing>=2.3.1 in /opt/conda/lib/python3.10/site-packages (from matplotlib->scikit-posthocs) (3.1.1)\r\n",
      "Requirement already satisfied: patsy>=0.5.4 in /opt/conda/lib/python3.10/site-packages (from statsmodels->scikit-posthocs) (0.5.6)\r\n",
      "Requirement already satisfied: six in /opt/conda/lib/python3.10/site-packages (from patsy>=0.5.4->statsmodels->scikit-posthocs) (1.16.0)\r\n",
      "Downloading scikit_posthocs-0.9.0-py3-none-any.whl (32 kB)\r\n",
      "Installing collected packages: scikit-posthocs\r\n",
      "Successfully installed scikit-posthocs-0.9.0\r\n",
      "Note: you may need to restart the kernel to use updated packages.\n"
     ]
    }
   ],
   "source": [
    "pip install scikit-posthocs"
   ]
  },
  {
   "cell_type": "code",
   "execution_count": 28,
   "id": "6bcb5d7f",
   "metadata": {
    "execution": {
     "iopub.execute_input": "2024-07-16T08:56:19.533566Z",
     "iopub.status.busy": "2024-07-16T08:56:19.533137Z",
     "iopub.status.idle": "2024-07-16T08:56:20.074305Z",
     "shell.execute_reply": "2024-07-16T08:56:20.073167Z"
    },
    "papermill": {
     "duration": 0.565918,
     "end_time": "2024-07-16T08:56:20.077373",
     "exception": false,
     "start_time": "2024-07-16T08:56:19.511455",
     "status": "completed"
    },
    "tags": []
   },
   "outputs": [],
   "source": [
    "from scikit_posthocs import posthoc_ttest\n",
    "import scikit_posthocs as sp"
   ]
  },
  {
   "cell_type": "code",
   "execution_count": 29,
   "id": "0e4814e4",
   "metadata": {
    "execution": {
     "iopub.execute_input": "2024-07-16T08:56:20.118840Z",
     "iopub.status.busy": "2024-07-16T08:56:20.118421Z",
     "iopub.status.idle": "2024-07-16T08:56:20.138854Z",
     "shell.execute_reply": "2024-07-16T08:56:20.137179Z"
    },
    "papermill": {
     "duration": 0.044219,
     "end_time": "2024-07-16T08:56:20.141444",
     "exception": false,
     "start_time": "2024-07-16T08:56:20.097225",
     "status": "completed"
    },
    "tags": []
   },
   "outputs": [
    {
     "name": "stdout",
     "output_type": "stream",
     "text": [
      "          3.0       2.0       1.0\n",
      "3.0  1.000000  0.000699  0.157949\n",
      "2.0  0.000699  1.000000  1.000000\n",
      "1.0  0.157949  1.000000  1.000000\n"
     ]
    }
   ],
   "source": [
    "# Perform pairwise t-tests with Bonferroni correction\n",
    "posthoc_result = sp.posthoc_ttest(cleaned_data, val_col='time', group_col='histgrad', p_adjust='bonferroni')\n",
    "\n",
    "# Display the results\n",
    "print(posthoc_result)"
   ]
  },
  {
   "cell_type": "code",
   "execution_count": 30,
   "id": "9ee67c38",
   "metadata": {
    "execution": {
     "iopub.execute_input": "2024-07-16T08:56:20.183184Z",
     "iopub.status.busy": "2024-07-16T08:56:20.182791Z",
     "iopub.status.idle": "2024-07-16T08:56:20.471464Z",
     "shell.execute_reply": "2024-07-16T08:56:20.470267Z"
    },
    "papermill": {
     "duration": 0.313032,
     "end_time": "2024-07-16T08:56:20.474249",
     "exception": false,
     "start_time": "2024-07-16T08:56:20.161217",
     "status": "completed"
    },
    "tags": []
   },
   "outputs": [
    {
     "data": {
      "image/png": "[encoded data removed]",
      "text/plain": [
       "<Figure size 400x400 with 2 Axes>"
      ]
     },
     "metadata": {},
     "output_type": "display_data"
    }
   ],
   "source": [
    "import matplotlib.pyplot as plt\n",
    "import scikit_posthocs as sp\n",
    "\n",
    "plt.figure(figsize=(4, 4))\n",
    "sp.sign_plot(posthoc_result)\n",
    "\n",
    "plt.show()"
   ]
  },
  {
   "cell_type": "code",
   "execution_count": null,
   "id": "48791559",
   "metadata": {
    "papermill": {
     "duration": 0.019781,
     "end_time": "2024-07-16T08:56:20.514013",
     "exception": false,
     "start_time": "2024-07-16T08:56:20.494232",
     "status": "completed"
    },
    "tags": []
   },
   "outputs": [],
   "source": []
  }
 ],
 "metadata": {
  "kaggle": {
   "accelerator": "none",
   "dataSources": [
    {
     "datasetId": 5211930,
     "sourceId": 8691661,
     "sourceType": "datasetVersion"
    }
   ],
   "dockerImageVersionId": 30732,
   "isGpuEnabled": false,
   "isInternetEnabled": true,
   "language": "python",
   "sourceType": "notebook"
  },
  "kernelspec": {
   "display_name": "Python 3",
   "language": "python",
   "name": "python3"
  },
  "language_info": {
   "codemirror_mode": {
    "name": "ipython",
    "version": 3
   },
   "file_extension": ".py",
   "mimetype": "text/x-python",
   "name": "python",
   "nbconvert_exporter": "python",
   "pygments_lexer": "ipython3",
   "version": "3.10.13"
  },
  "papermill": {
   "default_parameters": {},
   "duration": 26.236892,
   "end_time": "2024-07-16T08:56:21.156033",
   "environment_variables": {},
   "exception": null,
   "input_path": "__notebook__.ipynb",
   "output_path": "__notebook__.ipynb",
   "parameters": {},
   "start_time": "2024-07-16T08:55:54.919141",
   "version": "2.5.0"
  }
 },
 "nbformat": 4,
 "nbformat_minor": 5
}
