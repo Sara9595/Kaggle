{
 "cells": [
  {
   "cell_type": "markdown",
   "id": "e6ae3081",
   "metadata": {
    "papermill": {
     "duration": 0.007981,
     "end_time": "2024-06-14T15:12:33.462122",
     "exception": false,
     "start_time": "2024-06-14T15:12:33.454141",
     "status": "completed"
    },
    "tags": []
   },
   "source": [
    "## In this notebook, we will perform some statistical tests on preprocessed breast cancer dataset"
   ]
  },
  {
   "cell_type": "code",
   "execution_count": 1,
   "id": "eef7a6b5",
   "metadata": {
    "execution": {
     "iopub.execute_input": "2024-06-14T15:12:33.477922Z",
     "iopub.status.busy": "2024-06-14T15:12:33.477492Z",
     "iopub.status.idle": "2024-06-14T15:12:35.686472Z",
     "shell.execute_reply": "2024-06-14T15:12:35.685281Z"
    },
    "papermill": {
     "duration": 2.220291,
     "end_time": "2024-06-14T15:12:35.689633",
     "exception": false,
     "start_time": "2024-06-14T15:12:33.469342",
     "status": "completed"
    },
    "tags": []
   },
   "outputs": [],
   "source": [
    "# import necessary libraries\n",
    "import pandas as pd\n",
    "import numpy as np\n",
    "import scipy.stats as stats"
   ]
  },
  {
   "cell_type": "code",
   "execution_count": 2,
   "id": "bec7877b",
   "metadata": {
    "execution": {
     "iopub.execute_input": "2024-06-14T15:12:35.705778Z",
     "iopub.status.busy": "2024-06-14T15:12:35.705158Z",
     "iopub.status.idle": "2024-06-14T15:12:35.733404Z",
     "shell.execute_reply": "2024-06-14T15:12:35.732249Z"
    },
    "papermill": {
     "duration": 0.040094,
     "end_time": "2024-06-14T15:12:35.736808",
     "exception": false,
     "start_time": "2024-06-14T15:12:35.696714",
     "status": "completed"
    },
    "tags": []
   },
   "outputs": [],
   "source": [
    "# Load the dataset\n",
    "file_path = '/kaggle/input/breastcancer-preprocessed/BreastCancer-Preprocessed.csv'\n",
    "df = pd.read_csv(file_path)"
   ]
  },
  {
   "cell_type": "markdown",
   "id": "767e0ba6",
   "metadata": {
    "papermill": {
     "duration": 0.006743,
     "end_time": "2024-06-14T15:12:35.750429",
     "exception": false,
     "start_time": "2024-06-14T15:12:35.743686",
     "status": "completed"
    },
    "tags": []
   },
   "source": [
    "##  Display the first few rows of the dataset to understand its structure"
   ]
  },
  {
   "cell_type": "code",
   "execution_count": 3,
   "id": "d254cf12",
   "metadata": {
    "execution": {
     "iopub.execute_input": "2024-06-14T15:12:35.766293Z",
     "iopub.status.busy": "2024-06-14T15:12:35.765826Z",
     "iopub.status.idle": "2024-06-14T15:12:35.800363Z",
     "shell.execute_reply": "2024-06-14T15:12:35.798924Z"
    },
    "papermill": {
     "duration": 0.045506,
     "end_time": "2024-06-14T15:12:35.802937",
     "exception": false,
     "start_time": "2024-06-14T15:12:35.757431",
     "status": "completed"
    },
    "tags": []
   },
   "outputs": [
    {
     "data": {
      "text/html": [
       "<div>\n",
       "<style scoped>\n",
       "    .dataframe tbody tr th:only-of-type {\n",
       "        vertical-align: middle;\n",
       "    }\n",
       "\n",
       "    .dataframe tbody tr th {\n",
       "        vertical-align: top;\n",
       "    }\n",
       "\n",
       "    .dataframe thead th {\n",
       "        text-align: right;\n",
       "    }\n",
       "</style>\n",
       "<table border=\"1\" class=\"dataframe\">\n",
       "  <thead>\n",
       "    <tr style=\"text-align: right;\">\n",
       "      <th></th>\n",
       "      <th>id</th>\n",
       "      <th>age</th>\n",
       "      <th>pathsize</th>\n",
       "      <th>lnpos</th>\n",
       "      <th>histgrad</th>\n",
       "      <th>er</th>\n",
       "      <th>pr</th>\n",
       "      <th>status</th>\n",
       "      <th>time</th>\n",
       "      <th>lnpos_YN</th>\n",
       "      <th>pathsize_Cat</th>\n",
       "    </tr>\n",
       "  </thead>\n",
       "  <tbody>\n",
       "    <tr>\n",
       "      <th>0</th>\n",
       "      <td>1.0</td>\n",
       "      <td>60.0</td>\n",
       "      <td>NaN</td>\n",
       "      <td>0.0</td>\n",
       "      <td>3.0</td>\n",
       "      <td>0.0</td>\n",
       "      <td>0.0</td>\n",
       "      <td>0.0</td>\n",
       "      <td>9.466667</td>\n",
       "      <td>No</td>\n",
       "      <td>NaN</td>\n",
       "    </tr>\n",
       "    <tr>\n",
       "      <th>1</th>\n",
       "      <td>2.0</td>\n",
       "      <td>79.0</td>\n",
       "      <td>NaN</td>\n",
       "      <td>0.0</td>\n",
       "      <td>NaN</td>\n",
       "      <td>NaN</td>\n",
       "      <td>NaN</td>\n",
       "      <td>0.0</td>\n",
       "      <td>8.600000</td>\n",
       "      <td>No</td>\n",
       "      <td>NaN</td>\n",
       "    </tr>\n",
       "    <tr>\n",
       "      <th>2</th>\n",
       "      <td>3.0</td>\n",
       "      <td>82.0</td>\n",
       "      <td>NaN</td>\n",
       "      <td>0.0</td>\n",
       "      <td>2.0</td>\n",
       "      <td>NaN</td>\n",
       "      <td>NaN</td>\n",
       "      <td>0.0</td>\n",
       "      <td>19.333333</td>\n",
       "      <td>No</td>\n",
       "      <td>NaN</td>\n",
       "    </tr>\n",
       "    <tr>\n",
       "      <th>3</th>\n",
       "      <td>4.0</td>\n",
       "      <td>66.0</td>\n",
       "      <td>NaN</td>\n",
       "      <td>0.0</td>\n",
       "      <td>2.0</td>\n",
       "      <td>1.0</td>\n",
       "      <td>1.0</td>\n",
       "      <td>0.0</td>\n",
       "      <td>16.333333</td>\n",
       "      <td>No</td>\n",
       "      <td>NaN</td>\n",
       "    </tr>\n",
       "    <tr>\n",
       "      <th>4</th>\n",
       "      <td>5.0</td>\n",
       "      <td>52.0</td>\n",
       "      <td>NaN</td>\n",
       "      <td>0.0</td>\n",
       "      <td>3.0</td>\n",
       "      <td>NaN</td>\n",
       "      <td>NaN</td>\n",
       "      <td>0.0</td>\n",
       "      <td>8.500000</td>\n",
       "      <td>No</td>\n",
       "      <td>NaN</td>\n",
       "    </tr>\n",
       "  </tbody>\n",
       "</table>\n",
       "</div>"
      ],
      "text/plain": [
       "    id   age  pathsize  lnpos  histgrad   er   pr  status       time lnpos_YN  \\\n",
       "0  1.0  60.0       NaN    0.0       3.0  0.0  0.0     0.0   9.466667       No   \n",
       "1  2.0  79.0       NaN    0.0       NaN  NaN  NaN     0.0   8.600000       No   \n",
       "2  3.0  82.0       NaN    0.0       2.0  NaN  NaN     0.0  19.333333       No   \n",
       "3  4.0  66.0       NaN    0.0       2.0  1.0  1.0     0.0  16.333333       No   \n",
       "4  5.0  52.0       NaN    0.0       3.0  NaN  NaN     0.0   8.500000       No   \n",
       "\n",
       "  pathsize_Cat  \n",
       "0          NaN  \n",
       "1          NaN  \n",
       "2          NaN  \n",
       "3          NaN  \n",
       "4          NaN  "
      ]
     },
     "execution_count": 3,
     "metadata": {},
     "output_type": "execute_result"
    }
   ],
   "source": [
    "df.head()"
   ]
  },
  {
   "cell_type": "markdown",
   "id": "dcc75f30",
   "metadata": {
    "papermill": {
     "duration": 0.006806,
     "end_time": "2024-06-14T15:12:35.816883",
     "exception": false,
     "start_time": "2024-06-14T15:12:35.810077",
     "status": "completed"
    },
    "tags": []
   },
   "source": [
    "## Understanding the Variables\n",
    "\n",
    "The `lnpos_YN` and `status` are categorical variables that we want to test for independence.\n",
    "Let's take a look at the unique values in these columns."
   ]
  },
  {
   "cell_type": "code",
   "execution_count": 4,
   "id": "e5b54695",
   "metadata": {
    "execution": {
     "iopub.execute_input": "2024-06-14T15:12:35.832926Z",
     "iopub.status.busy": "2024-06-14T15:12:35.832506Z",
     "iopub.status.idle": "2024-06-14T15:12:35.845724Z",
     "shell.execute_reply": "2024-06-14T15:12:35.844431Z"
    },
    "papermill": {
     "duration": 0.02439,
     "end_time": "2024-06-14T15:12:35.848514",
     "exception": false,
     "start_time": "2024-06-14T15:12:35.824124",
     "status": "completed"
    },
    "tags": []
   },
   "outputs": [
    {
     "name": "stdout",
     "output_type": "stream",
     "text": [
      "Unique values in 'lnpos_YN': ['No' 'Yes']\n",
      "Unique values in 'status': [0. 1.]\n"
     ]
    }
   ],
   "source": [
    "# Check the unique values in 'lnpos_YN' and 'status'\n",
    "print(\"Unique values in 'lnpos_YN':\", df['lnpos_YN'].unique())\n",
    "print(\"Unique values in 'status':\", df['status'].unique())\n"
   ]
  },
  {
   "cell_type": "markdown",
   "id": "2850dea3",
   "metadata": {
    "papermill": {
     "duration": 0.007028,
     "end_time": "2024-06-14T15:12:35.862971",
     "exception": false,
     "start_time": "2024-06-14T15:12:35.855943",
     "status": "completed"
    },
    "tags": []
   },
   "source": [
    "## Creating a Contingency Table\n",
    "\n",
    "We will create a contingency table to summarize the relationship between the two categorical variables."
   ]
  },
  {
   "cell_type": "code",
   "execution_count": 5,
   "id": "7429b12f",
   "metadata": {
    "execution": {
     "iopub.execute_input": "2024-06-14T15:12:35.879111Z",
     "iopub.status.busy": "2024-06-14T15:12:35.878710Z",
     "iopub.status.idle": "2024-06-14T15:12:35.914615Z",
     "shell.execute_reply": "2024-06-14T15:12:35.913263Z"
    },
    "papermill": {
     "duration": 0.047191,
     "end_time": "2024-06-14T15:12:35.917342",
     "exception": false,
     "start_time": "2024-06-14T15:12:35.870151",
     "status": "completed"
    },
    "tags": []
   },
   "outputs": [
    {
     "name": "stdout",
     "output_type": "stream",
     "text": [
      "status    0.0  1.0\n",
      "lnpos_YN          \n",
      "No        887   42\n",
      "Yes       248   30\n"
     ]
    }
   ],
   "source": [
    "# Create a contingency table\n",
    "contingency_table = pd.crosstab(df['lnpos_YN'], df['status'])\n",
    "print(contingency_table)\n"
   ]
  },
  {
   "cell_type": "markdown",
   "id": "d4cd9b09",
   "metadata": {
    "papermill": {
     "duration": 0.007044,
     "end_time": "2024-06-14T15:12:35.932238",
     "exception": false,
     "start_time": "2024-06-14T15:12:35.925194",
     "status": "completed"
    },
    "tags": []
   },
   "source": [
    "## Performing the Chi-Square Test for Independence\n",
    "\n",
    "The Chi-Square Test for Independence will help us determine whether there is a significant association between `lnpos_YN` and `status`.\n"
   ]
  },
  {
   "cell_type": "code",
   "execution_count": 6,
   "id": "e851e462",
   "metadata": {
    "execution": {
     "iopub.execute_input": "2024-06-14T15:12:35.948749Z",
     "iopub.status.busy": "2024-06-14T15:12:35.948311Z",
     "iopub.status.idle": "2024-06-14T15:12:35.959362Z",
     "shell.execute_reply": "2024-06-14T15:12:35.958055Z"
    },
    "papermill": {
     "duration": 0.02284,
     "end_time": "2024-06-14T15:12:35.962333",
     "exception": false,
     "start_time": "2024-06-14T15:12:35.939493",
     "status": "completed"
    },
    "tags": []
   },
   "outputs": [
    {
     "name": "stdout",
     "output_type": "stream",
     "text": [
      "Chi-Square Statistic: 13.900758213995182\n",
      "***********************************\n",
      "p-value: 0.00019272070767964805\n",
      "***********************************\n",
      "Degrees of Freedom: 1\n",
      "***********************************\n",
      "Expected Frequencies Table:\n",
      " [[873.58326429  55.41673571]\n",
      " [261.41673571  16.58326429]]\n"
     ]
    }
   ],
   "source": [
    "# Perform the Chi-Square Test for Independence\n",
    "chi2, p, dof, expected = stats.chi2_contingency(contingency_table)\n",
    "\n",
    "print(\"Chi-Square Statistic:\", chi2)\n",
    "print(\"***********************************\")\n",
    "print(\"p-value:\", p)\n",
    "print(\"***********************************\")\n",
    "print(\"Degrees of Freedom:\", dof)\n",
    "print(\"***********************************\")\n",
    "print(\"Expected Frequencies Table:\\n\", expected)"
   ]
  },
  {
   "cell_type": "markdown",
   "id": "1eb79497",
   "metadata": {
    "papermill": {
     "duration": 0.007238,
     "end_time": "2024-06-14T15:12:35.977880",
     "exception": false,
     "start_time": "2024-06-14T15:12:35.970642",
     "status": "completed"
    },
    "tags": []
   },
   "source": [
    "## Interpreting the Results\n",
    "\n",
    "- **Chi-Square Statistic**: A measure of how much the observed counts deviate from the expected counts.\n",
    "- **p-value**: The probability of obtaining a Chi-Square statistic at least as extreme as the one computed, assuming that the variables are independent.\n",
    "- **Degrees of Freedom**: Number of values that are free to vary given the constraints.\n",
    "- **Expected Frequencies Table**: The expected counts if the variables are truly independent.\n",
    "\n",
    "If the p-value is less than our significance level (typically 0.05), we reject the null hypothesis and conclude that there is a significant association between `lnpos_YN` and `status`.\n"
   ]
  },
  {
   "cell_type": "markdown",
   "id": "2fb53462",
   "metadata": {
    "papermill": {
     "duration": 0.007298,
     "end_time": "2024-06-14T15:12:35.992870",
     "exception": false,
     "start_time": "2024-06-14T15:12:35.985572",
     "status": "completed"
    },
    "tags": []
   },
   "source": [
    "## Calculate the residuals"
   ]
  },
  {
   "cell_type": "code",
   "execution_count": 7,
   "id": "c8e9f903",
   "metadata": {
    "execution": {
     "iopub.execute_input": "2024-06-14T15:12:36.010156Z",
     "iopub.status.busy": "2024-06-14T15:12:36.009719Z",
     "iopub.status.idle": "2024-06-14T15:12:36.018977Z",
     "shell.execute_reply": "2024-06-14T15:12:36.017688Z"
    },
    "papermill": {
     "duration": 0.021378,
     "end_time": "2024-06-14T15:12:36.021895",
     "exception": false,
     "start_time": "2024-06-14T15:12:36.000517",
     "status": "completed"
    },
    "tags": []
   },
   "outputs": [
    {
     "name": "stdout",
     "output_type": "stream",
     "text": [
      "Residuals:\n",
      " status          0.0        1.0\n",
      "lnpos_YN                      \n",
      "No        13.416736 -13.416736\n",
      "Yes      -13.416736  13.416736\n"
     ]
    }
   ],
   "source": [
    "# Calculate the residuals\n",
    "residuals = (contingency_table - expected)\n",
    "print(\"Residuals:\\n\", residuals)"
   ]
  },
  {
   "cell_type": "markdown",
   "id": "58e5eadf",
   "metadata": {
    "papermill": {
     "duration": 0.007253,
     "end_time": "2024-06-14T15:12:36.036816",
     "exception": false,
     "start_time": "2024-06-14T15:12:36.029563",
     "status": "completed"
    },
    "tags": []
   },
   "source": [
    "## Interpreting the Residuals\n",
    "\n",
    "Residuals show the difference between observed and expected frequencies, standardized by the expected frequency. Large residuals indicate cells that contribute significantly to the Chi-Square statistic.\n"
   ]
  },
  {
   "cell_type": "markdown",
   "id": "fddf7bb8",
   "metadata": {
    "papermill": {
     "duration": 0.00732,
     "end_time": "2024-06-14T15:12:36.052070",
     "exception": false,
     "start_time": "2024-06-14T15:12:36.044750",
     "status": "completed"
    },
    "tags": []
   },
   "source": [
    "## Calculating the Odds Ratio\n",
    "\n",
    "The odds ratio will provide a measure of association between the two categorical variables. Note that the odds ratio is only appropriate for 2x2 tables.\n"
   ]
  },
  {
   "cell_type": "code",
   "execution_count": 8,
   "id": "5562bb24",
   "metadata": {
    "execution": {
     "iopub.execute_input": "2024-06-14T15:12:36.069031Z",
     "iopub.status.busy": "2024-06-14T15:12:36.068593Z",
     "iopub.status.idle": "2024-06-14T15:12:36.077016Z",
     "shell.execute_reply": "2024-06-14T15:12:36.075881Z"
    },
    "papermill": {
     "duration": 0.020057,
     "end_time": "2024-06-14T15:12:36.079675",
     "exception": false,
     "start_time": "2024-06-14T15:12:36.059618",
     "status": "completed"
    },
    "tags": []
   },
   "outputs": [
    {
     "name": "stdout",
     "output_type": "stream",
     "text": [
      "Odds Ratio: 2.55\n"
     ]
    }
   ],
   "source": [
    "# Check if the table is 2x2\n",
    "if contingency_table.shape == (2, 2):\n",
    "    # Extract values from the contingency table\n",
    "    a = contingency_table.iloc[0, 0]\n",
    "    b = contingency_table.iloc[0, 1]\n",
    "    c = contingency_table.iloc[1, 0]\n",
    "    d = contingency_table.iloc[1, 1]\n",
    "    \n",
    "    # Calculate the Odds Ratio\n",
    "    odds_ratio = (a / b) / (c / d)\n",
    "    print(f\"Odds Ratio: {odds_ratio:.2f}\")\n",
    "else:\n",
    "    print(\"Odds Ratio calculation is only applicable for 2x2 tables.\")\n"
   ]
  },
  {
   "cell_type": "markdown",
   "id": "cf5b2567",
   "metadata": {
    "papermill": {
     "duration": 0.007914,
     "end_time": "2024-06-14T15:12:36.095128",
     "exception": false,
     "start_time": "2024-06-14T15:12:36.087214",
     "status": "completed"
    },
    "tags": []
   },
   "source": [
    "## Interpreting the Results\n",
    "\n",
    "- **Residuals**: Standardized differences between observed and expected frequencies.\n",
    "- **Odds Ratio**: Measure of association between the two variables, applicable for 2x2 tables.\n",
    "\n",
    "If the p-value is less than our significance level (typically 0.05), we reject the null hypothesis and conclude that there is a significant association between `lnpos_YN` and `status`.\n"
   ]
  },
  {
   "cell_type": "markdown",
   "id": "636c9b8a",
   "metadata": {
    "papermill": {
     "duration": 0.007677,
     "end_time": "2024-06-14T15:12:36.110809",
     "exception": false,
     "start_time": "2024-06-14T15:12:36.103132",
     "status": "completed"
    },
    "tags": []
   },
   "source": [
    "## The Fisher Exact Test "
   ]
  },
  {
   "cell_type": "code",
   "execution_count": 9,
   "id": "d96121da",
   "metadata": {
    "execution": {
     "iopub.execute_input": "2024-06-14T15:12:36.129820Z",
     "iopub.status.busy": "2024-06-14T15:12:36.129407Z",
     "iopub.status.idle": "2024-06-14T15:12:36.138015Z",
     "shell.execute_reply": "2024-06-14T15:12:36.136712Z"
    },
    "papermill": {
     "duration": 0.021269,
     "end_time": "2024-06-14T15:12:36.140621",
     "exception": false,
     "start_time": "2024-06-14T15:12:36.119352",
     "status": "completed"
    },
    "tags": []
   },
   "outputs": [
    {
     "name": "stdout",
     "output_type": "stream",
     "text": [
      "All expected frequencies are 5 or greater. Performing Chi-Square Test for Independence.\n"
     ]
    }
   ],
   "source": [
    "# Fisher is typically used when sample sizes are small, especially when the expected frequency in any of the cells of a contingency table is less than 5\n",
    "# Check if any expected frequency is less than 5\n",
    "\n",
    "if (expected < 5).any():\n",
    "    print(\"At least one expected frequency is less than 5. Performing Fisher Exact Test.\")\n",
    "    \n",
    "    # Fisher Exact Test can only be performed on 2x2 tables\n",
    "    if contingency_table.shape == (2, 2):\n",
    "        oddsratio, p_fisher = stats.fisher_exact(contingency_table)\n",
    "        print(\"Fisher Exact Test p-value:\", p_fisher)\n",
    "    else:\n",
    "        print(\"Fisher Exact Test is not applicable for tables larger than 2x2.\")\n",
    "else:\n",
    "    print(\"All expected frequencies are 5 or greater. Performing Chi-Square Test for Independence.\")\n"
   ]
  },
  {
   "cell_type": "markdown",
   "id": "902f114d",
   "metadata": {
    "papermill": {
     "duration": 0.007581,
     "end_time": "2024-06-14T15:12:36.156218",
     "exception": false,
     "start_time": "2024-06-14T15:12:36.148637",
     "status": "completed"
    },
    "tags": []
   },
   "source": [
    "**In next versions I will perform another statistical test on this dataset**\n",
    "> Stay Tuned 🌀"
   ]
  },
  {
   "cell_type": "code",
   "execution_count": null,
   "id": "ee57e2d9",
   "metadata": {
    "papermill": {
     "duration": 0.007565,
     "end_time": "2024-06-14T15:12:36.171793",
     "exception": false,
     "start_time": "2024-06-14T15:12:36.164228",
     "status": "completed"
    },
    "tags": []
   },
   "outputs": [],
   "source": []
  }
 ],
 "metadata": {
  "kaggle": {
   "accelerator": "none",
   "dataSources": [
    {
     "datasetId": 5211930,
     "sourceId": 8691661,
     "sourceType": "datasetVersion"
    }
   ],
   "dockerImageVersionId": 30732,
   "isGpuEnabled": false,
   "isInternetEnabled": true,
   "language": "python",
   "sourceType": "notebook"
  },
  "kernelspec": {
   "display_name": "Python 3",
   "language": "python",
   "name": "python3"
  },
  "language_info": {
   "codemirror_mode": {
    "name": "ipython",
    "version": 3
   },
   "file_extension": ".py",
   "mimetype": "text/x-python",
   "name": "python",
   "nbconvert_exporter": "python",
   "pygments_lexer": "ipython3",
   "version": "3.10.13"
  },
  "papermill": {
   "default_parameters": {},
   "duration": 6.65985,
   "end_time": "2024-06-14T15:12:36.802607",
   "environment_variables": {},
   "exception": null,
   "input_path": "__notebook__.ipynb",
   "output_path": "__notebook__.ipynb",
   "parameters": {},
   "start_time": "2024-06-14T15:12:30.142757",
   "version": "2.5.0"
  }
 },
 "nbformat": 4,
 "nbformat_minor": 5
}
