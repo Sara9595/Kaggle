{
 "cells": [
  {
   "cell_type": "markdown",
   "id": "db0391c0",
   "metadata": {
    "papermill": {
     "duration": 0.012889,
     "end_time": "2024-08-23T16:54:20.539734",
     "exception": false,
     "start_time": "2024-08-23T16:54:20.526845",
     "status": "completed"
    },
    "tags": []
   },
   "source": [
    "## In this notebook, we will perform some statistical tests on preprocessed breast cancer dataset"
   ]
  },
  {
   "cell_type": "code",
   "execution_count": 1,
   "id": "ee301e6d",
   "metadata": {
    "execution": {
     "iopub.execute_input": "2024-08-23T16:54:20.566260Z",
     "iopub.status.busy": "2024-08-23T16:54:20.565872Z",
     "iopub.status.idle": "2024-08-23T16:54:22.505769Z",
     "shell.execute_reply": "2024-08-23T16:54:22.504718Z"
    },
    "papermill": {
     "duration": 1.95613,
     "end_time": "2024-08-23T16:54:22.508386",
     "exception": false,
     "start_time": "2024-08-23T16:54:20.552256",
     "status": "completed"
    },
    "tags": []
   },
   "outputs": [],
   "source": [
    "# import necessary libraries\n",
    "import pandas as pd\n",
    "import numpy as np\n",
    "import scipy.stats as stats\n",
    "from scipy.stats import norm, shapiro, levene"
   ]
  },
  {
   "cell_type": "code",
   "execution_count": 2,
   "id": "50a7f6d2",
   "metadata": {
    "execution": {
     "iopub.execute_input": "2024-08-23T16:54:22.536017Z",
     "iopub.status.busy": "2024-08-23T16:54:22.535520Z",
     "iopub.status.idle": "2024-08-23T16:54:22.558372Z",
     "shell.execute_reply": "2024-08-23T16:54:22.557244Z"
    },
    "papermill": {
     "duration": 0.039828,
     "end_time": "2024-08-23T16:54:22.560995",
     "exception": false,
     "start_time": "2024-08-23T16:54:22.521167",
     "status": "completed"
    },
    "tags": []
   },
   "outputs": [],
   "source": [
    "# Load the dataset\n",
    "file_path = '/kaggle/input/breastcancer-preprocessed/BreastCancer-Preprocessed.csv'\n",
    "df = pd.read_csv(file_path)"
   ]
  },
  {
   "cell_type": "markdown",
   "id": "fd562d80",
   "metadata": {
    "papermill": {
     "duration": 0.01308,
     "end_time": "2024-08-23T16:54:22.586998",
     "exception": false,
     "start_time": "2024-08-23T16:54:22.573918",
     "status": "completed"
    },
    "tags": []
   },
   "source": [
    "##  Display the first few rows of the dataset to understand its structure"
   ]
  },
  {
   "cell_type": "code",
   "execution_count": 3,
   "id": "13ecd1b9",
   "metadata": {
    "execution": {
     "iopub.execute_input": "2024-08-23T16:54:22.615206Z",
     "iopub.status.busy": "2024-08-23T16:54:22.614806Z",
     "iopub.status.idle": "2024-08-23T16:54:22.644277Z",
     "shell.execute_reply": "2024-08-23T16:54:22.643254Z"
    },
    "papermill": {
     "duration": 0.046325,
     "end_time": "2024-08-23T16:54:22.646776",
     "exception": false,
     "start_time": "2024-08-23T16:54:22.600451",
     "status": "completed"
    },
    "tags": []
   },
   "outputs": [
    {
     "data": {
      "text/html": [
       "<div>\n",
       "<style scoped>\n",
       "    .dataframe tbody tr th:only-of-type {\n",
       "        vertical-align: middle;\n",
       "    }\n",
       "\n",
       "    .dataframe tbody tr th {\n",
       "        vertical-align: top;\n",
       "    }\n",
       "\n",
       "    .dataframe thead th {\n",
       "        text-align: right;\n",
       "    }\n",
       "</style>\n",
       "<table border=\"1\" class=\"dataframe\">\n",
       "  <thead>\n",
       "    <tr style=\"text-align: right;\">\n",
       "      <th></th>\n",
       "      <th>id</th>\n",
       "      <th>age</th>\n",
       "      <th>pathsize</th>\n",
       "      <th>lnpos</th>\n",
       "      <th>histgrad</th>\n",
       "      <th>er</th>\n",
       "      <th>pr</th>\n",
       "      <th>status</th>\n",
       "      <th>time</th>\n",
       "      <th>lnpos_YN</th>\n",
       "      <th>pathsize_Cat</th>\n",
       "    </tr>\n",
       "  </thead>\n",
       "  <tbody>\n",
       "    <tr>\n",
       "      <th>0</th>\n",
       "      <td>1.0</td>\n",
       "      <td>60.0</td>\n",
       "      <td>NaN</td>\n",
       "      <td>0.0</td>\n",
       "      <td>3.0</td>\n",
       "      <td>0.0</td>\n",
       "      <td>0.0</td>\n",
       "      <td>0.0</td>\n",
       "      <td>9.466667</td>\n",
       "      <td>No</td>\n",
       "      <td>NaN</td>\n",
       "    </tr>\n",
       "    <tr>\n",
       "      <th>1</th>\n",
       "      <td>2.0</td>\n",
       "      <td>79.0</td>\n",
       "      <td>NaN</td>\n",
       "      <td>0.0</td>\n",
       "      <td>NaN</td>\n",
       "      <td>NaN</td>\n",
       "      <td>NaN</td>\n",
       "      <td>0.0</td>\n",
       "      <td>8.600000</td>\n",
       "      <td>No</td>\n",
       "      <td>NaN</td>\n",
       "    </tr>\n",
       "    <tr>\n",
       "      <th>2</th>\n",
       "      <td>3.0</td>\n",
       "      <td>82.0</td>\n",
       "      <td>NaN</td>\n",
       "      <td>0.0</td>\n",
       "      <td>2.0</td>\n",
       "      <td>NaN</td>\n",
       "      <td>NaN</td>\n",
       "      <td>0.0</td>\n",
       "      <td>19.333333</td>\n",
       "      <td>No</td>\n",
       "      <td>NaN</td>\n",
       "    </tr>\n",
       "    <tr>\n",
       "      <th>3</th>\n",
       "      <td>4.0</td>\n",
       "      <td>66.0</td>\n",
       "      <td>NaN</td>\n",
       "      <td>0.0</td>\n",
       "      <td>2.0</td>\n",
       "      <td>1.0</td>\n",
       "      <td>1.0</td>\n",
       "      <td>0.0</td>\n",
       "      <td>16.333333</td>\n",
       "      <td>No</td>\n",
       "      <td>NaN</td>\n",
       "    </tr>\n",
       "    <tr>\n",
       "      <th>4</th>\n",
       "      <td>5.0</td>\n",
       "      <td>52.0</td>\n",
       "      <td>NaN</td>\n",
       "      <td>0.0</td>\n",
       "      <td>3.0</td>\n",
       "      <td>NaN</td>\n",
       "      <td>NaN</td>\n",
       "      <td>0.0</td>\n",
       "      <td>8.500000</td>\n",
       "      <td>No</td>\n",
       "      <td>NaN</td>\n",
       "    </tr>\n",
       "  </tbody>\n",
       "</table>\n",
       "</div>"
      ],
      "text/plain": [
       "    id   age  pathsize  lnpos  histgrad   er   pr  status       time lnpos_YN  \\\n",
       "0  1.0  60.0       NaN    0.0       3.0  0.0  0.0     0.0   9.466667       No   \n",
       "1  2.0  79.0       NaN    0.0       NaN  NaN  NaN     0.0   8.600000       No   \n",
       "2  3.0  82.0       NaN    0.0       2.0  NaN  NaN     0.0  19.333333       No   \n",
       "3  4.0  66.0       NaN    0.0       2.0  1.0  1.0     0.0  16.333333       No   \n",
       "4  5.0  52.0       NaN    0.0       3.0  NaN  NaN     0.0   8.500000       No   \n",
       "\n",
       "  pathsize_Cat  \n",
       "0          NaN  \n",
       "1          NaN  \n",
       "2          NaN  \n",
       "3          NaN  \n",
       "4          NaN  "
      ]
     },
     "execution_count": 3,
     "metadata": {},
     "output_type": "execute_result"
    }
   ],
   "source": [
    "df.head()"
   ]
  },
  {
   "cell_type": "markdown",
   "id": "fc5b38ae",
   "metadata": {
    "papermill": {
     "duration": 0.012664,
     "end_time": "2024-08-23T16:54:22.672406",
     "exception": false,
     "start_time": "2024-08-23T16:54:22.659742",
     "status": "completed"
    },
    "tags": []
   },
   "source": [
    "## Understanding the Variables\n",
    "\n",
    "The `lnpos_YN` and `status` are categorical variables that we want to test for independence.\n",
    "Let's take a look at the unique values in these columns."
   ]
  },
  {
   "cell_type": "code",
   "execution_count": 4,
   "id": "6b950aae",
   "metadata": {
    "execution": {
     "iopub.execute_input": "2024-08-23T16:54:22.699495Z",
     "iopub.status.busy": "2024-08-23T16:54:22.699116Z",
     "iopub.status.idle": "2024-08-23T16:54:22.709149Z",
     "shell.execute_reply": "2024-08-23T16:54:22.707967Z"
    },
    "papermill": {
     "duration": 0.026412,
     "end_time": "2024-08-23T16:54:22.711446",
     "exception": false,
     "start_time": "2024-08-23T16:54:22.685034",
     "status": "completed"
    },
    "tags": []
   },
   "outputs": [
    {
     "name": "stdout",
     "output_type": "stream",
     "text": [
      "Unique values in 'lnpos_YN': ['No' 'Yes']\n",
      "Unique values in 'status': [0. 1.]\n"
     ]
    }
   ],
   "source": [
    "# Check the unique values in 'lnpos_YN' and 'status'\n",
    "print(\"Unique values in 'lnpos_YN':\", df['lnpos_YN'].unique())\n",
    "print(\"Unique values in 'status':\", df['status'].unique())\n"
   ]
  },
  {
   "cell_type": "markdown",
   "id": "edb8b58a",
   "metadata": {
    "papermill": {
     "duration": 0.013115,
     "end_time": "2024-08-23T16:54:22.738805",
     "exception": false,
     "start_time": "2024-08-23T16:54:22.725690",
     "status": "completed"
    },
    "tags": []
   },
   "source": [
    "## Creating a Contingency Table\n",
    "\n",
    "We will create a contingency table to summarize the relationship between the two categorical variables."
   ]
  },
  {
   "cell_type": "code",
   "execution_count": 5,
   "id": "87dcd1b2",
   "metadata": {
    "execution": {
     "iopub.execute_input": "2024-08-23T16:54:22.766195Z",
     "iopub.status.busy": "2024-08-23T16:54:22.765814Z",
     "iopub.status.idle": "2024-08-23T16:54:22.799466Z",
     "shell.execute_reply": "2024-08-23T16:54:22.797992Z"
    },
    "papermill": {
     "duration": 0.050497,
     "end_time": "2024-08-23T16:54:22.802187",
     "exception": false,
     "start_time": "2024-08-23T16:54:22.751690",
     "status": "completed"
    },
    "tags": []
   },
   "outputs": [
    {
     "data": {
      "text/html": [
       "<div>\n",
       "<style scoped>\n",
       "    .dataframe tbody tr th:only-of-type {\n",
       "        vertical-align: middle;\n",
       "    }\n",
       "\n",
       "    .dataframe tbody tr th {\n",
       "        vertical-align: top;\n",
       "    }\n",
       "\n",
       "    .dataframe thead th {\n",
       "        text-align: right;\n",
       "    }\n",
       "</style>\n",
       "<table border=\"1\" class=\"dataframe\">\n",
       "  <thead>\n",
       "    <tr style=\"text-align: right;\">\n",
       "      <th>status</th>\n",
       "      <th>0.0</th>\n",
       "      <th>1.0</th>\n",
       "    </tr>\n",
       "    <tr>\n",
       "      <th>lnpos_YN</th>\n",
       "      <th></th>\n",
       "      <th></th>\n",
       "    </tr>\n",
       "  </thead>\n",
       "  <tbody>\n",
       "    <tr>\n",
       "      <th>No</th>\n",
       "      <td>887</td>\n",
       "      <td>42</td>\n",
       "    </tr>\n",
       "    <tr>\n",
       "      <th>Yes</th>\n",
       "      <td>248</td>\n",
       "      <td>30</td>\n",
       "    </tr>\n",
       "  </tbody>\n",
       "</table>\n",
       "</div>"
      ],
      "text/plain": [
       "status    0.0  1.0\n",
       "lnpos_YN          \n",
       "No        887   42\n",
       "Yes       248   30"
      ]
     },
     "execution_count": 5,
     "metadata": {},
     "output_type": "execute_result"
    }
   ],
   "source": [
    "# Create a contingency table\n",
    "contingency_table = pd.crosstab(df['lnpos_YN'], df['status'])\n",
    "contingency_table\n"
   ]
  },
  {
   "cell_type": "code",
   "execution_count": 6,
   "id": "2d381901",
   "metadata": {
    "execution": {
     "iopub.execute_input": "2024-08-23T16:54:22.830837Z",
     "iopub.status.busy": "2024-08-23T16:54:22.829924Z",
     "iopub.status.idle": "2024-08-23T16:54:22.842642Z",
     "shell.execute_reply": "2024-08-23T16:54:22.841586Z"
    },
    "papermill": {
     "duration": 0.029192,
     "end_time": "2024-08-23T16:54:22.844788",
     "exception": false,
     "start_time": "2024-08-23T16:54:22.815596",
     "status": "completed"
    },
    "tags": []
   },
   "outputs": [
    {
     "data": {
      "text/html": [
       "<div>\n",
       "<style scoped>\n",
       "    .dataframe tbody tr th:only-of-type {\n",
       "        vertical-align: middle;\n",
       "    }\n",
       "\n",
       "    .dataframe tbody tr th {\n",
       "        vertical-align: top;\n",
       "    }\n",
       "\n",
       "    .dataframe thead th {\n",
       "        text-align: right;\n",
       "    }\n",
       "</style>\n",
       "<table border=\"1\" class=\"dataframe\">\n",
       "  <thead>\n",
       "    <tr style=\"text-align: right;\">\n",
       "      <th>status</th>\n",
       "      <th>0.0</th>\n",
       "      <th>1.0</th>\n",
       "    </tr>\n",
       "    <tr>\n",
       "      <th>lnpos_YN</th>\n",
       "      <th></th>\n",
       "      <th></th>\n",
       "    </tr>\n",
       "  </thead>\n",
       "  <tbody>\n",
       "    <tr>\n",
       "      <th>No</th>\n",
       "      <td>95.479010</td>\n",
       "      <td>4.520990</td>\n",
       "    </tr>\n",
       "    <tr>\n",
       "      <th>Yes</th>\n",
       "      <td>89.208633</td>\n",
       "      <td>10.791367</td>\n",
       "    </tr>\n",
       "  </tbody>\n",
       "</table>\n",
       "</div>"
      ],
      "text/plain": [
       "status          0.0        1.0\n",
       "lnpos_YN                      \n",
       "No        95.479010   4.520990\n",
       "Yes       89.208633  10.791367"
      ]
     },
     "execution_count": 6,
     "metadata": {},
     "output_type": "execute_result"
    }
   ],
   "source": [
    "# Calculate row-wise percentages\n",
    "row_percentage = contingency_table.apply(lambda x: x / x.sum() * 100, axis=1)\n",
    "row_percentage"
   ]
  },
  {
   "cell_type": "markdown",
   "id": "85e8f474",
   "metadata": {
    "papermill": {
     "duration": 0.013829,
     "end_time": "2024-08-23T16:54:22.872303",
     "exception": false,
     "start_time": "2024-08-23T16:54:22.858474",
     "status": "completed"
    },
    "tags": []
   },
   "source": [
    "## Performing the Chi-Square Test for Independence\n",
    "\n",
    "The Chi-Square Test for Independence will help us determine whether there is a significant association between `lnpos_YN` and `status`.\n"
   ]
  },
  {
   "cell_type": "code",
   "execution_count": 7,
   "id": "8d3cc08e",
   "metadata": {
    "execution": {
     "iopub.execute_input": "2024-08-23T16:54:22.900963Z",
     "iopub.status.busy": "2024-08-23T16:54:22.900561Z",
     "iopub.status.idle": "2024-08-23T16:54:22.910024Z",
     "shell.execute_reply": "2024-08-23T16:54:22.908929Z"
    },
    "papermill": {
     "duration": 0.026838,
     "end_time": "2024-08-23T16:54:22.912649",
     "exception": false,
     "start_time": "2024-08-23T16:54:22.885811",
     "status": "completed"
    },
    "tags": []
   },
   "outputs": [
    {
     "name": "stdout",
     "output_type": "stream",
     "text": [
      "Chi-Square Statistic: 13.900758213995182\n",
      "***********************************\n",
      "p-value: 0.00019272070767964805\n",
      "***********************************\n",
      "Degrees of Freedom: 1\n",
      "***********************************\n",
      "Expected Frequencies Table:\n",
      " [[873.58326429  55.41673571]\n",
      " [261.41673571  16.58326429]]\n"
     ]
    }
   ],
   "source": [
    "# Perform the Chi-Square Test for Independence\n",
    "chi2, p, dof, expected = stats.chi2_contingency(contingency_table)\n",
    "\n",
    "print(\"Chi-Square Statistic:\", chi2)\n",
    "print(\"***********************************\")\n",
    "print(\"p-value:\", p)\n",
    "print(\"***********************************\")\n",
    "print(\"Degrees of Freedom:\", dof)\n",
    "print(\"***********************************\")\n",
    "print(\"Expected Frequencies Table:\\n\", expected)"
   ]
  },
  {
   "cell_type": "markdown",
   "id": "42c81de9",
   "metadata": {
    "papermill": {
     "duration": 0.013265,
     "end_time": "2024-08-23T16:54:22.939472",
     "exception": false,
     "start_time": "2024-08-23T16:54:22.926207",
     "status": "completed"
    },
    "tags": []
   },
   "source": [
    "## Interpreting the Results\n",
    "\n",
    "- **Chi-Square Statistic**: A measure of how much the observed counts deviate from the expected counts.\n",
    "- **p-value**: The probability of obtaining a Chi-Square statistic at least as extreme as the one computed, assuming that the variables are independent.\n",
    "- **Degrees of Freedom**: Number of values that are free to vary given the constraints.\n",
    "- **Expected Frequencies Table**: The expected counts if the variables are truly independent.\n",
    "\n",
    "If the p-value is less than our significance level (typically 0.05), we reject the null hypothesis and conclude that there is a significant association between `lnpos_YN` and `status`.\n"
   ]
  },
  {
   "cell_type": "markdown",
   "id": "edc50f74",
   "metadata": {
    "papermill": {
     "duration": 0.013151,
     "end_time": "2024-08-23T16:54:22.966018",
     "exception": false,
     "start_time": "2024-08-23T16:54:22.952867",
     "status": "completed"
    },
    "tags": []
   },
   "source": [
    "## Calculate the residuals"
   ]
  },
  {
   "cell_type": "code",
   "execution_count": 8,
   "id": "5cd5b2e8",
   "metadata": {
    "execution": {
     "iopub.execute_input": "2024-08-23T16:54:22.994915Z",
     "iopub.status.busy": "2024-08-23T16:54:22.994528Z",
     "iopub.status.idle": "2024-08-23T16:54:23.002666Z",
     "shell.execute_reply": "2024-08-23T16:54:23.001409Z"
    },
    "papermill": {
     "duration": 0.025499,
     "end_time": "2024-08-23T16:54:23.005400",
     "exception": false,
     "start_time": "2024-08-23T16:54:22.979901",
     "status": "completed"
    },
    "tags": []
   },
   "outputs": [
    {
     "name": "stdout",
     "output_type": "stream",
     "text": [
      "Residuals:\n",
      " status          0.0        1.0\n",
      "lnpos_YN                      \n",
      "No        13.416736 -13.416736\n",
      "Yes      -13.416736  13.416736\n"
     ]
    }
   ],
   "source": [
    "# Calculate the residuals\n",
    "residuals = (contingency_table - expected)\n",
    "print(\"Residuals:\\n\", residuals)"
   ]
  },
  {
   "cell_type": "markdown",
   "id": "262f5190",
   "metadata": {
    "papermill": {
     "duration": 0.013417,
     "end_time": "2024-08-23T16:54:23.032612",
     "exception": false,
     "start_time": "2024-08-23T16:54:23.019195",
     "status": "completed"
    },
    "tags": []
   },
   "source": [
    "## Interpreting the Residuals\n",
    "\n",
    "Residuals show the difference between observed and expected frequencies, standardized by the expected frequency. Large residuals indicate cells that contribute significantly to the Chi-Square statistic.\n"
   ]
  },
  {
   "cell_type": "markdown",
   "id": "d36857c6",
   "metadata": {
    "papermill": {
     "duration": 0.013318,
     "end_time": "2024-08-23T16:54:23.059321",
     "exception": false,
     "start_time": "2024-08-23T16:54:23.046003",
     "status": "completed"
    },
    "tags": []
   },
   "source": [
    "## Calculating the Odds Ratio\n",
    "\n",
    "The odds ratio will provide a measure of association between the two categorical variables. Note that the odds ratio is only appropriate for 2x2 tables.\n"
   ]
  },
  {
   "cell_type": "code",
   "execution_count": 9,
   "id": "573fa928",
   "metadata": {
    "execution": {
     "iopub.execute_input": "2024-08-23T16:54:23.087997Z",
     "iopub.status.busy": "2024-08-23T16:54:23.087638Z",
     "iopub.status.idle": "2024-08-23T16:54:23.097822Z",
     "shell.execute_reply": "2024-08-23T16:54:23.095950Z"
    },
    "papermill": {
     "duration": 0.027819,
     "end_time": "2024-08-23T16:54:23.100646",
     "exception": false,
     "start_time": "2024-08-23T16:54:23.072827",
     "status": "completed"
    },
    "tags": []
   },
   "outputs": [
    {
     "name": "stdout",
     "output_type": "stream",
     "text": [
      "Odds Ratio: 2.55\n",
      "95% Confidence Interval (CI): (1.5663, 4.1668)\n"
     ]
    }
   ],
   "source": [
    "   # Check if the table is 2x2\n",
    "if contingency_table.shape == (2, 2):\n",
    "    # Extract values from the contingency table\n",
    "    a = contingency_table.iloc[0, 0]\n",
    "    b = contingency_table.iloc[0, 1]\n",
    "    c = contingency_table.iloc[1, 0]\n",
    "    d = contingency_table.iloc[1, 1]\n",
    "    \n",
    "    # Calculate the Odds Ratio\n",
    "    odds_ratio = (a / b) / (c / d)\n",
    "    \n",
    "    log_OddsRatio = np.log(odds_ratio)\n",
    "    _log_or = np.sqrt(1/a + 1/b + 1/c + 1/d)\n",
    "    \n",
    "    # 95% Confidence interval for odds ratio\n",
    "    z = norm.ppf(0.975)\n",
    "    CI_lower = np.exp(log_OddsRatio - z * _log_or)\n",
    "    CI_upper = np.exp(log_OddsRatio + z * _log_or)\n",
    "    \n",
    "    # Output results\n",
    "    print(f\"Odds Ratio: {odds_ratio:.2f}\")\n",
    "    print(f\"95% Confidence Interval (CI): ({CI_lower:.4f}, {CI_upper:.4f})\")\n",
    "    \n",
    "     "
   ]
  },
  {
   "cell_type": "markdown",
   "id": "3df57daa",
   "metadata": {
    "papermill": {
     "duration": 0.013231,
     "end_time": "2024-08-23T16:54:23.128431",
     "exception": false,
     "start_time": "2024-08-23T16:54:23.115200",
     "status": "completed"
    },
    "tags": []
   },
   "source": [
    "## Interpreting the Results\n",
    "\n",
    "- **Odds Ratio**: Measure of association between the two variables, applicable for 2x2 tables.\n",
    "- **95% Confidence interval for odds ratio** : A confidence interval (CI) provides a range of values that is likely to contain the population parameter with a certain level of confidence (usually 95%). \n"
   ]
  },
  {
   "cell_type": "markdown",
   "id": "a35a9ed1",
   "metadata": {
    "papermill": {
     "duration": 0.013174,
     "end_time": "2024-08-23T16:54:23.154881",
     "exception": false,
     "start_time": "2024-08-23T16:54:23.141707",
     "status": "completed"
    },
    "tags": []
   },
   "source": [
    "## The Fisher Exact Test "
   ]
  },
  {
   "cell_type": "code",
   "execution_count": 10,
   "id": "2941301d",
   "metadata": {
    "execution": {
     "iopub.execute_input": "2024-08-23T16:54:23.183563Z",
     "iopub.status.busy": "2024-08-23T16:54:23.182597Z",
     "iopub.status.idle": "2024-08-23T16:54:23.189459Z",
     "shell.execute_reply": "2024-08-23T16:54:23.188326Z"
    },
    "papermill": {
     "duration": 0.023524,
     "end_time": "2024-08-23T16:54:23.191687",
     "exception": false,
     "start_time": "2024-08-23T16:54:23.168163",
     "status": "completed"
    },
    "tags": []
   },
   "outputs": [
    {
     "name": "stdout",
     "output_type": "stream",
     "text": [
      "All expected frequencies are 5 or greater. Performing Chi-Square Test for Independence.\n"
     ]
    }
   ],
   "source": [
    "# Fisher is typically used when sample sizes are small, especially when the expected frequency in any of the cells of a contingency table is less than 5\n",
    "# Check if any expected frequency is less than 5\n",
    "\n",
    "if (expected < 5).any():\n",
    "    print(\"At least one expected frequency is less than 5. Performing Fisher Exact Test.\")\n",
    "    \n",
    "    # Fisher Exact Test can only be performed on 2x2 tables\n",
    "    if contingency_table.shape == (2, 2):\n",
    "        oddsratio, p_fisher = stats.fisher_exact(contingency_table)\n",
    "        print(\"Fisher Exact Test p-value:\", p_fisher)\n",
    "    else:\n",
    "        print(\"Fisher Exact Test is not applicable for tables larger than 2x2.\")\n",
    "else:\n",
    "    print(\"All expected frequencies are 5 or greater. Performing Chi-Square Test for Independence.\")\n",
    "    \n"
   ]
  },
  {
   "cell_type": "markdown",
   "id": "d0e032fe",
   "metadata": {
    "papermill": {
     "duration": 0.01304,
     "end_time": "2024-08-23T16:54:23.218073",
     "exception": false,
     "start_time": "2024-08-23T16:54:23.205033",
     "status": "completed"
    },
    "tags": []
   },
   "source": [
    "## Independent t test"
   ]
  },
  {
   "cell_type": "code",
   "execution_count": 11,
   "id": "29b08e19",
   "metadata": {
    "execution": {
     "iopub.execute_input": "2024-08-23T16:54:23.302708Z",
     "iopub.status.busy": "2024-08-23T16:54:23.302279Z",
     "iopub.status.idle": "2024-08-23T16:54:23.312443Z",
     "shell.execute_reply": "2024-08-23T16:54:23.311174Z"
    },
    "papermill": {
     "duration": 0.083712,
     "end_time": "2024-08-23T16:54:23.315066",
     "exception": false,
     "start_time": "2024-08-23T16:54:23.231354",
     "status": "completed"
    },
    "tags": []
   },
   "outputs": [
    {
     "data": {
      "text/plain": [
       "lnpos_YN\n",
       "No     929\n",
       "Yes    278\n",
       "Name: count, dtype: int64"
      ]
     },
     "execution_count": 11,
     "metadata": {},
     "output_type": "execute_result"
    }
   ],
   "source": [
    "df.lnpos_YN.value_counts()\n"
   ]
  },
  {
   "cell_type": "code",
   "execution_count": 12,
   "id": "597985c4",
   "metadata": {
    "execution": {
     "iopub.execute_input": "2024-08-23T16:54:23.345522Z",
     "iopub.status.busy": "2024-08-23T16:54:23.344694Z",
     "iopub.status.idle": "2024-08-23T16:54:23.354379Z",
     "shell.execute_reply": "2024-08-23T16:54:23.353229Z"
    },
    "papermill": {
     "duration": 0.026955,
     "end_time": "2024-08-23T16:54:23.356527",
     "exception": false,
     "start_time": "2024-08-23T16:54:23.329572",
     "status": "completed"
    },
    "tags": []
   },
   "outputs": [
    {
     "data": {
      "text/plain": [
       "8        27.633333\n",
       "9        11.133333\n",
       "10       11.066667\n",
       "20      107.800000\n",
       "27       48.666667\n",
       "           ...    \n",
       "1200     33.700000\n",
       "1201     32.366667\n",
       "1202      6.866667\n",
       "1204     15.166667\n",
       "1205     45.133333\n",
       "Name: time, Length: 278, dtype: float64"
      ]
     },
     "execution_count": 12,
     "metadata": {},
     "output_type": "execute_result"
    }
   ],
   "source": [
    "df[df['lnpos_YN'] == 'Yes']['time']"
   ]
  },
  {
   "cell_type": "code",
   "execution_count": 13,
   "id": "1b5f2cdd",
   "metadata": {
    "execution": {
     "iopub.execute_input": "2024-08-23T16:54:23.386443Z",
     "iopub.status.busy": "2024-08-23T16:54:23.385846Z",
     "iopub.status.idle": "2024-08-23T16:54:23.393159Z",
     "shell.execute_reply": "2024-08-23T16:54:23.392154Z"
    },
    "papermill": {
     "duration": 0.024958,
     "end_time": "2024-08-23T16:54:23.395533",
     "exception": false,
     "start_time": "2024-08-23T16:54:23.370575",
     "status": "completed"
    },
    "tags": []
   },
   "outputs": [],
   "source": [
    "groupY =df[df['lnpos_YN'] == 'Yes']['time']\n",
    "groupN = df[df['lnpos_YN'] == 'No']['time']\n"
   ]
  },
  {
   "cell_type": "markdown",
   "id": "fc46d542",
   "metadata": {
    "papermill": {
     "duration": 0.014416,
     "end_time": "2024-08-23T16:54:23.424173",
     "exception": false,
     "start_time": "2024-08-23T16:54:23.409757",
     "status": "completed"
    },
    "tags": []
   },
   "source": [
    "**Check normality**"
   ]
  },
  {
   "cell_type": "code",
   "execution_count": 14,
   "id": "e616b2c0",
   "metadata": {
    "execution": {
     "iopub.execute_input": "2024-08-23T16:54:23.457401Z",
     "iopub.status.busy": "2024-08-23T16:54:23.457027Z",
     "iopub.status.idle": "2024-08-23T16:54:23.464180Z",
     "shell.execute_reply": "2024-08-23T16:54:23.463010Z"
    },
    "papermill": {
     "duration": 0.027659,
     "end_time": "2024-08-23T16:54:23.466806",
     "exception": false,
     "start_time": "2024-08-23T16:54:23.439147",
     "status": "completed"
    },
    "tags": []
   },
   "outputs": [
    {
     "name": "stdout",
     "output_type": "stream",
     "text": [
      "ShapiroResult(statistic=0.958610475063324, pvalue=1.531057368424826e-15)\n",
      "ShapiroResult(statistic=0.9339127540588379, pvalue=8.318342126223399e-10)\n"
     ]
    }
   ],
   "source": [
    "sh_lnpose_Y = stats.shapiro(groupY)\n",
    "sh_lnpose_N = stats.shapiro(groupN)\n",
    "print(sh_lnpose_N)\n",
    "print(sh_lnpose_Y)"
   ]
  },
  {
   "cell_type": "code",
   "execution_count": 15,
   "id": "d14c03a3",
   "metadata": {
    "execution": {
     "iopub.execute_input": "2024-08-23T16:54:23.497247Z",
     "iopub.status.busy": "2024-08-23T16:54:23.496462Z",
     "iopub.status.idle": "2024-08-23T16:54:23.504975Z",
     "shell.execute_reply": "2024-08-23T16:54:23.503902Z"
    },
    "papermill": {
     "duration": 0.025926,
     "end_time": "2024-08-23T16:54:23.507215",
     "exception": false,
     "start_time": "2024-08-23T16:54:23.481289",
     "status": "completed"
    },
    "tags": []
   },
   "outputs": [
    {
     "data": {
      "text/plain": [
       "LeveneResult(statistic=1.1169212722022501, pvalue=0.29079417684064907)"
      ]
     },
     "execution_count": 15,
     "metadata": {},
     "output_type": "execute_result"
    }
   ],
   "source": [
    "levene1 = levene(groupN,groupY)\n",
    "levene1"
   ]
  },
  {
   "cell_type": "code",
   "execution_count": 16,
   "id": "62af6c58",
   "metadata": {
    "execution": {
     "iopub.execute_input": "2024-08-23T16:54:23.539576Z",
     "iopub.status.busy": "2024-08-23T16:54:23.539196Z",
     "iopub.status.idle": "2024-08-23T16:54:23.547891Z",
     "shell.execute_reply": "2024-08-23T16:54:23.546633Z"
    },
    "papermill": {
     "duration": 0.026767,
     "end_time": "2024-08-23T16:54:23.550455",
     "exception": false,
     "start_time": "2024-08-23T16:54:23.523688",
     "status": "completed"
    },
    "tags": []
   },
   "outputs": [
    {
     "name": "stdout",
     "output_type": "stream",
     "text": [
      "H0 is acceptible and variances are equal in lnpose_YN and Time\n"
     ]
    }
   ],
   "source": [
    "if levene1.pvalue > 0.05 :\n",
    "    t_statistics , p_value = stats.ttest_ind(groupN,groupY,equal_var=True)\n",
    "    print('H0 is acceptible and variances are equal in lnpose_YN and Time')\n",
    "else:\n",
    "    t_statistics , p_value = stats.ttest_ind(groupN,groupY, equal_var=False)\n",
    "    print('H1 is acceptible and variances are not equal in lnpose_YN and Time')"
   ]
  },
  {
   "cell_type": "code",
   "execution_count": 17,
   "id": "727147c7",
   "metadata": {
    "execution": {
     "iopub.execute_input": "2024-08-23T16:54:23.581424Z",
     "iopub.status.busy": "2024-08-23T16:54:23.581061Z",
     "iopub.status.idle": "2024-08-23T16:54:23.589237Z",
     "shell.execute_reply": "2024-08-23T16:54:23.587836Z"
    },
    "papermill": {
     "duration": 0.026281,
     "end_time": "2024-08-23T16:54:23.591633",
     "exception": false,
     "start_time": "2024-08-23T16:54:23.565352",
     "status": "completed"
    },
    "tags": []
   },
   "outputs": [
    {
     "data": {
      "text/plain": [
       "array(['<= 2', '2 <  <= 5', '> 5'], dtype=object)"
      ]
     },
     "execution_count": 17,
     "metadata": {},
     "output_type": "execute_result"
    }
   ],
   "source": [
    "pathsize_groups = df['pathsize_Cat'].dropna().unique()\n",
    "pathsize_groups"
   ]
  },
  {
   "cell_type": "code",
   "execution_count": 18,
   "id": "1e1a26c9",
   "metadata": {
    "execution": {
     "iopub.execute_input": "2024-08-23T16:54:23.623308Z",
     "iopub.status.busy": "2024-08-23T16:54:23.622899Z",
     "iopub.status.idle": "2024-08-23T16:54:23.647795Z",
     "shell.execute_reply": "2024-08-23T16:54:23.646485Z"
    },
    "papermill": {
     "duration": 0.042963,
     "end_time": "2024-08-23T16:54:23.650144",
     "exception": false,
     "start_time": "2024-08-23T16:54:23.607181",
     "status": "completed"
    },
    "tags": []
   },
   "outputs": [
    {
     "data": {
      "text/html": [
       "<div>\n",
       "<style scoped>\n",
       "    .dataframe tbody tr th:only-of-type {\n",
       "        vertical-align: middle;\n",
       "    }\n",
       "\n",
       "    .dataframe tbody tr th {\n",
       "        vertical-align: top;\n",
       "    }\n",
       "\n",
       "    .dataframe thead th {\n",
       "        text-align: right;\n",
       "    }\n",
       "</style>\n",
       "<table border=\"1\" class=\"dataframe\">\n",
       "  <thead>\n",
       "    <tr style=\"text-align: right;\">\n",
       "      <th></th>\n",
       "      <th>id</th>\n",
       "      <th>age</th>\n",
       "      <th>pathsize</th>\n",
       "      <th>lnpos</th>\n",
       "      <th>histgrad</th>\n",
       "      <th>er</th>\n",
       "      <th>pr</th>\n",
       "      <th>status</th>\n",
       "      <th>time</th>\n",
       "      <th>lnpos_YN</th>\n",
       "      <th>pathsize_Cat</th>\n",
       "    </tr>\n",
       "  </thead>\n",
       "  <tbody>\n",
       "    <tr>\n",
       "      <th>86</th>\n",
       "      <td>14.0</td>\n",
       "      <td>44.0</td>\n",
       "      <td>0.10</td>\n",
       "      <td>1.0</td>\n",
       "      <td>NaN</td>\n",
       "      <td>NaN</td>\n",
       "      <td>NaN</td>\n",
       "      <td>0.0</td>\n",
       "      <td>108.900000</td>\n",
       "      <td>Yes</td>\n",
       "      <td>&lt;= 2</td>\n",
       "    </tr>\n",
       "    <tr>\n",
       "      <th>87</th>\n",
       "      <td>15.0</td>\n",
       "      <td>60.0</td>\n",
       "      <td>0.15</td>\n",
       "      <td>0.0</td>\n",
       "      <td>1.0</td>\n",
       "      <td>1.0</td>\n",
       "      <td>1.0</td>\n",
       "      <td>0.0</td>\n",
       "      <td>16.366667</td>\n",
       "      <td>No</td>\n",
       "      <td>&lt;= 2</td>\n",
       "    </tr>\n",
       "    <tr>\n",
       "      <th>88</th>\n",
       "      <td>16.0</td>\n",
       "      <td>49.0</td>\n",
       "      <td>0.20</td>\n",
       "      <td>0.0</td>\n",
       "      <td>1.0</td>\n",
       "      <td>NaN</td>\n",
       "      <td>NaN</td>\n",
       "      <td>0.0</td>\n",
       "      <td>94.333333</td>\n",
       "      <td>No</td>\n",
       "      <td>&lt;= 2</td>\n",
       "    </tr>\n",
       "    <tr>\n",
       "      <th>89</th>\n",
       "      <td>17.0</td>\n",
       "      <td>41.0</td>\n",
       "      <td>0.20</td>\n",
       "      <td>0.0</td>\n",
       "      <td>1.0</td>\n",
       "      <td>NaN</td>\n",
       "      <td>NaN</td>\n",
       "      <td>0.0</td>\n",
       "      <td>87.500000</td>\n",
       "      <td>No</td>\n",
       "      <td>&lt;= 2</td>\n",
       "    </tr>\n",
       "    <tr>\n",
       "      <th>90</th>\n",
       "      <td>18.0</td>\n",
       "      <td>39.0</td>\n",
       "      <td>0.26</td>\n",
       "      <td>0.0</td>\n",
       "      <td>2.0</td>\n",
       "      <td>NaN</td>\n",
       "      <td>NaN</td>\n",
       "      <td>0.0</td>\n",
       "      <td>73.033333</td>\n",
       "      <td>No</td>\n",
       "      <td>&lt;= 2</td>\n",
       "    </tr>\n",
       "    <tr>\n",
       "      <th>...</th>\n",
       "      <td>...</td>\n",
       "      <td>...</td>\n",
       "      <td>...</td>\n",
       "      <td>...</td>\n",
       "      <td>...</td>\n",
       "      <td>...</td>\n",
       "      <td>...</td>\n",
       "      <td>...</td>\n",
       "      <td>...</td>\n",
       "      <td>...</td>\n",
       "      <td>...</td>\n",
       "    </tr>\n",
       "    <tr>\n",
       "      <th>907</th>\n",
       "      <td>1249.0</td>\n",
       "      <td>38.0</td>\n",
       "      <td>2.00</td>\n",
       "      <td>0.0</td>\n",
       "      <td>2.0</td>\n",
       "      <td>NaN</td>\n",
       "      <td>NaN</td>\n",
       "      <td>1.0</td>\n",
       "      <td>25.433333</td>\n",
       "      <td>No</td>\n",
       "      <td>&lt;= 2</td>\n",
       "    </tr>\n",
       "    <tr>\n",
       "      <th>908</th>\n",
       "      <td>1252.0</td>\n",
       "      <td>29.0</td>\n",
       "      <td>1.50</td>\n",
       "      <td>1.0</td>\n",
       "      <td>3.0</td>\n",
       "      <td>NaN</td>\n",
       "      <td>0.0</td>\n",
       "      <td>0.0</td>\n",
       "      <td>35.666667</td>\n",
       "      <td>Yes</td>\n",
       "      <td>&lt;= 2</td>\n",
       "    </tr>\n",
       "    <tr>\n",
       "      <th>909</th>\n",
       "      <td>1256.0</td>\n",
       "      <td>59.0</td>\n",
       "      <td>1.20</td>\n",
       "      <td>0.0</td>\n",
       "      <td>NaN</td>\n",
       "      <td>1.0</td>\n",
       "      <td>0.0</td>\n",
       "      <td>0.0</td>\n",
       "      <td>133.800000</td>\n",
       "      <td>No</td>\n",
       "      <td>&lt;= 2</td>\n",
       "    </tr>\n",
       "    <tr>\n",
       "      <th>910</th>\n",
       "      <td>1261.0</td>\n",
       "      <td>41.0</td>\n",
       "      <td>1.20</td>\n",
       "      <td>0.0</td>\n",
       "      <td>2.0</td>\n",
       "      <td>1.0</td>\n",
       "      <td>1.0</td>\n",
       "      <td>0.0</td>\n",
       "      <td>90.166667</td>\n",
       "      <td>No</td>\n",
       "      <td>&lt;= 2</td>\n",
       "    </tr>\n",
       "    <tr>\n",
       "      <th>911</th>\n",
       "      <td>1262.0</td>\n",
       "      <td>71.0</td>\n",
       "      <td>1.60</td>\n",
       "      <td>0.0</td>\n",
       "      <td>3.0</td>\n",
       "      <td>0.0</td>\n",
       "      <td>0.0</td>\n",
       "      <td>0.0</td>\n",
       "      <td>22.566667</td>\n",
       "      <td>No</td>\n",
       "      <td>&lt;= 2</td>\n",
       "    </tr>\n",
       "  </tbody>\n",
       "</table>\n",
       "<p>826 rows × 11 columns</p>\n",
       "</div>"
      ],
      "text/plain": [
       "         id   age  pathsize  lnpos  histgrad   er   pr  status        time  \\\n",
       "86     14.0  44.0      0.10    1.0       NaN  NaN  NaN     0.0  108.900000   \n",
       "87     15.0  60.0      0.15    0.0       1.0  1.0  1.0     0.0   16.366667   \n",
       "88     16.0  49.0      0.20    0.0       1.0  NaN  NaN     0.0   94.333333   \n",
       "89     17.0  41.0      0.20    0.0       1.0  NaN  NaN     0.0   87.500000   \n",
       "90     18.0  39.0      0.26    0.0       2.0  NaN  NaN     0.0   73.033333   \n",
       "..      ...   ...       ...    ...       ...  ...  ...     ...         ...   \n",
       "907  1249.0  38.0      2.00    0.0       2.0  NaN  NaN     1.0   25.433333   \n",
       "908  1252.0  29.0      1.50    1.0       3.0  NaN  0.0     0.0   35.666667   \n",
       "909  1256.0  59.0      1.20    0.0       NaN  1.0  0.0     0.0  133.800000   \n",
       "910  1261.0  41.0      1.20    0.0       2.0  1.0  1.0     0.0   90.166667   \n",
       "911  1262.0  71.0      1.60    0.0       3.0  0.0  0.0     0.0   22.566667   \n",
       "\n",
       "    lnpos_YN pathsize_Cat  \n",
       "86       Yes         <= 2  \n",
       "87        No         <= 2  \n",
       "88        No         <= 2  \n",
       "89        No         <= 2  \n",
       "90        No         <= 2  \n",
       "..       ...          ...  \n",
       "907       No         <= 2  \n",
       "908      Yes         <= 2  \n",
       "909       No         <= 2  \n",
       "910       No         <= 2  \n",
       "911       No         <= 2  \n",
       "\n",
       "[826 rows x 11 columns]"
      ]
     },
     "execution_count": 18,
     "metadata": {},
     "output_type": "execute_result"
    }
   ],
   "source": [
    "df[df['pathsize_Cat'] == pathsize_groups[0]]"
   ]
  },
  {
   "cell_type": "code",
   "execution_count": 19,
   "id": "59443823",
   "metadata": {
    "execution": {
     "iopub.execute_input": "2024-08-23T16:54:23.681377Z",
     "iopub.status.busy": "2024-08-23T16:54:23.681003Z",
     "iopub.status.idle": "2024-08-23T16:54:23.691397Z",
     "shell.execute_reply": "2024-08-23T16:54:23.690531Z"
    },
    "papermill": {
     "duration": 0.028924,
     "end_time": "2024-08-23T16:54:23.693884",
     "exception": false,
     "start_time": "2024-08-23T16:54:23.664960",
     "status": "completed"
    },
    "tags": []
   },
   "outputs": [],
   "source": [
    "for level, group in df.groupby('pathsize_Cat'):\n",
    "     groupN = group[group['lnpos_YN'] == 'No']['time']\n",
    "     groupY = group[group['lnpos_YN'] == 'Yes']['time']\n",
    " "
   ]
  },
  {
   "cell_type": "code",
   "execution_count": 20,
   "id": "b4501ba4",
   "metadata": {
    "execution": {
     "iopub.execute_input": "2024-08-23T16:54:23.725448Z",
     "iopub.status.busy": "2024-08-23T16:54:23.725076Z",
     "iopub.status.idle": "2024-08-23T16:54:23.737120Z",
     "shell.execute_reply": "2024-08-23T16:54:23.735855Z"
    },
    "papermill": {
     "duration": 0.030156,
     "end_time": "2024-08-23T16:54:23.739285",
     "exception": false,
     "start_time": "2024-08-23T16:54:23.709129",
     "status": "completed"
    },
    "tags": []
   },
   "outputs": [
    {
     "name": "stdout",
     "output_type": "stream",
     "text": [
      "Shapiro test for pathsize_Cat group1: ShapiroResult(statistic=0.9486790895462036, pvalue=0.7078753113746643)\n",
      "Shapiro test for pathsize_Cat group2: ShapiroResult(statistic=0.9288694262504578, pvalue=0.5058420300483704)\n",
      "Levene test for pathsize_Cat: LeveneResult(statistic=0.05583725989193762, pvalue=0.8179702620924999)\n",
      "T-Test for pathsize_Cat: t_statistic = -0.3014836920469003, p_value = 0.7692217601243535\n"
     ]
    }
   ],
   "source": [
    "shapiro_pathsize_group1 = shapiro(groupN)\n",
    "shapiro_pathsize_group2 = shapiro(groupY)\n",
    "\n",
    "# Check homogeneity of variances for pathsize_Cat groups\n",
    "levene_pathsize = levene(groupN, groupY)\n",
    "\n",
    "# Perform pairwise t-tests based on Levene's test result\n",
    "if levene_pathsize.pvalue > 0.05:\n",
    "    # Use equal variances\n",
    "    t_statistic_1, p_value_1 = stats.ttest_ind(groupN, groupY, equal_var=True)\n",
    "else:\n",
    "    # Use unequal variances\n",
    "    t_statistic_1, p_value_1 = stats.ttest_ind(groupN, groupY, equal_var=False)\n",
    "\n",
    "# Print results\n",
    "\n",
    "\n",
    "print(f'Shapiro test for pathsize_Cat group1: {shapiro_pathsize_group1}')\n",
    "print(f'Shapiro test for pathsize_Cat group2: {shapiro_pathsize_group2}')\n",
    "print(f'Levene test for pathsize_Cat: {levene_pathsize}')\n",
    "print(f'T-Test for pathsize_Cat: t_statistic = {t_statistic_1}, p_value = {p_value_1}')"
   ]
  },
  {
   "cell_type": "markdown",
   "id": "16bcacf8",
   "metadata": {
    "papermill": {
     "duration": 0.014692,
     "end_time": "2024-08-23T16:54:23.768989",
     "exception": false,
     "start_time": "2024-08-23T16:54:23.754297",
     "status": "completed"
    },
    "tags": []
   },
   "source": [
    "## ANOVA Test"
   ]
  },
  {
   "cell_type": "markdown",
   "id": "2d0eb507",
   "metadata": {
    "papermill": {
     "duration": 0.015189,
     "end_time": "2024-08-23T16:54:23.799001",
     "exception": false,
     "start_time": "2024-08-23T16:54:23.783812",
     "status": "completed"
    },
    "tags": []
   },
   "source": [
    "* ANOVA (Analysis of Variance) is a statistical method used to compare means of three or more samples to understand if at least one sample mean is significantly different from the others. Here, we will perform ANOVA to analyze if there is a significant difference in the means of the time variable across different histgrad categories.\n",
    "\n",
    "* **Steps**\n",
    "\n",
    "**1. Handling Missing Data and Values**\n",
    "* Check and handle missing data in histgrad and time.\n",
    "\n",
    "**2. Checking Assumptions for ANOVA**\n",
    "*  Normality: Each group's time should be approximately normally distributed.\n",
    "*  Homogeneity of variances: The variances across groups should be approximately equal.\n",
    "\n",
    "**3. Performing ANOVA**\n",
    "* Use Python's scipy.stats library to perform the ANOVA test.\n",
    "\n",
    "**4. Interpreting Results**\n",
    "* Understanding the ANOVA output and making conclusions."
   ]
  },
  {
   "cell_type": "markdown",
   "id": "9a4892f7",
   "metadata": {
    "papermill": {
     "duration": 0.014589,
     "end_time": "2024-08-23T16:54:23.829157",
     "exception": false,
     "start_time": "2024-08-23T16:54:23.814568",
     "status": "completed"
    },
    "tags": []
   },
   "source": [
    "**Step 1**"
   ]
  },
  {
   "cell_type": "code",
   "execution_count": 21,
   "id": "44a96a76",
   "metadata": {
    "execution": {
     "iopub.execute_input": "2024-08-23T16:54:23.860155Z",
     "iopub.status.busy": "2024-08-23T16:54:23.859781Z",
     "iopub.status.idle": "2024-08-23T16:54:23.869506Z",
     "shell.execute_reply": "2024-08-23T16:54:23.868386Z"
    },
    "papermill": {
     "duration": 0.028013,
     "end_time": "2024-08-23T16:54:23.871896",
     "exception": false,
     "start_time": "2024-08-23T16:54:23.843883",
     "status": "completed"
    },
    "tags": []
   },
   "outputs": [
    {
     "data": {
      "text/plain": [
       "histgrad    287\n",
       "time          0\n",
       "dtype: int64"
      ]
     },
     "execution_count": 21,
     "metadata": {},
     "output_type": "execute_result"
    }
   ],
   "source": [
    "missing_data = df[['histgrad', 'time']].isnull().sum()\n",
    "missing_data"
   ]
  },
  {
   "cell_type": "code",
   "execution_count": 22,
   "id": "012ffc90",
   "metadata": {
    "execution": {
     "iopub.execute_input": "2024-08-23T16:54:23.903854Z",
     "iopub.status.busy": "2024-08-23T16:54:23.903477Z",
     "iopub.status.idle": "2024-08-23T16:54:23.930079Z",
     "shell.execute_reply": "2024-08-23T16:54:23.928999Z"
    },
    "papermill": {
     "duration": 0.0454,
     "end_time": "2024-08-23T16:54:23.932424",
     "exception": false,
     "start_time": "2024-08-23T16:54:23.887024",
     "status": "completed"
    },
    "tags": []
   },
   "outputs": [
    {
     "data": {
      "text/html": [
       "<div>\n",
       "<style scoped>\n",
       "    .dataframe tbody tr th:only-of-type {\n",
       "        vertical-align: middle;\n",
       "    }\n",
       "\n",
       "    .dataframe tbody tr th {\n",
       "        vertical-align: top;\n",
       "    }\n",
       "\n",
       "    .dataframe thead th {\n",
       "        text-align: right;\n",
       "    }\n",
       "</style>\n",
       "<table border=\"1\" class=\"dataframe\">\n",
       "  <thead>\n",
       "    <tr style=\"text-align: right;\">\n",
       "      <th></th>\n",
       "      <th>id</th>\n",
       "      <th>age</th>\n",
       "      <th>pathsize</th>\n",
       "      <th>lnpos</th>\n",
       "      <th>histgrad</th>\n",
       "      <th>er</th>\n",
       "      <th>pr</th>\n",
       "      <th>status</th>\n",
       "      <th>time</th>\n",
       "      <th>lnpos_YN</th>\n",
       "      <th>pathsize_Cat</th>\n",
       "    </tr>\n",
       "  </thead>\n",
       "  <tbody>\n",
       "    <tr>\n",
       "      <th>0</th>\n",
       "      <td>1.0</td>\n",
       "      <td>60.0</td>\n",
       "      <td>NaN</td>\n",
       "      <td>0.0</td>\n",
       "      <td>3.0</td>\n",
       "      <td>0.0</td>\n",
       "      <td>0.0</td>\n",
       "      <td>0.0</td>\n",
       "      <td>9.466667</td>\n",
       "      <td>No</td>\n",
       "      <td>NaN</td>\n",
       "    </tr>\n",
       "    <tr>\n",
       "      <th>2</th>\n",
       "      <td>3.0</td>\n",
       "      <td>82.0</td>\n",
       "      <td>NaN</td>\n",
       "      <td>0.0</td>\n",
       "      <td>2.0</td>\n",
       "      <td>NaN</td>\n",
       "      <td>NaN</td>\n",
       "      <td>0.0</td>\n",
       "      <td>19.333333</td>\n",
       "      <td>No</td>\n",
       "      <td>NaN</td>\n",
       "    </tr>\n",
       "    <tr>\n",
       "      <th>3</th>\n",
       "      <td>4.0</td>\n",
       "      <td>66.0</td>\n",
       "      <td>NaN</td>\n",
       "      <td>0.0</td>\n",
       "      <td>2.0</td>\n",
       "      <td>1.0</td>\n",
       "      <td>1.0</td>\n",
       "      <td>0.0</td>\n",
       "      <td>16.333333</td>\n",
       "      <td>No</td>\n",
       "      <td>NaN</td>\n",
       "    </tr>\n",
       "    <tr>\n",
       "      <th>4</th>\n",
       "      <td>5.0</td>\n",
       "      <td>52.0</td>\n",
       "      <td>NaN</td>\n",
       "      <td>0.0</td>\n",
       "      <td>3.0</td>\n",
       "      <td>NaN</td>\n",
       "      <td>NaN</td>\n",
       "      <td>0.0</td>\n",
       "      <td>8.500000</td>\n",
       "      <td>No</td>\n",
       "      <td>NaN</td>\n",
       "    </tr>\n",
       "    <tr>\n",
       "      <th>6</th>\n",
       "      <td>7.0</td>\n",
       "      <td>50.0</td>\n",
       "      <td>NaN</td>\n",
       "      <td>0.0</td>\n",
       "      <td>2.0</td>\n",
       "      <td>1.0</td>\n",
       "      <td>0.0</td>\n",
       "      <td>0.0</td>\n",
       "      <td>17.666667</td>\n",
       "      <td>No</td>\n",
       "      <td>NaN</td>\n",
       "    </tr>\n",
       "    <tr>\n",
       "      <th>...</th>\n",
       "      <td>...</td>\n",
       "      <td>...</td>\n",
       "      <td>...</td>\n",
       "      <td>...</td>\n",
       "      <td>...</td>\n",
       "      <td>...</td>\n",
       "      <td>...</td>\n",
       "      <td>...</td>\n",
       "      <td>...</td>\n",
       "      <td>...</td>\n",
       "      <td>...</td>\n",
       "    </tr>\n",
       "    <tr>\n",
       "      <th>1202</th>\n",
       "      <td>1038.0</td>\n",
       "      <td>37.0</td>\n",
       "      <td>5.5</td>\n",
       "      <td>5.0</td>\n",
       "      <td>3.0</td>\n",
       "      <td>0.0</td>\n",
       "      <td>0.0</td>\n",
       "      <td>0.0</td>\n",
       "      <td>6.866667</td>\n",
       "      <td>Yes</td>\n",
       "      <td>&gt; 5</td>\n",
       "    </tr>\n",
       "    <tr>\n",
       "      <th>1203</th>\n",
       "      <td>1039.0</td>\n",
       "      <td>64.0</td>\n",
       "      <td>6.0</td>\n",
       "      <td>0.0</td>\n",
       "      <td>3.0</td>\n",
       "      <td>0.0</td>\n",
       "      <td>1.0</td>\n",
       "      <td>0.0</td>\n",
       "      <td>15.766667</td>\n",
       "      <td>No</td>\n",
       "      <td>&gt; 5</td>\n",
       "    </tr>\n",
       "    <tr>\n",
       "      <th>1204</th>\n",
       "      <td>1041.0</td>\n",
       "      <td>57.0</td>\n",
       "      <td>6.5</td>\n",
       "      <td>7.0</td>\n",
       "      <td>3.0</td>\n",
       "      <td>1.0</td>\n",
       "      <td>1.0</td>\n",
       "      <td>0.0</td>\n",
       "      <td>15.166667</td>\n",
       "      <td>Yes</td>\n",
       "      <td>&gt; 5</td>\n",
       "    </tr>\n",
       "    <tr>\n",
       "      <th>1205</th>\n",
       "      <td>1202.0</td>\n",
       "      <td>51.0</td>\n",
       "      <td>5.5</td>\n",
       "      <td>11.0</td>\n",
       "      <td>2.0</td>\n",
       "      <td>0.0</td>\n",
       "      <td>0.0</td>\n",
       "      <td>1.0</td>\n",
       "      <td>45.133333</td>\n",
       "      <td>Yes</td>\n",
       "      <td>&gt; 5</td>\n",
       "    </tr>\n",
       "    <tr>\n",
       "      <th>1206</th>\n",
       "      <td>1203.0</td>\n",
       "      <td>32.0</td>\n",
       "      <td>7.0</td>\n",
       "      <td>0.0</td>\n",
       "      <td>3.0</td>\n",
       "      <td>0.0</td>\n",
       "      <td>0.0</td>\n",
       "      <td>1.0</td>\n",
       "      <td>21.766667</td>\n",
       "      <td>No</td>\n",
       "      <td>&gt; 5</td>\n",
       "    </tr>\n",
       "  </tbody>\n",
       "</table>\n",
       "<p>920 rows × 11 columns</p>\n",
       "</div>"
      ],
      "text/plain": [
       "          id   age  pathsize  lnpos  histgrad   er   pr  status       time  \\\n",
       "0        1.0  60.0       NaN    0.0       3.0  0.0  0.0     0.0   9.466667   \n",
       "2        3.0  82.0       NaN    0.0       2.0  NaN  NaN     0.0  19.333333   \n",
       "3        4.0  66.0       NaN    0.0       2.0  1.0  1.0     0.0  16.333333   \n",
       "4        5.0  52.0       NaN    0.0       3.0  NaN  NaN     0.0   8.500000   \n",
       "6        7.0  50.0       NaN    0.0       2.0  1.0  0.0     0.0  17.666667   \n",
       "...      ...   ...       ...    ...       ...  ...  ...     ...        ...   \n",
       "1202  1038.0  37.0       5.5    5.0       3.0  0.0  0.0     0.0   6.866667   \n",
       "1203  1039.0  64.0       6.0    0.0       3.0  0.0  1.0     0.0  15.766667   \n",
       "1204  1041.0  57.0       6.5    7.0       3.0  1.0  1.0     0.0  15.166667   \n",
       "1205  1202.0  51.0       5.5   11.0       2.0  0.0  0.0     1.0  45.133333   \n",
       "1206  1203.0  32.0       7.0    0.0       3.0  0.0  0.0     1.0  21.766667   \n",
       "\n",
       "     lnpos_YN pathsize_Cat  \n",
       "0          No          NaN  \n",
       "2          No          NaN  \n",
       "3          No          NaN  \n",
       "4          No          NaN  \n",
       "6          No          NaN  \n",
       "...       ...          ...  \n",
       "1202      Yes          > 5  \n",
       "1203       No          > 5  \n",
       "1204      Yes          > 5  \n",
       "1205      Yes          > 5  \n",
       "1206       No          > 5  \n",
       "\n",
       "[920 rows x 11 columns]"
      ]
     },
     "execution_count": 22,
     "metadata": {},
     "output_type": "execute_result"
    }
   ],
   "source": [
    "cleaned_data = df.dropna(subset=['histgrad'])\n",
    "cleaned_data"
   ]
  },
  {
   "cell_type": "code",
   "execution_count": 23,
   "id": "fbdde6de",
   "metadata": {
    "execution": {
     "iopub.execute_input": "2024-08-23T16:54:23.965185Z",
     "iopub.status.busy": "2024-08-23T16:54:23.964740Z",
     "iopub.status.idle": "2024-08-23T16:54:23.971801Z",
     "shell.execute_reply": "2024-08-23T16:54:23.970712Z"
    },
    "papermill": {
     "duration": 0.026153,
     "end_time": "2024-08-23T16:54:23.974075",
     "exception": false,
     "start_time": "2024-08-23T16:54:23.947922",
     "status": "completed"
    },
    "tags": []
   },
   "outputs": [
    {
     "data": {
      "text/plain": [
       "(920, 11)"
      ]
     },
     "execution_count": 23,
     "metadata": {},
     "output_type": "execute_result"
    }
   ],
   "source": [
    "cleaned_data.shape"
   ]
  },
  {
   "cell_type": "markdown",
   "id": "8aa77e89",
   "metadata": {
    "papermill": {
     "duration": 0.015417,
     "end_time": "2024-08-23T16:54:24.005103",
     "exception": false,
     "start_time": "2024-08-23T16:54:23.989686",
     "status": "completed"
    },
    "tags": []
   },
   "source": [
    "**Step 2**\n",
    "\n",
    "We need to check if the time variable is normally distributed for each histgrad group. We can use the Shapiro-Wilk test for normality and Levene's test to check for equality of variances."
   ]
  },
  {
   "cell_type": "code",
   "execution_count": 24,
   "id": "f96643f5",
   "metadata": {
    "execution": {
     "iopub.execute_input": "2024-08-23T16:54:24.037896Z",
     "iopub.status.busy": "2024-08-23T16:54:24.037494Z",
     "iopub.status.idle": "2024-08-23T16:54:24.042560Z",
     "shell.execute_reply": "2024-08-23T16:54:24.041485Z"
    },
    "papermill": {
     "duration": 0.024477,
     "end_time": "2024-08-23T16:54:24.045110",
     "exception": false,
     "start_time": "2024-08-23T16:54:24.020633",
     "status": "completed"
    },
    "tags": []
   },
   "outputs": [],
   "source": [
    "from scipy.stats import shapiro, levene"
   ]
  },
  {
   "cell_type": "code",
   "execution_count": 25,
   "id": "ec4c8f6e",
   "metadata": {
    "execution": {
     "iopub.execute_input": "2024-08-23T16:54:24.084829Z",
     "iopub.status.busy": "2024-08-23T16:54:24.083498Z",
     "iopub.status.idle": "2024-08-23T16:54:24.101808Z",
     "shell.execute_reply": "2024-08-23T16:54:24.098931Z"
    },
    "papermill": {
     "duration": 0.04332,
     "end_time": "2024-08-23T16:54:24.105178",
     "exception": false,
     "start_time": "2024-08-23T16:54:24.061858",
     "status": "completed"
    },
    "tags": []
   },
   "outputs": [
    {
     "name": "stdout",
     "output_type": "stream",
     "text": [
      "Histgrad 3.0: Stat=0.944, p=0.000\n",
      "Histgrad 2.0: Stat=0.962, p=0.000\n",
      "Histgrad 1.0: Stat=0.958, p=0.011\n",
      "Levene’s Test: Stat=0.432, p=0.650\n"
     ]
    }
   ],
   "source": [
    "# Check for normality using Shapiro-Wilk test\n",
    "for i in cleaned_data['histgrad'].unique():\n",
    "    stat, p = shapiro(cleaned_data[cleaned_data['histgrad'] == i]['time'])\n",
    "    print(f'Histgrad {i}: Stat={stat:.3f}, p={p:.3f}')\n",
    "\n",
    "# Check for homogeneity of variances using Levene's test\n",
    "stat, p = levene(\n",
    "   cleaned_data[cleaned_data['histgrad'] == 1.0]['time'],\n",
    "    cleaned_data[cleaned_data['histgrad'] == 2.0]['time'],\n",
    "    cleaned_data[cleaned_data['histgrad'] == 3.0]['time']\n",
    ")\n",
    "print(f'Levene’s Test: Stat={stat:.3f}, p={p:.3f}')"
   ]
  },
  {
   "cell_type": "markdown",
   "id": "e4695cca",
   "metadata": {
    "papermill": {
     "duration": 0.015449,
     "end_time": "2024-08-23T16:54:24.142228",
     "exception": false,
     "start_time": "2024-08-23T16:54:24.126779",
     "status": "completed"
    },
    "tags": []
   },
   "source": [
    "* The Shapiro-Wilk test results indicate that the time variable is not normally distributed for any of the histgrad groups (all p-values are less than 0.05, indicating a violation of the normality assumption).\n",
    "\n",
    "\n",
    "*  The p-value for Levene's test is 0.650, which is greater than 0.05, indicating that the assumption of homogeneity of variances is met.\n",
    "\n",
    "Even though ANOVA is robust to deviations from normality, particularly with large sample sizes, it's good to be aware of this violation. For more robust analysis, non-parametric tests like the Kruskal-Wallis test can be considered. However, we'll proceed with ANOVA for the purpose of learning."
   ]
  },
  {
   "cell_type": "markdown",
   "id": "4cbb98d3",
   "metadata": {
    "papermill": {
     "duration": 0.015116,
     "end_time": "2024-08-23T16:54:24.173183",
     "exception": false,
     "start_time": "2024-08-23T16:54:24.158067",
     "status": "completed"
    },
    "tags": []
   },
   "source": [
    "**Step 3**\n",
    "* Performing ANOVA\n",
    "We can now perform the ANOVA test using the f_oneway function from scipy.stats."
   ]
  },
  {
   "cell_type": "code",
   "execution_count": 26,
   "id": "439e0a6b",
   "metadata": {
    "execution": {
     "iopub.execute_input": "2024-08-23T16:54:24.216263Z",
     "iopub.status.busy": "2024-08-23T16:54:24.215795Z",
     "iopub.status.idle": "2024-08-23T16:54:24.229936Z",
     "shell.execute_reply": "2024-08-23T16:54:24.227252Z"
    },
    "papermill": {
     "duration": 0.042952,
     "end_time": "2024-08-23T16:54:24.235446",
     "exception": false,
     "start_time": "2024-08-23T16:54:24.192494",
     "status": "completed"
    },
    "tags": []
   },
   "outputs": [
    {
     "data": {
      "text/plain": [
       "F_onewayResult(statistic=6.9885425713625615, pvalue=0.0009723280343059178)"
      ]
     },
     "execution_count": 26,
     "metadata": {},
     "output_type": "execute_result"
    }
   ],
   "source": [
    "from scipy.stats import f_oneway\n",
    "avova_result = f_oneway(    \n",
    "    cleaned_data[cleaned_data['histgrad'] == 1.0]['time'],\n",
    "    cleaned_data[cleaned_data['histgrad'] == 2.0]['time'],\n",
    "    cleaned_data[cleaned_data['histgrad'] == 3.0]['time']\n",
    ")\n",
    "avova_result"
   ]
  },
  {
   "cell_type": "markdown",
   "id": "bd5a779d",
   "metadata": {
    "papermill": {
     "duration": 0.020143,
     "end_time": "2024-08-23T16:54:24.274711",
     "exception": false,
     "start_time": "2024-08-23T16:54:24.254568",
     "status": "completed"
    },
    "tags": []
   },
   "source": [
    "* The ANOVA test results are as follows:\n",
    "\n",
    "F-statistic: 6.99\n",
    "p-value: 0.00097"
   ]
  },
  {
   "cell_type": "markdown",
   "id": "61a92db0",
   "metadata": {
    "papermill": {
     "duration": 0.015074,
     "end_time": "2024-08-23T16:54:24.305862",
     "exception": false,
     "start_time": "2024-08-23T16:54:24.290788",
     "status": "completed"
    },
    "tags": []
   },
   "source": [
    "**Step 4**\n",
    "\n",
    "Since the p-value is much less than 0.05, we reject the null hypothesis that the means of time are equal across different histgrad groups. This indicates that there is a statistically significant difference in time among the different histgrad levels."
   ]
  },
  {
   "cell_type": "markdown",
   "id": "c6f54943",
   "metadata": {
    "papermill": {
     "duration": 0.015341,
     "end_time": "2024-08-23T16:54:24.336835",
     "exception": false,
     "start_time": "2024-08-23T16:54:24.321494",
     "status": "completed"
    },
    "tags": []
   },
   "source": [
    "**Summary** :\n",
    "Here are the steps we took to perform the ANOVA test:\n",
    "\n",
    "* Handled missing values by removing rows with missing histgrad values.\n",
    "* Checked assumptions for ANOVA:\n",
    "* Normality using the Shapiro-Wilk test (not met, but we proceeded due to the robustness of ANOVA).\n",
    "* Homogeneity of variances using Levene's test (met).\n",
    "* Performed ANOVA using the f_oneway function.\n",
    "* Interpreted the results, concluding that there is a significant difference in time among different histgrad groups."
   ]
  },
  {
   "cell_type": "markdown",
   "id": "63f5cd94",
   "metadata": {
    "papermill": {
     "duration": 0.021022,
     "end_time": "2024-08-23T16:54:24.374006",
     "exception": false,
     "start_time": "2024-08-23T16:54:24.352984",
     "status": "completed"
    },
    "tags": []
   },
   "source": [
    "**To determine which specific groups have different means, you can perform a post-hoc test after finding a significant result with ANOVA.**"
   ]
  },
  {
   "cell_type": "code",
   "execution_count": 27,
   "id": "fef8cc2c",
   "metadata": {
    "execution": {
     "iopub.execute_input": "2024-08-23T16:54:24.411641Z",
     "iopub.status.busy": "2024-08-23T16:54:24.410993Z",
     "iopub.status.idle": "2024-08-23T16:54:38.632502Z",
     "shell.execute_reply": "2024-08-23T16:54:38.630833Z"
    },
    "papermill": {
     "duration": 14.241707,
     "end_time": "2024-08-23T16:54:38.635066",
     "exception": false,
     "start_time": "2024-08-23T16:54:24.393359",
     "status": "completed"
    },
    "tags": []
   },
   "outputs": [
    {
     "name": "stdout",
     "output_type": "stream",
     "text": [
      "Collecting scikit-posthocs\r\n",
      "  Downloading scikit_posthocs-0.9.0-py3-none-any.whl.metadata (5.8 kB)\r\n",
      "Requirement already satisfied: numpy in /opt/conda/lib/python3.10/site-packages (from scikit-posthocs) (1.26.4)\r\n",
      "Requirement already satisfied: scipy>=1.9.0 in /opt/conda/lib/python3.10/site-packages (from scikit-posthocs) (1.11.4)\r\n",
      "Requirement already satisfied: statsmodels in /opt/conda/lib/python3.10/site-packages (from scikit-posthocs) (0.14.1)\r\n",
      "Requirement already satisfied: pandas>=0.20.0 in /opt/conda/lib/python3.10/site-packages (from scikit-posthocs) (2.2.2)\r\n",
      "Requirement already satisfied: seaborn in /opt/conda/lib/python3.10/site-packages (from scikit-posthocs) (0.12.2)\r\n",
      "Requirement already satisfied: matplotlib in /opt/conda/lib/python3.10/site-packages (from scikit-posthocs) (3.7.5)\r\n",
      "Requirement already satisfied: python-dateutil>=2.8.2 in /opt/conda/lib/python3.10/site-packages (from pandas>=0.20.0->scikit-posthocs) (2.9.0.post0)\r\n",
      "Requirement already satisfied: pytz>=2020.1 in /opt/conda/lib/python3.10/site-packages (from pandas>=0.20.0->scikit-posthocs) (2023.3.post1)\r\n",
      "Requirement already satisfied: tzdata>=2022.7 in /opt/conda/lib/python3.10/site-packages (from pandas>=0.20.0->scikit-posthocs) (2023.4)\r\n",
      "Requirement already satisfied: contourpy>=1.0.1 in /opt/conda/lib/python3.10/site-packages (from matplotlib->scikit-posthocs) (1.2.0)\r\n",
      "Requirement already satisfied: cycler>=0.10 in /opt/conda/lib/python3.10/site-packages (from matplotlib->scikit-posthocs) (0.12.1)\r\n",
      "Requirement already satisfied: fonttools>=4.22.0 in /opt/conda/lib/python3.10/site-packages (from matplotlib->scikit-posthocs) (4.47.0)\r\n",
      "Requirement already satisfied: kiwisolver>=1.0.1 in /opt/conda/lib/python3.10/site-packages (from matplotlib->scikit-posthocs) (1.4.5)\r\n",
      "Requirement already satisfied: packaging>=20.0 in /opt/conda/lib/python3.10/site-packages (from matplotlib->scikit-posthocs) (21.3)\r\n",
      "Requirement already satisfied: pillow>=6.2.0 in /opt/conda/lib/python3.10/site-packages (from matplotlib->scikit-posthocs) (9.5.0)\r\n",
      "Requirement already satisfied: pyparsing>=2.3.1 in /opt/conda/lib/python3.10/site-packages (from matplotlib->scikit-posthocs) (3.1.1)\r\n",
      "Requirement already satisfied: patsy>=0.5.4 in /opt/conda/lib/python3.10/site-packages (from statsmodels->scikit-posthocs) (0.5.6)\r\n",
      "Requirement already satisfied: six in /opt/conda/lib/python3.10/site-packages (from patsy>=0.5.4->statsmodels->scikit-posthocs) (1.16.0)\r\n",
      "Downloading scikit_posthocs-0.9.0-py3-none-any.whl (32 kB)\r\n",
      "Installing collected packages: scikit-posthocs\r\n",
      "Successfully installed scikit-posthocs-0.9.0\r\n",
      "Note: you may need to restart the kernel to use updated packages.\n"
     ]
    }
   ],
   "source": [
    "pip install scikit-posthocs"
   ]
  },
  {
   "cell_type": "code",
   "execution_count": 28,
   "id": "7744f5a2",
   "metadata": {
    "execution": {
     "iopub.execute_input": "2024-08-23T16:54:38.674763Z",
     "iopub.status.busy": "2024-08-23T16:54:38.673573Z",
     "iopub.status.idle": "2024-08-23T16:54:39.156349Z",
     "shell.execute_reply": "2024-08-23T16:54:39.155232Z"
    },
    "papermill": {
     "duration": 0.505121,
     "end_time": "2024-08-23T16:54:39.159559",
     "exception": false,
     "start_time": "2024-08-23T16:54:38.654438",
     "status": "completed"
    },
    "tags": []
   },
   "outputs": [],
   "source": [
    "from scikit_posthocs import posthoc_ttest\n",
    "import scikit_posthocs as sp"
   ]
  },
  {
   "cell_type": "code",
   "execution_count": 29,
   "id": "b68ab954",
   "metadata": {
    "execution": {
     "iopub.execute_input": "2024-08-23T16:54:39.195572Z",
     "iopub.status.busy": "2024-08-23T16:54:39.195176Z",
     "iopub.status.idle": "2024-08-23T16:54:39.211476Z",
     "shell.execute_reply": "2024-08-23T16:54:39.209991Z"
    },
    "papermill": {
     "duration": 0.036691,
     "end_time": "2024-08-23T16:54:39.213741",
     "exception": false,
     "start_time": "2024-08-23T16:54:39.177050",
     "status": "completed"
    },
    "tags": []
   },
   "outputs": [
    {
     "name": "stdout",
     "output_type": "stream",
     "text": [
      "          3.0       2.0       1.0\n",
      "3.0  1.000000  0.000699  0.157949\n",
      "2.0  0.000699  1.000000  1.000000\n",
      "1.0  0.157949  1.000000  1.000000\n"
     ]
    }
   ],
   "source": [
    "# Perform pairwise t-tests with Bonferroni correction\n",
    "posthoc_result = sp.posthoc_ttest(cleaned_data, val_col='time', group_col='histgrad', p_adjust='bonferroni')\n",
    "\n",
    "# Display the results\n",
    "print(posthoc_result)"
   ]
  },
  {
   "cell_type": "code",
   "execution_count": 30,
   "id": "1cc80eb2",
   "metadata": {
    "execution": {
     "iopub.execute_input": "2024-08-23T16:54:39.248085Z",
     "iopub.status.busy": "2024-08-23T16:54:39.247715Z",
     "iopub.status.idle": "2024-08-23T16:54:39.489839Z",
     "shell.execute_reply": "2024-08-23T16:54:39.488753Z"
    },
    "papermill": {
     "duration": 0.26228,
     "end_time": "2024-08-23T16:54:39.492400",
     "exception": false,
     "start_time": "2024-08-23T16:54:39.230120",
     "status": "completed"
    },
    "tags": []
   },
   "outputs": [
    {
     "data": {
      "image/png": "[encoded data removed]",
      "text/plain": [
       "<Figure size 400x400 with 2 Axes>"
      ]
     },
     "metadata": {},
     "output_type": "display_data"
    }
   ],
   "source": [
    "import matplotlib.pyplot as plt\n",
    "import scikit_posthocs as sp\n",
    "\n",
    "plt.figure(figsize=(4, 4))\n",
    "sp.sign_plot(posthoc_result)\n",
    "\n",
    "plt.show()"
   ]
  },
  {
   "cell_type": "markdown",
   "id": "356ca8c6",
   "metadata": {
    "papermill": {
     "duration": 0.016328,
     "end_time": "2024-08-23T16:54:39.526157",
     "exception": false,
     "start_time": "2024-08-23T16:54:39.509829",
     "status": "completed"
    },
    "tags": []
   },
   "source": [
    "## Correlation Coefficient Tests ( Pearson and Spearman )"
   ]
  },
  {
   "cell_type": "markdown",
   "id": "e96e6119",
   "metadata": {
    "papermill": {
     "duration": 0.016291,
     "end_time": "2024-08-23T16:54:39.559203",
     "exception": false,
     "start_time": "2024-08-23T16:54:39.542912",
     "status": "completed"
    },
    "tags": []
   },
   "source": [
    "Correlation coefficients are statistical measures that describe the strength and direction of a relationship between two variables. The most common types of correlation coefficients are Pearson's, Spearman's, and Kendall's tau.\n",
    "\n",
    "**Pearson Correlation Coefficient**\n",
    "\n",
    "Pearson's correlation coefficient measures the linear relationship between two variables. The value ranges from -1 to 1:\n",
    "\n",
    "* 1 means a perfect positive linear relationship.\n",
    "* -1 means a perfect negative linear relationship.\n",
    "* 0 means no linear relationship."
   ]
  },
  {
   "cell_type": "markdown",
   "id": "4a9a2090",
   "metadata": {
    "papermill": {
     "duration": 0.01641,
     "end_time": "2024-08-23T16:54:39.591999",
     "exception": false,
     "start_time": "2024-08-23T16:54:39.575589",
     "status": "completed"
    },
    "tags": []
   },
   "source": [
    "First of all with scatter plot i want to check if there is any correlation between 'age' and 'time' or not?!\n",
    "Then for learning, i do the test"
   ]
  },
  {
   "cell_type": "code",
   "execution_count": 31,
   "id": "e7feac85",
   "metadata": {
    "execution": {
     "iopub.execute_input": "2024-08-23T16:54:39.627398Z",
     "iopub.status.busy": "2024-08-23T16:54:39.626420Z",
     "iopub.status.idle": "2024-08-23T16:54:39.631653Z",
     "shell.execute_reply": "2024-08-23T16:54:39.630580Z"
    },
    "papermill": {
     "duration": 0.025333,
     "end_time": "2024-08-23T16:54:39.633967",
     "exception": false,
     "start_time": "2024-08-23T16:54:39.608634",
     "status": "completed"
    },
    "tags": []
   },
   "outputs": [],
   "source": [
    "import matplotlib.pyplot as plt\n",
    "from scipy.stats import pearsonr"
   ]
  },
  {
   "cell_type": "code",
   "execution_count": 32,
   "id": "ccd5a908",
   "metadata": {
    "execution": {
     "iopub.execute_input": "2024-08-23T16:54:39.669696Z",
     "iopub.status.busy": "2024-08-23T16:54:39.668858Z",
     "iopub.status.idle": "2024-08-23T16:54:39.940740Z",
     "shell.execute_reply": "2024-08-23T16:54:39.939616Z"
    },
    "papermill": {
     "duration": 0.292506,
     "end_time": "2024-08-23T16:54:39.943214",
     "exception": false,
     "start_time": "2024-08-23T16:54:39.650708",
     "status": "completed"
    },
    "tags": []
   },
   "outputs": [
    {
     "data": {
      "text/plain": [
       "<matplotlib.collections.PathCollection at 0x7b398b228580>"
      ]
     },
     "execution_count": 32,
     "metadata": {},
     "output_type": "execute_result"
    },
    {
     "data": {
      "image/png": "[encoded data removed]",
      "text/plain": [
       "<Figure size 500x300 with 1 Axes>"
      ]
     },
     "metadata": {},
     "output_type": "display_data"
    }
   ],
   "source": [
    "fig , ax = plt.subplots(nrows=1 , ncols=1 , figsize=(5,3))\n",
    "ax.scatter(df['age'] , df['time'] , marker='.' , s=10, c = 'green')"
   ]
  },
  {
   "cell_type": "markdown",
   "id": "fbcc3c8a",
   "metadata": {
    "papermill": {
     "duration": 0.017093,
     "end_time": "2024-08-23T16:54:39.977613",
     "exception": false,
     "start_time": "2024-08-23T16:54:39.960520",
     "status": "completed"
    },
    "tags": []
   },
   "source": [
    "As you see there isn't any correlation between them, but i continoue"
   ]
  },
  {
   "cell_type": "code",
   "execution_count": 33,
   "id": "392371a1",
   "metadata": {
    "execution": {
     "iopub.execute_input": "2024-08-23T16:54:40.013788Z",
     "iopub.status.busy": "2024-08-23T16:54:40.013374Z",
     "iopub.status.idle": "2024-08-23T16:54:40.020453Z",
     "shell.execute_reply": "2024-08-23T16:54:40.019312Z"
    },
    "papermill": {
     "duration": 0.027979,
     "end_time": "2024-08-23T16:54:40.022845",
     "exception": false,
     "start_time": "2024-08-23T16:54:39.994866",
     "status": "completed"
    },
    "tags": []
   },
   "outputs": [
    {
     "name": "stdout",
     "output_type": "stream",
     "text": [
      "Stat of our time metric :  0.954105794429779\n",
      "P_value of our time metric :  5.460421882712611e-19\n"
     ]
    }
   ],
   "source": [
    "# here i do a shapiro test for checking normality for time\n",
    "stat_time , p_value_time = shapiro(df['time'])\n",
    "\n",
    "print(\"Stat of our time metric : \",stat_time)\n",
    "print(\"P_value of our time metric : \" , p_value_time)"
   ]
  },
  {
   "cell_type": "code",
   "execution_count": 34,
   "id": "9f2cbf53",
   "metadata": {
    "execution": {
     "iopub.execute_input": "2024-08-23T16:54:40.061349Z",
     "iopub.status.busy": "2024-08-23T16:54:40.060966Z",
     "iopub.status.idle": "2024-08-23T16:54:40.067705Z",
     "shell.execute_reply": "2024-08-23T16:54:40.066611Z"
    },
    "papermill": {
     "duration": 0.02839,
     "end_time": "2024-08-23T16:54:40.069819",
     "exception": false,
     "start_time": "2024-08-23T16:54:40.041429",
     "status": "completed"
    },
    "tags": []
   },
   "outputs": [
    {
     "name": "stdout",
     "output_type": "stream",
     "text": [
      "Stat of our age metric :  0.9871929883956909\n",
      "P_value of our age metric :  8.479493551760697e-09\n"
     ]
    }
   ],
   "source": [
    "# here i do a shapiro test for checking normality for age\n",
    "stat_age , p_value_age = shapiro(df['age'])\n",
    "print(\"Stat of our age metric : \",stat_age)\n",
    "print(\"P_value of our age metric : \" , p_value_age)"
   ]
  },
  {
   "cell_type": "markdown",
   "id": "74213c81",
   "metadata": {
    "papermill": {
     "duration": 0.017101,
     "end_time": "2024-08-23T16:54:40.104743",
     "exception": false,
     "start_time": "2024-08-23T16:54:40.087642",
     "status": "completed"
    },
    "tags": []
   },
   "source": [
    "We can see here that 'age' and 'time' aren't normal"
   ]
  },
  {
   "cell_type": "markdown",
   "id": "9a14f0de",
   "metadata": {
    "papermill": {
     "duration": 0.018474,
     "end_time": "2024-08-23T16:54:40.140948",
     "exception": false,
     "start_time": "2024-08-23T16:54:40.122474",
     "status": "completed"
    },
    "tags": []
   },
   "source": [
    "**Doing Pearson Test**"
   ]
  },
  {
   "cell_type": "code",
   "execution_count": 35,
   "id": "956ebfe7",
   "metadata": {
    "execution": {
     "iopub.execute_input": "2024-08-23T16:54:40.179406Z",
     "iopub.status.busy": "2024-08-23T16:54:40.179038Z",
     "iopub.status.idle": "2024-08-23T16:54:40.188448Z",
     "shell.execute_reply": "2024-08-23T16:54:40.187147Z"
    },
    "papermill": {
     "duration": 0.032332,
     "end_time": "2024-08-23T16:54:40.190865",
     "exception": false,
     "start_time": "2024-08-23T16:54:40.158533",
     "status": "completed"
    },
    "tags": []
   },
   "outputs": [
    {
     "name": "stdout",
     "output_type": "stream",
     "text": [
      "Correlation Coefficient between time and age :  -0.10225288144205594\n",
      "P_value :  0.00037353441159475656\n"
     ]
    }
   ],
   "source": [
    "corre_cof , p_value_ = pearsonr(df['time'] , df['age'])\n",
    "print(\"Correlation Coefficient between time and age : \" , corre_cof)\n",
    "print(\"P_value : \" , p_value_)"
   ]
  },
  {
   "cell_type": "markdown",
   "id": "0c629efe",
   "metadata": {
    "papermill": {
     "duration": 0.017238,
     "end_time": "2024-08-23T16:54:40.226186",
     "exception": false,
     "start_time": "2024-08-23T16:54:40.208948",
     "status": "completed"
    },
    "tags": []
   },
   "source": [
    "false significance or false positive is occured, so we do a Spearman test"
   ]
  },
  {
   "cell_type": "code",
   "execution_count": 36,
   "id": "6e633f36",
   "metadata": {
    "execution": {
     "iopub.execute_input": "2024-08-23T16:54:40.262980Z",
     "iopub.status.busy": "2024-08-23T16:54:40.262634Z",
     "iopub.status.idle": "2024-08-23T16:54:40.267722Z",
     "shell.execute_reply": "2024-08-23T16:54:40.266608Z"
    },
    "papermill": {
     "duration": 0.026134,
     "end_time": "2024-08-23T16:54:40.269999",
     "exception": false,
     "start_time": "2024-08-23T16:54:40.243865",
     "status": "completed"
    },
    "tags": []
   },
   "outputs": [],
   "source": [
    "from scipy.stats import spearmanr"
   ]
  },
  {
   "cell_type": "code",
   "execution_count": 37,
   "id": "9c9a0de2",
   "metadata": {
    "execution": {
     "iopub.execute_input": "2024-08-23T16:54:40.306673Z",
     "iopub.status.busy": "2024-08-23T16:54:40.306242Z",
     "iopub.status.idle": "2024-08-23T16:54:40.314563Z",
     "shell.execute_reply": "2024-08-23T16:54:40.313273Z"
    },
    "papermill": {
     "duration": 0.029281,
     "end_time": "2024-08-23T16:54:40.316804",
     "exception": false,
     "start_time": "2024-08-23T16:54:40.287523",
     "status": "completed"
    },
    "tags": []
   },
   "outputs": [
    {
     "name": "stdout",
     "output_type": "stream",
     "text": [
      "Correlation Coefficient between time and age with non-parametric test named Spearman :  -0.09951237288803319\n",
      "P_value :  0.0005356509148888753\n"
     ]
    }
   ],
   "source": [
    "corr_cof_sp , p_value_sp = spearmanr(df['time'] , df['age'])\n",
    "print(\"Correlation Coefficient between time and age with non-parametric test named Spearman : \" , corr_cof_sp)\n",
    "print(\"P_value : \" , p_value_sp)"
   ]
  },
  {
   "cell_type": "code",
   "execution_count": null,
   "id": "d16ab4f9",
   "metadata": {
    "papermill": {
     "duration": 0.017446,
     "end_time": "2024-08-23T16:54:40.351641",
     "exception": false,
     "start_time": "2024-08-23T16:54:40.334195",
     "status": "completed"
    },
    "tags": []
   },
   "outputs": [],
   "source": []
  }
 ],
 "metadata": {
  "kaggle": {
   "accelerator": "none",
   "dataSources": [
    {
     "datasetId": 5211930,
     "sourceId": 8691661,
     "sourceType": "datasetVersion"
    }
   ],
   "dockerImageVersionId": 30732,
   "isGpuEnabled": false,
   "isInternetEnabled": true,
   "language": "python",
   "sourceType": "notebook"
  },
  "kernelspec": {
   "display_name": "Python 3",
   "language": "python",
   "name": "python3"
  },
  "language_info": {
   "codemirror_mode": {
    "name": "ipython",
    "version": 3
   },
   "file_extension": ".py",
   "mimetype": "text/x-python",
   "name": "python",
   "nbconvert_exporter": "python",
   "pygments_lexer": "ipython3",
   "version": "3.10.13"
  },
  "papermill": {
   "default_parameters": {},
   "duration": 23.725126,
   "end_time": "2024-08-23T16:54:40.991520",
   "environment_variables": {},
   "exception": null,
   "input_path": "__notebook__.ipynb",
   "output_path": "__notebook__.ipynb",
   "parameters": {},
   "start_time": "2024-08-23T16:54:17.266394",
   "version": "2.5.0"
  }
 },
 "nbformat": 4,
 "nbformat_minor": 5
}
