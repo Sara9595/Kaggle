{
 "cells": [
  {
   "cell_type": "markdown",
   "id": "0bc12d3f",
   "metadata": {
    "papermill": {
     "duration": 0.005729,
     "end_time": "2024-06-16T15:14:21.371700",
     "exception": false,
     "start_time": "2024-06-16T15:14:21.365971",
     "status": "completed"
    },
    "tags": []
   },
   "source": [
    "## In this notebook, we will perform some statistical tests on preprocessed breast cancer dataset"
   ]
  },
  {
   "cell_type": "code",
   "execution_count": 1,
   "id": "9dae31dc",
   "metadata": {
    "execution": {
     "iopub.execute_input": "2024-06-16T15:14:21.384364Z",
     "iopub.status.busy": "2024-06-16T15:14:21.383277Z",
     "iopub.status.idle": "2024-06-16T15:14:23.124463Z",
     "shell.execute_reply": "2024-06-16T15:14:23.123240Z"
    },
    "papermill": {
     "duration": 1.750115,
     "end_time": "2024-06-16T15:14:23.127173",
     "exception": false,
     "start_time": "2024-06-16T15:14:21.377058",
     "status": "completed"
    },
    "tags": []
   },
   "outputs": [],
   "source": [
    "# import necessary libraries\n",
    "import pandas as pd\n",
    "import numpy as np\n",
    "import scipy.stats as stats"
   ]
  },
  {
   "cell_type": "code",
   "execution_count": 2,
   "id": "72e5de8f",
   "metadata": {
    "execution": {
     "iopub.execute_input": "2024-06-16T15:14:23.139886Z",
     "iopub.status.busy": "2024-06-16T15:14:23.138771Z",
     "iopub.status.idle": "2024-06-16T15:14:23.171076Z",
     "shell.execute_reply": "2024-06-16T15:14:23.170103Z"
    },
    "papermill": {
     "duration": 0.041317,
     "end_time": "2024-06-16T15:14:23.173853",
     "exception": false,
     "start_time": "2024-06-16T15:14:23.132536",
     "status": "completed"
    },
    "tags": []
   },
   "outputs": [],
   "source": [
    "# Load the dataset\n",
    "file_path = '/kaggle/input/breastcancer-preprocessed/BreastCancer-Preprocessed.csv'\n",
    "df = pd.read_csv(file_path)"
   ]
  },
  {
   "cell_type": "markdown",
   "id": "d80594ec",
   "metadata": {
    "papermill": {
     "duration": 0.00461,
     "end_time": "2024-06-16T15:14:23.183511",
     "exception": false,
     "start_time": "2024-06-16T15:14:23.178901",
     "status": "completed"
    },
    "tags": []
   },
   "source": [
    "##  Display the first few rows of the dataset to understand its structure"
   ]
  },
  {
   "cell_type": "code",
   "execution_count": 3,
   "id": "eebddc59",
   "metadata": {
    "execution": {
     "iopub.execute_input": "2024-06-16T15:14:23.194831Z",
     "iopub.status.busy": "2024-06-16T15:14:23.194489Z",
     "iopub.status.idle": "2024-06-16T15:14:23.223753Z",
     "shell.execute_reply": "2024-06-16T15:14:23.222617Z"
    },
    "papermill": {
     "duration": 0.037654,
     "end_time": "2024-06-16T15:14:23.225944",
     "exception": false,
     "start_time": "2024-06-16T15:14:23.188290",
     "status": "completed"
    },
    "tags": []
   },
   "outputs": [
    {
     "data": {
      "text/html": [
       "<div>\n",
       "<style scoped>\n",
       "    .dataframe tbody tr th:only-of-type {\n",
       "        vertical-align: middle;\n",
       "    }\n",
       "\n",
       "    .dataframe tbody tr th {\n",
       "        vertical-align: top;\n",
       "    }\n",
       "\n",
       "    .dataframe thead th {\n",
       "        text-align: right;\n",
       "    }\n",
       "</style>\n",
       "<table border=\"1\" class=\"dataframe\">\n",
       "  <thead>\n",
       "    <tr style=\"text-align: right;\">\n",
       "      <th></th>\n",
       "      <th>id</th>\n",
       "      <th>age</th>\n",
       "      <th>pathsize</th>\n",
       "      <th>lnpos</th>\n",
       "      <th>histgrad</th>\n",
       "      <th>er</th>\n",
       "      <th>pr</th>\n",
       "      <th>status</th>\n",
       "      <th>time</th>\n",
       "      <th>lnpos_YN</th>\n",
       "      <th>pathsize_Cat</th>\n",
       "    </tr>\n",
       "  </thead>\n",
       "  <tbody>\n",
       "    <tr>\n",
       "      <th>0</th>\n",
       "      <td>1.0</td>\n",
       "      <td>60.0</td>\n",
       "      <td>NaN</td>\n",
       "      <td>0.0</td>\n",
       "      <td>3.0</td>\n",
       "      <td>0.0</td>\n",
       "      <td>0.0</td>\n",
       "      <td>0.0</td>\n",
       "      <td>9.466667</td>\n",
       "      <td>No</td>\n",
       "      <td>NaN</td>\n",
       "    </tr>\n",
       "    <tr>\n",
       "      <th>1</th>\n",
       "      <td>2.0</td>\n",
       "      <td>79.0</td>\n",
       "      <td>NaN</td>\n",
       "      <td>0.0</td>\n",
       "      <td>NaN</td>\n",
       "      <td>NaN</td>\n",
       "      <td>NaN</td>\n",
       "      <td>0.0</td>\n",
       "      <td>8.600000</td>\n",
       "      <td>No</td>\n",
       "      <td>NaN</td>\n",
       "    </tr>\n",
       "    <tr>\n",
       "      <th>2</th>\n",
       "      <td>3.0</td>\n",
       "      <td>82.0</td>\n",
       "      <td>NaN</td>\n",
       "      <td>0.0</td>\n",
       "      <td>2.0</td>\n",
       "      <td>NaN</td>\n",
       "      <td>NaN</td>\n",
       "      <td>0.0</td>\n",
       "      <td>19.333333</td>\n",
       "      <td>No</td>\n",
       "      <td>NaN</td>\n",
       "    </tr>\n",
       "    <tr>\n",
       "      <th>3</th>\n",
       "      <td>4.0</td>\n",
       "      <td>66.0</td>\n",
       "      <td>NaN</td>\n",
       "      <td>0.0</td>\n",
       "      <td>2.0</td>\n",
       "      <td>1.0</td>\n",
       "      <td>1.0</td>\n",
       "      <td>0.0</td>\n",
       "      <td>16.333333</td>\n",
       "      <td>No</td>\n",
       "      <td>NaN</td>\n",
       "    </tr>\n",
       "    <tr>\n",
       "      <th>4</th>\n",
       "      <td>5.0</td>\n",
       "      <td>52.0</td>\n",
       "      <td>NaN</td>\n",
       "      <td>0.0</td>\n",
       "      <td>3.0</td>\n",
       "      <td>NaN</td>\n",
       "      <td>NaN</td>\n",
       "      <td>0.0</td>\n",
       "      <td>8.500000</td>\n",
       "      <td>No</td>\n",
       "      <td>NaN</td>\n",
       "    </tr>\n",
       "  </tbody>\n",
       "</table>\n",
       "</div>"
      ],
      "text/plain": [
       "    id   age  pathsize  lnpos  histgrad   er   pr  status       time lnpos_YN  \\\n",
       "0  1.0  60.0       NaN    0.0       3.0  0.0  0.0     0.0   9.466667       No   \n",
       "1  2.0  79.0       NaN    0.0       NaN  NaN  NaN     0.0   8.600000       No   \n",
       "2  3.0  82.0       NaN    0.0       2.0  NaN  NaN     0.0  19.333333       No   \n",
       "3  4.0  66.0       NaN    0.0       2.0  1.0  1.0     0.0  16.333333       No   \n",
       "4  5.0  52.0       NaN    0.0       3.0  NaN  NaN     0.0   8.500000       No   \n",
       "\n",
       "  pathsize_Cat  \n",
       "0          NaN  \n",
       "1          NaN  \n",
       "2          NaN  \n",
       "3          NaN  \n",
       "4          NaN  "
      ]
     },
     "execution_count": 3,
     "metadata": {},
     "output_type": "execute_result"
    }
   ],
   "source": [
    "df.head()"
   ]
  },
  {
   "cell_type": "markdown",
   "id": "7aea6882",
   "metadata": {
    "papermill": {
     "duration": 0.004824,
     "end_time": "2024-06-16T15:14:23.235914",
     "exception": false,
     "start_time": "2024-06-16T15:14:23.231090",
     "status": "completed"
    },
    "tags": []
   },
   "source": [
    "## Understanding the Variables\n",
    "\n",
    "The `lnpos_YN` and `status` are categorical variables that we want to test for independence.\n",
    "Let's take a look at the unique values in these columns."
   ]
  },
  {
   "cell_type": "code",
   "execution_count": 4,
   "id": "2016ad13",
   "metadata": {
    "execution": {
     "iopub.execute_input": "2024-06-16T15:14:23.247761Z",
     "iopub.status.busy": "2024-06-16T15:14:23.247358Z",
     "iopub.status.idle": "2024-06-16T15:14:23.257693Z",
     "shell.execute_reply": "2024-06-16T15:14:23.256628Z"
    },
    "papermill": {
     "duration": 0.019414,
     "end_time": "2024-06-16T15:14:23.260420",
     "exception": false,
     "start_time": "2024-06-16T15:14:23.241006",
     "status": "completed"
    },
    "tags": []
   },
   "outputs": [
    {
     "name": "stdout",
     "output_type": "stream",
     "text": [
      "Unique values in 'lnpos_YN': ['No' 'Yes']\n",
      "Unique values in 'status': [0. 1.]\n"
     ]
    }
   ],
   "source": [
    "# Check the unique values in 'lnpos_YN' and 'status'\n",
    "print(\"Unique values in 'lnpos_YN':\", df['lnpos_YN'].unique())\n",
    "print(\"Unique values in 'status':\", df['status'].unique())\n"
   ]
  },
  {
   "cell_type": "markdown",
   "id": "6e02b98a",
   "metadata": {
    "papermill": {
     "duration": 0.005005,
     "end_time": "2024-06-16T15:14:23.270897",
     "exception": false,
     "start_time": "2024-06-16T15:14:23.265892",
     "status": "completed"
    },
    "tags": []
   },
   "source": [
    "## Creating a Contingency Table\n",
    "\n",
    "We will create a contingency table to summarize the relationship between the two categorical variables."
   ]
  },
  {
   "cell_type": "code",
   "execution_count": 5,
   "id": "567fb4a4",
   "metadata": {
    "execution": {
     "iopub.execute_input": "2024-06-16T15:14:23.282834Z",
     "iopub.status.busy": "2024-06-16T15:14:23.282454Z",
     "iopub.status.idle": "2024-06-16T15:14:23.312525Z",
     "shell.execute_reply": "2024-06-16T15:14:23.311202Z"
    },
    "papermill": {
     "duration": 0.038839,
     "end_time": "2024-06-16T15:14:23.314907",
     "exception": false,
     "start_time": "2024-06-16T15:14:23.276068",
     "status": "completed"
    },
    "tags": []
   },
   "outputs": [
    {
     "name": "stdout",
     "output_type": "stream",
     "text": [
      "status    0.0  1.0\n",
      "lnpos_YN          \n",
      "No        887   42\n",
      "Yes       248   30\n"
     ]
    }
   ],
   "source": [
    "# Create a contingency table\n",
    "contingency_table = pd.crosstab(df['lnpos_YN'], df['status'])\n",
    "print(contingency_table)\n"
   ]
  },
  {
   "cell_type": "markdown",
   "id": "76dea90e",
   "metadata": {
    "papermill": {
     "duration": 0.005086,
     "end_time": "2024-06-16T15:14:23.325547",
     "exception": false,
     "start_time": "2024-06-16T15:14:23.320461",
     "status": "completed"
    },
    "tags": []
   },
   "source": [
    "## Performing the Chi-Square Test for Independence\n",
    "\n",
    "The Chi-Square Test for Independence will help us determine whether there is a significant association between `lnpos_YN` and `status`.\n"
   ]
  },
  {
   "cell_type": "code",
   "execution_count": 6,
   "id": "30243dc2",
   "metadata": {
    "execution": {
     "iopub.execute_input": "2024-06-16T15:14:23.338336Z",
     "iopub.status.busy": "2024-06-16T15:14:23.337446Z",
     "iopub.status.idle": "2024-06-16T15:14:23.346627Z",
     "shell.execute_reply": "2024-06-16T15:14:23.345602Z"
    },
    "papermill": {
     "duration": 0.01827,
     "end_time": "2024-06-16T15:14:23.349099",
     "exception": false,
     "start_time": "2024-06-16T15:14:23.330829",
     "status": "completed"
    },
    "tags": []
   },
   "outputs": [
    {
     "name": "stdout",
     "output_type": "stream",
     "text": [
      "Chi-Square Statistic: 13.900758213995182\n",
      "***********************************\n",
      "p-value: 0.00019272070767964805\n",
      "***********************************\n",
      "Degrees of Freedom: 1\n",
      "***********************************\n",
      "Expected Frequencies Table:\n",
      " [[873.58326429  55.41673571]\n",
      " [261.41673571  16.58326429]]\n"
     ]
    }
   ],
   "source": [
    "# Perform the Chi-Square Test for Independence\n",
    "chi2, p, dof, expected = stats.chi2_contingency(contingency_table)\n",
    "\n",
    "print(\"Chi-Square Statistic:\", chi2)\n",
    "print(\"***********************************\")\n",
    "print(\"p-value:\", p)\n",
    "print(\"***********************************\")\n",
    "print(\"Degrees of Freedom:\", dof)\n",
    "print(\"***********************************\")\n",
    "print(\"Expected Frequencies Table:\\n\", expected)"
   ]
  },
  {
   "cell_type": "markdown",
   "id": "2051bd35",
   "metadata": {
    "papermill": {
     "duration": 0.005239,
     "end_time": "2024-06-16T15:14:23.359871",
     "exception": false,
     "start_time": "2024-06-16T15:14:23.354632",
     "status": "completed"
    },
    "tags": []
   },
   "source": [
    "## Interpreting the Results\n",
    "\n",
    "- **Chi-Square Statistic**: A measure of how much the observed counts deviate from the expected counts.\n",
    "- **p-value**: The probability of obtaining a Chi-Square statistic at least as extreme as the one computed, assuming that the variables are independent.\n",
    "- **Degrees of Freedom**: Number of values that are free to vary given the constraints.\n",
    "- **Expected Frequencies Table**: The expected counts if the variables are truly independent.\n",
    "\n",
    "If the p-value is less than our significance level (typically 0.05), we reject the null hypothesis and conclude that there is a significant association between `lnpos_YN` and `status`.\n"
   ]
  },
  {
   "cell_type": "markdown",
   "id": "26374127",
   "metadata": {
    "papermill": {
     "duration": 0.005163,
     "end_time": "2024-06-16T15:14:23.370551",
     "exception": false,
     "start_time": "2024-06-16T15:14:23.365388",
     "status": "completed"
    },
    "tags": []
   },
   "source": [
    "## Calculate the residuals"
   ]
  },
  {
   "cell_type": "code",
   "execution_count": 7,
   "id": "af91b881",
   "metadata": {
    "execution": {
     "iopub.execute_input": "2024-06-16T15:14:23.383587Z",
     "iopub.status.busy": "2024-06-16T15:14:23.382875Z",
     "iopub.status.idle": "2024-06-16T15:14:23.390876Z",
     "shell.execute_reply": "2024-06-16T15:14:23.389803Z"
    },
    "papermill": {
     "duration": 0.016971,
     "end_time": "2024-06-16T15:14:23.393208",
     "exception": false,
     "start_time": "2024-06-16T15:14:23.376237",
     "status": "completed"
    },
    "tags": []
   },
   "outputs": [
    {
     "name": "stdout",
     "output_type": "stream",
     "text": [
      "Residuals:\n",
      " status          0.0        1.0\n",
      "lnpos_YN                      \n",
      "No        13.416736 -13.416736\n",
      "Yes      -13.416736  13.416736\n"
     ]
    }
   ],
   "source": [
    "# Calculate the residuals\n",
    "residuals = (contingency_table - expected)\n",
    "print(\"Residuals:\\n\", residuals)"
   ]
  },
  {
   "cell_type": "markdown",
   "id": "fecd1406",
   "metadata": {
    "papermill": {
     "duration": 0.005175,
     "end_time": "2024-06-16T15:14:23.403863",
     "exception": false,
     "start_time": "2024-06-16T15:14:23.398688",
     "status": "completed"
    },
    "tags": []
   },
   "source": [
    "## Interpreting the Residuals\n",
    "\n",
    "Residuals show the difference between observed and expected frequencies, standardized by the expected frequency. Large residuals indicate cells that contribute significantly to the Chi-Square statistic.\n"
   ]
  },
  {
   "cell_type": "markdown",
   "id": "fc5739cd",
   "metadata": {
    "papermill": {
     "duration": 0.005052,
     "end_time": "2024-06-16T15:14:23.414345",
     "exception": false,
     "start_time": "2024-06-16T15:14:23.409293",
     "status": "completed"
    },
    "tags": []
   },
   "source": [
    "## Calculating the Odds Ratio\n",
    "\n",
    "The odds ratio will provide a measure of association between the two categorical variables. Note that the odds ratio is only appropriate for 2x2 tables.\n"
   ]
  },
  {
   "cell_type": "code",
   "execution_count": 8,
   "id": "5f206e72",
   "metadata": {
    "execution": {
     "iopub.execute_input": "2024-06-16T15:14:23.427095Z",
     "iopub.status.busy": "2024-06-16T15:14:23.426290Z",
     "iopub.status.idle": "2024-06-16T15:14:23.433007Z",
     "shell.execute_reply": "2024-06-16T15:14:23.431822Z"
    },
    "papermill": {
     "duration": 0.01648,
     "end_time": "2024-06-16T15:14:23.436174",
     "exception": false,
     "start_time": "2024-06-16T15:14:23.419694",
     "status": "completed"
    },
    "tags": []
   },
   "outputs": [
    {
     "name": "stdout",
     "output_type": "stream",
     "text": [
      "Odds Ratio: 2.55\n"
     ]
    }
   ],
   "source": [
    "# Check if the table is 2x2\n",
    "if contingency_table.shape == (2, 2):\n",
    "    # Extract values from the contingency table\n",
    "    a = contingency_table.iloc[0, 0]\n",
    "    b = contingency_table.iloc[0, 1]\n",
    "    c = contingency_table.iloc[1, 0]\n",
    "    d = contingency_table.iloc[1, 1]\n",
    "    \n",
    "    # Calculate the Odds Ratio\n",
    "    odds_ratio = (a / b) / (c / d)\n",
    "    print(f\"Odds Ratio: {odds_ratio:.2f}\")\n",
    "else:\n",
    "    print(\"Odds Ratio calculation is only applicable for 2x2 tables.\")\n"
   ]
  },
  {
   "cell_type": "markdown",
   "id": "8f357ab4",
   "metadata": {
    "papermill": {
     "duration": 0.005813,
     "end_time": "2024-06-16T15:14:23.447899",
     "exception": false,
     "start_time": "2024-06-16T15:14:23.442086",
     "status": "completed"
    },
    "tags": []
   },
   "source": [
    "## Interpreting the Results\n",
    "\n",
    "- **Residuals**: Standardized differences between observed and expected frequencies.\n",
    "- **Odds Ratio**: Measure of association between the two variables, applicable for 2x2 tables.\n"
   ]
  },
  {
   "cell_type": "markdown",
   "id": "0da472b2",
   "metadata": {
    "papermill": {
     "duration": 0.005269,
     "end_time": "2024-06-16T15:14:23.458664",
     "exception": false,
     "start_time": "2024-06-16T15:14:23.453395",
     "status": "completed"
    },
    "tags": []
   },
   "source": [
    "## The Fisher Exact Test "
   ]
  },
  {
   "cell_type": "code",
   "execution_count": 9,
   "id": "81eb77ce",
   "metadata": {
    "execution": {
     "iopub.execute_input": "2024-06-16T15:14:23.471313Z",
     "iopub.status.busy": "2024-06-16T15:14:23.470907Z",
     "iopub.status.idle": "2024-06-16T15:14:23.477877Z",
     "shell.execute_reply": "2024-06-16T15:14:23.476862Z"
    },
    "papermill": {
     "duration": 0.016016,
     "end_time": "2024-06-16T15:14:23.480168",
     "exception": false,
     "start_time": "2024-06-16T15:14:23.464152",
     "status": "completed"
    },
    "tags": []
   },
   "outputs": [
    {
     "name": "stdout",
     "output_type": "stream",
     "text": [
      "All expected frequencies are 5 or greater. Performing Chi-Square Test for Independence.\n"
     ]
    }
   ],
   "source": [
    "# Fisher is typically used when sample sizes are small, especially when the expected frequency in any of the cells of a contingency table is less than 5\n",
    "# Check if any expected frequency is less than 5\n",
    "\n",
    "if (expected < 5).any():\n",
    "    print(\"At least one expected frequency is less than 5. Performing Fisher Exact Test.\")\n",
    "    \n",
    "    # Fisher Exact Test can only be performed on 2x2 tables\n",
    "    if contingency_table.shape == (2, 2):\n",
    "        oddsratio, p_fisher = stats.fisher_exact(contingency_table)\n",
    "        print(\"Fisher Exact Test p-value:\", p_fisher)\n",
    "    else:\n",
    "        print(\"Fisher Exact Test is not applicable for tables larger than 2x2.\")\n",
    "else:\n",
    "    print(\"All expected frequencies are 5 or greater. Performing Chi-Square Test for Independence.\")\n"
   ]
  },
  {
   "cell_type": "markdown",
   "id": "1b8b5d19",
   "metadata": {
    "papermill": {
     "duration": 0.00533,
     "end_time": "2024-06-16T15:14:23.491492",
     "exception": false,
     "start_time": "2024-06-16T15:14:23.486162",
     "status": "completed"
    },
    "tags": []
   },
   "source": [
    "**In next versions I will perform another statistical test on this dataset**\n",
    "> Stay Tuned 🌀"
   ]
  },
  {
   "cell_type": "code",
   "execution_count": null,
   "id": "1f380d57",
   "metadata": {
    "papermill": {
     "duration": 0.005146,
     "end_time": "2024-06-16T15:14:23.502065",
     "exception": false,
     "start_time": "2024-06-16T15:14:23.496919",
     "status": "completed"
    },
    "tags": []
   },
   "outputs": [],
   "source": []
  }
 ],
 "metadata": {
  "kaggle": {
   "accelerator": "none",
   "dataSources": [
    {
     "datasetId": 5211930,
     "sourceId": 8691661,
     "sourceType": "datasetVersion"
    }
   ],
   "dockerImageVersionId": 30732,
   "isGpuEnabled": false,
   "isInternetEnabled": true,
   "language": "python",
   "sourceType": "notebook"
  },
  "kernelspec": {
   "display_name": "Python 3",
   "language": "python",
   "name": "python3"
  },
  "language_info": {
   "codemirror_mode": {
    "name": "ipython",
    "version": 3
   },
   "file_extension": ".py",
   "mimetype": "text/x-python",
   "name": "python",
   "nbconvert_exporter": "python",
   "pygments_lexer": "ipython3",
   "version": "3.10.13"
  },
  "papermill": {
   "default_parameters": {},
   "duration": 5.395831,
   "end_time": "2024-06-16T15:14:24.028638",
   "environment_variables": {},
   "exception": null,
   "input_path": "__notebook__.ipynb",
   "output_path": "__notebook__.ipynb",
   "parameters": {},
   "start_time": "2024-06-16T15:14:18.632807",
   "version": "2.5.0"
  }
 },
 "nbformat": 4,
 "nbformat_minor": 5
}
