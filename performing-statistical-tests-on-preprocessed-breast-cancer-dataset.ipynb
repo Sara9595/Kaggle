{
 "cells": [
  {
   "cell_type": "markdown",
   "id": "bfcc8ebb",
   "metadata": {
    "papermill": {
     "duration": 0.010205,
     "end_time": "2024-06-20T14:55:05.980506",
     "exception": false,
     "start_time": "2024-06-20T14:55:05.970301",
     "status": "completed"
    },
    "tags": []
   },
   "source": [
    "## In this notebook, we will perform some statistical tests on preprocessed breast cancer dataset"
   ]
  },
  {
   "cell_type": "code",
   "execution_count": 1,
   "id": "81c4fff1",
   "metadata": {
    "execution": {
     "iopub.execute_input": "2024-06-20T14:55:06.002083Z",
     "iopub.status.busy": "2024-06-20T14:55:06.001620Z",
     "iopub.status.idle": "2024-06-20T14:55:08.279282Z",
     "shell.execute_reply": "2024-06-20T14:55:08.277872Z"
    },
    "papermill": {
     "duration": 2.291846,
     "end_time": "2024-06-20T14:55:08.282107",
     "exception": false,
     "start_time": "2024-06-20T14:55:05.990261",
     "status": "completed"
    },
    "tags": []
   },
   "outputs": [],
   "source": [
    "# import necessary libraries\n",
    "import pandas as pd\n",
    "import numpy as np\n",
    "import scipy.stats as stats\n",
    "from scipy.stats import norm, shapiro, levene"
   ]
  },
  {
   "cell_type": "code",
   "execution_count": 2,
   "id": "2236fcfc",
   "metadata": {
    "execution": {
     "iopub.execute_input": "2024-06-20T14:55:08.304262Z",
     "iopub.status.busy": "2024-06-20T14:55:08.303702Z",
     "iopub.status.idle": "2024-06-20T14:55:08.332478Z",
     "shell.execute_reply": "2024-06-20T14:55:08.331366Z"
    },
    "papermill": {
     "duration": 0.043441,
     "end_time": "2024-06-20T14:55:08.335499",
     "exception": false,
     "start_time": "2024-06-20T14:55:08.292058",
     "status": "completed"
    },
    "tags": []
   },
   "outputs": [],
   "source": [
    "# Load the dataset\n",
    "file_path = '/kaggle/input/breastcancer-preprocessed/BreastCancer-Preprocessed.csv'\n",
    "df = pd.read_csv(file_path)"
   ]
  },
  {
   "cell_type": "markdown",
   "id": "01e83e30",
   "metadata": {
    "papermill": {
     "duration": 0.009873,
     "end_time": "2024-06-20T14:55:08.355368",
     "exception": false,
     "start_time": "2024-06-20T14:55:08.345495",
     "status": "completed"
    },
    "tags": []
   },
   "source": [
    "##  Display the first few rows of the dataset to understand its structure"
   ]
  },
  {
   "cell_type": "code",
   "execution_count": 3,
   "id": "b84445af",
   "metadata": {
    "execution": {
     "iopub.execute_input": "2024-06-20T14:55:08.377725Z",
     "iopub.status.busy": "2024-06-20T14:55:08.377318Z",
     "iopub.status.idle": "2024-06-20T14:55:08.413114Z",
     "shell.execute_reply": "2024-06-20T14:55:08.411821Z"
    },
    "papermill": {
     "duration": 0.050196,
     "end_time": "2024-06-20T14:55:08.415778",
     "exception": false,
     "start_time": "2024-06-20T14:55:08.365582",
     "status": "completed"
    },
    "tags": []
   },
   "outputs": [
    {
     "data": {
      "text/html": [
       "<div>\n",
       "<style scoped>\n",
       "    .dataframe tbody tr th:only-of-type {\n",
       "        vertical-align: middle;\n",
       "    }\n",
       "\n",
       "    .dataframe tbody tr th {\n",
       "        vertical-align: top;\n",
       "    }\n",
       "\n",
       "    .dataframe thead th {\n",
       "        text-align: right;\n",
       "    }\n",
       "</style>\n",
       "<table border=\"1\" class=\"dataframe\">\n",
       "  <thead>\n",
       "    <tr style=\"text-align: right;\">\n",
       "      <th></th>\n",
       "      <th>id</th>\n",
       "      <th>age</th>\n",
       "      <th>pathsize</th>\n",
       "      <th>lnpos</th>\n",
       "      <th>histgrad</th>\n",
       "      <th>er</th>\n",
       "      <th>pr</th>\n",
       "      <th>status</th>\n",
       "      <th>time</th>\n",
       "      <th>lnpos_YN</th>\n",
       "      <th>pathsize_Cat</th>\n",
       "    </tr>\n",
       "  </thead>\n",
       "  <tbody>\n",
       "    <tr>\n",
       "      <th>0</th>\n",
       "      <td>1.0</td>\n",
       "      <td>60.0</td>\n",
       "      <td>NaN</td>\n",
       "      <td>0.0</td>\n",
       "      <td>3.0</td>\n",
       "      <td>0.0</td>\n",
       "      <td>0.0</td>\n",
       "      <td>0.0</td>\n",
       "      <td>9.466667</td>\n",
       "      <td>No</td>\n",
       "      <td>NaN</td>\n",
       "    </tr>\n",
       "    <tr>\n",
       "      <th>1</th>\n",
       "      <td>2.0</td>\n",
       "      <td>79.0</td>\n",
       "      <td>NaN</td>\n",
       "      <td>0.0</td>\n",
       "      <td>NaN</td>\n",
       "      <td>NaN</td>\n",
       "      <td>NaN</td>\n",
       "      <td>0.0</td>\n",
       "      <td>8.600000</td>\n",
       "      <td>No</td>\n",
       "      <td>NaN</td>\n",
       "    </tr>\n",
       "    <tr>\n",
       "      <th>2</th>\n",
       "      <td>3.0</td>\n",
       "      <td>82.0</td>\n",
       "      <td>NaN</td>\n",
       "      <td>0.0</td>\n",
       "      <td>2.0</td>\n",
       "      <td>NaN</td>\n",
       "      <td>NaN</td>\n",
       "      <td>0.0</td>\n",
       "      <td>19.333333</td>\n",
       "      <td>No</td>\n",
       "      <td>NaN</td>\n",
       "    </tr>\n",
       "    <tr>\n",
       "      <th>3</th>\n",
       "      <td>4.0</td>\n",
       "      <td>66.0</td>\n",
       "      <td>NaN</td>\n",
       "      <td>0.0</td>\n",
       "      <td>2.0</td>\n",
       "      <td>1.0</td>\n",
       "      <td>1.0</td>\n",
       "      <td>0.0</td>\n",
       "      <td>16.333333</td>\n",
       "      <td>No</td>\n",
       "      <td>NaN</td>\n",
       "    </tr>\n",
       "    <tr>\n",
       "      <th>4</th>\n",
       "      <td>5.0</td>\n",
       "      <td>52.0</td>\n",
       "      <td>NaN</td>\n",
       "      <td>0.0</td>\n",
       "      <td>3.0</td>\n",
       "      <td>NaN</td>\n",
       "      <td>NaN</td>\n",
       "      <td>0.0</td>\n",
       "      <td>8.500000</td>\n",
       "      <td>No</td>\n",
       "      <td>NaN</td>\n",
       "    </tr>\n",
       "  </tbody>\n",
       "</table>\n",
       "</div>"
      ],
      "text/plain": [
       "    id   age  pathsize  lnpos  histgrad   er   pr  status       time lnpos_YN  \\\n",
       "0  1.0  60.0       NaN    0.0       3.0  0.0  0.0     0.0   9.466667       No   \n",
       "1  2.0  79.0       NaN    0.0       NaN  NaN  NaN     0.0   8.600000       No   \n",
       "2  3.0  82.0       NaN    0.0       2.0  NaN  NaN     0.0  19.333333       No   \n",
       "3  4.0  66.0       NaN    0.0       2.0  1.0  1.0     0.0  16.333333       No   \n",
       "4  5.0  52.0       NaN    0.0       3.0  NaN  NaN     0.0   8.500000       No   \n",
       "\n",
       "  pathsize_Cat  \n",
       "0          NaN  \n",
       "1          NaN  \n",
       "2          NaN  \n",
       "3          NaN  \n",
       "4          NaN  "
      ]
     },
     "execution_count": 3,
     "metadata": {},
     "output_type": "execute_result"
    }
   ],
   "source": [
    "df.head()"
   ]
  },
  {
   "cell_type": "markdown",
   "id": "2f8e0bcf",
   "metadata": {
    "papermill": {
     "duration": 0.010004,
     "end_time": "2024-06-20T14:55:08.435967",
     "exception": false,
     "start_time": "2024-06-20T14:55:08.425963",
     "status": "completed"
    },
    "tags": []
   },
   "source": [
    "## Understanding the Variables\n",
    "\n",
    "The `lnpos_YN` and `status` are categorical variables that we want to test for independence.\n",
    "Let's take a look at the unique values in these columns."
   ]
  },
  {
   "cell_type": "code",
   "execution_count": 4,
   "id": "eeb95680",
   "metadata": {
    "execution": {
     "iopub.execute_input": "2024-06-20T14:55:08.458011Z",
     "iopub.status.busy": "2024-06-20T14:55:08.457585Z",
     "iopub.status.idle": "2024-06-20T14:55:08.470606Z",
     "shell.execute_reply": "2024-06-20T14:55:08.469456Z"
    },
    "papermill": {
     "duration": 0.028069,
     "end_time": "2024-06-20T14:55:08.474175",
     "exception": false,
     "start_time": "2024-06-20T14:55:08.446106",
     "status": "completed"
    },
    "tags": []
   },
   "outputs": [
    {
     "name": "stdout",
     "output_type": "stream",
     "text": [
      "Unique values in 'lnpos_YN': ['No' 'Yes']\n",
      "Unique values in 'status': [0. 1.]\n"
     ]
    }
   ],
   "source": [
    "# Check the unique values in 'lnpos_YN' and 'status'\n",
    "print(\"Unique values in 'lnpos_YN':\", df['lnpos_YN'].unique())\n",
    "print(\"Unique values in 'status':\", df['status'].unique())\n"
   ]
  },
  {
   "cell_type": "markdown",
   "id": "e10c4a4e",
   "metadata": {
    "papermill": {
     "duration": 0.010174,
     "end_time": "2024-06-20T14:55:08.494642",
     "exception": false,
     "start_time": "2024-06-20T14:55:08.484468",
     "status": "completed"
    },
    "tags": []
   },
   "source": [
    "## Creating a Contingency Table\n",
    "\n",
    "We will create a contingency table to summarize the relationship between the two categorical variables."
   ]
  },
  {
   "cell_type": "code",
   "execution_count": 5,
   "id": "c1fdb319",
   "metadata": {
    "execution": {
     "iopub.execute_input": "2024-06-20T14:55:08.517265Z",
     "iopub.status.busy": "2024-06-20T14:55:08.516837Z",
     "iopub.status.idle": "2024-06-20T14:55:08.552796Z",
     "shell.execute_reply": "2024-06-20T14:55:08.551355Z"
    },
    "papermill": {
     "duration": 0.050572,
     "end_time": "2024-06-20T14:55:08.555667",
     "exception": false,
     "start_time": "2024-06-20T14:55:08.505095",
     "status": "completed"
    },
    "tags": []
   },
   "outputs": [
    {
     "name": "stdout",
     "output_type": "stream",
     "text": [
      "status    0.0  1.0\n",
      "lnpos_YN          \n",
      "No        887   42\n",
      "Yes       248   30\n"
     ]
    }
   ],
   "source": [
    "# Create a contingency table\n",
    "contingency_table = pd.crosstab(df['lnpos_YN'], df['status'])\n",
    "print(contingency_table)\n"
   ]
  },
  {
   "cell_type": "markdown",
   "id": "3d643ee0",
   "metadata": {
    "papermill": {
     "duration": 0.012079,
     "end_time": "2024-06-20T14:55:08.578336",
     "exception": false,
     "start_time": "2024-06-20T14:55:08.566257",
     "status": "completed"
    },
    "tags": []
   },
   "source": [
    "## Performing the Chi-Square Test for Independence\n",
    "\n",
    "The Chi-Square Test for Independence will help us determine whether there is a significant association between `lnpos_YN` and `status`.\n"
   ]
  },
  {
   "cell_type": "code",
   "execution_count": 6,
   "id": "8ed5cf4b",
   "metadata": {
    "execution": {
     "iopub.execute_input": "2024-06-20T14:55:08.601486Z",
     "iopub.status.busy": "2024-06-20T14:55:08.601016Z",
     "iopub.status.idle": "2024-06-20T14:55:08.612332Z",
     "shell.execute_reply": "2024-06-20T14:55:08.611201Z"
    },
    "papermill": {
     "duration": 0.026497,
     "end_time": "2024-06-20T14:55:08.615282",
     "exception": false,
     "start_time": "2024-06-20T14:55:08.588785",
     "status": "completed"
    },
    "tags": []
   },
   "outputs": [
    {
     "name": "stdout",
     "output_type": "stream",
     "text": [
      "Chi-Square Statistic: 13.900758213995182\n",
      "***********************************\n",
      "p-value: 0.00019272070767964805\n",
      "***********************************\n",
      "Degrees of Freedom: 1\n",
      "***********************************\n",
      "Expected Frequencies Table:\n",
      " [[873.58326429  55.41673571]\n",
      " [261.41673571  16.58326429]]\n"
     ]
    }
   ],
   "source": [
    "# Perform the Chi-Square Test for Independence\n",
    "chi2, p, dof, expected = stats.chi2_contingency(contingency_table)\n",
    "\n",
    "print(\"Chi-Square Statistic:\", chi2)\n",
    "print(\"***********************************\")\n",
    "print(\"p-value:\", p)\n",
    "print(\"***********************************\")\n",
    "print(\"Degrees of Freedom:\", dof)\n",
    "print(\"***********************************\")\n",
    "print(\"Expected Frequencies Table:\\n\", expected)"
   ]
  },
  {
   "cell_type": "markdown",
   "id": "e202cc76",
   "metadata": {
    "papermill": {
     "duration": 0.01015,
     "end_time": "2024-06-20T14:55:08.635822",
     "exception": false,
     "start_time": "2024-06-20T14:55:08.625672",
     "status": "completed"
    },
    "tags": []
   },
   "source": [
    "## Interpreting the Results\n",
    "\n",
    "- **Chi-Square Statistic**: A measure of how much the observed counts deviate from the expected counts.\n",
    "- **p-value**: The probability of obtaining a Chi-Square statistic at least as extreme as the one computed, assuming that the variables are independent.\n",
    "- **Degrees of Freedom**: Number of values that are free to vary given the constraints.\n",
    "- **Expected Frequencies Table**: The expected counts if the variables are truly independent.\n",
    "\n",
    "If the p-value is less than our significance level (typically 0.05), we reject the null hypothesis and conclude that there is a significant association between `lnpos_YN` and `status`.\n"
   ]
  },
  {
   "cell_type": "markdown",
   "id": "6bdf55c3",
   "metadata": {
    "papermill": {
     "duration": 0.010357,
     "end_time": "2024-06-20T14:55:08.656888",
     "exception": false,
     "start_time": "2024-06-20T14:55:08.646531",
     "status": "completed"
    },
    "tags": []
   },
   "source": [
    "## Calculate the residuals"
   ]
  },
  {
   "cell_type": "code",
   "execution_count": 7,
   "id": "81489a21",
   "metadata": {
    "execution": {
     "iopub.execute_input": "2024-06-20T14:55:08.680655Z",
     "iopub.status.busy": "2024-06-20T14:55:08.680273Z",
     "iopub.status.idle": "2024-06-20T14:55:08.689389Z",
     "shell.execute_reply": "2024-06-20T14:55:08.688096Z"
    },
    "papermill": {
     "duration": 0.02456,
     "end_time": "2024-06-20T14:55:08.692392",
     "exception": false,
     "start_time": "2024-06-20T14:55:08.667832",
     "status": "completed"
    },
    "tags": []
   },
   "outputs": [
    {
     "name": "stdout",
     "output_type": "stream",
     "text": [
      "Residuals:\n",
      " status          0.0        1.0\n",
      "lnpos_YN                      \n",
      "No        13.416736 -13.416736\n",
      "Yes      -13.416736  13.416736\n"
     ]
    }
   ],
   "source": [
    "# Calculate the residuals\n",
    "residuals = (contingency_table - expected)\n",
    "print(\"Residuals:\\n\", residuals)"
   ]
  },
  {
   "cell_type": "markdown",
   "id": "050ea17e",
   "metadata": {
    "papermill": {
     "duration": 0.010301,
     "end_time": "2024-06-20T14:55:08.713977",
     "exception": false,
     "start_time": "2024-06-20T14:55:08.703676",
     "status": "completed"
    },
    "tags": []
   },
   "source": [
    "## Interpreting the Residuals\n",
    "\n",
    "Residuals show the difference between observed and expected frequencies, standardized by the expected frequency. Large residuals indicate cells that contribute significantly to the Chi-Square statistic.\n"
   ]
  },
  {
   "cell_type": "markdown",
   "id": "f0d6e428",
   "metadata": {
    "papermill": {
     "duration": 0.010658,
     "end_time": "2024-06-20T14:55:08.735238",
     "exception": false,
     "start_time": "2024-06-20T14:55:08.724580",
     "status": "completed"
    },
    "tags": []
   },
   "source": [
    "## Calculating the Odds Ratio\n",
    "\n",
    "The odds ratio will provide a measure of association between the two categorical variables. Note that the odds ratio is only appropriate for 2x2 tables.\n"
   ]
  },
  {
   "cell_type": "code",
   "execution_count": 8,
   "id": "c8549c6f",
   "metadata": {
    "execution": {
     "iopub.execute_input": "2024-06-20T14:55:08.758810Z",
     "iopub.status.busy": "2024-06-20T14:55:08.758403Z",
     "iopub.status.idle": "2024-06-20T14:55:08.769675Z",
     "shell.execute_reply": "2024-06-20T14:55:08.768457Z"
    },
    "papermill": {
     "duration": 0.026816,
     "end_time": "2024-06-20T14:55:08.772536",
     "exception": false,
     "start_time": "2024-06-20T14:55:08.745720",
     "status": "completed"
    },
    "tags": []
   },
   "outputs": [
    {
     "name": "stdout",
     "output_type": "stream",
     "text": [
      "Odds Ratio: 2.55\n",
      "95% Confidence Interval (CI): (1.5663, 4.1668)\n"
     ]
    }
   ],
   "source": [
    "   # Check if the table is 2x2\n",
    "if contingency_table.shape == (2, 2):\n",
    "    # Extract values from the contingency table\n",
    "    a = contingency_table.iloc[0, 0]\n",
    "    b = contingency_table.iloc[0, 1]\n",
    "    c = contingency_table.iloc[1, 0]\n",
    "    d = contingency_table.iloc[1, 1]\n",
    "    \n",
    "    # Calculate the Odds Ratio\n",
    "    odds_ratio = (a / b) / (c / d)\n",
    "    \n",
    "    log_OddsRatio = np.log(odds_ratio)\n",
    "    _log_or = np.sqrt(1/a + 1/b + 1/c + 1/d)\n",
    "    \n",
    "    # 95% Confidence interval for odds ratio\n",
    "    z = norm.ppf(0.975)\n",
    "    CI_lower = np.exp(log_OddsRatio - z * _log_or)\n",
    "    CI_upper = np.exp(log_OddsRatio + z * _log_or)\n",
    "    \n",
    "    # Output results\n",
    "    print(f\"Odds Ratio: {odds_ratio:.2f}\")\n",
    "    print(f\"95% Confidence Interval (CI): ({CI_lower:.4f}, {CI_upper:.4f})\")\n",
    "     "
   ]
  },
  {
   "cell_type": "markdown",
   "id": "da6a6388",
   "metadata": {
    "papermill": {
     "duration": 0.010179,
     "end_time": "2024-06-20T14:55:08.793715",
     "exception": false,
     "start_time": "2024-06-20T14:55:08.783536",
     "status": "completed"
    },
    "tags": []
   },
   "source": [
    "## Interpreting the Results\n",
    "\n",
    "- **Odds Ratio**: Measure of association between the two variables, applicable for 2x2 tables.\n",
    "- **95% Confidence interval for odds ratio** : A confidence interval (CI) provides a range of values that is likely to contain the population parameter with a certain level of confidence (usually 95%). \n"
   ]
  },
  {
   "cell_type": "markdown",
   "id": "9038d1b4",
   "metadata": {
    "papermill": {
     "duration": 0.010477,
     "end_time": "2024-06-20T14:55:08.814861",
     "exception": false,
     "start_time": "2024-06-20T14:55:08.804384",
     "status": "completed"
    },
    "tags": []
   },
   "source": [
    "## The Fisher Exact Test "
   ]
  },
  {
   "cell_type": "code",
   "execution_count": 9,
   "id": "9962a4c4",
   "metadata": {
    "execution": {
     "iopub.execute_input": "2024-06-20T14:55:08.837859Z",
     "iopub.status.busy": "2024-06-20T14:55:08.837415Z",
     "iopub.status.idle": "2024-06-20T14:55:08.845283Z",
     "shell.execute_reply": "2024-06-20T14:55:08.844024Z"
    },
    "papermill": {
     "duration": 0.022378,
     "end_time": "2024-06-20T14:55:08.847779",
     "exception": false,
     "start_time": "2024-06-20T14:55:08.825401",
     "status": "completed"
    },
    "tags": []
   },
   "outputs": [
    {
     "name": "stdout",
     "output_type": "stream",
     "text": [
      "All expected frequencies are 5 or greater. Performing Chi-Square Test for Independence.\n"
     ]
    }
   ],
   "source": [
    "# Fisher is typically used when sample sizes are small, especially when the expected frequency in any of the cells of a contingency table is less than 5\n",
    "# Check if any expected frequency is less than 5\n",
    "\n",
    "if (expected < 5).any():\n",
    "    print(\"At least one expected frequency is less than 5. Performing Fisher Exact Test.\")\n",
    "    \n",
    "    # Fisher Exact Test can only be performed on 2x2 tables\n",
    "    if contingency_table.shape == (2, 2):\n",
    "        oddsratio, p_fisher = stats.fisher_exact(contingency_table)\n",
    "        print(\"Fisher Exact Test p-value:\", p_fisher)\n",
    "    else:\n",
    "        print(\"Fisher Exact Test is not applicable for tables larger than 2x2.\")\n",
    "else:\n",
    "    print(\"All expected frequencies are 5 or greater. Performing Chi-Square Test for Independence.\")\n"
   ]
  },
  {
   "cell_type": "markdown",
   "id": "ab5dc3fe",
   "metadata": {
    "papermill": {
     "duration": 0.010332,
     "end_time": "2024-06-20T14:55:08.868777",
     "exception": false,
     "start_time": "2024-06-20T14:55:08.858445",
     "status": "completed"
    },
    "tags": []
   },
   "source": [
    "## Independent t test"
   ]
  },
  {
   "cell_type": "code",
   "execution_count": 10,
   "id": "ed2000aa",
   "metadata": {
    "execution": {
     "iopub.execute_input": "2024-06-20T14:55:08.892301Z",
     "iopub.status.busy": "2024-06-20T14:55:08.891834Z",
     "iopub.status.idle": "2024-06-20T14:55:08.902733Z",
     "shell.execute_reply": "2024-06-20T14:55:08.901559Z"
    },
    "papermill": {
     "duration": 0.025799,
     "end_time": "2024-06-20T14:55:08.905454",
     "exception": false,
     "start_time": "2024-06-20T14:55:08.879655",
     "status": "completed"
    },
    "tags": []
   },
   "outputs": [
    {
     "data": {
      "text/plain": [
       "lnpos_YN\n",
       "No     929\n",
       "Yes    278\n",
       "Name: count, dtype: int64"
      ]
     },
     "execution_count": 10,
     "metadata": {},
     "output_type": "execute_result"
    }
   ],
   "source": [
    "df.lnpos_YN.value_counts()\n"
   ]
  },
  {
   "cell_type": "code",
   "execution_count": 11,
   "id": "f516af75",
   "metadata": {
    "execution": {
     "iopub.execute_input": "2024-06-20T14:55:08.929797Z",
     "iopub.status.busy": "2024-06-20T14:55:08.929389Z",
     "iopub.status.idle": "2024-06-20T14:55:08.941125Z",
     "shell.execute_reply": "2024-06-20T14:55:08.939833Z"
    },
    "papermill": {
     "duration": 0.027667,
     "end_time": "2024-06-20T14:55:08.944098",
     "exception": false,
     "start_time": "2024-06-20T14:55:08.916431",
     "status": "completed"
    },
    "tags": []
   },
   "outputs": [
    {
     "data": {
      "text/plain": [
       "8        27.633333\n",
       "9        11.133333\n",
       "10       11.066667\n",
       "20      107.800000\n",
       "27       48.666667\n",
       "           ...    \n",
       "1200     33.700000\n",
       "1201     32.366667\n",
       "1202      6.866667\n",
       "1204     15.166667\n",
       "1205     45.133333\n",
       "Name: time, Length: 278, dtype: float64"
      ]
     },
     "execution_count": 11,
     "metadata": {},
     "output_type": "execute_result"
    }
   ],
   "source": [
    "df[df['lnpos_YN'] == 'Yes']['time']"
   ]
  },
  {
   "cell_type": "code",
   "execution_count": 12,
   "id": "e871ec46",
   "metadata": {
    "execution": {
     "iopub.execute_input": "2024-06-20T14:55:08.968725Z",
     "iopub.status.busy": "2024-06-20T14:55:08.968337Z",
     "iopub.status.idle": "2024-06-20T14:55:08.976917Z",
     "shell.execute_reply": "2024-06-20T14:55:08.975652Z"
    },
    "papermill": {
     "duration": 0.024113,
     "end_time": "2024-06-20T14:55:08.979492",
     "exception": false,
     "start_time": "2024-06-20T14:55:08.955379",
     "status": "completed"
    },
    "tags": []
   },
   "outputs": [],
   "source": [
    "groupY =df[df['lnpos_YN'] == 'Yes']['time']\n",
    "groupN = df[df['lnpos_YN'] == 'No']['time']"
   ]
  },
  {
   "cell_type": "markdown",
   "id": "ff74d646",
   "metadata": {
    "papermill": {
     "duration": 0.010727,
     "end_time": "2024-06-20T14:55:09.001437",
     "exception": false,
     "start_time": "2024-06-20T14:55:08.990710",
     "status": "completed"
    },
    "tags": []
   },
   "source": [
    "**Check normality**"
   ]
  },
  {
   "cell_type": "code",
   "execution_count": 13,
   "id": "a59cdae8",
   "metadata": {
    "execution": {
     "iopub.execute_input": "2024-06-20T14:55:09.025434Z",
     "iopub.status.busy": "2024-06-20T14:55:09.025013Z",
     "iopub.status.idle": "2024-06-20T14:55:09.032547Z",
     "shell.execute_reply": "2024-06-20T14:55:09.031492Z"
    },
    "papermill": {
     "duration": 0.022351,
     "end_time": "2024-06-20T14:55:09.034987",
     "exception": false,
     "start_time": "2024-06-20T14:55:09.012636",
     "status": "completed"
    },
    "tags": []
   },
   "outputs": [
    {
     "name": "stdout",
     "output_type": "stream",
     "text": [
      "ShapiroResult(statistic=0.958610475063324, pvalue=1.531057368424826e-15)\n",
      "ShapiroResult(statistic=0.9339127540588379, pvalue=8.318342126223399e-10)\n"
     ]
    }
   ],
   "source": [
    "sh_lnpose_Y = stats.shapiro(groupY)\n",
    "sh_lnpose_N = stats.shapiro(groupN)\n",
    "print(sh_lnpose_N)\n",
    "print(sh_lnpose_Y)"
   ]
  },
  {
   "cell_type": "code",
   "execution_count": 14,
   "id": "5b5f8ea6",
   "metadata": {
    "execution": {
     "iopub.execute_input": "2024-06-20T14:55:09.059067Z",
     "iopub.status.busy": "2024-06-20T14:55:09.058644Z",
     "iopub.status.idle": "2024-06-20T14:55:09.068446Z",
     "shell.execute_reply": "2024-06-20T14:55:09.067237Z"
    },
    "papermill": {
     "duration": 0.024673,
     "end_time": "2024-06-20T14:55:09.070967",
     "exception": false,
     "start_time": "2024-06-20T14:55:09.046294",
     "status": "completed"
    },
    "tags": []
   },
   "outputs": [
    {
     "data": {
      "text/plain": [
       "LeveneResult(statistic=1.1169212722022501, pvalue=0.29079417684064907)"
      ]
     },
     "execution_count": 14,
     "metadata": {},
     "output_type": "execute_result"
    }
   ],
   "source": [
    "levene1 = levene(groupN,groupY)\n",
    "levene1"
   ]
  },
  {
   "cell_type": "code",
   "execution_count": 15,
   "id": "8a569f90",
   "metadata": {
    "execution": {
     "iopub.execute_input": "2024-06-20T14:55:09.095922Z",
     "iopub.status.busy": "2024-06-20T14:55:09.095358Z",
     "iopub.status.idle": "2024-06-20T14:55:09.105662Z",
     "shell.execute_reply": "2024-06-20T14:55:09.104226Z"
    },
    "papermill": {
     "duration": 0.025964,
     "end_time": "2024-06-20T14:55:09.108309",
     "exception": false,
     "start_time": "2024-06-20T14:55:09.082345",
     "status": "completed"
    },
    "tags": []
   },
   "outputs": [
    {
     "name": "stdout",
     "output_type": "stream",
     "text": [
      "H0 is acceptible and variances are equal in lnpose_YN and Time\n"
     ]
    }
   ],
   "source": [
    "if levene1.pvalue > 0.05 :\n",
    "    t_statistics , p_value = stats.ttest_ind(groupN,groupY,equal_var=True)\n",
    "    print('H0 is acceptible and variances are equal in lnpose_YN and Time')\n",
    "else:\n",
    "    t_statistics , p_value = stats.ttest_ind(groupN,groupY, equal_var=False)\n",
    "    print('H1 is acceptible and variances are not equal in lnpose_YN and Time')"
   ]
  },
  {
   "cell_type": "code",
   "execution_count": 16,
   "id": "cba926d1",
   "metadata": {
    "execution": {
     "iopub.execute_input": "2024-06-20T14:55:09.134227Z",
     "iopub.status.busy": "2024-06-20T14:55:09.133788Z",
     "iopub.status.idle": "2024-06-20T14:55:09.143218Z",
     "shell.execute_reply": "2024-06-20T14:55:09.141978Z"
    },
    "papermill": {
     "duration": 0.025893,
     "end_time": "2024-06-20T14:55:09.146075",
     "exception": false,
     "start_time": "2024-06-20T14:55:09.120182",
     "status": "completed"
    },
    "tags": []
   },
   "outputs": [
    {
     "data": {
      "text/plain": [
       "array(['<= 2', '2 <  <= 5', '> 5'], dtype=object)"
      ]
     },
     "execution_count": 16,
     "metadata": {},
     "output_type": "execute_result"
    }
   ],
   "source": [
    "pathsize_groups = df['pathsize_Cat'].dropna().unique()\n",
    "pathsize_groups"
   ]
  },
  {
   "cell_type": "code",
   "execution_count": 17,
   "id": "6cf929fd",
   "metadata": {
    "execution": {
     "iopub.execute_input": "2024-06-20T14:55:09.170842Z",
     "iopub.status.busy": "2024-06-20T14:55:09.170427Z",
     "iopub.status.idle": "2024-06-20T14:55:09.200106Z",
     "shell.execute_reply": "2024-06-20T14:55:09.198937Z"
    },
    "papermill": {
     "duration": 0.045165,
     "end_time": "2024-06-20T14:55:09.202774",
     "exception": false,
     "start_time": "2024-06-20T14:55:09.157609",
     "status": "completed"
    },
    "tags": []
   },
   "outputs": [
    {
     "data": {
      "text/html": [
       "<div>\n",
       "<style scoped>\n",
       "    .dataframe tbody tr th:only-of-type {\n",
       "        vertical-align: middle;\n",
       "    }\n",
       "\n",
       "    .dataframe tbody tr th {\n",
       "        vertical-align: top;\n",
       "    }\n",
       "\n",
       "    .dataframe thead th {\n",
       "        text-align: right;\n",
       "    }\n",
       "</style>\n",
       "<table border=\"1\" class=\"dataframe\">\n",
       "  <thead>\n",
       "    <tr style=\"text-align: right;\">\n",
       "      <th></th>\n",
       "      <th>id</th>\n",
       "      <th>age</th>\n",
       "      <th>pathsize</th>\n",
       "      <th>lnpos</th>\n",
       "      <th>histgrad</th>\n",
       "      <th>er</th>\n",
       "      <th>pr</th>\n",
       "      <th>status</th>\n",
       "      <th>time</th>\n",
       "      <th>lnpos_YN</th>\n",
       "      <th>pathsize_Cat</th>\n",
       "    </tr>\n",
       "  </thead>\n",
       "  <tbody>\n",
       "    <tr>\n",
       "      <th>86</th>\n",
       "      <td>14.0</td>\n",
       "      <td>44.0</td>\n",
       "      <td>0.10</td>\n",
       "      <td>1.0</td>\n",
       "      <td>NaN</td>\n",
       "      <td>NaN</td>\n",
       "      <td>NaN</td>\n",
       "      <td>0.0</td>\n",
       "      <td>108.900000</td>\n",
       "      <td>Yes</td>\n",
       "      <td>&lt;= 2</td>\n",
       "    </tr>\n",
       "    <tr>\n",
       "      <th>87</th>\n",
       "      <td>15.0</td>\n",
       "      <td>60.0</td>\n",
       "      <td>0.15</td>\n",
       "      <td>0.0</td>\n",
       "      <td>1.0</td>\n",
       "      <td>1.0</td>\n",
       "      <td>1.0</td>\n",
       "      <td>0.0</td>\n",
       "      <td>16.366667</td>\n",
       "      <td>No</td>\n",
       "      <td>&lt;= 2</td>\n",
       "    </tr>\n",
       "    <tr>\n",
       "      <th>88</th>\n",
       "      <td>16.0</td>\n",
       "      <td>49.0</td>\n",
       "      <td>0.20</td>\n",
       "      <td>0.0</td>\n",
       "      <td>1.0</td>\n",
       "      <td>NaN</td>\n",
       "      <td>NaN</td>\n",
       "      <td>0.0</td>\n",
       "      <td>94.333333</td>\n",
       "      <td>No</td>\n",
       "      <td>&lt;= 2</td>\n",
       "    </tr>\n",
       "    <tr>\n",
       "      <th>89</th>\n",
       "      <td>17.0</td>\n",
       "      <td>41.0</td>\n",
       "      <td>0.20</td>\n",
       "      <td>0.0</td>\n",
       "      <td>1.0</td>\n",
       "      <td>NaN</td>\n",
       "      <td>NaN</td>\n",
       "      <td>0.0</td>\n",
       "      <td>87.500000</td>\n",
       "      <td>No</td>\n",
       "      <td>&lt;= 2</td>\n",
       "    </tr>\n",
       "    <tr>\n",
       "      <th>90</th>\n",
       "      <td>18.0</td>\n",
       "      <td>39.0</td>\n",
       "      <td>0.26</td>\n",
       "      <td>0.0</td>\n",
       "      <td>2.0</td>\n",
       "      <td>NaN</td>\n",
       "      <td>NaN</td>\n",
       "      <td>0.0</td>\n",
       "      <td>73.033333</td>\n",
       "      <td>No</td>\n",
       "      <td>&lt;= 2</td>\n",
       "    </tr>\n",
       "    <tr>\n",
       "      <th>...</th>\n",
       "      <td>...</td>\n",
       "      <td>...</td>\n",
       "      <td>...</td>\n",
       "      <td>...</td>\n",
       "      <td>...</td>\n",
       "      <td>...</td>\n",
       "      <td>...</td>\n",
       "      <td>...</td>\n",
       "      <td>...</td>\n",
       "      <td>...</td>\n",
       "      <td>...</td>\n",
       "    </tr>\n",
       "    <tr>\n",
       "      <th>907</th>\n",
       "      <td>1249.0</td>\n",
       "      <td>38.0</td>\n",
       "      <td>2.00</td>\n",
       "      <td>0.0</td>\n",
       "      <td>2.0</td>\n",
       "      <td>NaN</td>\n",
       "      <td>NaN</td>\n",
       "      <td>1.0</td>\n",
       "      <td>25.433333</td>\n",
       "      <td>No</td>\n",
       "      <td>&lt;= 2</td>\n",
       "    </tr>\n",
       "    <tr>\n",
       "      <th>908</th>\n",
       "      <td>1252.0</td>\n",
       "      <td>29.0</td>\n",
       "      <td>1.50</td>\n",
       "      <td>1.0</td>\n",
       "      <td>3.0</td>\n",
       "      <td>NaN</td>\n",
       "      <td>0.0</td>\n",
       "      <td>0.0</td>\n",
       "      <td>35.666667</td>\n",
       "      <td>Yes</td>\n",
       "      <td>&lt;= 2</td>\n",
       "    </tr>\n",
       "    <tr>\n",
       "      <th>909</th>\n",
       "      <td>1256.0</td>\n",
       "      <td>59.0</td>\n",
       "      <td>1.20</td>\n",
       "      <td>0.0</td>\n",
       "      <td>NaN</td>\n",
       "      <td>1.0</td>\n",
       "      <td>0.0</td>\n",
       "      <td>0.0</td>\n",
       "      <td>133.800000</td>\n",
       "      <td>No</td>\n",
       "      <td>&lt;= 2</td>\n",
       "    </tr>\n",
       "    <tr>\n",
       "      <th>910</th>\n",
       "      <td>1261.0</td>\n",
       "      <td>41.0</td>\n",
       "      <td>1.20</td>\n",
       "      <td>0.0</td>\n",
       "      <td>2.0</td>\n",
       "      <td>1.0</td>\n",
       "      <td>1.0</td>\n",
       "      <td>0.0</td>\n",
       "      <td>90.166667</td>\n",
       "      <td>No</td>\n",
       "      <td>&lt;= 2</td>\n",
       "    </tr>\n",
       "    <tr>\n",
       "      <th>911</th>\n",
       "      <td>1262.0</td>\n",
       "      <td>71.0</td>\n",
       "      <td>1.60</td>\n",
       "      <td>0.0</td>\n",
       "      <td>3.0</td>\n",
       "      <td>0.0</td>\n",
       "      <td>0.0</td>\n",
       "      <td>0.0</td>\n",
       "      <td>22.566667</td>\n",
       "      <td>No</td>\n",
       "      <td>&lt;= 2</td>\n",
       "    </tr>\n",
       "  </tbody>\n",
       "</table>\n",
       "<p>826 rows × 11 columns</p>\n",
       "</div>"
      ],
      "text/plain": [
       "         id   age  pathsize  lnpos  histgrad   er   pr  status        time  \\\n",
       "86     14.0  44.0      0.10    1.0       NaN  NaN  NaN     0.0  108.900000   \n",
       "87     15.0  60.0      0.15    0.0       1.0  1.0  1.0     0.0   16.366667   \n",
       "88     16.0  49.0      0.20    0.0       1.0  NaN  NaN     0.0   94.333333   \n",
       "89     17.0  41.0      0.20    0.0       1.0  NaN  NaN     0.0   87.500000   \n",
       "90     18.0  39.0      0.26    0.0       2.0  NaN  NaN     0.0   73.033333   \n",
       "..      ...   ...       ...    ...       ...  ...  ...     ...         ...   \n",
       "907  1249.0  38.0      2.00    0.0       2.0  NaN  NaN     1.0   25.433333   \n",
       "908  1252.0  29.0      1.50    1.0       3.0  NaN  0.0     0.0   35.666667   \n",
       "909  1256.0  59.0      1.20    0.0       NaN  1.0  0.0     0.0  133.800000   \n",
       "910  1261.0  41.0      1.20    0.0       2.0  1.0  1.0     0.0   90.166667   \n",
       "911  1262.0  71.0      1.60    0.0       3.0  0.0  0.0     0.0   22.566667   \n",
       "\n",
       "    lnpos_YN pathsize_Cat  \n",
       "86       Yes         <= 2  \n",
       "87        No         <= 2  \n",
       "88        No         <= 2  \n",
       "89        No         <= 2  \n",
       "90        No         <= 2  \n",
       "..       ...          ...  \n",
       "907       No         <= 2  \n",
       "908      Yes         <= 2  \n",
       "909       No         <= 2  \n",
       "910       No         <= 2  \n",
       "911       No         <= 2  \n",
       "\n",
       "[826 rows x 11 columns]"
      ]
     },
     "execution_count": 17,
     "metadata": {},
     "output_type": "execute_result"
    }
   ],
   "source": [
    "df[df['pathsize_Cat'] == pathsize_groups[0]]"
   ]
  },
  {
   "cell_type": "code",
   "execution_count": 18,
   "id": "9e6d5fc0",
   "metadata": {
    "execution": {
     "iopub.execute_input": "2024-06-20T14:55:09.228357Z",
     "iopub.status.busy": "2024-06-20T14:55:09.227931Z",
     "iopub.status.idle": "2024-06-20T14:55:09.240298Z",
     "shell.execute_reply": "2024-06-20T14:55:09.239087Z"
    },
    "papermill": {
     "duration": 0.028213,
     "end_time": "2024-06-20T14:55:09.243024",
     "exception": false,
     "start_time": "2024-06-20T14:55:09.214811",
     "status": "completed"
    },
    "tags": []
   },
   "outputs": [],
   "source": [
    "for level, group in df.groupby('pathsize_Cat'):\n",
    "     groupN = group[group['lnpos_YN'] == 'No']['time']\n",
    "     groupY = group[group['lnpos_YN'] == 'Yes']['time']\n",
    " "
   ]
  },
  {
   "cell_type": "code",
   "execution_count": 19,
   "id": "c2280430",
   "metadata": {
    "execution": {
     "iopub.execute_input": "2024-06-20T14:55:09.268612Z",
     "iopub.status.busy": "2024-06-20T14:55:09.268246Z",
     "iopub.status.idle": "2024-06-20T14:55:09.281278Z",
     "shell.execute_reply": "2024-06-20T14:55:09.279881Z"
    },
    "papermill": {
     "duration": 0.028842,
     "end_time": "2024-06-20T14:55:09.283764",
     "exception": false,
     "start_time": "2024-06-20T14:55:09.254922",
     "status": "completed"
    },
    "tags": []
   },
   "outputs": [
    {
     "name": "stdout",
     "output_type": "stream",
     "text": [
      "Shapiro test for pathsize_Cat group1: ShapiroResult(statistic=0.9486790895462036, pvalue=0.7078753113746643)\n",
      "Shapiro test for pathsize_Cat group2: ShapiroResult(statistic=0.9288694262504578, pvalue=0.5058420300483704)\n",
      "Levene test for pathsize_Cat: LeveneResult(statistic=0.05583725989193762, pvalue=0.8179702620924999)\n",
      "T-Test for pathsize_Cat: t_statistic = -0.3014836920469003, p_value = 0.7692217601243535\n"
     ]
    }
   ],
   "source": [
    "shapiro_pathsize_group1 = shapiro(groupN)\n",
    "shapiro_pathsize_group2 = shapiro(groupY)\n",
    "\n",
    "# Check homogeneity of variances for pathsize_Cat groups\n",
    "levene_pathsize = levene(groupN, groupY)\n",
    "\n",
    "# Perform pairwise t-tests based on Levene's test result\n",
    "if levene_pathsize.pvalue > 0.05:\n",
    "    # Use equal variances\n",
    "    t_statistic_1, p_value_1 = stats.ttest_ind(groupN, groupY, equal_var=True)\n",
    "else:\n",
    "    # Use unequal variances\n",
    "    t_statistic_1, p_value_1 = stats.ttest_ind(groupN, groupY, equal_var=False)\n",
    "\n",
    "# Print results\n",
    "\n",
    "\n",
    "print(f'Shapiro test for pathsize_Cat group1: {shapiro_pathsize_group1}')\n",
    "print(f'Shapiro test for pathsize_Cat group2: {shapiro_pathsize_group2}')\n",
    "print(f'Levene test for pathsize_Cat: {levene_pathsize}')\n",
    "print(f'T-Test for pathsize_Cat: t_statistic = {t_statistic_1}, p_value = {p_value_1}')"
   ]
  },
  {
   "cell_type": "code",
   "execution_count": null,
   "id": "3e846770",
   "metadata": {
    "papermill": {
     "duration": 0.012579,
     "end_time": "2024-06-20T14:55:09.308477",
     "exception": false,
     "start_time": "2024-06-20T14:55:09.295898",
     "status": "completed"
    },
    "tags": []
   },
   "outputs": [],
   "source": []
  }
 ],
 "metadata": {
  "kaggle": {
   "accelerator": "none",
   "dataSources": [
    {
     "datasetId": 5211930,
     "sourceId": 8691661,
     "sourceType": "datasetVersion"
    }
   ],
   "dockerImageVersionId": 30732,
   "isGpuEnabled": false,
   "isInternetEnabled": true,
   "language": "python",
   "sourceType": "notebook"
  },
  "kernelspec": {
   "display_name": "Python 3",
   "language": "python",
   "name": "python3"
  },
  "language_info": {
   "codemirror_mode": {
    "name": "ipython",
    "version": 3
   },
   "file_extension": ".py",
   "mimetype": "text/x-python",
   "name": "python",
   "nbconvert_exporter": "python",
   "pygments_lexer": "ipython3",
   "version": "3.10.13"
  },
  "papermill": {
   "default_parameters": {},
   "duration": 7.220397,
   "end_time": "2024-06-20T14:55:09.944249",
   "environment_variables": {},
   "exception": null,
   "input_path": "__notebook__.ipynb",
   "output_path": "__notebook__.ipynb",
   "parameters": {},
   "start_time": "2024-06-20T14:55:02.723852",
   "version": "2.5.0"
  }
 },
 "nbformat": 4,
 "nbformat_minor": 5
}
