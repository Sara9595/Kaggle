{
 "cells": [
  {
   "cell_type": "markdown",
   "id": "d5862ca5",
   "metadata": {
    "papermill": {
     "duration": 0.011021,
     "end_time": "2024-07-04T09:14:05.758845",
     "exception": false,
     "start_time": "2024-07-04T09:14:05.747824",
     "status": "completed"
    },
    "tags": []
   },
   "source": [
    "## In this notebook, we will perform some statistical tests on preprocessed breast cancer dataset"
   ]
  },
  {
   "cell_type": "code",
   "execution_count": 1,
   "id": "654cd0c0",
   "metadata": {
    "execution": {
     "iopub.execute_input": "2024-07-04T09:14:05.780671Z",
     "iopub.status.busy": "2024-07-04T09:14:05.780264Z",
     "iopub.status.idle": "2024-07-04T09:14:07.857815Z",
     "shell.execute_reply": "2024-07-04T09:14:07.856580Z"
    },
    "papermill": {
     "duration": 2.092236,
     "end_time": "2024-07-04T09:14:07.861116",
     "exception": false,
     "start_time": "2024-07-04T09:14:05.768880",
     "status": "completed"
    },
    "tags": []
   },
   "outputs": [],
   "source": [
    "# import necessary libraries\n",
    "import pandas as pd\n",
    "import numpy as np\n",
    "import scipy.stats as stats\n",
    "from scipy.stats import norm, shapiro, levene"
   ]
  },
  {
   "cell_type": "code",
   "execution_count": 2,
   "id": "29a7998b",
   "metadata": {
    "execution": {
     "iopub.execute_input": "2024-07-04T09:14:07.884788Z",
     "iopub.status.busy": "2024-07-04T09:14:07.883543Z",
     "iopub.status.idle": "2024-07-04T09:14:07.907937Z",
     "shell.execute_reply": "2024-07-04T09:14:07.906735Z"
    },
    "papermill": {
     "duration": 0.039061,
     "end_time": "2024-07-04T09:14:07.910910",
     "exception": false,
     "start_time": "2024-07-04T09:14:07.871849",
     "status": "completed"
    },
    "tags": []
   },
   "outputs": [],
   "source": [
    "# Load the dataset\n",
    "file_path = '/kaggle/input/breastcancer-preprocessed/BreastCancer-Preprocessed.csv'\n",
    "df = pd.read_csv(file_path)"
   ]
  },
  {
   "cell_type": "markdown",
   "id": "a9459aec",
   "metadata": {
    "papermill": {
     "duration": 0.009916,
     "end_time": "2024-07-04T09:14:07.931042",
     "exception": false,
     "start_time": "2024-07-04T09:14:07.921126",
     "status": "completed"
    },
    "tags": []
   },
   "source": [
    "##  Display the first few rows of the dataset to understand its structure"
   ]
  },
  {
   "cell_type": "code",
   "execution_count": 3,
   "id": "40456433",
   "metadata": {
    "execution": {
     "iopub.execute_input": "2024-07-04T09:14:07.953110Z",
     "iopub.status.busy": "2024-07-04T09:14:07.952702Z",
     "iopub.status.idle": "2024-07-04T09:14:07.987530Z",
     "shell.execute_reply": "2024-07-04T09:14:07.986391Z"
    },
    "papermill": {
     "duration": 0.049014,
     "end_time": "2024-07-04T09:14:07.990290",
     "exception": false,
     "start_time": "2024-07-04T09:14:07.941276",
     "status": "completed"
    },
    "tags": []
   },
   "outputs": [
    {
     "data": {
      "text/html": [
       "<div>\n",
       "<style scoped>\n",
       "    .dataframe tbody tr th:only-of-type {\n",
       "        vertical-align: middle;\n",
       "    }\n",
       "\n",
       "    .dataframe tbody tr th {\n",
       "        vertical-align: top;\n",
       "    }\n",
       "\n",
       "    .dataframe thead th {\n",
       "        text-align: right;\n",
       "    }\n",
       "</style>\n",
       "<table border=\"1\" class=\"dataframe\">\n",
       "  <thead>\n",
       "    <tr style=\"text-align: right;\">\n",
       "      <th></th>\n",
       "      <th>id</th>\n",
       "      <th>age</th>\n",
       "      <th>pathsize</th>\n",
       "      <th>lnpos</th>\n",
       "      <th>histgrad</th>\n",
       "      <th>er</th>\n",
       "      <th>pr</th>\n",
       "      <th>status</th>\n",
       "      <th>time</th>\n",
       "      <th>lnpos_YN</th>\n",
       "      <th>pathsize_Cat</th>\n",
       "    </tr>\n",
       "  </thead>\n",
       "  <tbody>\n",
       "    <tr>\n",
       "      <th>0</th>\n",
       "      <td>1.0</td>\n",
       "      <td>60.0</td>\n",
       "      <td>NaN</td>\n",
       "      <td>0.0</td>\n",
       "      <td>3.0</td>\n",
       "      <td>0.0</td>\n",
       "      <td>0.0</td>\n",
       "      <td>0.0</td>\n",
       "      <td>9.466667</td>\n",
       "      <td>No</td>\n",
       "      <td>NaN</td>\n",
       "    </tr>\n",
       "    <tr>\n",
       "      <th>1</th>\n",
       "      <td>2.0</td>\n",
       "      <td>79.0</td>\n",
       "      <td>NaN</td>\n",
       "      <td>0.0</td>\n",
       "      <td>NaN</td>\n",
       "      <td>NaN</td>\n",
       "      <td>NaN</td>\n",
       "      <td>0.0</td>\n",
       "      <td>8.600000</td>\n",
       "      <td>No</td>\n",
       "      <td>NaN</td>\n",
       "    </tr>\n",
       "    <tr>\n",
       "      <th>2</th>\n",
       "      <td>3.0</td>\n",
       "      <td>82.0</td>\n",
       "      <td>NaN</td>\n",
       "      <td>0.0</td>\n",
       "      <td>2.0</td>\n",
       "      <td>NaN</td>\n",
       "      <td>NaN</td>\n",
       "      <td>0.0</td>\n",
       "      <td>19.333333</td>\n",
       "      <td>No</td>\n",
       "      <td>NaN</td>\n",
       "    </tr>\n",
       "    <tr>\n",
       "      <th>3</th>\n",
       "      <td>4.0</td>\n",
       "      <td>66.0</td>\n",
       "      <td>NaN</td>\n",
       "      <td>0.0</td>\n",
       "      <td>2.0</td>\n",
       "      <td>1.0</td>\n",
       "      <td>1.0</td>\n",
       "      <td>0.0</td>\n",
       "      <td>16.333333</td>\n",
       "      <td>No</td>\n",
       "      <td>NaN</td>\n",
       "    </tr>\n",
       "    <tr>\n",
       "      <th>4</th>\n",
       "      <td>5.0</td>\n",
       "      <td>52.0</td>\n",
       "      <td>NaN</td>\n",
       "      <td>0.0</td>\n",
       "      <td>3.0</td>\n",
       "      <td>NaN</td>\n",
       "      <td>NaN</td>\n",
       "      <td>0.0</td>\n",
       "      <td>8.500000</td>\n",
       "      <td>No</td>\n",
       "      <td>NaN</td>\n",
       "    </tr>\n",
       "  </tbody>\n",
       "</table>\n",
       "</div>"
      ],
      "text/plain": [
       "    id   age  pathsize  lnpos  histgrad   er   pr  status       time lnpos_YN  \\\n",
       "0  1.0  60.0       NaN    0.0       3.0  0.0  0.0     0.0   9.466667       No   \n",
       "1  2.0  79.0       NaN    0.0       NaN  NaN  NaN     0.0   8.600000       No   \n",
       "2  3.0  82.0       NaN    0.0       2.0  NaN  NaN     0.0  19.333333       No   \n",
       "3  4.0  66.0       NaN    0.0       2.0  1.0  1.0     0.0  16.333333       No   \n",
       "4  5.0  52.0       NaN    0.0       3.0  NaN  NaN     0.0   8.500000       No   \n",
       "\n",
       "  pathsize_Cat  \n",
       "0          NaN  \n",
       "1          NaN  \n",
       "2          NaN  \n",
       "3          NaN  \n",
       "4          NaN  "
      ]
     },
     "execution_count": 3,
     "metadata": {},
     "output_type": "execute_result"
    }
   ],
   "source": [
    "df.head()"
   ]
  },
  {
   "cell_type": "markdown",
   "id": "06ed5f4f",
   "metadata": {
    "papermill": {
     "duration": 0.010125,
     "end_time": "2024-07-04T09:14:08.010939",
     "exception": false,
     "start_time": "2024-07-04T09:14:08.000814",
     "status": "completed"
    },
    "tags": []
   },
   "source": [
    "## Understanding the Variables\n",
    "\n",
    "The `lnpos_YN` and `status` are categorical variables that we want to test for independence.\n",
    "Let's take a look at the unique values in these columns."
   ]
  },
  {
   "cell_type": "code",
   "execution_count": 4,
   "id": "42ce45c2",
   "metadata": {
    "execution": {
     "iopub.execute_input": "2024-07-04T09:14:08.033568Z",
     "iopub.status.busy": "2024-07-04T09:14:08.033176Z",
     "iopub.status.idle": "2024-07-04T09:14:08.046782Z",
     "shell.execute_reply": "2024-07-04T09:14:08.045749Z"
    },
    "papermill": {
     "duration": 0.028354,
     "end_time": "2024-07-04T09:14:08.049784",
     "exception": false,
     "start_time": "2024-07-04T09:14:08.021430",
     "status": "completed"
    },
    "tags": []
   },
   "outputs": [
    {
     "name": "stdout",
     "output_type": "stream",
     "text": [
      "Unique values in 'lnpos_YN': ['No' 'Yes']\n",
      "Unique values in 'status': [0. 1.]\n"
     ]
    }
   ],
   "source": [
    "# Check the unique values in 'lnpos_YN' and 'status'\n",
    "print(\"Unique values in 'lnpos_YN':\", df['lnpos_YN'].unique())\n",
    "print(\"Unique values in 'status':\", df['status'].unique())\n"
   ]
  },
  {
   "cell_type": "markdown",
   "id": "4844869a",
   "metadata": {
    "papermill": {
     "duration": 0.010202,
     "end_time": "2024-07-04T09:14:08.070623",
     "exception": false,
     "start_time": "2024-07-04T09:14:08.060421",
     "status": "completed"
    },
    "tags": []
   },
   "source": [
    "## Creating a Contingency Table\n",
    "\n",
    "We will create a contingency table to summarize the relationship between the two categorical variables."
   ]
  },
  {
   "cell_type": "code",
   "execution_count": 5,
   "id": "81e52bbe",
   "metadata": {
    "execution": {
     "iopub.execute_input": "2024-07-04T09:14:08.094249Z",
     "iopub.status.busy": "2024-07-04T09:14:08.093820Z",
     "iopub.status.idle": "2024-07-04T09:14:08.126816Z",
     "shell.execute_reply": "2024-07-04T09:14:08.125613Z"
    },
    "papermill": {
     "duration": 0.048491,
     "end_time": "2024-07-04T09:14:08.129879",
     "exception": false,
     "start_time": "2024-07-04T09:14:08.081388",
     "status": "completed"
    },
    "tags": []
   },
   "outputs": [
    {
     "name": "stdout",
     "output_type": "stream",
     "text": [
      "status    0.0  1.0\n",
      "lnpos_YN          \n",
      "No        887   42\n",
      "Yes       248   30\n"
     ]
    }
   ],
   "source": [
    "# Create a contingency table\n",
    "contingency_table = pd.crosstab(df['lnpos_YN'], df['status'])\n",
    "print(contingency_table)\n"
   ]
  },
  {
   "cell_type": "code",
   "execution_count": 6,
   "id": "a373f5fb",
   "metadata": {
    "execution": {
     "iopub.execute_input": "2024-07-04T09:14:08.154404Z",
     "iopub.status.busy": "2024-07-04T09:14:08.153976Z",
     "iopub.status.idle": "2024-07-04T09:14:08.167666Z",
     "shell.execute_reply": "2024-07-04T09:14:08.166623Z"
    },
    "papermill": {
     "duration": 0.029245,
     "end_time": "2024-07-04T09:14:08.170278",
     "exception": false,
     "start_time": "2024-07-04T09:14:08.141033",
     "status": "completed"
    },
    "tags": []
   },
   "outputs": [
    {
     "data": {
      "text/html": [
       "<div>\n",
       "<style scoped>\n",
       "    .dataframe tbody tr th:only-of-type {\n",
       "        vertical-align: middle;\n",
       "    }\n",
       "\n",
       "    .dataframe tbody tr th {\n",
       "        vertical-align: top;\n",
       "    }\n",
       "\n",
       "    .dataframe thead th {\n",
       "        text-align: right;\n",
       "    }\n",
       "</style>\n",
       "<table border=\"1\" class=\"dataframe\">\n",
       "  <thead>\n",
       "    <tr style=\"text-align: right;\">\n",
       "      <th>status</th>\n",
       "      <th>0.0</th>\n",
       "      <th>1.0</th>\n",
       "    </tr>\n",
       "    <tr>\n",
       "      <th>lnpos_YN</th>\n",
       "      <th></th>\n",
       "      <th></th>\n",
       "    </tr>\n",
       "  </thead>\n",
       "  <tbody>\n",
       "    <tr>\n",
       "      <th>No</th>\n",
       "      <td>95.479010</td>\n",
       "      <td>4.520990</td>\n",
       "    </tr>\n",
       "    <tr>\n",
       "      <th>Yes</th>\n",
       "      <td>89.208633</td>\n",
       "      <td>10.791367</td>\n",
       "    </tr>\n",
       "  </tbody>\n",
       "</table>\n",
       "</div>"
      ],
      "text/plain": [
       "status          0.0        1.0\n",
       "lnpos_YN                      \n",
       "No        95.479010   4.520990\n",
       "Yes       89.208633  10.791367"
      ]
     },
     "execution_count": 6,
     "metadata": {},
     "output_type": "execute_result"
    }
   ],
   "source": [
    "row_percentage = contingency_table.apply(lambda x: x / x.sum() * 100, axis=1)\n",
    "row_percentage"
   ]
  },
  {
   "cell_type": "markdown",
   "id": "bd89a9b5",
   "metadata": {
    "papermill": {
     "duration": 0.011134,
     "end_time": "2024-07-04T09:14:08.192246",
     "exception": false,
     "start_time": "2024-07-04T09:14:08.181112",
     "status": "completed"
    },
    "tags": []
   },
   "source": [
    "## Performing the Chi-Square Test for Independence\n",
    "\n",
    "The Chi-Square Test for Independence will help us determine whether there is a significant association between `lnpos_YN` and `status`.\n"
   ]
  },
  {
   "cell_type": "code",
   "execution_count": 7,
   "id": "c650a5bc",
   "metadata": {
    "execution": {
     "iopub.execute_input": "2024-07-04T09:14:08.215687Z",
     "iopub.status.busy": "2024-07-04T09:14:08.215226Z",
     "iopub.status.idle": "2024-07-04T09:14:08.226928Z",
     "shell.execute_reply": "2024-07-04T09:14:08.225515Z"
    },
    "papermill": {
     "duration": 0.026799,
     "end_time": "2024-07-04T09:14:08.229862",
     "exception": false,
     "start_time": "2024-07-04T09:14:08.203063",
     "status": "completed"
    },
    "tags": []
   },
   "outputs": [
    {
     "name": "stdout",
     "output_type": "stream",
     "text": [
      "Chi-Square Statistic: 13.900758213995182\n",
      "***********************************\n",
      "p-value: 0.00019272070767964805\n",
      "***********************************\n",
      "Degrees of Freedom: 1\n",
      "***********************************\n",
      "Expected Frequencies Table:\n",
      " [[873.58326429  55.41673571]\n",
      " [261.41673571  16.58326429]]\n"
     ]
    }
   ],
   "source": [
    "# Perform the Chi-Square Test for Independence\n",
    "chi2, p, dof, expected = stats.chi2_contingency(contingency_table)\n",
    "\n",
    "print(\"Chi-Square Statistic:\", chi2)\n",
    "print(\"***********************************\")\n",
    "print(\"p-value:\", p)\n",
    "print(\"***********************************\")\n",
    "print(\"Degrees of Freedom:\", dof)\n",
    "print(\"***********************************\")\n",
    "print(\"Expected Frequencies Table:\\n\", expected)"
   ]
  },
  {
   "cell_type": "markdown",
   "id": "2dcc2fb3",
   "metadata": {
    "papermill": {
     "duration": 0.01055,
     "end_time": "2024-07-04T09:14:08.251567",
     "exception": false,
     "start_time": "2024-07-04T09:14:08.241017",
     "status": "completed"
    },
    "tags": []
   },
   "source": [
    "## Interpreting the Results\n",
    "\n",
    "- **Chi-Square Statistic**: A measure of how much the observed counts deviate from the expected counts.\n",
    "- **p-value**: The probability of obtaining a Chi-Square statistic at least as extreme as the one computed, assuming that the variables are independent.\n",
    "- **Degrees of Freedom**: Number of values that are free to vary given the constraints.\n",
    "- **Expected Frequencies Table**: The expected counts if the variables are truly independent.\n",
    "\n",
    "If the p-value is less than our significance level (typically 0.05), we reject the null hypothesis and conclude that there is a significant association between `lnpos_YN` and `status`.\n"
   ]
  },
  {
   "cell_type": "markdown",
   "id": "5d178221",
   "metadata": {
    "papermill": {
     "duration": 0.010413,
     "end_time": "2024-07-04T09:14:08.273039",
     "exception": false,
     "start_time": "2024-07-04T09:14:08.262626",
     "status": "completed"
    },
    "tags": []
   },
   "source": [
    "## Calculate the residuals"
   ]
  },
  {
   "cell_type": "code",
   "execution_count": 8,
   "id": "71dd1114",
   "metadata": {
    "execution": {
     "iopub.execute_input": "2024-07-04T09:14:08.296309Z",
     "iopub.status.busy": "2024-07-04T09:14:08.295929Z",
     "iopub.status.idle": "2024-07-04T09:14:08.304318Z",
     "shell.execute_reply": "2024-07-04T09:14:08.303008Z"
    },
    "papermill": {
     "duration": 0.023332,
     "end_time": "2024-07-04T09:14:08.307135",
     "exception": false,
     "start_time": "2024-07-04T09:14:08.283803",
     "status": "completed"
    },
    "tags": []
   },
   "outputs": [
    {
     "name": "stdout",
     "output_type": "stream",
     "text": [
      "Residuals:\n",
      " status          0.0        1.0\n",
      "lnpos_YN                      \n",
      "No        13.416736 -13.416736\n",
      "Yes      -13.416736  13.416736\n"
     ]
    }
   ],
   "source": [
    "# Calculate the residuals\n",
    "residuals = (contingency_table - expected)\n",
    "print(\"Residuals:\\n\", residuals)"
   ]
  },
  {
   "cell_type": "markdown",
   "id": "7f2f400e",
   "metadata": {
    "papermill": {
     "duration": 0.010619,
     "end_time": "2024-07-04T09:14:08.328758",
     "exception": false,
     "start_time": "2024-07-04T09:14:08.318139",
     "status": "completed"
    },
    "tags": []
   },
   "source": [
    "## Interpreting the Residuals\n",
    "\n",
    "Residuals show the difference between observed and expected frequencies, standardized by the expected frequency. Large residuals indicate cells that contribute significantly to the Chi-Square statistic.\n"
   ]
  },
  {
   "cell_type": "markdown",
   "id": "1aefd92c",
   "metadata": {
    "papermill": {
     "duration": 0.011064,
     "end_time": "2024-07-04T09:14:08.350675",
     "exception": false,
     "start_time": "2024-07-04T09:14:08.339611",
     "status": "completed"
    },
    "tags": []
   },
   "source": [
    "## Calculating the Odds Ratio\n",
    "\n",
    "The odds ratio will provide a measure of association between the two categorical variables. Note that the odds ratio is only appropriate for 2x2 tables.\n"
   ]
  },
  {
   "cell_type": "code",
   "execution_count": 9,
   "id": "d06ad129",
   "metadata": {
    "execution": {
     "iopub.execute_input": "2024-07-04T09:14:08.374300Z",
     "iopub.status.busy": "2024-07-04T09:14:08.373905Z",
     "iopub.status.idle": "2024-07-04T09:14:08.385216Z",
     "shell.execute_reply": "2024-07-04T09:14:08.383896Z"
    },
    "papermill": {
     "duration": 0.02611,
     "end_time": "2024-07-04T09:14:08.387816",
     "exception": false,
     "start_time": "2024-07-04T09:14:08.361706",
     "status": "completed"
    },
    "tags": []
   },
   "outputs": [
    {
     "name": "stdout",
     "output_type": "stream",
     "text": [
      "Odds Ratio: 2.55\n",
      "95% Confidence Interval (CI): (1.5663, 4.1668)\n"
     ]
    }
   ],
   "source": [
    "   # Check if the table is 2x2\n",
    "if contingency_table.shape == (2, 2):\n",
    "    # Extract values from the contingency table\n",
    "    a = contingency_table.iloc[0, 0]\n",
    "    b = contingency_table.iloc[0, 1]\n",
    "    c = contingency_table.iloc[1, 0]\n",
    "    d = contingency_table.iloc[1, 1]\n",
    "    \n",
    "    # Calculate the Odds Ratio\n",
    "    odds_ratio = (a / b) / (c / d)\n",
    "    \n",
    "    log_OddsRatio = np.log(odds_ratio)\n",
    "    _log_or = np.sqrt(1/a + 1/b + 1/c + 1/d)\n",
    "    \n",
    "    # 95% Confidence interval for odds ratio\n",
    "    z = norm.ppf(0.975)\n",
    "    CI_lower = np.exp(log_OddsRatio - z * _log_or)\n",
    "    CI_upper = np.exp(log_OddsRatio + z * _log_or)\n",
    "    \n",
    "    # Output results\n",
    "    print(f\"Odds Ratio: {odds_ratio:.2f}\")\n",
    "    print(f\"95% Confidence Interval (CI): ({CI_lower:.4f}, {CI_upper:.4f})\")\n",
    "     "
   ]
  },
  {
   "cell_type": "markdown",
   "id": "9be8dd61",
   "metadata": {
    "papermill": {
     "duration": 0.010657,
     "end_time": "2024-07-04T09:14:08.409691",
     "exception": false,
     "start_time": "2024-07-04T09:14:08.399034",
     "status": "completed"
    },
    "tags": []
   },
   "source": [
    "## Interpreting the Results\n",
    "\n",
    "- **Odds Ratio**: Measure of association between the two variables, applicable for 2x2 tables.\n",
    "- **95% Confidence interval for odds ratio** : A confidence interval (CI) provides a range of values that is likely to contain the population parameter with a certain level of confidence (usually 95%). \n"
   ]
  },
  {
   "cell_type": "markdown",
   "id": "8c9abbf0",
   "metadata": {
    "papermill": {
     "duration": 0.011075,
     "end_time": "2024-07-04T09:14:08.431722",
     "exception": false,
     "start_time": "2024-07-04T09:14:08.420647",
     "status": "completed"
    },
    "tags": []
   },
   "source": [
    "## The Fisher Exact Test "
   ]
  },
  {
   "cell_type": "code",
   "execution_count": 10,
   "id": "6e0a5a6d",
   "metadata": {
    "execution": {
     "iopub.execute_input": "2024-07-04T09:14:08.456345Z",
     "iopub.status.busy": "2024-07-04T09:14:08.455255Z",
     "iopub.status.idle": "2024-07-04T09:14:08.463647Z",
     "shell.execute_reply": "2024-07-04T09:14:08.462135Z"
    },
    "papermill": {
     "duration": 0.023872,
     "end_time": "2024-07-04T09:14:08.466719",
     "exception": false,
     "start_time": "2024-07-04T09:14:08.442847",
     "status": "completed"
    },
    "tags": []
   },
   "outputs": [
    {
     "name": "stdout",
     "output_type": "stream",
     "text": [
      "All expected frequencies are 5 or greater. Performing Chi-Square Test for Independence.\n"
     ]
    }
   ],
   "source": [
    "# Fisher is typically used when sample sizes are small, especially when the expected frequency in any of the cells of a contingency table is less than 5\n",
    "# Check if any expected frequency is less than 5\n",
    "\n",
    "if (expected < 5).any():\n",
    "    print(\"At least one expected frequency is less than 5. Performing Fisher Exact Test.\")\n",
    "    \n",
    "    # Fisher Exact Test can only be performed on 2x2 tables\n",
    "    if contingency_table.shape == (2, 2):\n",
    "        oddsratio, p_fisher = stats.fisher_exact(contingency_table)\n",
    "        print(\"Fisher Exact Test p-value:\", p_fisher)\n",
    "    else:\n",
    "        print(\"Fisher Exact Test is not applicable for tables larger than 2x2.\")\n",
    "else:\n",
    "    print(\"All expected frequencies are 5 or greater. Performing Chi-Square Test for Independence.\")\n"
   ]
  },
  {
   "cell_type": "markdown",
   "id": "26d1e73e",
   "metadata": {
    "papermill": {
     "duration": 0.010692,
     "end_time": "2024-07-04T09:14:08.488633",
     "exception": false,
     "start_time": "2024-07-04T09:14:08.477941",
     "status": "completed"
    },
    "tags": []
   },
   "source": [
    "## Independent t test"
   ]
  },
  {
   "cell_type": "code",
   "execution_count": 11,
   "id": "48e5309b",
   "metadata": {
    "execution": {
     "iopub.execute_input": "2024-07-04T09:14:08.512750Z",
     "iopub.status.busy": "2024-07-04T09:14:08.512322Z",
     "iopub.status.idle": "2024-07-04T09:14:08.524091Z",
     "shell.execute_reply": "2024-07-04T09:14:08.522781Z"
    },
    "papermill": {
     "duration": 0.0268,
     "end_time": "2024-07-04T09:14:08.526585",
     "exception": false,
     "start_time": "2024-07-04T09:14:08.499785",
     "status": "completed"
    },
    "tags": []
   },
   "outputs": [
    {
     "data": {
      "text/plain": [
       "lnpos_YN\n",
       "No     929\n",
       "Yes    278\n",
       "Name: count, dtype: int64"
      ]
     },
     "execution_count": 11,
     "metadata": {},
     "output_type": "execute_result"
    }
   ],
   "source": [
    "df.lnpos_YN.value_counts()\n"
   ]
  },
  {
   "cell_type": "code",
   "execution_count": 12,
   "id": "71205399",
   "metadata": {
    "execution": {
     "iopub.execute_input": "2024-07-04T09:14:08.551002Z",
     "iopub.status.busy": "2024-07-04T09:14:08.550586Z",
     "iopub.status.idle": "2024-07-04T09:14:08.561356Z",
     "shell.execute_reply": "2024-07-04T09:14:08.560267Z"
    },
    "papermill": {
     "duration": 0.025918,
     "end_time": "2024-07-04T09:14:08.563873",
     "exception": false,
     "start_time": "2024-07-04T09:14:08.537955",
     "status": "completed"
    },
    "tags": []
   },
   "outputs": [
    {
     "data": {
      "text/plain": [
       "8        27.633333\n",
       "9        11.133333\n",
       "10       11.066667\n",
       "20      107.800000\n",
       "27       48.666667\n",
       "           ...    \n",
       "1200     33.700000\n",
       "1201     32.366667\n",
       "1202      6.866667\n",
       "1204     15.166667\n",
       "1205     45.133333\n",
       "Name: time, Length: 278, dtype: float64"
      ]
     },
     "execution_count": 12,
     "metadata": {},
     "output_type": "execute_result"
    }
   ],
   "source": [
    "df[df['lnpos_YN'] == 'Yes']['time']"
   ]
  },
  {
   "cell_type": "code",
   "execution_count": 13,
   "id": "15de4775",
   "metadata": {
    "execution": {
     "iopub.execute_input": "2024-07-04T09:14:08.590061Z",
     "iopub.status.busy": "2024-07-04T09:14:08.589682Z",
     "iopub.status.idle": "2024-07-04T09:14:08.598085Z",
     "shell.execute_reply": "2024-07-04T09:14:08.596821Z"
    },
    "papermill": {
     "duration": 0.024658,
     "end_time": "2024-07-04T09:14:08.600661",
     "exception": false,
     "start_time": "2024-07-04T09:14:08.576003",
     "status": "completed"
    },
    "tags": []
   },
   "outputs": [],
   "source": [
    "groupY =df[df['lnpos_YN'] == 'Yes']['time']\n",
    "groupN = df[df['lnpos_YN'] == 'No']['time']"
   ]
  },
  {
   "cell_type": "markdown",
   "id": "478890cd",
   "metadata": {
    "papermill": {
     "duration": 0.011204,
     "end_time": "2024-07-04T09:14:08.623423",
     "exception": false,
     "start_time": "2024-07-04T09:14:08.612219",
     "status": "completed"
    },
    "tags": []
   },
   "source": [
    "**Check normality**"
   ]
  },
  {
   "cell_type": "code",
   "execution_count": 14,
   "id": "74a2c90d",
   "metadata": {
    "execution": {
     "iopub.execute_input": "2024-07-04T09:14:08.649093Z",
     "iopub.status.busy": "2024-07-04T09:14:08.648093Z",
     "iopub.status.idle": "2024-07-04T09:14:08.655387Z",
     "shell.execute_reply": "2024-07-04T09:14:08.654261Z"
    },
    "papermill": {
     "duration": 0.022951,
     "end_time": "2024-07-04T09:14:08.658062",
     "exception": false,
     "start_time": "2024-07-04T09:14:08.635111",
     "status": "completed"
    },
    "tags": []
   },
   "outputs": [
    {
     "name": "stdout",
     "output_type": "stream",
     "text": [
      "ShapiroResult(statistic=0.958610475063324, pvalue=1.531057368424826e-15)\n",
      "ShapiroResult(statistic=0.9339127540588379, pvalue=8.318342126223399e-10)\n"
     ]
    }
   ],
   "source": [
    "sh_lnpose_Y = stats.shapiro(groupY)\n",
    "sh_lnpose_N = stats.shapiro(groupN)\n",
    "print(sh_lnpose_N)\n",
    "print(sh_lnpose_Y)"
   ]
  },
  {
   "cell_type": "code",
   "execution_count": 15,
   "id": "959ee3ef",
   "metadata": {
    "execution": {
     "iopub.execute_input": "2024-07-04T09:14:08.683823Z",
     "iopub.status.busy": "2024-07-04T09:14:08.683410Z",
     "iopub.status.idle": "2024-07-04T09:14:08.693182Z",
     "shell.execute_reply": "2024-07-04T09:14:08.691958Z"
    },
    "papermill": {
     "duration": 0.0264,
     "end_time": "2024-07-04T09:14:08.696304",
     "exception": false,
     "start_time": "2024-07-04T09:14:08.669904",
     "status": "completed"
    },
    "tags": []
   },
   "outputs": [
    {
     "data": {
      "text/plain": [
       "LeveneResult(statistic=1.1169212722022501, pvalue=0.29079417684064907)"
      ]
     },
     "execution_count": 15,
     "metadata": {},
     "output_type": "execute_result"
    }
   ],
   "source": [
    "levene1 = levene(groupN,groupY)\n",
    "levene1"
   ]
  },
  {
   "cell_type": "code",
   "execution_count": 16,
   "id": "e6f5e276",
   "metadata": {
    "execution": {
     "iopub.execute_input": "2024-07-04T09:14:08.721743Z",
     "iopub.status.busy": "2024-07-04T09:14:08.721343Z",
     "iopub.status.idle": "2024-07-04T09:14:08.730262Z",
     "shell.execute_reply": "2024-07-04T09:14:08.729073Z"
    },
    "papermill": {
     "duration": 0.025153,
     "end_time": "2024-07-04T09:14:08.733371",
     "exception": false,
     "start_time": "2024-07-04T09:14:08.708218",
     "status": "completed"
    },
    "tags": []
   },
   "outputs": [
    {
     "name": "stdout",
     "output_type": "stream",
     "text": [
      "H0 is acceptible and variances are equal in lnpose_YN and Time\n"
     ]
    }
   ],
   "source": [
    "if levene1.pvalue > 0.05 :\n",
    "    t_statistics , p_value = stats.ttest_ind(groupN,groupY,equal_var=True)\n",
    "    print('H0 is acceptible and variances are equal in lnpose_YN and Time')\n",
    "else:\n",
    "    t_statistics , p_value = stats.ttest_ind(groupN,groupY, equal_var=False)\n",
    "    print('H1 is acceptible and variances are not equal in lnpose_YN and Time')"
   ]
  },
  {
   "cell_type": "code",
   "execution_count": 17,
   "id": "e19e3024",
   "metadata": {
    "execution": {
     "iopub.execute_input": "2024-07-04T09:14:08.758740Z",
     "iopub.status.busy": "2024-07-04T09:14:08.758329Z",
     "iopub.status.idle": "2024-07-04T09:14:08.767897Z",
     "shell.execute_reply": "2024-07-04T09:14:08.766650Z"
    },
    "papermill": {
     "duration": 0.025235,
     "end_time": "2024-07-04T09:14:08.770459",
     "exception": false,
     "start_time": "2024-07-04T09:14:08.745224",
     "status": "completed"
    },
    "tags": []
   },
   "outputs": [
    {
     "data": {
      "text/plain": [
       "array(['<= 2', '2 <  <= 5', '> 5'], dtype=object)"
      ]
     },
     "execution_count": 17,
     "metadata": {},
     "output_type": "execute_result"
    }
   ],
   "source": [
    "pathsize_groups = df['pathsize_Cat'].dropna().unique()\n",
    "pathsize_groups"
   ]
  },
  {
   "cell_type": "code",
   "execution_count": 18,
   "id": "b3bf205a",
   "metadata": {
    "execution": {
     "iopub.execute_input": "2024-07-04T09:14:08.796494Z",
     "iopub.status.busy": "2024-07-04T09:14:08.796105Z",
     "iopub.status.idle": "2024-07-04T09:14:08.826639Z",
     "shell.execute_reply": "2024-07-04T09:14:08.825265Z"
    },
    "papermill": {
     "duration": 0.046579,
     "end_time": "2024-07-04T09:14:08.829314",
     "exception": false,
     "start_time": "2024-07-04T09:14:08.782735",
     "status": "completed"
    },
    "tags": []
   },
   "outputs": [
    {
     "data": {
      "text/html": [
       "<div>\n",
       "<style scoped>\n",
       "    .dataframe tbody tr th:only-of-type {\n",
       "        vertical-align: middle;\n",
       "    }\n",
       "\n",
       "    .dataframe tbody tr th {\n",
       "        vertical-align: top;\n",
       "    }\n",
       "\n",
       "    .dataframe thead th {\n",
       "        text-align: right;\n",
       "    }\n",
       "</style>\n",
       "<table border=\"1\" class=\"dataframe\">\n",
       "  <thead>\n",
       "    <tr style=\"text-align: right;\">\n",
       "      <th></th>\n",
       "      <th>id</th>\n",
       "      <th>age</th>\n",
       "      <th>pathsize</th>\n",
       "      <th>lnpos</th>\n",
       "      <th>histgrad</th>\n",
       "      <th>er</th>\n",
       "      <th>pr</th>\n",
       "      <th>status</th>\n",
       "      <th>time</th>\n",
       "      <th>lnpos_YN</th>\n",
       "      <th>pathsize_Cat</th>\n",
       "    </tr>\n",
       "  </thead>\n",
       "  <tbody>\n",
       "    <tr>\n",
       "      <th>86</th>\n",
       "      <td>14.0</td>\n",
       "      <td>44.0</td>\n",
       "      <td>0.10</td>\n",
       "      <td>1.0</td>\n",
       "      <td>NaN</td>\n",
       "      <td>NaN</td>\n",
       "      <td>NaN</td>\n",
       "      <td>0.0</td>\n",
       "      <td>108.900000</td>\n",
       "      <td>Yes</td>\n",
       "      <td>&lt;= 2</td>\n",
       "    </tr>\n",
       "    <tr>\n",
       "      <th>87</th>\n",
       "      <td>15.0</td>\n",
       "      <td>60.0</td>\n",
       "      <td>0.15</td>\n",
       "      <td>0.0</td>\n",
       "      <td>1.0</td>\n",
       "      <td>1.0</td>\n",
       "      <td>1.0</td>\n",
       "      <td>0.0</td>\n",
       "      <td>16.366667</td>\n",
       "      <td>No</td>\n",
       "      <td>&lt;= 2</td>\n",
       "    </tr>\n",
       "    <tr>\n",
       "      <th>88</th>\n",
       "      <td>16.0</td>\n",
       "      <td>49.0</td>\n",
       "      <td>0.20</td>\n",
       "      <td>0.0</td>\n",
       "      <td>1.0</td>\n",
       "      <td>NaN</td>\n",
       "      <td>NaN</td>\n",
       "      <td>0.0</td>\n",
       "      <td>94.333333</td>\n",
       "      <td>No</td>\n",
       "      <td>&lt;= 2</td>\n",
       "    </tr>\n",
       "    <tr>\n",
       "      <th>89</th>\n",
       "      <td>17.0</td>\n",
       "      <td>41.0</td>\n",
       "      <td>0.20</td>\n",
       "      <td>0.0</td>\n",
       "      <td>1.0</td>\n",
       "      <td>NaN</td>\n",
       "      <td>NaN</td>\n",
       "      <td>0.0</td>\n",
       "      <td>87.500000</td>\n",
       "      <td>No</td>\n",
       "      <td>&lt;= 2</td>\n",
       "    </tr>\n",
       "    <tr>\n",
       "      <th>90</th>\n",
       "      <td>18.0</td>\n",
       "      <td>39.0</td>\n",
       "      <td>0.26</td>\n",
       "      <td>0.0</td>\n",
       "      <td>2.0</td>\n",
       "      <td>NaN</td>\n",
       "      <td>NaN</td>\n",
       "      <td>0.0</td>\n",
       "      <td>73.033333</td>\n",
       "      <td>No</td>\n",
       "      <td>&lt;= 2</td>\n",
       "    </tr>\n",
       "    <tr>\n",
       "      <th>...</th>\n",
       "      <td>...</td>\n",
       "      <td>...</td>\n",
       "      <td>...</td>\n",
       "      <td>...</td>\n",
       "      <td>...</td>\n",
       "      <td>...</td>\n",
       "      <td>...</td>\n",
       "      <td>...</td>\n",
       "      <td>...</td>\n",
       "      <td>...</td>\n",
       "      <td>...</td>\n",
       "    </tr>\n",
       "    <tr>\n",
       "      <th>907</th>\n",
       "      <td>1249.0</td>\n",
       "      <td>38.0</td>\n",
       "      <td>2.00</td>\n",
       "      <td>0.0</td>\n",
       "      <td>2.0</td>\n",
       "      <td>NaN</td>\n",
       "      <td>NaN</td>\n",
       "      <td>1.0</td>\n",
       "      <td>25.433333</td>\n",
       "      <td>No</td>\n",
       "      <td>&lt;= 2</td>\n",
       "    </tr>\n",
       "    <tr>\n",
       "      <th>908</th>\n",
       "      <td>1252.0</td>\n",
       "      <td>29.0</td>\n",
       "      <td>1.50</td>\n",
       "      <td>1.0</td>\n",
       "      <td>3.0</td>\n",
       "      <td>NaN</td>\n",
       "      <td>0.0</td>\n",
       "      <td>0.0</td>\n",
       "      <td>35.666667</td>\n",
       "      <td>Yes</td>\n",
       "      <td>&lt;= 2</td>\n",
       "    </tr>\n",
       "    <tr>\n",
       "      <th>909</th>\n",
       "      <td>1256.0</td>\n",
       "      <td>59.0</td>\n",
       "      <td>1.20</td>\n",
       "      <td>0.0</td>\n",
       "      <td>NaN</td>\n",
       "      <td>1.0</td>\n",
       "      <td>0.0</td>\n",
       "      <td>0.0</td>\n",
       "      <td>133.800000</td>\n",
       "      <td>No</td>\n",
       "      <td>&lt;= 2</td>\n",
       "    </tr>\n",
       "    <tr>\n",
       "      <th>910</th>\n",
       "      <td>1261.0</td>\n",
       "      <td>41.0</td>\n",
       "      <td>1.20</td>\n",
       "      <td>0.0</td>\n",
       "      <td>2.0</td>\n",
       "      <td>1.0</td>\n",
       "      <td>1.0</td>\n",
       "      <td>0.0</td>\n",
       "      <td>90.166667</td>\n",
       "      <td>No</td>\n",
       "      <td>&lt;= 2</td>\n",
       "    </tr>\n",
       "    <tr>\n",
       "      <th>911</th>\n",
       "      <td>1262.0</td>\n",
       "      <td>71.0</td>\n",
       "      <td>1.60</td>\n",
       "      <td>0.0</td>\n",
       "      <td>3.0</td>\n",
       "      <td>0.0</td>\n",
       "      <td>0.0</td>\n",
       "      <td>0.0</td>\n",
       "      <td>22.566667</td>\n",
       "      <td>No</td>\n",
       "      <td>&lt;= 2</td>\n",
       "    </tr>\n",
       "  </tbody>\n",
       "</table>\n",
       "<p>826 rows × 11 columns</p>\n",
       "</div>"
      ],
      "text/plain": [
       "         id   age  pathsize  lnpos  histgrad   er   pr  status        time  \\\n",
       "86     14.0  44.0      0.10    1.0       NaN  NaN  NaN     0.0  108.900000   \n",
       "87     15.0  60.0      0.15    0.0       1.0  1.0  1.0     0.0   16.366667   \n",
       "88     16.0  49.0      0.20    0.0       1.0  NaN  NaN     0.0   94.333333   \n",
       "89     17.0  41.0      0.20    0.0       1.0  NaN  NaN     0.0   87.500000   \n",
       "90     18.0  39.0      0.26    0.0       2.0  NaN  NaN     0.0   73.033333   \n",
       "..      ...   ...       ...    ...       ...  ...  ...     ...         ...   \n",
       "907  1249.0  38.0      2.00    0.0       2.0  NaN  NaN     1.0   25.433333   \n",
       "908  1252.0  29.0      1.50    1.0       3.0  NaN  0.0     0.0   35.666667   \n",
       "909  1256.0  59.0      1.20    0.0       NaN  1.0  0.0     0.0  133.800000   \n",
       "910  1261.0  41.0      1.20    0.0       2.0  1.0  1.0     0.0   90.166667   \n",
       "911  1262.0  71.0      1.60    0.0       3.0  0.0  0.0     0.0   22.566667   \n",
       "\n",
       "    lnpos_YN pathsize_Cat  \n",
       "86       Yes         <= 2  \n",
       "87        No         <= 2  \n",
       "88        No         <= 2  \n",
       "89        No         <= 2  \n",
       "90        No         <= 2  \n",
       "..       ...          ...  \n",
       "907       No         <= 2  \n",
       "908      Yes         <= 2  \n",
       "909       No         <= 2  \n",
       "910       No         <= 2  \n",
       "911       No         <= 2  \n",
       "\n",
       "[826 rows x 11 columns]"
      ]
     },
     "execution_count": 18,
     "metadata": {},
     "output_type": "execute_result"
    }
   ],
   "source": [
    "df[df['pathsize_Cat'] == pathsize_groups[0]]"
   ]
  },
  {
   "cell_type": "code",
   "execution_count": 19,
   "id": "92740692",
   "metadata": {
    "execution": {
     "iopub.execute_input": "2024-07-04T09:14:08.857409Z",
     "iopub.status.busy": "2024-07-04T09:14:08.856385Z",
     "iopub.status.idle": "2024-07-04T09:14:08.868404Z",
     "shell.execute_reply": "2024-07-04T09:14:08.867245Z"
    },
    "papermill": {
     "duration": 0.029411,
     "end_time": "2024-07-04T09:14:08.871329",
     "exception": false,
     "start_time": "2024-07-04T09:14:08.841918",
     "status": "completed"
    },
    "tags": []
   },
   "outputs": [],
   "source": [
    "for level, group in df.groupby('pathsize_Cat'):\n",
    "     groupN = group[group['lnpos_YN'] == 'No']['time']\n",
    "     groupY = group[group['lnpos_YN'] == 'Yes']['time']\n",
    " "
   ]
  },
  {
   "cell_type": "code",
   "execution_count": 20,
   "id": "724c091c",
   "metadata": {
    "execution": {
     "iopub.execute_input": "2024-07-04T09:14:08.898749Z",
     "iopub.status.busy": "2024-07-04T09:14:08.898300Z",
     "iopub.status.idle": "2024-07-04T09:14:08.913429Z",
     "shell.execute_reply": "2024-07-04T09:14:08.911482Z"
    },
    "papermill": {
     "duration": 0.032307,
     "end_time": "2024-07-04T09:14:08.916288",
     "exception": false,
     "start_time": "2024-07-04T09:14:08.883981",
     "status": "completed"
    },
    "tags": []
   },
   "outputs": [
    {
     "name": "stdout",
     "output_type": "stream",
     "text": [
      "Shapiro test for pathsize_Cat group1: ShapiroResult(statistic=0.9486790895462036, pvalue=0.7078753113746643)\n",
      "Shapiro test for pathsize_Cat group2: ShapiroResult(statistic=0.9288694262504578, pvalue=0.5058420300483704)\n",
      "Levene test for pathsize_Cat: LeveneResult(statistic=0.05583725989193762, pvalue=0.8179702620924999)\n",
      "T-Test for pathsize_Cat: t_statistic = -0.3014836920469003, p_value = 0.7692217601243535\n"
     ]
    }
   ],
   "source": [
    "shapiro_pathsize_group1 = shapiro(groupN)\n",
    "shapiro_pathsize_group2 = shapiro(groupY)\n",
    "\n",
    "# Check homogeneity of variances for pathsize_Cat groups\n",
    "levene_pathsize = levene(groupN, groupY)\n",
    "\n",
    "# Perform pairwise t-tests based on Levene's test result\n",
    "if levene_pathsize.pvalue > 0.05:\n",
    "    # Use equal variances\n",
    "    t_statistic_1, p_value_1 = stats.ttest_ind(groupN, groupY, equal_var=True)\n",
    "else:\n",
    "    # Use unequal variances\n",
    "    t_statistic_1, p_value_1 = stats.ttest_ind(groupN, groupY, equal_var=False)\n",
    "\n",
    "# Print results\n",
    "\n",
    "\n",
    "print(f'Shapiro test for pathsize_Cat group1: {shapiro_pathsize_group1}')\n",
    "print(f'Shapiro test for pathsize_Cat group2: {shapiro_pathsize_group2}')\n",
    "print(f'Levene test for pathsize_Cat: {levene_pathsize}')\n",
    "print(f'T-Test for pathsize_Cat: t_statistic = {t_statistic_1}, p_value = {p_value_1}')"
   ]
  },
  {
   "cell_type": "code",
   "execution_count": null,
   "id": "4c3aeebe",
   "metadata": {
    "papermill": {
     "duration": 0.012878,
     "end_time": "2024-07-04T09:14:08.942169",
     "exception": false,
     "start_time": "2024-07-04T09:14:08.929291",
     "status": "completed"
    },
    "tags": []
   },
   "outputs": [],
   "source": []
  }
 ],
 "metadata": {
  "kaggle": {
   "accelerator": "none",
   "dataSources": [
    {
     "datasetId": 5211930,
     "sourceId": 8691661,
     "sourceType": "datasetVersion"
    }
   ],
   "dockerImageVersionId": 30732,
   "isGpuEnabled": false,
   "isInternetEnabled": true,
   "language": "python",
   "sourceType": "notebook"
  },
  "kernelspec": {
   "display_name": "Python 3",
   "language": "python",
   "name": "python3"
  },
  "language_info": {
   "codemirror_mode": {
    "name": "ipython",
    "version": 3
   },
   "file_extension": ".py",
   "mimetype": "text/x-python",
   "name": "python",
   "nbconvert_exporter": "python",
   "pygments_lexer": "ipython3",
   "version": "3.10.13"
  },
  "papermill": {
   "default_parameters": {},
   "duration": 6.889156,
   "end_time": "2024-07-04T09:14:09.576926",
   "environment_variables": {},
   "exception": null,
   "input_path": "__notebook__.ipynb",
   "output_path": "__notebook__.ipynb",
   "parameters": {},
   "start_time": "2024-07-04T09:14:02.687770",
   "version": "2.5.0"
  }
 },
 "nbformat": 4,
 "nbformat_minor": 5
}
