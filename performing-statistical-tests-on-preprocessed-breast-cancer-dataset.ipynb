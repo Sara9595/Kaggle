{
 "cells": [
  {
   "cell_type": "markdown",
   "id": "8bd9d0fa",
   "metadata": {
    "papermill": {
     "duration": 0.009701,
     "end_time": "2024-06-16T16:09:45.027403",
     "exception": false,
     "start_time": "2024-06-16T16:09:45.017702",
     "status": "completed"
    },
    "tags": []
   },
   "source": [
    "## In this notebook, we will perform some statistical tests on preprocessed breast cancer dataset"
   ]
  },
  {
   "cell_type": "code",
   "execution_count": 1,
   "id": "69e5ac18",
   "metadata": {
    "execution": {
     "iopub.execute_input": "2024-06-16T16:09:45.045144Z",
     "iopub.status.busy": "2024-06-16T16:09:45.043996Z",
     "iopub.status.idle": "2024-06-16T16:09:47.271914Z",
     "shell.execute_reply": "2024-06-16T16:09:47.270610Z"
    },
    "papermill": {
     "duration": 2.2399,
     "end_time": "2024-06-16T16:09:47.274913",
     "exception": false,
     "start_time": "2024-06-16T16:09:45.035013",
     "status": "completed"
    },
    "tags": []
   },
   "outputs": [],
   "source": [
    "# import necessary libraries\n",
    "import pandas as pd\n",
    "import numpy as np\n",
    "import scipy.stats as stats\n",
    "from scipy.stats import norm"
   ]
  },
  {
   "cell_type": "code",
   "execution_count": 2,
   "id": "e413fdad",
   "metadata": {
    "execution": {
     "iopub.execute_input": "2024-06-16T16:09:47.291178Z",
     "iopub.status.busy": "2024-06-16T16:09:47.290541Z",
     "iopub.status.idle": "2024-06-16T16:09:47.318514Z",
     "shell.execute_reply": "2024-06-16T16:09:47.317360Z"
    },
    "papermill": {
     "duration": 0.039651,
     "end_time": "2024-06-16T16:09:47.321629",
     "exception": false,
     "start_time": "2024-06-16T16:09:47.281978",
     "status": "completed"
    },
    "tags": []
   },
   "outputs": [],
   "source": [
    "# Load the dataset\n",
    "file_path = '/kaggle/input/breastcancer-preprocessed/BreastCancer-Preprocessed.csv'\n",
    "df = pd.read_csv(file_path)"
   ]
  },
  {
   "cell_type": "markdown",
   "id": "fb8ac383",
   "metadata": {
    "papermill": {
     "duration": 0.00643,
     "end_time": "2024-06-16T16:09:47.334951",
     "exception": false,
     "start_time": "2024-06-16T16:09:47.328521",
     "status": "completed"
    },
    "tags": []
   },
   "source": [
    "##  Display the first few rows of the dataset to understand its structure"
   ]
  },
  {
   "cell_type": "code",
   "execution_count": 3,
   "id": "889b3650",
   "metadata": {
    "execution": {
     "iopub.execute_input": "2024-06-16T16:09:47.350733Z",
     "iopub.status.busy": "2024-06-16T16:09:47.350290Z",
     "iopub.status.idle": "2024-06-16T16:09:47.385238Z",
     "shell.execute_reply": "2024-06-16T16:09:47.383910Z"
    },
    "papermill": {
     "duration": 0.046259,
     "end_time": "2024-06-16T16:09:47.388067",
     "exception": false,
     "start_time": "2024-06-16T16:09:47.341808",
     "status": "completed"
    },
    "tags": []
   },
   "outputs": [
    {
     "data": {
      "text/html": [
       "<div>\n",
       "<style scoped>\n",
       "    .dataframe tbody tr th:only-of-type {\n",
       "        vertical-align: middle;\n",
       "    }\n",
       "\n",
       "    .dataframe tbody tr th {\n",
       "        vertical-align: top;\n",
       "    }\n",
       "\n",
       "    .dataframe thead th {\n",
       "        text-align: right;\n",
       "    }\n",
       "</style>\n",
       "<table border=\"1\" class=\"dataframe\">\n",
       "  <thead>\n",
       "    <tr style=\"text-align: right;\">\n",
       "      <th></th>\n",
       "      <th>id</th>\n",
       "      <th>age</th>\n",
       "      <th>pathsize</th>\n",
       "      <th>lnpos</th>\n",
       "      <th>histgrad</th>\n",
       "      <th>er</th>\n",
       "      <th>pr</th>\n",
       "      <th>status</th>\n",
       "      <th>time</th>\n",
       "      <th>lnpos_YN</th>\n",
       "      <th>pathsize_Cat</th>\n",
       "    </tr>\n",
       "  </thead>\n",
       "  <tbody>\n",
       "    <tr>\n",
       "      <th>0</th>\n",
       "      <td>1.0</td>\n",
       "      <td>60.0</td>\n",
       "      <td>NaN</td>\n",
       "      <td>0.0</td>\n",
       "      <td>3.0</td>\n",
       "      <td>0.0</td>\n",
       "      <td>0.0</td>\n",
       "      <td>0.0</td>\n",
       "      <td>9.466667</td>\n",
       "      <td>No</td>\n",
       "      <td>NaN</td>\n",
       "    </tr>\n",
       "    <tr>\n",
       "      <th>1</th>\n",
       "      <td>2.0</td>\n",
       "      <td>79.0</td>\n",
       "      <td>NaN</td>\n",
       "      <td>0.0</td>\n",
       "      <td>NaN</td>\n",
       "      <td>NaN</td>\n",
       "      <td>NaN</td>\n",
       "      <td>0.0</td>\n",
       "      <td>8.600000</td>\n",
       "      <td>No</td>\n",
       "      <td>NaN</td>\n",
       "    </tr>\n",
       "    <tr>\n",
       "      <th>2</th>\n",
       "      <td>3.0</td>\n",
       "      <td>82.0</td>\n",
       "      <td>NaN</td>\n",
       "      <td>0.0</td>\n",
       "      <td>2.0</td>\n",
       "      <td>NaN</td>\n",
       "      <td>NaN</td>\n",
       "      <td>0.0</td>\n",
       "      <td>19.333333</td>\n",
       "      <td>No</td>\n",
       "      <td>NaN</td>\n",
       "    </tr>\n",
       "    <tr>\n",
       "      <th>3</th>\n",
       "      <td>4.0</td>\n",
       "      <td>66.0</td>\n",
       "      <td>NaN</td>\n",
       "      <td>0.0</td>\n",
       "      <td>2.0</td>\n",
       "      <td>1.0</td>\n",
       "      <td>1.0</td>\n",
       "      <td>0.0</td>\n",
       "      <td>16.333333</td>\n",
       "      <td>No</td>\n",
       "      <td>NaN</td>\n",
       "    </tr>\n",
       "    <tr>\n",
       "      <th>4</th>\n",
       "      <td>5.0</td>\n",
       "      <td>52.0</td>\n",
       "      <td>NaN</td>\n",
       "      <td>0.0</td>\n",
       "      <td>3.0</td>\n",
       "      <td>NaN</td>\n",
       "      <td>NaN</td>\n",
       "      <td>0.0</td>\n",
       "      <td>8.500000</td>\n",
       "      <td>No</td>\n",
       "      <td>NaN</td>\n",
       "    </tr>\n",
       "  </tbody>\n",
       "</table>\n",
       "</div>"
      ],
      "text/plain": [
       "    id   age  pathsize  lnpos  histgrad   er   pr  status       time lnpos_YN  \\\n",
       "0  1.0  60.0       NaN    0.0       3.0  0.0  0.0     0.0   9.466667       No   \n",
       "1  2.0  79.0       NaN    0.0       NaN  NaN  NaN     0.0   8.600000       No   \n",
       "2  3.0  82.0       NaN    0.0       2.0  NaN  NaN     0.0  19.333333       No   \n",
       "3  4.0  66.0       NaN    0.0       2.0  1.0  1.0     0.0  16.333333       No   \n",
       "4  5.0  52.0       NaN    0.0       3.0  NaN  NaN     0.0   8.500000       No   \n",
       "\n",
       "  pathsize_Cat  \n",
       "0          NaN  \n",
       "1          NaN  \n",
       "2          NaN  \n",
       "3          NaN  \n",
       "4          NaN  "
      ]
     },
     "execution_count": 3,
     "metadata": {},
     "output_type": "execute_result"
    }
   ],
   "source": [
    "df.head()"
   ]
  },
  {
   "cell_type": "markdown",
   "id": "8022d57d",
   "metadata": {
    "papermill": {
     "duration": 0.006789,
     "end_time": "2024-06-16T16:09:47.402384",
     "exception": false,
     "start_time": "2024-06-16T16:09:47.395595",
     "status": "completed"
    },
    "tags": []
   },
   "source": [
    "## Understanding the Variables\n",
    "\n",
    "The `lnpos_YN` and `status` are categorical variables that we want to test for independence.\n",
    "Let's take a look at the unique values in these columns."
   ]
  },
  {
   "cell_type": "code",
   "execution_count": 4,
   "id": "4267e246",
   "metadata": {
    "execution": {
     "iopub.execute_input": "2024-06-16T16:09:47.418358Z",
     "iopub.status.busy": "2024-06-16T16:09:47.417927Z",
     "iopub.status.idle": "2024-06-16T16:09:47.428768Z",
     "shell.execute_reply": "2024-06-16T16:09:47.427657Z"
    },
    "papermill": {
     "duration": 0.021799,
     "end_time": "2024-06-16T16:09:47.431375",
     "exception": false,
     "start_time": "2024-06-16T16:09:47.409576",
     "status": "completed"
    },
    "tags": []
   },
   "outputs": [
    {
     "name": "stdout",
     "output_type": "stream",
     "text": [
      "Unique values in 'lnpos_YN': ['No' 'Yes']\n",
      "Unique values in 'status': [0. 1.]\n"
     ]
    }
   ],
   "source": [
    "# Check the unique values in 'lnpos_YN' and 'status'\n",
    "print(\"Unique values in 'lnpos_YN':\", df['lnpos_YN'].unique())\n",
    "print(\"Unique values in 'status':\", df['status'].unique())\n"
   ]
  },
  {
   "cell_type": "markdown",
   "id": "991ea1d0",
   "metadata": {
    "papermill": {
     "duration": 0.007157,
     "end_time": "2024-06-16T16:09:47.445997",
     "exception": false,
     "start_time": "2024-06-16T16:09:47.438840",
     "status": "completed"
    },
    "tags": []
   },
   "source": [
    "## Creating a Contingency Table\n",
    "\n",
    "We will create a contingency table to summarize the relationship between the two categorical variables."
   ]
  },
  {
   "cell_type": "code",
   "execution_count": 5,
   "id": "6b5f81f1",
   "metadata": {
    "execution": {
     "iopub.execute_input": "2024-06-16T16:09:47.462576Z",
     "iopub.status.busy": "2024-06-16T16:09:47.462165Z",
     "iopub.status.idle": "2024-06-16T16:09:47.498094Z",
     "shell.execute_reply": "2024-06-16T16:09:47.496922Z"
    },
    "papermill": {
     "duration": 0.047481,
     "end_time": "2024-06-16T16:09:47.500857",
     "exception": false,
     "start_time": "2024-06-16T16:09:47.453376",
     "status": "completed"
    },
    "tags": []
   },
   "outputs": [
    {
     "name": "stdout",
     "output_type": "stream",
     "text": [
      "status    0.0  1.0\n",
      "lnpos_YN          \n",
      "No        887   42\n",
      "Yes       248   30\n"
     ]
    }
   ],
   "source": [
    "# Create a contingency table\n",
    "contingency_table = pd.crosstab(df['lnpos_YN'], df['status'])\n",
    "print(contingency_table)\n"
   ]
  },
  {
   "cell_type": "markdown",
   "id": "fa74342e",
   "metadata": {
    "papermill": {
     "duration": 0.007015,
     "end_time": "2024-06-16T16:09:47.515277",
     "exception": false,
     "start_time": "2024-06-16T16:09:47.508262",
     "status": "completed"
    },
    "tags": []
   },
   "source": [
    "## Performing the Chi-Square Test for Independence\n",
    "\n",
    "The Chi-Square Test for Independence will help us determine whether there is a significant association between `lnpos_YN` and `status`.\n"
   ]
  },
  {
   "cell_type": "code",
   "execution_count": 6,
   "id": "55e9371f",
   "metadata": {
    "execution": {
     "iopub.execute_input": "2024-06-16T16:09:47.531717Z",
     "iopub.status.busy": "2024-06-16T16:09:47.531323Z",
     "iopub.status.idle": "2024-06-16T16:09:47.542601Z",
     "shell.execute_reply": "2024-06-16T16:09:47.541366Z"
    },
    "papermill": {
     "duration": 0.023657,
     "end_time": "2024-06-16T16:09:47.546244",
     "exception": false,
     "start_time": "2024-06-16T16:09:47.522587",
     "status": "completed"
    },
    "tags": []
   },
   "outputs": [
    {
     "name": "stdout",
     "output_type": "stream",
     "text": [
      "Chi-Square Statistic: 13.900758213995182\n",
      "***********************************\n",
      "p-value: 0.00019272070767964805\n",
      "***********************************\n",
      "Degrees of Freedom: 1\n",
      "***********************************\n",
      "Expected Frequencies Table:\n",
      " [[873.58326429  55.41673571]\n",
      " [261.41673571  16.58326429]]\n"
     ]
    }
   ],
   "source": [
    "# Perform the Chi-Square Test for Independence\n",
    "chi2, p, dof, expected = stats.chi2_contingency(contingency_table)\n",
    "\n",
    "print(\"Chi-Square Statistic:\", chi2)\n",
    "print(\"***********************************\")\n",
    "print(\"p-value:\", p)\n",
    "print(\"***********************************\")\n",
    "print(\"Degrees of Freedom:\", dof)\n",
    "print(\"***********************************\")\n",
    "print(\"Expected Frequencies Table:\\n\", expected)"
   ]
  },
  {
   "cell_type": "markdown",
   "id": "4e11e488",
   "metadata": {
    "papermill": {
     "duration": 0.007201,
     "end_time": "2024-06-16T16:09:47.562490",
     "exception": false,
     "start_time": "2024-06-16T16:09:47.555289",
     "status": "completed"
    },
    "tags": []
   },
   "source": [
    "## Interpreting the Results\n",
    "\n",
    "- **Chi-Square Statistic**: A measure of how much the observed counts deviate from the expected counts.\n",
    "- **p-value**: The probability of obtaining a Chi-Square statistic at least as extreme as the one computed, assuming that the variables are independent.\n",
    "- **Degrees of Freedom**: Number of values that are free to vary given the constraints.\n",
    "- **Expected Frequencies Table**: The expected counts if the variables are truly independent.\n",
    "\n",
    "If the p-value is less than our significance level (typically 0.05), we reject the null hypothesis and conclude that there is a significant association between `lnpos_YN` and `status`.\n"
   ]
  },
  {
   "cell_type": "markdown",
   "id": "f2f91592",
   "metadata": {
    "papermill": {
     "duration": 0.00711,
     "end_time": "2024-06-16T16:09:47.576926",
     "exception": false,
     "start_time": "2024-06-16T16:09:47.569816",
     "status": "completed"
    },
    "tags": []
   },
   "source": [
    "## Calculate the residuals"
   ]
  },
  {
   "cell_type": "code",
   "execution_count": 7,
   "id": "e8fbccb8",
   "metadata": {
    "execution": {
     "iopub.execute_input": "2024-06-16T16:09:47.593804Z",
     "iopub.status.busy": "2024-06-16T16:09:47.593429Z",
     "iopub.status.idle": "2024-06-16T16:09:47.602195Z",
     "shell.execute_reply": "2024-06-16T16:09:47.600887Z"
    },
    "papermill": {
     "duration": 0.020861,
     "end_time": "2024-06-16T16:09:47.605086",
     "exception": false,
     "start_time": "2024-06-16T16:09:47.584225",
     "status": "completed"
    },
    "tags": []
   },
   "outputs": [
    {
     "name": "stdout",
     "output_type": "stream",
     "text": [
      "Residuals:\n",
      " status          0.0        1.0\n",
      "lnpos_YN                      \n",
      "No        13.416736 -13.416736\n",
      "Yes      -13.416736  13.416736\n"
     ]
    }
   ],
   "source": [
    "# Calculate the residuals\n",
    "residuals = (contingency_table - expected)\n",
    "print(\"Residuals:\\n\", residuals)"
   ]
  },
  {
   "cell_type": "markdown",
   "id": "5086dff1",
   "metadata": {
    "papermill": {
     "duration": 0.007178,
     "end_time": "2024-06-16T16:09:47.619888",
     "exception": false,
     "start_time": "2024-06-16T16:09:47.612710",
     "status": "completed"
    },
    "tags": []
   },
   "source": [
    "## Interpreting the Residuals\n",
    "\n",
    "Residuals show the difference between observed and expected frequencies, standardized by the expected frequency. Large residuals indicate cells that contribute significantly to the Chi-Square statistic.\n"
   ]
  },
  {
   "cell_type": "markdown",
   "id": "bd5c77da",
   "metadata": {
    "papermill": {
     "duration": 0.007192,
     "end_time": "2024-06-16T16:09:47.634744",
     "exception": false,
     "start_time": "2024-06-16T16:09:47.627552",
     "status": "completed"
    },
    "tags": []
   },
   "source": [
    "## Calculating the Odds Ratio\n",
    "\n",
    "The odds ratio will provide a measure of association between the two categorical variables. Note that the odds ratio is only appropriate for 2x2 tables.\n"
   ]
  },
  {
   "cell_type": "code",
   "execution_count": 8,
   "id": "aa81c6a7",
   "metadata": {
    "execution": {
     "iopub.execute_input": "2024-06-16T16:09:47.652162Z",
     "iopub.status.busy": "2024-06-16T16:09:47.651772Z",
     "iopub.status.idle": "2024-06-16T16:09:47.662485Z",
     "shell.execute_reply": "2024-06-16T16:09:47.661211Z"
    },
    "papermill": {
     "duration": 0.022408,
     "end_time": "2024-06-16T16:09:47.665058",
     "exception": false,
     "start_time": "2024-06-16T16:09:47.642650",
     "status": "completed"
    },
    "tags": []
   },
   "outputs": [
    {
     "name": "stdout",
     "output_type": "stream",
     "text": [
      "Odds Ratio: 2.55\n",
      "95% Confidence Interval (CI): (1.5663, 4.1668)\n"
     ]
    }
   ],
   "source": [
    "   # Check if the table is 2x2\n",
    "if contingency_table.shape == (2, 2):\n",
    "    # Extract values from the contingency table\n",
    "    a = contingency_table.iloc[0, 0]\n",
    "    b = contingency_table.iloc[0, 1]\n",
    "    c = contingency_table.iloc[1, 0]\n",
    "    d = contingency_table.iloc[1, 1]\n",
    "    \n",
    "    # Calculate the Odds Ratio\n",
    "    odds_ratio = (a / b) / (c / d)\n",
    "    \n",
    "    log_OddsRatio = np.log(odds_ratio)\n",
    "    _log_or = np.sqrt(1/a + 1/b + 1/c + 1/d)\n",
    "    \n",
    "    # 95% Confidence interval for odds ratio\n",
    "    z = norm.ppf(0.975)\n",
    "    CI_lower = np.exp(log_OddsRatio - z * _log_or)\n",
    "    CI_upper = np.exp(log_OddsRatio + z * _log_or)\n",
    "    \n",
    "    # Output results\n",
    "    print(f\"Odds Ratio: {odds_ratio:.2f}\")\n",
    "    print(f\"95% Confidence Interval (CI): ({CI_lower:.4f}, {CI_upper:.4f})\")\n",
    "     "
   ]
  },
  {
   "cell_type": "markdown",
   "id": "84201f0f",
   "metadata": {
    "papermill": {
     "duration": 0.007793,
     "end_time": "2024-06-16T16:09:47.680463",
     "exception": false,
     "start_time": "2024-06-16T16:09:47.672670",
     "status": "completed"
    },
    "tags": []
   },
   "source": [
    "## Interpreting the Results\n",
    "\n",
    "- **Odds Ratio**: Measure of association between the two variables, applicable for 2x2 tables.\n",
    "- **95% Confidence interval for odds ratio** : A confidence interval (CI) provides a range of values that is likely to contain the population parameter with a certain level of confidence (usually 95%). \n"
   ]
  },
  {
   "cell_type": "markdown",
   "id": "84febd3e",
   "metadata": {
    "papermill": {
     "duration": 0.007233,
     "end_time": "2024-06-16T16:09:47.695244",
     "exception": false,
     "start_time": "2024-06-16T16:09:47.688011",
     "status": "completed"
    },
    "tags": []
   },
   "source": [
    "## The Fisher Exact Test "
   ]
  },
  {
   "cell_type": "code",
   "execution_count": 9,
   "id": "6609e979",
   "metadata": {
    "execution": {
     "iopub.execute_input": "2024-06-16T16:09:47.712075Z",
     "iopub.status.busy": "2024-06-16T16:09:47.711643Z",
     "iopub.status.idle": "2024-06-16T16:09:47.719070Z",
     "shell.execute_reply": "2024-06-16T16:09:47.717953Z"
    },
    "papermill": {
     "duration": 0.019671,
     "end_time": "2024-06-16T16:09:47.722492",
     "exception": false,
     "start_time": "2024-06-16T16:09:47.702821",
     "status": "completed"
    },
    "tags": []
   },
   "outputs": [
    {
     "name": "stdout",
     "output_type": "stream",
     "text": [
      "All expected frequencies are 5 or greater. Performing Chi-Square Test for Independence.\n"
     ]
    }
   ],
   "source": [
    "# Fisher is typically used when sample sizes are small, especially when the expected frequency in any of the cells of a contingency table is less than 5\n",
    "# Check if any expected frequency is less than 5\n",
    "\n",
    "if (expected < 5).any():\n",
    "    print(\"At least one expected frequency is less than 5. Performing Fisher Exact Test.\")\n",
    "    \n",
    "    # Fisher Exact Test can only be performed on 2x2 tables\n",
    "    if contingency_table.shape == (2, 2):\n",
    "        oddsratio, p_fisher = stats.fisher_exact(contingency_table)\n",
    "        print(\"Fisher Exact Test p-value:\", p_fisher)\n",
    "    else:\n",
    "        print(\"Fisher Exact Test is not applicable for tables larger than 2x2.\")\n",
    "else:\n",
    "    print(\"All expected frequencies are 5 or greater. Performing Chi-Square Test for Independence.\")\n"
   ]
  },
  {
   "cell_type": "markdown",
   "id": "4c5a76d0",
   "metadata": {
    "papermill": {
     "duration": 0.007739,
     "end_time": "2024-06-16T16:09:47.738002",
     "exception": false,
     "start_time": "2024-06-16T16:09:47.730263",
     "status": "completed"
    },
    "tags": []
   },
   "source": [
    "**In next versions I will perform another statistical test on this dataset**\n",
    "> Stay Tuned 🌀"
   ]
  },
  {
   "cell_type": "code",
   "execution_count": null,
   "id": "439602e3",
   "metadata": {
    "papermill": {
     "duration": 0.007312,
     "end_time": "2024-06-16T16:09:47.753169",
     "exception": false,
     "start_time": "2024-06-16T16:09:47.745857",
     "status": "completed"
    },
    "tags": []
   },
   "outputs": [],
   "source": []
  }
 ],
 "metadata": {
  "kaggle": {
   "accelerator": "none",
   "dataSources": [
    {
     "datasetId": 5211930,
     "sourceId": 8691661,
     "sourceType": "datasetVersion"
    }
   ],
   "dockerImageVersionId": 30732,
   "isGpuEnabled": false,
   "isInternetEnabled": true,
   "language": "python",
   "sourceType": "notebook"
  },
  "kernelspec": {
   "display_name": "Python 3",
   "language": "python",
   "name": "python3"
  },
  "language_info": {
   "codemirror_mode": {
    "name": "ipython",
    "version": 3
   },
   "file_extension": ".py",
   "mimetype": "text/x-python",
   "name": "python",
   "nbconvert_exporter": "python",
   "pygments_lexer": "ipython3",
   "version": "3.10.13"
  },
  "papermill": {
   "default_parameters": {},
   "duration": 6.636927,
   "end_time": "2024-06-16T16:09:48.382505",
   "environment_variables": {},
   "exception": null,
   "input_path": "__notebook__.ipynb",
   "output_path": "__notebook__.ipynb",
   "parameters": {},
   "start_time": "2024-06-16T16:09:41.745578",
   "version": "2.5.0"
  }
 },
 "nbformat": 4,
 "nbformat_minor": 5
}
