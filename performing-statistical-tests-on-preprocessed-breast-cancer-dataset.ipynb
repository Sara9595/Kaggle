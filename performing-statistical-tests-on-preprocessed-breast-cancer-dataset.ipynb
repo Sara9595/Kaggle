{
 "cells": [
  {
   "cell_type": "markdown",
   "id": "4ef0698c",
   "metadata": {
    "papermill": {
     "duration": 0.005555,
     "end_time": "2024-06-16T15:47:49.533583",
     "exception": false,
     "start_time": "2024-06-16T15:47:49.528028",
     "status": "completed"
    },
    "tags": []
   },
   "source": [
    "## In this notebook, we will perform some statistical tests on preprocessed breast cancer dataset"
   ]
  },
  {
   "cell_type": "code",
   "execution_count": 1,
   "id": "fd0897e0",
   "metadata": {
    "execution": {
     "iopub.execute_input": "2024-06-16T15:47:49.546254Z",
     "iopub.status.busy": "2024-06-16T15:47:49.545210Z",
     "iopub.status.idle": "2024-06-16T15:47:51.349635Z",
     "shell.execute_reply": "2024-06-16T15:47:51.348520Z"
    },
    "papermill": {
     "duration": 1.813208,
     "end_time": "2024-06-16T15:47:51.352217",
     "exception": false,
     "start_time": "2024-06-16T15:47:49.539009",
     "status": "completed"
    },
    "tags": []
   },
   "outputs": [],
   "source": [
    "# import necessary libraries\n",
    "import pandas as pd\n",
    "import numpy as np\n",
    "import scipy.stats as stats\n",
    "from scipy.stats import norm"
   ]
  },
  {
   "cell_type": "code",
   "execution_count": 2,
   "id": "261172e3",
   "metadata": {
    "execution": {
     "iopub.execute_input": "2024-06-16T15:47:51.365483Z",
     "iopub.status.busy": "2024-06-16T15:47:51.364461Z",
     "iopub.status.idle": "2024-06-16T15:47:51.396651Z",
     "shell.execute_reply": "2024-06-16T15:47:51.395668Z"
    },
    "papermill": {
     "duration": 0.041317,
     "end_time": "2024-06-16T15:47:51.399122",
     "exception": false,
     "start_time": "2024-06-16T15:47:51.357805",
     "status": "completed"
    },
    "tags": []
   },
   "outputs": [],
   "source": [
    "# Load the dataset\n",
    "file_path = '/kaggle/input/breastcancer-preprocessed/BreastCancer-Preprocessed.csv'\n",
    "df = pd.read_csv(file_path)"
   ]
  },
  {
   "cell_type": "markdown",
   "id": "632f5a4b",
   "metadata": {
    "papermill": {
     "duration": 0.00501,
     "end_time": "2024-06-16T15:47:51.409355",
     "exception": false,
     "start_time": "2024-06-16T15:47:51.404345",
     "status": "completed"
    },
    "tags": []
   },
   "source": [
    "##  Display the first few rows of the dataset to understand its structure"
   ]
  },
  {
   "cell_type": "code",
   "execution_count": 3,
   "id": "1308c0b8",
   "metadata": {
    "execution": {
     "iopub.execute_input": "2024-06-16T15:47:51.420584Z",
     "iopub.status.busy": "2024-06-16T15:47:51.420210Z",
     "iopub.status.idle": "2024-06-16T15:47:51.450748Z",
     "shell.execute_reply": "2024-06-16T15:47:51.449717Z"
    },
    "papermill": {
     "duration": 0.039106,
     "end_time": "2024-06-16T15:47:51.453273",
     "exception": false,
     "start_time": "2024-06-16T15:47:51.414167",
     "status": "completed"
    },
    "tags": []
   },
   "outputs": [
    {
     "data": {
      "text/html": [
       "<div>\n",
       "<style scoped>\n",
       "    .dataframe tbody tr th:only-of-type {\n",
       "        vertical-align: middle;\n",
       "    }\n",
       "\n",
       "    .dataframe tbody tr th {\n",
       "        vertical-align: top;\n",
       "    }\n",
       "\n",
       "    .dataframe thead th {\n",
       "        text-align: right;\n",
       "    }\n",
       "</style>\n",
       "<table border=\"1\" class=\"dataframe\">\n",
       "  <thead>\n",
       "    <tr style=\"text-align: right;\">\n",
       "      <th></th>\n",
       "      <th>id</th>\n",
       "      <th>age</th>\n",
       "      <th>pathsize</th>\n",
       "      <th>lnpos</th>\n",
       "      <th>histgrad</th>\n",
       "      <th>er</th>\n",
       "      <th>pr</th>\n",
       "      <th>status</th>\n",
       "      <th>time</th>\n",
       "      <th>lnpos_YN</th>\n",
       "      <th>pathsize_Cat</th>\n",
       "    </tr>\n",
       "  </thead>\n",
       "  <tbody>\n",
       "    <tr>\n",
       "      <th>0</th>\n",
       "      <td>1.0</td>\n",
       "      <td>60.0</td>\n",
       "      <td>NaN</td>\n",
       "      <td>0.0</td>\n",
       "      <td>3.0</td>\n",
       "      <td>0.0</td>\n",
       "      <td>0.0</td>\n",
       "      <td>0.0</td>\n",
       "      <td>9.466667</td>\n",
       "      <td>No</td>\n",
       "      <td>NaN</td>\n",
       "    </tr>\n",
       "    <tr>\n",
       "      <th>1</th>\n",
       "      <td>2.0</td>\n",
       "      <td>79.0</td>\n",
       "      <td>NaN</td>\n",
       "      <td>0.0</td>\n",
       "      <td>NaN</td>\n",
       "      <td>NaN</td>\n",
       "      <td>NaN</td>\n",
       "      <td>0.0</td>\n",
       "      <td>8.600000</td>\n",
       "      <td>No</td>\n",
       "      <td>NaN</td>\n",
       "    </tr>\n",
       "    <tr>\n",
       "      <th>2</th>\n",
       "      <td>3.0</td>\n",
       "      <td>82.0</td>\n",
       "      <td>NaN</td>\n",
       "      <td>0.0</td>\n",
       "      <td>2.0</td>\n",
       "      <td>NaN</td>\n",
       "      <td>NaN</td>\n",
       "      <td>0.0</td>\n",
       "      <td>19.333333</td>\n",
       "      <td>No</td>\n",
       "      <td>NaN</td>\n",
       "    </tr>\n",
       "    <tr>\n",
       "      <th>3</th>\n",
       "      <td>4.0</td>\n",
       "      <td>66.0</td>\n",
       "      <td>NaN</td>\n",
       "      <td>0.0</td>\n",
       "      <td>2.0</td>\n",
       "      <td>1.0</td>\n",
       "      <td>1.0</td>\n",
       "      <td>0.0</td>\n",
       "      <td>16.333333</td>\n",
       "      <td>No</td>\n",
       "      <td>NaN</td>\n",
       "    </tr>\n",
       "    <tr>\n",
       "      <th>4</th>\n",
       "      <td>5.0</td>\n",
       "      <td>52.0</td>\n",
       "      <td>NaN</td>\n",
       "      <td>0.0</td>\n",
       "      <td>3.0</td>\n",
       "      <td>NaN</td>\n",
       "      <td>NaN</td>\n",
       "      <td>0.0</td>\n",
       "      <td>8.500000</td>\n",
       "      <td>No</td>\n",
       "      <td>NaN</td>\n",
       "    </tr>\n",
       "  </tbody>\n",
       "</table>\n",
       "</div>"
      ],
      "text/plain": [
       "    id   age  pathsize  lnpos  histgrad   er   pr  status       time lnpos_YN  \\\n",
       "0  1.0  60.0       NaN    0.0       3.0  0.0  0.0     0.0   9.466667       No   \n",
       "1  2.0  79.0       NaN    0.0       NaN  NaN  NaN     0.0   8.600000       No   \n",
       "2  3.0  82.0       NaN    0.0       2.0  NaN  NaN     0.0  19.333333       No   \n",
       "3  4.0  66.0       NaN    0.0       2.0  1.0  1.0     0.0  16.333333       No   \n",
       "4  5.0  52.0       NaN    0.0       3.0  NaN  NaN     0.0   8.500000       No   \n",
       "\n",
       "  pathsize_Cat  \n",
       "0          NaN  \n",
       "1          NaN  \n",
       "2          NaN  \n",
       "3          NaN  \n",
       "4          NaN  "
      ]
     },
     "execution_count": 3,
     "metadata": {},
     "output_type": "execute_result"
    }
   ],
   "source": [
    "df.head()"
   ]
  },
  {
   "cell_type": "markdown",
   "id": "3f331e89",
   "metadata": {
    "papermill": {
     "duration": 0.004977,
     "end_time": "2024-06-16T15:47:51.463511",
     "exception": false,
     "start_time": "2024-06-16T15:47:51.458534",
     "status": "completed"
    },
    "tags": []
   },
   "source": [
    "## Understanding the Variables\n",
    "\n",
    "The `lnpos_YN` and `status` are categorical variables that we want to test for independence.\n",
    "Let's take a look at the unique values in these columns."
   ]
  },
  {
   "cell_type": "code",
   "execution_count": 4,
   "id": "16139da6",
   "metadata": {
    "execution": {
     "iopub.execute_input": "2024-06-16T15:47:51.475365Z",
     "iopub.status.busy": "2024-06-16T15:47:51.475008Z",
     "iopub.status.idle": "2024-06-16T15:47:51.487203Z",
     "shell.execute_reply": "2024-06-16T15:47:51.486169Z"
    },
    "papermill": {
     "duration": 0.020925,
     "end_time": "2024-06-16T15:47:51.489685",
     "exception": false,
     "start_time": "2024-06-16T15:47:51.468760",
     "status": "completed"
    },
    "tags": []
   },
   "outputs": [
    {
     "name": "stdout",
     "output_type": "stream",
     "text": [
      "Unique values in 'lnpos_YN': ['No' 'Yes']\n",
      "Unique values in 'status': [0. 1.]\n"
     ]
    }
   ],
   "source": [
    "# Check the unique values in 'lnpos_YN' and 'status'\n",
    "print(\"Unique values in 'lnpos_YN':\", df['lnpos_YN'].unique())\n",
    "print(\"Unique values in 'status':\", df['status'].unique())\n"
   ]
  },
  {
   "cell_type": "markdown",
   "id": "72eca1f5",
   "metadata": {
    "papermill": {
     "duration": 0.005397,
     "end_time": "2024-06-16T15:47:51.500348",
     "exception": false,
     "start_time": "2024-06-16T15:47:51.494951",
     "status": "completed"
    },
    "tags": []
   },
   "source": [
    "## Creating a Contingency Table\n",
    "\n",
    "We will create a contingency table to summarize the relationship between the two categorical variables."
   ]
  },
  {
   "cell_type": "code",
   "execution_count": 5,
   "id": "699bbf63",
   "metadata": {
    "execution": {
     "iopub.execute_input": "2024-06-16T15:47:51.512354Z",
     "iopub.status.busy": "2024-06-16T15:47:51.511998Z",
     "iopub.status.idle": "2024-06-16T15:47:51.544206Z",
     "shell.execute_reply": "2024-06-16T15:47:51.543116Z"
    },
    "papermill": {
     "duration": 0.041185,
     "end_time": "2024-06-16T15:47:51.546761",
     "exception": false,
     "start_time": "2024-06-16T15:47:51.505576",
     "status": "completed"
    },
    "tags": []
   },
   "outputs": [
    {
     "name": "stdout",
     "output_type": "stream",
     "text": [
      "status    0.0  1.0\n",
      "lnpos_YN          \n",
      "No        887   42\n",
      "Yes       248   30\n"
     ]
    }
   ],
   "source": [
    "# Create a contingency table\n",
    "contingency_table = pd.crosstab(df['lnpos_YN'], df['status'])\n",
    "print(contingency_table)\n"
   ]
  },
  {
   "cell_type": "markdown",
   "id": "670a9f7b",
   "metadata": {
    "papermill": {
     "duration": 0.005061,
     "end_time": "2024-06-16T15:47:51.557350",
     "exception": false,
     "start_time": "2024-06-16T15:47:51.552289",
     "status": "completed"
    },
    "tags": []
   },
   "source": [
    "## Performing the Chi-Square Test for Independence\n",
    "\n",
    "The Chi-Square Test for Independence will help us determine whether there is a significant association between `lnpos_YN` and `status`.\n"
   ]
  },
  {
   "cell_type": "code",
   "execution_count": 6,
   "id": "c5317c03",
   "metadata": {
    "execution": {
     "iopub.execute_input": "2024-06-16T15:47:51.569567Z",
     "iopub.status.busy": "2024-06-16T15:47:51.569162Z",
     "iopub.status.idle": "2024-06-16T15:47:51.579151Z",
     "shell.execute_reply": "2024-06-16T15:47:51.577871Z"
    },
    "papermill": {
     "duration": 0.018886,
     "end_time": "2024-06-16T15:47:51.581525",
     "exception": false,
     "start_time": "2024-06-16T15:47:51.562639",
     "status": "completed"
    },
    "tags": []
   },
   "outputs": [
    {
     "name": "stdout",
     "output_type": "stream",
     "text": [
      "Chi-Square Statistic: 13.900758213995182\n",
      "***********************************\n",
      "p-value: 0.00019272070767964805\n",
      "***********************************\n",
      "Degrees of Freedom: 1\n",
      "***********************************\n",
      "Expected Frequencies Table:\n",
      " [[873.58326429  55.41673571]\n",
      " [261.41673571  16.58326429]]\n"
     ]
    }
   ],
   "source": [
    "# Perform the Chi-Square Test for Independence\n",
    "chi2, p, dof, expected = stats.chi2_contingency(contingency_table)\n",
    "\n",
    "print(\"Chi-Square Statistic:\", chi2)\n",
    "print(\"***********************************\")\n",
    "print(\"p-value:\", p)\n",
    "print(\"***********************************\")\n",
    "print(\"Degrees of Freedom:\", dof)\n",
    "print(\"***********************************\")\n",
    "print(\"Expected Frequencies Table:\\n\", expected)"
   ]
  },
  {
   "cell_type": "markdown",
   "id": "24284477",
   "metadata": {
    "papermill": {
     "duration": 0.005666,
     "end_time": "2024-06-16T15:47:51.592610",
     "exception": false,
     "start_time": "2024-06-16T15:47:51.586944",
     "status": "completed"
    },
    "tags": []
   },
   "source": [
    "## Interpreting the Results\n",
    "\n",
    "- **Chi-Square Statistic**: A measure of how much the observed counts deviate from the expected counts.\n",
    "- **p-value**: The probability of obtaining a Chi-Square statistic at least as extreme as the one computed, assuming that the variables are independent.\n",
    "- **Degrees of Freedom**: Number of values that are free to vary given the constraints.\n",
    "- **Expected Frequencies Table**: The expected counts if the variables are truly independent.\n",
    "\n",
    "If the p-value is less than our significance level (typically 0.05), we reject the null hypothesis and conclude that there is a significant association between `lnpos_YN` and `status`.\n"
   ]
  },
  {
   "cell_type": "markdown",
   "id": "0feb2071",
   "metadata": {
    "papermill": {
     "duration": 0.005443,
     "end_time": "2024-06-16T15:47:51.603672",
     "exception": false,
     "start_time": "2024-06-16T15:47:51.598229",
     "status": "completed"
    },
    "tags": []
   },
   "source": [
    "## Calculate the residuals"
   ]
  },
  {
   "cell_type": "code",
   "execution_count": 7,
   "id": "930f0bfb",
   "metadata": {
    "execution": {
     "iopub.execute_input": "2024-06-16T15:47:51.616422Z",
     "iopub.status.busy": "2024-06-16T15:47:51.616066Z",
     "iopub.status.idle": "2024-06-16T15:47:51.624306Z",
     "shell.execute_reply": "2024-06-16T15:47:51.623202Z"
    },
    "papermill": {
     "duration": 0.017248,
     "end_time": "2024-06-16T15:47:51.626586",
     "exception": false,
     "start_time": "2024-06-16T15:47:51.609338",
     "status": "completed"
    },
    "tags": []
   },
   "outputs": [
    {
     "name": "stdout",
     "output_type": "stream",
     "text": [
      "Residuals:\n",
      " status          0.0        1.0\n",
      "lnpos_YN                      \n",
      "No        13.416736 -13.416736\n",
      "Yes      -13.416736  13.416736\n"
     ]
    }
   ],
   "source": [
    "# Calculate the residuals\n",
    "residuals = (contingency_table - expected)\n",
    "print(\"Residuals:\\n\", residuals)"
   ]
  },
  {
   "cell_type": "markdown",
   "id": "c3d865b2",
   "metadata": {
    "papermill": {
     "duration": 0.00529,
     "end_time": "2024-06-16T15:47:51.637355",
     "exception": false,
     "start_time": "2024-06-16T15:47:51.632065",
     "status": "completed"
    },
    "tags": []
   },
   "source": [
    "## Interpreting the Residuals\n",
    "\n",
    "Residuals show the difference between observed and expected frequencies, standardized by the expected frequency. Large residuals indicate cells that contribute significantly to the Chi-Square statistic.\n"
   ]
  },
  {
   "cell_type": "markdown",
   "id": "70054a9b",
   "metadata": {
    "papermill": {
     "duration": 0.005215,
     "end_time": "2024-06-16T15:47:51.648216",
     "exception": false,
     "start_time": "2024-06-16T15:47:51.643001",
     "status": "completed"
    },
    "tags": []
   },
   "source": [
    "## Calculating the Odds Ratio\n",
    "\n",
    "The odds ratio will provide a measure of association between the two categorical variables. Note that the odds ratio is only appropriate for 2x2 tables.\n"
   ]
  },
  {
   "cell_type": "code",
   "execution_count": 8,
   "id": "be81690d",
   "metadata": {
    "execution": {
     "iopub.execute_input": "2024-06-16T15:47:51.661159Z",
     "iopub.status.busy": "2024-06-16T15:47:51.660342Z",
     "iopub.status.idle": "2024-06-16T15:47:51.669262Z",
     "shell.execute_reply": "2024-06-16T15:47:51.668166Z"
    },
    "papermill": {
     "duration": 0.017928,
     "end_time": "2024-06-16T15:47:51.671668",
     "exception": false,
     "start_time": "2024-06-16T15:47:51.653740",
     "status": "completed"
    },
    "tags": []
   },
   "outputs": [
    {
     "name": "stdout",
     "output_type": "stream",
     "text": [
      "Odds Ratio: 2.55\n",
      "95% Confidence Interval (CI): (1.5663, 4.1668)\n"
     ]
    }
   ],
   "source": [
    "   # Check if the table is 2x2\n",
    "if contingency_table.shape == (2, 2):\n",
    "    # Extract values from the contingency table\n",
    "    a = contingency_table.iloc[0, 0]\n",
    "    b = contingency_table.iloc[0, 1]\n",
    "    c = contingency_table.iloc[1, 0]\n",
    "    d = contingency_table.iloc[1, 1]\n",
    "    \n",
    "    # Calculate the Odds Ratio\n",
    "    odds_ratio = (a / b) / (c / d)\n",
    "    \n",
    "    log_OddsRatio = np.log(odds_ratio)\n",
    "    _log_or = np.sqrt(1/a + 1/b + 1/c + 1/d)\n",
    "    \n",
    "    # 95% Confidence interval for odds ratio\n",
    "    z = norm.ppf(0.975)\n",
    "    CI_lower = np.exp(log_OddsRatio - z * _log_or)\n",
    "    CI_upper = np.exp(log_OddsRatio + z * _log_or)\n",
    "    \n",
    "    # Output results\n",
    "    print(f\"Odds Ratio: {odds_ratio:.2f}\")\n",
    "    print(f\"95% Confidence Interval (CI): ({CI_lower:.4f}, {CI_upper:.4f})\")\n",
    "     "
   ]
  },
  {
   "cell_type": "markdown",
   "id": "40b20b99",
   "metadata": {
    "papermill": {
     "duration": 0.005779,
     "end_time": "2024-06-16T15:47:51.682994",
     "exception": false,
     "start_time": "2024-06-16T15:47:51.677215",
     "status": "completed"
    },
    "tags": []
   },
   "source": [
    "## Interpreting the Results\n",
    "\n",
    "- **Residuals**: Standardized differences between observed and expected frequencies.\n",
    "- **Odds Ratio**: Measure of association between the two variables, applicable for 2x2 tables.\n"
   ]
  },
  {
   "cell_type": "markdown",
   "id": "6d81590a",
   "metadata": {
    "papermill": {
     "duration": 0.005329,
     "end_time": "2024-06-16T15:47:51.694105",
     "exception": false,
     "start_time": "2024-06-16T15:47:51.688776",
     "status": "completed"
    },
    "tags": []
   },
   "source": [
    "## The Fisher Exact Test "
   ]
  },
  {
   "cell_type": "code",
   "execution_count": 9,
   "id": "0482470a",
   "metadata": {
    "execution": {
     "iopub.execute_input": "2024-06-16T15:47:51.707506Z",
     "iopub.status.busy": "2024-06-16T15:47:51.706549Z",
     "iopub.status.idle": "2024-06-16T15:47:51.713386Z",
     "shell.execute_reply": "2024-06-16T15:47:51.712224Z"
    },
    "papermill": {
     "duration": 0.015925,
     "end_time": "2024-06-16T15:47:51.715666",
     "exception": false,
     "start_time": "2024-06-16T15:47:51.699741",
     "status": "completed"
    },
    "tags": []
   },
   "outputs": [
    {
     "name": "stdout",
     "output_type": "stream",
     "text": [
      "All expected frequencies are 5 or greater. Performing Chi-Square Test for Independence.\n"
     ]
    }
   ],
   "source": [
    "# Fisher is typically used when sample sizes are small, especially when the expected frequency in any of the cells of a contingency table is less than 5\n",
    "# Check if any expected frequency is less than 5\n",
    "\n",
    "if (expected < 5).any():\n",
    "    print(\"At least one expected frequency is less than 5. Performing Fisher Exact Test.\")\n",
    "    \n",
    "    # Fisher Exact Test can only be performed on 2x2 tables\n",
    "    if contingency_table.shape == (2, 2):\n",
    "        oddsratio, p_fisher = stats.fisher_exact(contingency_table)\n",
    "        print(\"Fisher Exact Test p-value:\", p_fisher)\n",
    "    else:\n",
    "        print(\"Fisher Exact Test is not applicable for tables larger than 2x2.\")\n",
    "else:\n",
    "    print(\"All expected frequencies are 5 or greater. Performing Chi-Square Test for Independence.\")\n"
   ]
  },
  {
   "cell_type": "markdown",
   "id": "37fd6e02",
   "metadata": {
    "papermill": {
     "duration": 0.005303,
     "end_time": "2024-06-16T15:47:51.726844",
     "exception": false,
     "start_time": "2024-06-16T15:47:51.721541",
     "status": "completed"
    },
    "tags": []
   },
   "source": [
    "**In next versions I will perform another statistical test on this dataset**\n",
    "> Stay Tuned 🌀"
   ]
  },
  {
   "cell_type": "code",
   "execution_count": null,
   "id": "b6f55ca4",
   "metadata": {
    "papermill": {
     "duration": 0.005228,
     "end_time": "2024-06-16T15:47:51.737565",
     "exception": false,
     "start_time": "2024-06-16T15:47:51.732337",
     "status": "completed"
    },
    "tags": []
   },
   "outputs": [],
   "source": []
  }
 ],
 "metadata": {
  "kaggle": {
   "accelerator": "none",
   "dataSources": [
    {
     "datasetId": 5211930,
     "sourceId": 8691661,
     "sourceType": "datasetVersion"
    }
   ],
   "dockerImageVersionId": 30732,
   "isGpuEnabled": false,
   "isInternetEnabled": true,
   "language": "python",
   "sourceType": "notebook"
  },
  "kernelspec": {
   "display_name": "Python 3",
   "language": "python",
   "name": "python3"
  },
  "language_info": {
   "codemirror_mode": {
    "name": "ipython",
    "version": 3
   },
   "file_extension": ".py",
   "mimetype": "text/x-python",
   "name": "python",
   "nbconvert_exporter": "python",
   "pygments_lexer": "ipython3",
   "version": "3.10.13"
  },
  "papermill": {
   "default_parameters": {},
   "duration": 5.538726,
   "end_time": "2024-06-16T15:47:52.263784",
   "environment_variables": {},
   "exception": null,
   "input_path": "__notebook__.ipynb",
   "output_path": "__notebook__.ipynb",
   "parameters": {},
   "start_time": "2024-06-16T15:47:46.725058",
   "version": "2.5.0"
  }
 },
 "nbformat": 4,
 "nbformat_minor": 5
}
