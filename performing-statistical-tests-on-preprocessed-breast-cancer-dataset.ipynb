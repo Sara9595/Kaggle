{
 "cells": [
  {
   "cell_type": "markdown",
   "id": "0126d29a",
   "metadata": {
    "papermill": {
     "duration": 0.007216,
     "end_time": "2024-06-14T14:33:34.711348",
     "exception": false,
     "start_time": "2024-06-14T14:33:34.704132",
     "status": "completed"
    },
    "tags": []
   },
   "source": [
    "## In this notebook, we will perform some statistical tests on preprocessed breast cancer dataset"
   ]
  },
  {
   "cell_type": "code",
   "execution_count": 1,
   "id": "12287706",
   "metadata": {
    "execution": {
     "iopub.execute_input": "2024-06-14T14:33:34.725952Z",
     "iopub.status.busy": "2024-06-14T14:33:34.725451Z",
     "iopub.status.idle": "2024-06-14T14:33:37.106932Z",
     "shell.execute_reply": "2024-06-14T14:33:37.105346Z"
    },
    "papermill": {
     "duration": 2.392476,
     "end_time": "2024-06-14T14:33:37.110239",
     "exception": false,
     "start_time": "2024-06-14T14:33:34.717763",
     "status": "completed"
    },
    "tags": []
   },
   "outputs": [],
   "source": [
    "# import necessary libraries\n",
    "import pandas as pd\n",
    "import numpy as np\n",
    "import scipy.stats as stats"
   ]
  },
  {
   "cell_type": "code",
   "execution_count": 2,
   "id": "1002359a",
   "metadata": {
    "execution": {
     "iopub.execute_input": "2024-06-14T14:33:37.126558Z",
     "iopub.status.busy": "2024-06-14T14:33:37.124889Z",
     "iopub.status.idle": "2024-06-14T14:33:37.153935Z",
     "shell.execute_reply": "2024-06-14T14:33:37.152552Z"
    },
    "papermill": {
     "duration": 0.040918,
     "end_time": "2024-06-14T14:33:37.157425",
     "exception": false,
     "start_time": "2024-06-14T14:33:37.116507",
     "status": "completed"
    },
    "tags": []
   },
   "outputs": [],
   "source": [
    "# Load the dataset\n",
    "file_path = '/kaggle/input/breastcancer-preprocessed/BreastCancer-Preprocessed.csv'\n",
    "df = pd.read_csv(file_path)"
   ]
  },
  {
   "cell_type": "markdown",
   "id": "95dc1898",
   "metadata": {
    "papermill": {
     "duration": 0.006422,
     "end_time": "2024-06-14T14:33:37.170878",
     "exception": false,
     "start_time": "2024-06-14T14:33:37.164456",
     "status": "completed"
    },
    "tags": []
   },
   "source": [
    "##  Display the first few rows of the dataset to understand its structure"
   ]
  },
  {
   "cell_type": "code",
   "execution_count": 3,
   "id": "e4fc8be3",
   "metadata": {
    "execution": {
     "iopub.execute_input": "2024-06-14T14:33:37.186339Z",
     "iopub.status.busy": "2024-06-14T14:33:37.185884Z",
     "iopub.status.idle": "2024-06-14T14:33:37.227333Z",
     "shell.execute_reply": "2024-06-14T14:33:37.226109Z"
    },
    "papermill": {
     "duration": 0.052912,
     "end_time": "2024-06-14T14:33:37.230522",
     "exception": false,
     "start_time": "2024-06-14T14:33:37.177610",
     "status": "completed"
    },
    "tags": []
   },
   "outputs": [
    {
     "data": {
      "text/html": [
       "<div>\n",
       "<style scoped>\n",
       "    .dataframe tbody tr th:only-of-type {\n",
       "        vertical-align: middle;\n",
       "    }\n",
       "\n",
       "    .dataframe tbody tr th {\n",
       "        vertical-align: top;\n",
       "    }\n",
       "\n",
       "    .dataframe thead th {\n",
       "        text-align: right;\n",
       "    }\n",
       "</style>\n",
       "<table border=\"1\" class=\"dataframe\">\n",
       "  <thead>\n",
       "    <tr style=\"text-align: right;\">\n",
       "      <th></th>\n",
       "      <th>id</th>\n",
       "      <th>age</th>\n",
       "      <th>pathsize</th>\n",
       "      <th>lnpos</th>\n",
       "      <th>histgrad</th>\n",
       "      <th>er</th>\n",
       "      <th>pr</th>\n",
       "      <th>status</th>\n",
       "      <th>time</th>\n",
       "      <th>lnpos_YN</th>\n",
       "      <th>pathsize_Cat</th>\n",
       "    </tr>\n",
       "  </thead>\n",
       "  <tbody>\n",
       "    <tr>\n",
       "      <th>0</th>\n",
       "      <td>1.0</td>\n",
       "      <td>60.0</td>\n",
       "      <td>NaN</td>\n",
       "      <td>0.0</td>\n",
       "      <td>3.0</td>\n",
       "      <td>0.0</td>\n",
       "      <td>0.0</td>\n",
       "      <td>0.0</td>\n",
       "      <td>9.466667</td>\n",
       "      <td>No</td>\n",
       "      <td>NaN</td>\n",
       "    </tr>\n",
       "    <tr>\n",
       "      <th>1</th>\n",
       "      <td>2.0</td>\n",
       "      <td>79.0</td>\n",
       "      <td>NaN</td>\n",
       "      <td>0.0</td>\n",
       "      <td>NaN</td>\n",
       "      <td>NaN</td>\n",
       "      <td>NaN</td>\n",
       "      <td>0.0</td>\n",
       "      <td>8.600000</td>\n",
       "      <td>No</td>\n",
       "      <td>NaN</td>\n",
       "    </tr>\n",
       "    <tr>\n",
       "      <th>2</th>\n",
       "      <td>3.0</td>\n",
       "      <td>82.0</td>\n",
       "      <td>NaN</td>\n",
       "      <td>0.0</td>\n",
       "      <td>2.0</td>\n",
       "      <td>NaN</td>\n",
       "      <td>NaN</td>\n",
       "      <td>0.0</td>\n",
       "      <td>19.333333</td>\n",
       "      <td>No</td>\n",
       "      <td>NaN</td>\n",
       "    </tr>\n",
       "    <tr>\n",
       "      <th>3</th>\n",
       "      <td>4.0</td>\n",
       "      <td>66.0</td>\n",
       "      <td>NaN</td>\n",
       "      <td>0.0</td>\n",
       "      <td>2.0</td>\n",
       "      <td>1.0</td>\n",
       "      <td>1.0</td>\n",
       "      <td>0.0</td>\n",
       "      <td>16.333333</td>\n",
       "      <td>No</td>\n",
       "      <td>NaN</td>\n",
       "    </tr>\n",
       "    <tr>\n",
       "      <th>4</th>\n",
       "      <td>5.0</td>\n",
       "      <td>52.0</td>\n",
       "      <td>NaN</td>\n",
       "      <td>0.0</td>\n",
       "      <td>3.0</td>\n",
       "      <td>NaN</td>\n",
       "      <td>NaN</td>\n",
       "      <td>0.0</td>\n",
       "      <td>8.500000</td>\n",
       "      <td>No</td>\n",
       "      <td>NaN</td>\n",
       "    </tr>\n",
       "  </tbody>\n",
       "</table>\n",
       "</div>"
      ],
      "text/plain": [
       "    id   age  pathsize  lnpos  histgrad   er   pr  status       time lnpos_YN  \\\n",
       "0  1.0  60.0       NaN    0.0       3.0  0.0  0.0     0.0   9.466667       No   \n",
       "1  2.0  79.0       NaN    0.0       NaN  NaN  NaN     0.0   8.600000       No   \n",
       "2  3.0  82.0       NaN    0.0       2.0  NaN  NaN     0.0  19.333333       No   \n",
       "3  4.0  66.0       NaN    0.0       2.0  1.0  1.0     0.0  16.333333       No   \n",
       "4  5.0  52.0       NaN    0.0       3.0  NaN  NaN     0.0   8.500000       No   \n",
       "\n",
       "  pathsize_Cat  \n",
       "0          NaN  \n",
       "1          NaN  \n",
       "2          NaN  \n",
       "3          NaN  \n",
       "4          NaN  "
      ]
     },
     "execution_count": 3,
     "metadata": {},
     "output_type": "execute_result"
    }
   ],
   "source": [
    "df.head()"
   ]
  },
  {
   "cell_type": "markdown",
   "id": "87df694d",
   "metadata": {
    "papermill": {
     "duration": 0.007742,
     "end_time": "2024-06-14T14:33:37.245280",
     "exception": false,
     "start_time": "2024-06-14T14:33:37.237538",
     "status": "completed"
    },
    "tags": []
   },
   "source": [
    "## Understanding the Variables\n",
    "\n",
    "The `lnpos_YN` and `status` are categorical variables that we want to test for independence.\n",
    "Let's take a look at the unique values in these columns."
   ]
  },
  {
   "cell_type": "code",
   "execution_count": 4,
   "id": "9f5d194c",
   "metadata": {
    "execution": {
     "iopub.execute_input": "2024-06-14T14:33:37.261368Z",
     "iopub.status.busy": "2024-06-14T14:33:37.260922Z",
     "iopub.status.idle": "2024-06-14T14:33:37.274905Z",
     "shell.execute_reply": "2024-06-14T14:33:37.273308Z"
    },
    "papermill": {
     "duration": 0.025761,
     "end_time": "2024-06-14T14:33:37.278119",
     "exception": false,
     "start_time": "2024-06-14T14:33:37.252358",
     "status": "completed"
    },
    "tags": []
   },
   "outputs": [
    {
     "name": "stdout",
     "output_type": "stream",
     "text": [
      "Unique values in 'lnpos_YN': ['No' 'Yes']\n",
      "Unique values in 'status': [0. 1.]\n"
     ]
    }
   ],
   "source": [
    "# Check the unique values in 'lnpos_YN' and 'status'\n",
    "print(\"Unique values in 'lnpos_YN':\", df['lnpos_YN'].unique())\n",
    "print(\"Unique values in 'status':\", df['status'].unique())\n"
   ]
  },
  {
   "cell_type": "markdown",
   "id": "1782c7d6",
   "metadata": {
    "papermill": {
     "duration": 0.006316,
     "end_time": "2024-06-14T14:33:37.291168",
     "exception": false,
     "start_time": "2024-06-14T14:33:37.284852",
     "status": "completed"
    },
    "tags": []
   },
   "source": [
    "## Creating a Contingency Table\n",
    "\n",
    "We will create a contingency table to summarize the relationship between the two categorical variables."
   ]
  },
  {
   "cell_type": "code",
   "execution_count": 5,
   "id": "f8a19eb3",
   "metadata": {
    "execution": {
     "iopub.execute_input": "2024-06-14T14:33:37.307758Z",
     "iopub.status.busy": "2024-06-14T14:33:37.306625Z",
     "iopub.status.idle": "2024-06-14T14:33:37.348923Z",
     "shell.execute_reply": "2024-06-14T14:33:37.347177Z"
    },
    "papermill": {
     "duration": 0.053592,
     "end_time": "2024-06-14T14:33:37.351813",
     "exception": false,
     "start_time": "2024-06-14T14:33:37.298221",
     "status": "completed"
    },
    "tags": []
   },
   "outputs": [
    {
     "name": "stdout",
     "output_type": "stream",
     "text": [
      "status    0.0  1.0\n",
      "lnpos_YN          \n",
      "No        887   42\n",
      "Yes       248   30\n"
     ]
    }
   ],
   "source": [
    "# Create a contingency table\n",
    "contingency_table = pd.crosstab(df['lnpos_YN'], df['status'])\n",
    "print(contingency_table)\n"
   ]
  },
  {
   "cell_type": "markdown",
   "id": "96b5ba66",
   "metadata": {
    "papermill": {
     "duration": 0.00624,
     "end_time": "2024-06-14T14:33:37.364700",
     "exception": false,
     "start_time": "2024-06-14T14:33:37.358460",
     "status": "completed"
    },
    "tags": []
   },
   "source": [
    "## Performing the Chi-Square Test for Independence\n",
    "\n",
    "The Chi-Square Test for Independence will help us determine whether there is a significant association between `lnpos_YN` and `status`.\n"
   ]
  },
  {
   "cell_type": "code",
   "execution_count": 6,
   "id": "6f41a70e",
   "metadata": {
    "execution": {
     "iopub.execute_input": "2024-06-14T14:33:37.380443Z",
     "iopub.status.busy": "2024-06-14T14:33:37.379856Z",
     "iopub.status.idle": "2024-06-14T14:33:37.391983Z",
     "shell.execute_reply": "2024-06-14T14:33:37.390474Z"
    },
    "papermill": {
     "duration": 0.023564,
     "end_time": "2024-06-14T14:33:37.394914",
     "exception": false,
     "start_time": "2024-06-14T14:33:37.371350",
     "status": "completed"
    },
    "tags": []
   },
   "outputs": [
    {
     "name": "stdout",
     "output_type": "stream",
     "text": [
      "Chi-Square Statistic: 13.900758213995182\n",
      "***********************************\n",
      "p-value: 0.00019272070767964805\n",
      "***********************************\n",
      "Degrees of Freedom: 1\n",
      "***********************************\n",
      "Expected Frequencies Table:\n",
      " [[873.58326429  55.41673571]\n",
      " [261.41673571  16.58326429]]\n"
     ]
    }
   ],
   "source": [
    "# Perform the Chi-Square Test for Independence\n",
    "chi2, p, dof, expected = stats.chi2_contingency(contingency_table)\n",
    "\n",
    "print(\"Chi-Square Statistic:\", chi2)\n",
    "print(\"***********************************\")\n",
    "print(\"p-value:\", p)\n",
    "print(\"***********************************\")\n",
    "print(\"Degrees of Freedom:\", dof)\n",
    "print(\"***********************************\")\n",
    "print(\"Expected Frequencies Table:\\n\", expected)"
   ]
  },
  {
   "cell_type": "markdown",
   "id": "5afa1d5e",
   "metadata": {
    "papermill": {
     "duration": 0.006426,
     "end_time": "2024-06-14T14:33:37.408208",
     "exception": false,
     "start_time": "2024-06-14T14:33:37.401782",
     "status": "completed"
    },
    "tags": []
   },
   "source": [
    "## Interpreting the Results\n",
    "\n",
    "- **Chi-Square Statistic**: A measure of how much the observed counts deviate from the expected counts.\n",
    "- **p-value**: The probability of obtaining a Chi-Square statistic at least as extreme as the one computed, assuming that the variables are independent.\n",
    "- **Degrees of Freedom**: Number of values that are free to vary given the constraints.\n",
    "- **Expected Frequencies Table**: The expected counts if the variables are truly independent.\n",
    "\n",
    "If the p-value is less than our significance level (typically 0.05), we reject the null hypothesis and conclude that there is a significant association between `lnpos_YN` and `status`.\n"
   ]
  },
  {
   "cell_type": "markdown",
   "id": "3e000d7a",
   "metadata": {
    "papermill": {
     "duration": 0.006679,
     "end_time": "2024-06-14T14:33:37.421654",
     "exception": false,
     "start_time": "2024-06-14T14:33:37.414975",
     "status": "completed"
    },
    "tags": []
   },
   "source": [
    "## Calculate the residuals"
   ]
  },
  {
   "cell_type": "code",
   "execution_count": 7,
   "id": "43411a84",
   "metadata": {
    "execution": {
     "iopub.execute_input": "2024-06-14T14:33:37.438265Z",
     "iopub.status.busy": "2024-06-14T14:33:37.436821Z",
     "iopub.status.idle": "2024-06-14T14:33:37.448077Z",
     "shell.execute_reply": "2024-06-14T14:33:37.446447Z"
    },
    "papermill": {
     "duration": 0.022362,
     "end_time": "2024-06-14T14:33:37.450796",
     "exception": false,
     "start_time": "2024-06-14T14:33:37.428434",
     "status": "completed"
    },
    "tags": []
   },
   "outputs": [
    {
     "name": "stdout",
     "output_type": "stream",
     "text": [
      "Residuals:\n",
      " status          0.0        1.0\n",
      "lnpos_YN                      \n",
      "No        13.416736 -13.416736\n",
      "Yes      -13.416736  13.416736\n"
     ]
    }
   ],
   "source": [
    "# Calculate the residuals\n",
    "residuals = (contingency_table - expected)\n",
    "print(\"Residuals:\\n\", residuals)"
   ]
  },
  {
   "cell_type": "markdown",
   "id": "0c5c6ba2",
   "metadata": {
    "papermill": {
     "duration": 0.007166,
     "end_time": "2024-06-14T14:33:37.464730",
     "exception": false,
     "start_time": "2024-06-14T14:33:37.457564",
     "status": "completed"
    },
    "tags": []
   },
   "source": [
    "## Interpreting the Residuals\n",
    "\n",
    "Residuals show the difference between observed and expected frequencies, standardized by the expected frequency. Large residuals indicate cells that contribute significantly to the Chi-Square statistic.\n"
   ]
  },
  {
   "cell_type": "markdown",
   "id": "163a4164",
   "metadata": {
    "papermill": {
     "duration": 0.006918,
     "end_time": "2024-06-14T14:33:37.478679",
     "exception": false,
     "start_time": "2024-06-14T14:33:37.471761",
     "status": "completed"
    },
    "tags": []
   },
   "source": [
    "## Calculating the Odds Ratio\n",
    "\n",
    "The odds ratio will provide a measure of association between the two categorical variables. Note that the odds ratio is only appropriate for 2x2 tables.\n"
   ]
  },
  {
   "cell_type": "code",
   "execution_count": 8,
   "id": "02ace1dc",
   "metadata": {
    "execution": {
     "iopub.execute_input": "2024-06-14T14:33:37.494781Z",
     "iopub.status.busy": "2024-06-14T14:33:37.494359Z",
     "iopub.status.idle": "2024-06-14T14:33:37.503554Z",
     "shell.execute_reply": "2024-06-14T14:33:37.501969Z"
    },
    "papermill": {
     "duration": 0.021085,
     "end_time": "2024-06-14T14:33:37.506941",
     "exception": false,
     "start_time": "2024-06-14T14:33:37.485856",
     "status": "completed"
    },
    "tags": []
   },
   "outputs": [
    {
     "name": "stdout",
     "output_type": "stream",
     "text": [
      "Odds Ratio: 2.55\n"
     ]
    }
   ],
   "source": [
    "# Check if the table is 2x2\n",
    "if contingency_table.shape == (2, 2):\n",
    "    # Extract values from the contingency table\n",
    "    a = contingency_table.iloc[0, 0]\n",
    "    b = contingency_table.iloc[0, 1]\n",
    "    c = contingency_table.iloc[1, 0]\n",
    "    d = contingency_table.iloc[1, 1]\n",
    "    \n",
    "    # Calculate the Odds Ratio\n",
    "    odds_ratio = (a / b) / (c / d)\n",
    "    print(f\"Odds Ratio: {odds_ratio:.2f}\")\n",
    "else:\n",
    "    print(\"Odds Ratio calculation is only applicable for 2x2 tables.\")\n"
   ]
  },
  {
   "cell_type": "markdown",
   "id": "150b8671",
   "metadata": {
    "papermill": {
     "duration": 0.006715,
     "end_time": "2024-06-14T14:33:37.520642",
     "exception": false,
     "start_time": "2024-06-14T14:33:37.513927",
     "status": "completed"
    },
    "tags": []
   },
   "source": [
    "## Interpreting the Results\n",
    "\n",
    "- **Residuals**: Standardized differences between observed and expected frequencies.\n",
    "- **Odds Ratio**: Measure of association between the two variables, applicable for 2x2 tables.\n",
    "\n",
    "If the p-value is less than our significance level (typically 0.05), we reject the null hypothesis and conclude that there is a significant association between `lnpos_YN` and `status`.\n"
   ]
  },
  {
   "cell_type": "code",
   "execution_count": null,
   "id": "33d458c1",
   "metadata": {
    "papermill": {
     "duration": 0.007182,
     "end_time": "2024-06-14T14:33:37.535472",
     "exception": false,
     "start_time": "2024-06-14T14:33:37.528290",
     "status": "completed"
    },
    "tags": []
   },
   "outputs": [],
   "source": []
  }
 ],
 "metadata": {
  "kaggle": {
   "accelerator": "none",
   "dataSources": [
    {
     "datasetId": 5211930,
     "sourceId": 8691661,
     "sourceType": "datasetVersion"
    }
   ],
   "dockerImageVersionId": 30732,
   "isGpuEnabled": false,
   "isInternetEnabled": true,
   "language": "python",
   "sourceType": "notebook"
  },
  "kernelspec": {
   "display_name": "Python 3",
   "language": "python",
   "name": "python3"
  },
  "language_info": {
   "codemirror_mode": {
    "name": "ipython",
    "version": 3
   },
   "file_extension": ".py",
   "mimetype": "text/x-python",
   "name": "python",
   "nbconvert_exporter": "python",
   "pygments_lexer": "ipython3",
   "version": "3.10.13"
  },
  "papermill": {
   "default_parameters": {},
   "duration": 7.200574,
   "end_time": "2024-06-14T14:33:38.367248",
   "environment_variables": {},
   "exception": null,
   "input_path": "__notebook__.ipynb",
   "output_path": "__notebook__.ipynb",
   "parameters": {},
   "start_time": "2024-06-14T14:33:31.166674",
   "version": "2.5.0"
  }
 },
 "nbformat": 4,
 "nbformat_minor": 5
}
