{
 "cells": [
  {
   "cell_type": "markdown",
   "id": "c41a7ddc",
   "metadata": {
    "papermill": {
     "duration": 0.006493,
     "end_time": "2024-05-23T10:54:23.921633",
     "exception": false,
     "start_time": "2024-05-23T10:54:23.915140",
     "status": "completed"
    },
    "tags": []
   },
   "source": [
    "# Introduction\n",
    "Welcome to this detailed analysis where we explore a dataset focused on breast cancer survival rates. The goal is to provide a comprehensive understanding of the data through descriptive statistics, enhancing our knowledge about key factors influencing survival."
   ]
  },
  {
   "cell_type": "markdown",
   "id": "a2c3205d",
   "metadata": {
    "papermill": {
     "duration": 0.005413,
     "end_time": "2024-05-23T10:54:23.933186",
     "exception": false,
     "start_time": "2024-05-23T10:54:23.927773",
     "status": "completed"
    },
    "tags": []
   },
   "source": [
    "# Objective\n",
    "Our primary objective is to use descriptive statistics to summarize and understand the data's behavior, which will assist in further analyses like predictive modeling or hypotheses testing."
   ]
  },
  {
   "cell_type": "markdown",
   "id": "aa9b8357",
   "metadata": {
    "papermill": {
     "duration": 0.005448,
     "end_time": "2024-05-23T10:54:23.944417",
     "exception": false,
     "start_time": "2024-05-23T10:54:23.938969",
     "status": "completed"
    },
    "tags": []
   },
   "source": [
    "# Data Description\n",
    "The dataset comes from a .sav file, commonly used in SPSS software, containing a mix of clinical and demographic variables related to breast cancer patients."
   ]
  },
  {
   "cell_type": "code",
   "execution_count": 1,
   "id": "0cf60131",
   "metadata": {
    "execution": {
     "iopub.execute_input": "2024-05-23T10:54:23.959588Z",
     "iopub.status.busy": "2024-05-23T10:54:23.957948Z",
     "iopub.status.idle": "2024-05-23T10:54:42.034038Z",
     "shell.execute_reply": "2024-05-23T10:54:42.032713Z"
    },
    "papermill": {
     "duration": 18.087333,
     "end_time": "2024-05-23T10:54:42.037523",
     "exception": false,
     "start_time": "2024-05-23T10:54:23.950190",
     "status": "completed"
    },
    "tags": []
   },
   "outputs": [
    {
     "name": "stdout",
     "output_type": "stream",
     "text": [
      "Collecting pyreadstat\r\n",
      "  Downloading pyreadstat-1.2.7-cp310-cp310-manylinux_2_17_x86_64.manylinux2014_x86_64.whl.metadata (1.0 kB)\r\n",
      "Requirement already satisfied: pandas>=1.2.0 in /opt/conda/lib/python3.10/site-packages (from pyreadstat) (2.2.2)\r\n",
      "Requirement already satisfied: numpy>=1.22.4 in /opt/conda/lib/python3.10/site-packages (from pandas>=1.2.0->pyreadstat) (1.26.4)\r\n",
      "Requirement already satisfied: python-dateutil>=2.8.2 in /opt/conda/lib/python3.10/site-packages (from pandas>=1.2.0->pyreadstat) (2.9.0.post0)\r\n",
      "Requirement already satisfied: pytz>=2020.1 in /opt/conda/lib/python3.10/site-packages (from pandas>=1.2.0->pyreadstat) (2023.3.post1)\r\n",
      "Requirement already satisfied: tzdata>=2022.7 in /opt/conda/lib/python3.10/site-packages (from pandas>=1.2.0->pyreadstat) (2023.4)\r\n",
      "Requirement already satisfied: six>=1.5 in /opt/conda/lib/python3.10/site-packages (from python-dateutil>=2.8.2->pandas>=1.2.0->pyreadstat) (1.16.0)\r\n",
      "Downloading pyreadstat-1.2.7-cp310-cp310-manylinux_2_17_x86_64.manylinux2014_x86_64.whl (2.8 MB)\r\n",
      "\u001b[2K   \u001b[90m━━━━━━━━━━━━━━━━━━━━━━━━━━━━━━━━━━━━━━━━\u001b[0m \u001b[32m2.8/2.8 MB\u001b[0m \u001b[31m31.2 MB/s\u001b[0m eta \u001b[36m0:00:00\u001b[0m\r\n",
      "\u001b[?25hInstalling collected packages: pyreadstat\r\n",
      "Successfully installed pyreadstat-1.2.7\r\n"
     ]
    }
   ],
   "source": [
    "!pip install pyreadstat"
   ]
  },
  {
   "cell_type": "markdown",
   "id": "0afb7dcb",
   "metadata": {
    "papermill": {
     "duration": 0.00662,
     "end_time": "2024-05-23T10:54:42.051415",
     "exception": false,
     "start_time": "2024-05-23T10:54:42.044795",
     "status": "completed"
    },
    "tags": []
   },
   "source": [
    "# Load the Dataset\n",
    "Now, we will load the dataset from the SPSS file and inspect the initial few entries to understand the structure."
   ]
  },
  {
   "cell_type": "code",
   "execution_count": 2,
   "id": "33d8ff6a",
   "metadata": {
    "execution": {
     "iopub.execute_input": "2024-05-23T10:54:42.068020Z",
     "iopub.status.busy": "2024-05-23T10:54:42.067525Z",
     "iopub.status.idle": "2024-05-23T10:54:43.189415Z",
     "shell.execute_reply": "2024-05-23T10:54:43.187608Z"
    },
    "papermill": {
     "duration": 1.133974,
     "end_time": "2024-05-23T10:54:43.192571",
     "exception": false,
     "start_time": "2024-05-23T10:54:42.058597",
     "status": "completed"
    },
    "tags": []
   },
   "outputs": [],
   "source": [
    "# Import necessary libraries\n",
    "import pandas as pd\n",
    "import pyreadstat  # To read SPSS files\n",
    "import numpy as np"
   ]
  },
  {
   "cell_type": "code",
   "execution_count": 3,
   "id": "207020f4",
   "metadata": {
    "execution": {
     "iopub.execute_input": "2024-05-23T10:54:43.208593Z",
     "iopub.status.busy": "2024-05-23T10:54:43.207911Z",
     "iopub.status.idle": "2024-05-23T10:54:43.258943Z",
     "shell.execute_reply": "2024-05-23T10:54:43.257507Z"
    },
    "papermill": {
     "duration": 0.062481,
     "end_time": "2024-05-23T10:54:43.261989",
     "exception": false,
     "start_time": "2024-05-23T10:54:43.199508",
     "status": "completed"
    },
    "scrolled": true,
    "tags": []
   },
   "outputs": [
    {
     "name": "stdout",
     "output_type": "stream",
     "text": [
      "    id   age  pathsize  lnpos  histgrad   er   pr  status       time\n",
      "0  1.0  60.0       NaN    0.0       3.0  0.0  0.0     0.0   9.466667\n",
      "1  2.0  79.0       NaN    0.0       NaN  NaN  NaN     0.0   8.600000\n",
      "2  3.0  82.0       NaN    0.0       2.0  NaN  NaN     0.0  19.333333\n",
      "3  4.0  66.0       NaN    0.0       2.0  1.0  1.0     0.0  16.333333\n",
      "4  5.0  52.0       NaN    0.0       3.0  NaN  NaN     0.0   8.500000\n",
      "{'histgrad': {4.0: 'Unknown'}, 'er': {0.0: 'Negative', 1.0: 'Positive', 2.0: 'Unknown'}, 'pr': {0.0: 'Negative', 1.0: 'Positive', 2.0: 'Unknown'}, 'status': {0.0: 'Censored', 1.0: 'Died'}}\n"
     ]
    }
   ],
   "source": [
    "# Load the data\n",
    "df, meta = pyreadstat.read_sav('/kaggle/input/breast-cancer-dataset/Breast cancer survival.sav')\n",
    "\n",
    "# Display the first few rows to understand the data\n",
    "print(df.head())\n",
    "\n",
    "# Check metadata for any additional insights into variable labels\n",
    "print(meta.variable_value_labels)"
   ]
  },
  {
   "cell_type": "code",
   "execution_count": 4,
   "id": "ff590add",
   "metadata": {
    "execution": {
     "iopub.execute_input": "2024-05-23T10:54:43.277706Z",
     "iopub.status.busy": "2024-05-23T10:54:43.277186Z",
     "iopub.status.idle": "2024-05-23T10:54:43.329960Z",
     "shell.execute_reply": "2024-05-23T10:54:43.328562Z"
    },
    "papermill": {
     "duration": 0.064961,
     "end_time": "2024-05-23T10:54:43.333598",
     "exception": false,
     "start_time": "2024-05-23T10:54:43.268637",
     "status": "completed"
    },
    "tags": []
   },
   "outputs": [
    {
     "data": {
      "text/html": [
       "<div>\n",
       "<style scoped>\n",
       "    .dataframe tbody tr th:only-of-type {\n",
       "        vertical-align: middle;\n",
       "    }\n",
       "\n",
       "    .dataframe tbody tr th {\n",
       "        vertical-align: top;\n",
       "    }\n",
       "\n",
       "    .dataframe thead th {\n",
       "        text-align: right;\n",
       "    }\n",
       "</style>\n",
       "<table border=\"1\" class=\"dataframe\">\n",
       "  <thead>\n",
       "    <tr style=\"text-align: right;\">\n",
       "      <th></th>\n",
       "      <th>id</th>\n",
       "      <th>age</th>\n",
       "      <th>pathsize</th>\n",
       "      <th>lnpos</th>\n",
       "      <th>histgrad</th>\n",
       "      <th>er</th>\n",
       "      <th>pr</th>\n",
       "      <th>status</th>\n",
       "      <th>time</th>\n",
       "    </tr>\n",
       "  </thead>\n",
       "  <tbody>\n",
       "    <tr>\n",
       "      <th>count</th>\n",
       "      <td>1207.000000</td>\n",
       "      <td>1207.000000</td>\n",
       "      <td>1121.000000</td>\n",
       "      <td>1207.000000</td>\n",
       "      <td>920.000000</td>\n",
       "      <td>869.000000</td>\n",
       "      <td>851.000000</td>\n",
       "      <td>1207.000000</td>\n",
       "      <td>1207.000000</td>\n",
       "    </tr>\n",
       "    <tr>\n",
       "      <th>mean</th>\n",
       "      <td>621.072080</td>\n",
       "      <td>56.387738</td>\n",
       "      <td>1.733488</td>\n",
       "      <td>0.880696</td>\n",
       "      <td>2.269565</td>\n",
       "      <td>0.611047</td>\n",
       "      <td>0.542891</td>\n",
       "      <td>0.059652</td>\n",
       "      <td>46.956476</td>\n",
       "    </tr>\n",
       "    <tr>\n",
       "      <th>std</th>\n",
       "      <td>359.623207</td>\n",
       "      <td>13.327627</td>\n",
       "      <td>0.995857</td>\n",
       "      <td>2.535457</td>\n",
       "      <td>0.607487</td>\n",
       "      <td>0.487793</td>\n",
       "      <td>0.498450</td>\n",
       "      <td>0.236939</td>\n",
       "      <td>29.638977</td>\n",
       "    </tr>\n",
       "    <tr>\n",
       "      <th>min</th>\n",
       "      <td>1.000000</td>\n",
       "      <td>22.000000</td>\n",
       "      <td>0.100000</td>\n",
       "      <td>0.000000</td>\n",
       "      <td>1.000000</td>\n",
       "      <td>0.000000</td>\n",
       "      <td>0.000000</td>\n",
       "      <td>0.000000</td>\n",
       "      <td>2.633333</td>\n",
       "    </tr>\n",
       "    <tr>\n",
       "      <th>25%</th>\n",
       "      <td>310.500000</td>\n",
       "      <td>46.000000</td>\n",
       "      <td>1.000000</td>\n",
       "      <td>0.000000</td>\n",
       "      <td>2.000000</td>\n",
       "      <td>0.000000</td>\n",
       "      <td>0.000000</td>\n",
       "      <td>0.000000</td>\n",
       "      <td>22.550000</td>\n",
       "    </tr>\n",
       "    <tr>\n",
       "      <th>50%</th>\n",
       "      <td>619.000000</td>\n",
       "      <td>56.000000</td>\n",
       "      <td>1.500000</td>\n",
       "      <td>0.000000</td>\n",
       "      <td>2.000000</td>\n",
       "      <td>1.000000</td>\n",
       "      <td>1.000000</td>\n",
       "      <td>0.000000</td>\n",
       "      <td>42.966667</td>\n",
       "    </tr>\n",
       "    <tr>\n",
       "      <th>75%</th>\n",
       "      <td>931.500000</td>\n",
       "      <td>66.500000</td>\n",
       "      <td>2.200000</td>\n",
       "      <td>0.000000</td>\n",
       "      <td>3.000000</td>\n",
       "      <td>1.000000</td>\n",
       "      <td>1.000000</td>\n",
       "      <td>0.000000</td>\n",
       "      <td>65.583333</td>\n",
       "    </tr>\n",
       "    <tr>\n",
       "      <th>max</th>\n",
       "      <td>1266.000000</td>\n",
       "      <td>88.000000</td>\n",
       "      <td>7.000000</td>\n",
       "      <td>35.000000</td>\n",
       "      <td>3.000000</td>\n",
       "      <td>1.000000</td>\n",
       "      <td>1.000000</td>\n",
       "      <td>1.000000</td>\n",
       "      <td>133.800000</td>\n",
       "    </tr>\n",
       "  </tbody>\n",
       "</table>\n",
       "</div>"
      ],
      "text/plain": [
       "                id          age     pathsize        lnpos    histgrad  \\\n",
       "count  1207.000000  1207.000000  1121.000000  1207.000000  920.000000   \n",
       "mean    621.072080    56.387738     1.733488     0.880696    2.269565   \n",
       "std     359.623207    13.327627     0.995857     2.535457    0.607487   \n",
       "min       1.000000    22.000000     0.100000     0.000000    1.000000   \n",
       "25%     310.500000    46.000000     1.000000     0.000000    2.000000   \n",
       "50%     619.000000    56.000000     1.500000     0.000000    2.000000   \n",
       "75%     931.500000    66.500000     2.200000     0.000000    3.000000   \n",
       "max    1266.000000    88.000000     7.000000    35.000000    3.000000   \n",
       "\n",
       "               er          pr       status         time  \n",
       "count  869.000000  851.000000  1207.000000  1207.000000  \n",
       "mean     0.611047    0.542891     0.059652    46.956476  \n",
       "std      0.487793    0.498450     0.236939    29.638977  \n",
       "min      0.000000    0.000000     0.000000     2.633333  \n",
       "25%      0.000000    0.000000     0.000000    22.550000  \n",
       "50%      1.000000    1.000000     0.000000    42.966667  \n",
       "75%      1.000000    1.000000     0.000000    65.583333  \n",
       "max      1.000000    1.000000     1.000000   133.800000  "
      ]
     },
     "execution_count": 4,
     "metadata": {},
     "output_type": "execute_result"
    }
   ],
   "source": [
    "df.describe()"
   ]
  },
  {
   "cell_type": "code",
   "execution_count": 5,
   "id": "a371bcf0",
   "metadata": {
    "execution": {
     "iopub.execute_input": "2024-05-23T10:54:43.349739Z",
     "iopub.status.busy": "2024-05-23T10:54:43.349275Z",
     "iopub.status.idle": "2024-05-23T10:54:43.375834Z",
     "shell.execute_reply": "2024-05-23T10:54:43.374193Z"
    },
    "papermill": {
     "duration": 0.038656,
     "end_time": "2024-05-23T10:54:43.379168",
     "exception": false,
     "start_time": "2024-05-23T10:54:43.340512",
     "status": "completed"
    },
    "tags": []
   },
   "outputs": [
    {
     "name": "stdout",
     "output_type": "stream",
     "text": [
      "<class 'pandas.core.frame.DataFrame'>\n",
      "RangeIndex: 1207 entries, 0 to 1206\n",
      "Data columns (total 9 columns):\n",
      " #   Column    Non-Null Count  Dtype  \n",
      "---  ------    --------------  -----  \n",
      " 0   id        1207 non-null   float64\n",
      " 1   age       1207 non-null   float64\n",
      " 2   pathsize  1121 non-null   float64\n",
      " 3   lnpos     1207 non-null   float64\n",
      " 4   histgrad  920 non-null    float64\n",
      " 5   er        869 non-null    float64\n",
      " 6   pr        851 non-null    float64\n",
      " 7   status    1207 non-null   float64\n",
      " 8   time      1207 non-null   float64\n",
      "dtypes: float64(9)\n",
      "memory usage: 85.0 KB\n"
     ]
    }
   ],
   "source": [
    "df.info()"
   ]
  },
  {
   "cell_type": "markdown",
   "id": "88fdfb24",
   "metadata": {
    "papermill": {
     "duration": 0.006797,
     "end_time": "2024-05-23T10:54:43.393903",
     "exception": false,
     "start_time": "2024-05-23T10:54:43.387106",
     "status": "completed"
    },
    "tags": []
   },
   "source": [
    "**Identifying Categorical Variables**\n",
    "histgrad\n",
    "Based on the data inspection, we identified four categorical columns: 'histgrad', 'er', 'pr', and 'status'. These columns contain categorical data that need to be converted into a format suitable for analysis and modeling."
   ]
  },
  {
   "cell_type": "code",
   "execution_count": 6,
   "id": "c7cb40c1",
   "metadata": {
    "execution": {
     "iopub.execute_input": "2024-05-23T10:54:43.411019Z",
     "iopub.status.busy": "2024-05-23T10:54:43.409819Z",
     "iopub.status.idle": "2024-05-23T10:54:43.427037Z",
     "shell.execute_reply": "2024-05-23T10:54:43.426137Z"
    },
    "papermill": {
     "duration": 0.029175,
     "end_time": "2024-05-23T10:54:43.430184",
     "exception": false,
     "start_time": "2024-05-23T10:54:43.401009",
     "status": "completed"
    },
    "tags": []
   },
   "outputs": [],
   "source": [
    "# List of categorical columns\n",
    "categorical_columns = ['histgrad', 'er', 'pr', 'status']\n",
    "\n",
    "# Using a for loop to convert columns to string type\n",
    "for col in categorical_columns:\n",
    "    df[col] = df[col].astype(str).replace('nan',np.nan)\n",
    "    \n",
    "# in the \"histgrad\" column by converting them from 'nan' (string) to np.nan (actual NaN object). \n",
    "# this ensures that these values are treated appropriately in analyses as missing data rather than as a category. "
   ]
  },
  {
   "cell_type": "code",
   "execution_count": 7,
   "id": "94b8a3e3",
   "metadata": {
    "execution": {
     "iopub.execute_input": "2024-05-23T10:54:43.447379Z",
     "iopub.status.busy": "2024-05-23T10:54:43.446599Z",
     "iopub.status.idle": "2024-05-23T10:54:43.453961Z",
     "shell.execute_reply": "2024-05-23T10:54:43.452327Z"
    },
    "papermill": {
     "duration": 0.019009,
     "end_time": "2024-05-23T10:54:43.456647",
     "exception": false,
     "start_time": "2024-05-23T10:54:43.437638",
     "status": "completed"
    },
    "tags": []
   },
   "outputs": [
    {
     "name": "stdout",
     "output_type": "stream",
     "text": [
      "id          float64\n",
      "age         float64\n",
      "pathsize    float64\n",
      "lnpos       float64\n",
      "histgrad     object\n",
      "er           object\n",
      "pr           object\n",
      "status       object\n",
      "time        float64\n",
      "dtype: object\n"
     ]
    }
   ],
   "source": [
    "# Display the updated data types to confirm the changes\n",
    "print(df.dtypes)"
   ]
  },
  {
   "cell_type": "code",
   "execution_count": 8,
   "id": "1f287dee",
   "metadata": {
    "execution": {
     "iopub.execute_input": "2024-05-23T10:54:43.473529Z",
     "iopub.status.busy": "2024-05-23T10:54:43.473049Z",
     "iopub.status.idle": "2024-05-23T10:54:43.488353Z",
     "shell.execute_reply": "2024-05-23T10:54:43.486651Z"
    },
    "papermill": {
     "duration": 0.027555,
     "end_time": "2024-05-23T10:54:43.491738",
     "exception": false,
     "start_time": "2024-05-23T10:54:43.464183",
     "status": "completed"
    },
    "tags": []
   },
   "outputs": [
    {
     "name": "stdout",
     "output_type": "stream",
     "text": [
      "<class 'pandas.core.frame.DataFrame'>\n",
      "RangeIndex: 1207 entries, 0 to 1206\n",
      "Data columns (total 9 columns):\n",
      " #   Column    Non-Null Count  Dtype  \n",
      "---  ------    --------------  -----  \n",
      " 0   id        1207 non-null   float64\n",
      " 1   age       1207 non-null   float64\n",
      " 2   pathsize  1121 non-null   float64\n",
      " 3   lnpos     1207 non-null   float64\n",
      " 4   histgrad  920 non-null    object \n",
      " 5   er        869 non-null    object \n",
      " 6   pr        851 non-null    object \n",
      " 7   status    1207 non-null   object \n",
      " 8   time      1207 non-null   float64\n",
      "dtypes: float64(5), object(4)\n",
      "memory usage: 85.0+ KB\n"
     ]
    }
   ],
   "source": [
    "df.info()"
   ]
  },
  {
   "cell_type": "code",
   "execution_count": 9,
   "id": "088ccd2f",
   "metadata": {
    "execution": {
     "iopub.execute_input": "2024-05-23T10:54:43.510778Z",
     "iopub.status.busy": "2024-05-23T10:54:43.510328Z",
     "iopub.status.idle": "2024-05-23T10:54:43.516389Z",
     "shell.execute_reply": "2024-05-23T10:54:43.514882Z"
    },
    "papermill": {
     "duration": 0.018202,
     "end_time": "2024-05-23T10:54:43.519049",
     "exception": false,
     "start_time": "2024-05-23T10:54:43.500847",
     "status": "completed"
    },
    "tags": []
   },
   "outputs": [],
   "source": [
    "categorical_columns = ['histgrad', 'er', 'pr', 'status']\n",
    "continuous_columns = ['age', 'pathsize', 'lnpos', 'time']"
   ]
  },
  {
   "cell_type": "code",
   "execution_count": 10,
   "id": "36bc9dcf",
   "metadata": {
    "execution": {
     "iopub.execute_input": "2024-05-23T10:54:43.536948Z",
     "iopub.status.busy": "2024-05-23T10:54:43.536472Z",
     "iopub.status.idle": "2024-05-23T10:54:43.550752Z",
     "shell.execute_reply": "2024-05-23T10:54:43.549390Z"
    },
    "papermill": {
     "duration": 0.027421,
     "end_time": "2024-05-23T10:54:43.554232",
     "exception": false,
     "start_time": "2024-05-23T10:54:43.526811",
     "status": "completed"
    },
    "tags": []
   },
   "outputs": [
    {
     "name": "stdout",
     "output_type": "stream",
     "text": [
      "Frequency table for histgrad:\n",
      "histgrad\n",
      "2.0    514\n",
      "3.0    327\n",
      "1.0     79\n",
      "Name: count, dtype: int64\n",
      "\n",
      "Mode for histgrad: 2.0\n",
      "\n",
      "************************************************************\n",
      "Frequency table for er:\n",
      "er\n",
      "1.0    531\n",
      "0.0    338\n",
      "Name: count, dtype: int64\n",
      "\n",
      "Mode for er: 1.0\n",
      "\n",
      "************************************************************\n",
      "Frequency table for pr:\n",
      "pr\n",
      "1.0    462\n",
      "0.0    389\n",
      "Name: count, dtype: int64\n",
      "\n",
      "Mode for pr: 1.0\n",
      "\n",
      "************************************************************\n",
      "Frequency table for status:\n",
      "status\n",
      "0.0    1135\n",
      "1.0      72\n",
      "Name: count, dtype: int64\n",
      "\n",
      "Mode for status: 0.0\n",
      "\n",
      "************************************************************\n"
     ]
    }
   ],
   "source": [
    "# Generate frequency tables and find the mode for each categorical column\n",
    "for col in ['histgrad', 'er', 'pr', 'status']:\n",
    "    frequency_table = df[col].value_counts()\n",
    "    mode_value = df[col].mode()[0]\n",
    "    print(f\"Frequency table for {col}:\\n{frequency_table}\\n\")\n",
    "    print(f\"Mode for {col}: {mode_value}\\n\")\n",
    "    print('**'*30)"
   ]
  },
  {
   "cell_type": "code",
   "execution_count": null,
   "id": "1a3862ad",
   "metadata": {
    "papermill": {
     "duration": 0.007425,
     "end_time": "2024-05-23T10:54:43.569722",
     "exception": false,
     "start_time": "2024-05-23T10:54:43.562297",
     "status": "completed"
    },
    "tags": []
   },
   "outputs": [],
   "source": []
  }
 ],
 "metadata": {
  "kaggle": {
   "accelerator": "none",
   "dataSources": [
    {
     "datasetId": 5068127,
     "sourceId": 8494116,
     "sourceType": "datasetVersion"
    }
   ],
   "dockerImageVersionId": 30698,
   "isGpuEnabled": false,
   "isInternetEnabled": true,
   "language": "python",
   "sourceType": "notebook"
  },
  "kernelspec": {
   "display_name": "Python 3",
   "language": "python",
   "name": "python3"
  },
  "language_info": {
   "codemirror_mode": {
    "name": "ipython",
    "version": 3
   },
   "file_extension": ".py",
   "mimetype": "text/x-python",
   "name": "python",
   "nbconvert_exporter": "python",
   "pygments_lexer": "ipython3",
   "version": "3.10.13"
  },
  "papermill": {
   "default_parameters": {},
   "duration": 23.746742,
   "end_time": "2024-05-23T10:54:44.202461",
   "environment_variables": {},
   "exception": null,
   "input_path": "__notebook__.ipynb",
   "output_path": "__notebook__.ipynb",
   "parameters": {},
   "start_time": "2024-05-23T10:54:20.455719",
   "version": "2.5.0"
  }
 },
 "nbformat": 4,
 "nbformat_minor": 5
}
