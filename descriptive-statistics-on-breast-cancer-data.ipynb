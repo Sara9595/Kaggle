{
 "cells": [
  {
   "cell_type": "markdown",
   "id": "b3b019dd",
   "metadata": {
    "papermill": {
     "duration": 0.005616,
     "end_time": "2024-05-23T15:07:42.664076",
     "exception": false,
     "start_time": "2024-05-23T15:07:42.658460",
     "status": "completed"
    },
    "tags": []
   },
   "source": [
    "# Introduction\n",
    "Welcome to this detailed analysis where we explore a dataset focused on breast cancer survival rates. The goal is to provide a comprehensive understanding of the data through descriptive statistics, enhancing our knowledge about key factors influencing survival."
   ]
  },
  {
   "cell_type": "markdown",
   "id": "2718fb01",
   "metadata": {
    "papermill": {
     "duration": 0.00455,
     "end_time": "2024-05-23T15:07:42.674268",
     "exception": false,
     "start_time": "2024-05-23T15:07:42.669718",
     "status": "completed"
    },
    "tags": []
   },
   "source": [
    "# Objective\n",
    "Our primary objective is to use descriptive statistics to summarize and understand the data's behavior, which will assist in further analyses like predictive modeling or hypotheses testing."
   ]
  },
  {
   "cell_type": "markdown",
   "id": "d257e7aa",
   "metadata": {
    "papermill": {
     "duration": 0.004439,
     "end_time": "2024-05-23T15:07:42.683599",
     "exception": false,
     "start_time": "2024-05-23T15:07:42.679160",
     "status": "completed"
    },
    "tags": []
   },
   "source": [
    "# Data Description\n",
    "The dataset comes from a .sav file, commonly used in SPSS software, containing a mix of clinical and demographic variables related to breast cancer patients."
   ]
  },
  {
   "cell_type": "code",
   "execution_count": 1,
   "id": "4752d4ef",
   "metadata": {
    "execution": {
     "iopub.execute_input": "2024-05-23T15:07:42.695309Z",
     "iopub.status.busy": "2024-05-23T15:07:42.694656Z",
     "iopub.status.idle": "2024-05-23T15:07:57.274274Z",
     "shell.execute_reply": "2024-05-23T15:07:57.272793Z"
    },
    "papermill": {
     "duration": 14.58885,
     "end_time": "2024-05-23T15:07:57.277188",
     "exception": false,
     "start_time": "2024-05-23T15:07:42.688338",
     "status": "completed"
    },
    "tags": []
   },
   "outputs": [
    {
     "name": "stdout",
     "output_type": "stream",
     "text": [
      "Collecting pyreadstat\r\n",
      "  Downloading pyreadstat-1.2.7-cp310-cp310-manylinux_2_17_x86_64.manylinux2014_x86_64.whl.metadata (1.0 kB)\r\n",
      "Requirement already satisfied: pandas>=1.2.0 in /opt/conda/lib/python3.10/site-packages (from pyreadstat) (2.2.2)\r\n",
      "Requirement already satisfied: numpy>=1.22.4 in /opt/conda/lib/python3.10/site-packages (from pandas>=1.2.0->pyreadstat) (1.26.4)\r\n",
      "Requirement already satisfied: python-dateutil>=2.8.2 in /opt/conda/lib/python3.10/site-packages (from pandas>=1.2.0->pyreadstat) (2.9.0.post0)\r\n",
      "Requirement already satisfied: pytz>=2020.1 in /opt/conda/lib/python3.10/site-packages (from pandas>=1.2.0->pyreadstat) (2023.3.post1)\r\n",
      "Requirement already satisfied: tzdata>=2022.7 in /opt/conda/lib/python3.10/site-packages (from pandas>=1.2.0->pyreadstat) (2023.4)\r\n",
      "Requirement already satisfied: six>=1.5 in /opt/conda/lib/python3.10/site-packages (from python-dateutil>=2.8.2->pandas>=1.2.0->pyreadstat) (1.16.0)\r\n",
      "Downloading pyreadstat-1.2.7-cp310-cp310-manylinux_2_17_x86_64.manylinux2014_x86_64.whl (2.8 MB)\r\n",
      "\u001b[2K   \u001b[90m━━━━━━━━━━━━━━━━━━━━━━━━━━━━━━━━━━━━━━━━\u001b[0m \u001b[32m2.8/2.8 MB\u001b[0m \u001b[31m26.4 MB/s\u001b[0m eta \u001b[36m0:00:00\u001b[0m\r\n",
      "\u001b[?25hInstalling collected packages: pyreadstat\r\n",
      "Successfully installed pyreadstat-1.2.7\r\n"
     ]
    }
   ],
   "source": [
    "!pip install pyreadstat"
   ]
  },
  {
   "cell_type": "markdown",
   "id": "24f3115c",
   "metadata": {
    "papermill": {
     "duration": 0.005174,
     "end_time": "2024-05-23T15:07:57.288001",
     "exception": false,
     "start_time": "2024-05-23T15:07:57.282827",
     "status": "completed"
    },
    "tags": []
   },
   "source": [
    "# Load the Dataset\n",
    "Now, we will load the dataset from the SPSS file and inspect the initial few entries to understand the structure."
   ]
  },
  {
   "cell_type": "code",
   "execution_count": 2,
   "id": "e45adb98",
   "metadata": {
    "execution": {
     "iopub.execute_input": "2024-05-23T15:07:57.301730Z",
     "iopub.status.busy": "2024-05-23T15:07:57.300694Z",
     "iopub.status.idle": "2024-05-23T15:07:59.757615Z",
     "shell.execute_reply": "2024-05-23T15:07:59.756429Z"
    },
    "papermill": {
     "duration": 2.466526,
     "end_time": "2024-05-23T15:07:59.760161",
     "exception": false,
     "start_time": "2024-05-23T15:07:57.293635",
     "status": "completed"
    },
    "tags": []
   },
   "outputs": [],
   "source": [
    "# Import necessary libraries\n",
    "import pandas as pd\n",
    "import pyreadstat  # To read SPSS files\n",
    "import numpy as np\n",
    "from scipy.stats import skew, kurtosis\n",
    "from scipy import stats\n",
    "from scipy.stats import t\n",
    "import matplotlib.pyplot as plt\n",
    "import seaborn as sns"
   ]
  },
  {
   "cell_type": "code",
   "execution_count": 3,
   "id": "3b0e63d1",
   "metadata": {
    "execution": {
     "iopub.execute_input": "2024-05-23T15:07:59.773030Z",
     "iopub.status.busy": "2024-05-23T15:07:59.772520Z",
     "iopub.status.idle": "2024-05-23T15:07:59.818751Z",
     "shell.execute_reply": "2024-05-23T15:07:59.817517Z"
    },
    "papermill": {
     "duration": 0.055565,
     "end_time": "2024-05-23T15:07:59.821295",
     "exception": false,
     "start_time": "2024-05-23T15:07:59.765730",
     "status": "completed"
    },
    "scrolled": true,
    "tags": []
   },
   "outputs": [
    {
     "name": "stdout",
     "output_type": "stream",
     "text": [
      "    id   age  pathsize  lnpos  histgrad   er   pr  status       time\n",
      "0  1.0  60.0       NaN    0.0       3.0  0.0  0.0     0.0   9.466667\n",
      "1  2.0  79.0       NaN    0.0       NaN  NaN  NaN     0.0   8.600000\n",
      "2  3.0  82.0       NaN    0.0       2.0  NaN  NaN     0.0  19.333333\n",
      "3  4.0  66.0       NaN    0.0       2.0  1.0  1.0     0.0  16.333333\n",
      "4  5.0  52.0       NaN    0.0       3.0  NaN  NaN     0.0   8.500000\n",
      "{'histgrad': {4.0: 'Unknown'}, 'er': {0.0: 'Negative', 1.0: 'Positive', 2.0: 'Unknown'}, 'pr': {0.0: 'Negative', 1.0: 'Positive', 2.0: 'Unknown'}, 'status': {0.0: 'Censored', 1.0: 'Died'}}\n"
     ]
    }
   ],
   "source": [
    "# Load the data\n",
    "df, meta = pyreadstat.read_sav('/kaggle/input/breast-cancer-dataset/Breast cancer survival.sav')\n",
    "\n",
    "# Display the first few rows to understand the data\n",
    "print(df.head())\n",
    "\n",
    "# Check metadata for any additional insights into variable labels\n",
    "print(meta.variable_value_labels)"
   ]
  },
  {
   "cell_type": "code",
   "execution_count": 4,
   "id": "c9bee059",
   "metadata": {
    "execution": {
     "iopub.execute_input": "2024-05-23T15:07:59.835384Z",
     "iopub.status.busy": "2024-05-23T15:07:59.834998Z",
     "iopub.status.idle": "2024-05-23T15:07:59.875876Z",
     "shell.execute_reply": "2024-05-23T15:07:59.874569Z"
    },
    "papermill": {
     "duration": 0.05112,
     "end_time": "2024-05-23T15:07:59.878353",
     "exception": false,
     "start_time": "2024-05-23T15:07:59.827233",
     "status": "completed"
    },
    "tags": []
   },
   "outputs": [
    {
     "data": {
      "text/html": [
       "<div>\n",
       "<style scoped>\n",
       "    .dataframe tbody tr th:only-of-type {\n",
       "        vertical-align: middle;\n",
       "    }\n",
       "\n",
       "    .dataframe tbody tr th {\n",
       "        vertical-align: top;\n",
       "    }\n",
       "\n",
       "    .dataframe thead th {\n",
       "        text-align: right;\n",
       "    }\n",
       "</style>\n",
       "<table border=\"1\" class=\"dataframe\">\n",
       "  <thead>\n",
       "    <tr style=\"text-align: right;\">\n",
       "      <th></th>\n",
       "      <th>id</th>\n",
       "      <th>age</th>\n",
       "      <th>pathsize</th>\n",
       "      <th>lnpos</th>\n",
       "      <th>histgrad</th>\n",
       "      <th>er</th>\n",
       "      <th>pr</th>\n",
       "      <th>status</th>\n",
       "      <th>time</th>\n",
       "    </tr>\n",
       "  </thead>\n",
       "  <tbody>\n",
       "    <tr>\n",
       "      <th>count</th>\n",
       "      <td>1207.000000</td>\n",
       "      <td>1207.000000</td>\n",
       "      <td>1121.000000</td>\n",
       "      <td>1207.000000</td>\n",
       "      <td>920.000000</td>\n",
       "      <td>869.000000</td>\n",
       "      <td>851.000000</td>\n",
       "      <td>1207.000000</td>\n",
       "      <td>1207.000000</td>\n",
       "    </tr>\n",
       "    <tr>\n",
       "      <th>mean</th>\n",
       "      <td>621.072080</td>\n",
       "      <td>56.387738</td>\n",
       "      <td>1.733488</td>\n",
       "      <td>0.880696</td>\n",
       "      <td>2.269565</td>\n",
       "      <td>0.611047</td>\n",
       "      <td>0.542891</td>\n",
       "      <td>0.059652</td>\n",
       "      <td>46.956476</td>\n",
       "    </tr>\n",
       "    <tr>\n",
       "      <th>std</th>\n",
       "      <td>359.623207</td>\n",
       "      <td>13.327627</td>\n",
       "      <td>0.995857</td>\n",
       "      <td>2.535457</td>\n",
       "      <td>0.607487</td>\n",
       "      <td>0.487793</td>\n",
       "      <td>0.498450</td>\n",
       "      <td>0.236939</td>\n",
       "      <td>29.638977</td>\n",
       "    </tr>\n",
       "    <tr>\n",
       "      <th>min</th>\n",
       "      <td>1.000000</td>\n",
       "      <td>22.000000</td>\n",
       "      <td>0.100000</td>\n",
       "      <td>0.000000</td>\n",
       "      <td>1.000000</td>\n",
       "      <td>0.000000</td>\n",
       "      <td>0.000000</td>\n",
       "      <td>0.000000</td>\n",
       "      <td>2.633333</td>\n",
       "    </tr>\n",
       "    <tr>\n",
       "      <th>25%</th>\n",
       "      <td>310.500000</td>\n",
       "      <td>46.000000</td>\n",
       "      <td>1.000000</td>\n",
       "      <td>0.000000</td>\n",
       "      <td>2.000000</td>\n",
       "      <td>0.000000</td>\n",
       "      <td>0.000000</td>\n",
       "      <td>0.000000</td>\n",
       "      <td>22.550000</td>\n",
       "    </tr>\n",
       "    <tr>\n",
       "      <th>50%</th>\n",
       "      <td>619.000000</td>\n",
       "      <td>56.000000</td>\n",
       "      <td>1.500000</td>\n",
       "      <td>0.000000</td>\n",
       "      <td>2.000000</td>\n",
       "      <td>1.000000</td>\n",
       "      <td>1.000000</td>\n",
       "      <td>0.000000</td>\n",
       "      <td>42.966667</td>\n",
       "    </tr>\n",
       "    <tr>\n",
       "      <th>75%</th>\n",
       "      <td>931.500000</td>\n",
       "      <td>66.500000</td>\n",
       "      <td>2.200000</td>\n",
       "      <td>0.000000</td>\n",
       "      <td>3.000000</td>\n",
       "      <td>1.000000</td>\n",
       "      <td>1.000000</td>\n",
       "      <td>0.000000</td>\n",
       "      <td>65.583333</td>\n",
       "    </tr>\n",
       "    <tr>\n",
       "      <th>max</th>\n",
       "      <td>1266.000000</td>\n",
       "      <td>88.000000</td>\n",
       "      <td>7.000000</td>\n",
       "      <td>35.000000</td>\n",
       "      <td>3.000000</td>\n",
       "      <td>1.000000</td>\n",
       "      <td>1.000000</td>\n",
       "      <td>1.000000</td>\n",
       "      <td>133.800000</td>\n",
       "    </tr>\n",
       "  </tbody>\n",
       "</table>\n",
       "</div>"
      ],
      "text/plain": [
       "                id          age     pathsize        lnpos    histgrad  \\\n",
       "count  1207.000000  1207.000000  1121.000000  1207.000000  920.000000   \n",
       "mean    621.072080    56.387738     1.733488     0.880696    2.269565   \n",
       "std     359.623207    13.327627     0.995857     2.535457    0.607487   \n",
       "min       1.000000    22.000000     0.100000     0.000000    1.000000   \n",
       "25%     310.500000    46.000000     1.000000     0.000000    2.000000   \n",
       "50%     619.000000    56.000000     1.500000     0.000000    2.000000   \n",
       "75%     931.500000    66.500000     2.200000     0.000000    3.000000   \n",
       "max    1266.000000    88.000000     7.000000    35.000000    3.000000   \n",
       "\n",
       "               er          pr       status         time  \n",
       "count  869.000000  851.000000  1207.000000  1207.000000  \n",
       "mean     0.611047    0.542891     0.059652    46.956476  \n",
       "std      0.487793    0.498450     0.236939    29.638977  \n",
       "min      0.000000    0.000000     0.000000     2.633333  \n",
       "25%      0.000000    0.000000     0.000000    22.550000  \n",
       "50%      1.000000    1.000000     0.000000    42.966667  \n",
       "75%      1.000000    1.000000     0.000000    65.583333  \n",
       "max      1.000000    1.000000     1.000000   133.800000  "
      ]
     },
     "execution_count": 4,
     "metadata": {},
     "output_type": "execute_result"
    }
   ],
   "source": [
    "df.describe()"
   ]
  },
  {
   "cell_type": "code",
   "execution_count": 5,
   "id": "16c8e6f9",
   "metadata": {
    "execution": {
     "iopub.execute_input": "2024-05-23T15:07:59.893226Z",
     "iopub.status.busy": "2024-05-23T15:07:59.892835Z",
     "iopub.status.idle": "2024-05-23T15:07:59.917889Z",
     "shell.execute_reply": "2024-05-23T15:07:59.916253Z"
    },
    "papermill": {
     "duration": 0.035441,
     "end_time": "2024-05-23T15:07:59.920550",
     "exception": false,
     "start_time": "2024-05-23T15:07:59.885109",
     "status": "completed"
    },
    "tags": []
   },
   "outputs": [
    {
     "name": "stdout",
     "output_type": "stream",
     "text": [
      "<class 'pandas.core.frame.DataFrame'>\n",
      "RangeIndex: 1207 entries, 0 to 1206\n",
      "Data columns (total 9 columns):\n",
      " #   Column    Non-Null Count  Dtype  \n",
      "---  ------    --------------  -----  \n",
      " 0   id        1207 non-null   float64\n",
      " 1   age       1207 non-null   float64\n",
      " 2   pathsize  1121 non-null   float64\n",
      " 3   lnpos     1207 non-null   float64\n",
      " 4   histgrad  920 non-null    float64\n",
      " 5   er        869 non-null    float64\n",
      " 6   pr        851 non-null    float64\n",
      " 7   status    1207 non-null   float64\n",
      " 8   time      1207 non-null   float64\n",
      "dtypes: float64(9)\n",
      "memory usage: 85.0 KB\n"
     ]
    }
   ],
   "source": [
    "df.info()"
   ]
  },
  {
   "cell_type": "markdown",
   "id": "8f8f6c44",
   "metadata": {
    "papermill": {
     "duration": 0.007458,
     "end_time": "2024-05-23T15:07:59.934255",
     "exception": false,
     "start_time": "2024-05-23T15:07:59.926797",
     "status": "completed"
    },
    "tags": []
   },
   "source": [
    "**Identifying Categorical Variables**\n",
    "histgrad\n",
    "Based on the data inspection, we identified four categorical columns: 'histgrad', 'er', 'pr', and 'status'. These columns contain categorical data that need to be converted into a format suitable for analysis and modeling."
   ]
  },
  {
   "cell_type": "code",
   "execution_count": 6,
   "id": "490b8e46",
   "metadata": {
    "execution": {
     "iopub.execute_input": "2024-05-23T15:07:59.948509Z",
     "iopub.status.busy": "2024-05-23T15:07:59.948078Z",
     "iopub.status.idle": "2024-05-23T15:07:59.961274Z",
     "shell.execute_reply": "2024-05-23T15:07:59.960309Z"
    },
    "papermill": {
     "duration": 0.023122,
     "end_time": "2024-05-23T15:07:59.963631",
     "exception": false,
     "start_time": "2024-05-23T15:07:59.940509",
     "status": "completed"
    },
    "tags": []
   },
   "outputs": [],
   "source": [
    "# List of categorical columns\n",
    "categorical_columns = ['histgrad', 'er', 'pr', 'status']\n",
    "\n",
    "# Using a for loop to convert columns to string type\n",
    "for col in categorical_columns:\n",
    "    df[col] = df[col].astype(str).replace('nan',np.nan)\n",
    "    \n",
    "# in the \"histgrad\" column by converting them from 'nan' (string) to np.nan (actual NaN object). \n",
    "# this ensures that these values are treated appropriately in analyses as missing data rather than as a category. "
   ]
  },
  {
   "cell_type": "code",
   "execution_count": 7,
   "id": "5b2dded0",
   "metadata": {
    "execution": {
     "iopub.execute_input": "2024-05-23T15:07:59.978628Z",
     "iopub.status.busy": "2024-05-23T15:07:59.978206Z",
     "iopub.status.idle": "2024-05-23T15:07:59.985231Z",
     "shell.execute_reply": "2024-05-23T15:07:59.984104Z"
    },
    "papermill": {
     "duration": 0.017731,
     "end_time": "2024-05-23T15:07:59.987548",
     "exception": false,
     "start_time": "2024-05-23T15:07:59.969817",
     "status": "completed"
    },
    "tags": []
   },
   "outputs": [
    {
     "name": "stdout",
     "output_type": "stream",
     "text": [
      "id          float64\n",
      "age         float64\n",
      "pathsize    float64\n",
      "lnpos       float64\n",
      "histgrad     object\n",
      "er           object\n",
      "pr           object\n",
      "status       object\n",
      "time        float64\n",
      "dtype: object\n"
     ]
    }
   ],
   "source": [
    "# Display the updated data types to confirm the changes\n",
    "print(df.dtypes)"
   ]
  },
  {
   "cell_type": "code",
   "execution_count": 8,
   "id": "2c2c5b7d",
   "metadata": {
    "execution": {
     "iopub.execute_input": "2024-05-23T15:08:00.002035Z",
     "iopub.status.busy": "2024-05-23T15:08:00.001257Z",
     "iopub.status.idle": "2024-05-23T15:08:00.012619Z",
     "shell.execute_reply": "2024-05-23T15:08:00.011461Z"
    },
    "papermill": {
     "duration": 0.021518,
     "end_time": "2024-05-23T15:08:00.015199",
     "exception": false,
     "start_time": "2024-05-23T15:07:59.993681",
     "status": "completed"
    },
    "tags": []
   },
   "outputs": [
    {
     "name": "stdout",
     "output_type": "stream",
     "text": [
      "<class 'pandas.core.frame.DataFrame'>\n",
      "RangeIndex: 1207 entries, 0 to 1206\n",
      "Data columns (total 9 columns):\n",
      " #   Column    Non-Null Count  Dtype  \n",
      "---  ------    --------------  -----  \n",
      " 0   id        1207 non-null   float64\n",
      " 1   age       1207 non-null   float64\n",
      " 2   pathsize  1121 non-null   float64\n",
      " 3   lnpos     1207 non-null   float64\n",
      " 4   histgrad  920 non-null    object \n",
      " 5   er        869 non-null    object \n",
      " 6   pr        851 non-null    object \n",
      " 7   status    1207 non-null   object \n",
      " 8   time      1207 non-null   float64\n",
      "dtypes: float64(5), object(4)\n",
      "memory usage: 85.0+ KB\n"
     ]
    }
   ],
   "source": [
    "df.info()"
   ]
  },
  {
   "cell_type": "code",
   "execution_count": 9,
   "id": "abb04882",
   "metadata": {
    "execution": {
     "iopub.execute_input": "2024-05-23T15:08:00.030100Z",
     "iopub.status.busy": "2024-05-23T15:08:00.029493Z",
     "iopub.status.idle": "2024-05-23T15:08:00.037284Z",
     "shell.execute_reply": "2024-05-23T15:08:00.036226Z"
    },
    "papermill": {
     "duration": 0.018376,
     "end_time": "2024-05-23T15:08:00.039936",
     "exception": false,
     "start_time": "2024-05-23T15:08:00.021560",
     "status": "completed"
    },
    "tags": []
   },
   "outputs": [],
   "source": [
    "categorical_columns = ['histgrad', 'er', 'pr', 'status']\n",
    "continuous_columns = ['age', 'pathsize', 'lnpos', 'time']"
   ]
  },
  {
   "cell_type": "code",
   "execution_count": 10,
   "id": "30228cb5",
   "metadata": {
    "execution": {
     "iopub.execute_input": "2024-05-23T15:08:00.055996Z",
     "iopub.status.busy": "2024-05-23T15:08:00.055270Z",
     "iopub.status.idle": "2024-05-23T15:08:00.068160Z",
     "shell.execute_reply": "2024-05-23T15:08:00.066952Z"
    },
    "papermill": {
     "duration": 0.023683,
     "end_time": "2024-05-23T15:08:00.070694",
     "exception": false,
     "start_time": "2024-05-23T15:08:00.047011",
     "status": "completed"
    },
    "tags": []
   },
   "outputs": [
    {
     "name": "stdout",
     "output_type": "stream",
     "text": [
      "Frequency table for histgrad:\n",
      "histgrad\n",
      "2.0    514\n",
      "3.0    327\n",
      "1.0     79\n",
      "Name: count, dtype: int64\n",
      "\n",
      "Mode for histgrad: 2.0\n",
      "\n",
      "************************************************************\n",
      "Frequency table for er:\n",
      "er\n",
      "1.0    531\n",
      "0.0    338\n",
      "Name: count, dtype: int64\n",
      "\n",
      "Mode for er: 1.0\n",
      "\n",
      "************************************************************\n",
      "Frequency table for pr:\n",
      "pr\n",
      "1.0    462\n",
      "0.0    389\n",
      "Name: count, dtype: int64\n",
      "\n",
      "Mode for pr: 1.0\n",
      "\n",
      "************************************************************\n",
      "Frequency table for status:\n",
      "status\n",
      "0.0    1135\n",
      "1.0      72\n",
      "Name: count, dtype: int64\n",
      "\n",
      "Mode for status: 0.0\n",
      "\n",
      "************************************************************\n"
     ]
    }
   ],
   "source": [
    "# Generate frequency tables and find the mode for each categorical column\n",
    "for col in ['histgrad', 'er', 'pr', 'status']:\n",
    "    frequency_table = df[col].value_counts()\n",
    "    mode_value = df[col].mode()[0]\n",
    "    print(f\"Frequency table for {col}:\\n{frequency_table}\\n\")\n",
    "    print(f\"Mode for {col}: {mode_value}\\n\")\n",
    "    print('**'*30)"
   ]
  },
  {
   "cell_type": "code",
   "execution_count": 11,
   "id": "d256a36b",
   "metadata": {
    "execution": {
     "iopub.execute_input": "2024-05-23T15:08:00.086143Z",
     "iopub.status.busy": "2024-05-23T15:08:00.085446Z",
     "iopub.status.idle": "2024-05-23T15:08:00.111214Z",
     "shell.execute_reply": "2024-05-23T15:08:00.109816Z"
    },
    "papermill": {
     "duration": 0.036523,
     "end_time": "2024-05-23T15:08:00.113902",
     "exception": false,
     "start_time": "2024-05-23T15:08:00.077379",
     "status": "completed"
    },
    "tags": []
   },
   "outputs": [
    {
     "data": {
      "text/html": [
       "<div>\n",
       "<style scoped>\n",
       "    .dataframe tbody tr th:only-of-type {\n",
       "        vertical-align: middle;\n",
       "    }\n",
       "\n",
       "    .dataframe tbody tr th {\n",
       "        vertical-align: top;\n",
       "    }\n",
       "\n",
       "    .dataframe thead th {\n",
       "        text-align: right;\n",
       "    }\n",
       "</style>\n",
       "<table border=\"1\" class=\"dataframe\">\n",
       "  <thead>\n",
       "    <tr style=\"text-align: right;\">\n",
       "      <th></th>\n",
       "      <th>age</th>\n",
       "      <th>pathsize</th>\n",
       "      <th>lnpos</th>\n",
       "      <th>time</th>\n",
       "    </tr>\n",
       "  </thead>\n",
       "  <tbody>\n",
       "    <tr>\n",
       "      <th>count</th>\n",
       "      <td>1207.000000</td>\n",
       "      <td>1121.000000</td>\n",
       "      <td>1207.000000</td>\n",
       "      <td>1207.000000</td>\n",
       "    </tr>\n",
       "    <tr>\n",
       "      <th>mean</th>\n",
       "      <td>56.387738</td>\n",
       "      <td>1.733488</td>\n",
       "      <td>0.880696</td>\n",
       "      <td>46.956476</td>\n",
       "    </tr>\n",
       "    <tr>\n",
       "      <th>std</th>\n",
       "      <td>13.327627</td>\n",
       "      <td>0.995857</td>\n",
       "      <td>2.535457</td>\n",
       "      <td>29.638977</td>\n",
       "    </tr>\n",
       "    <tr>\n",
       "      <th>min</th>\n",
       "      <td>22.000000</td>\n",
       "      <td>0.100000</td>\n",
       "      <td>0.000000</td>\n",
       "      <td>2.633333</td>\n",
       "    </tr>\n",
       "    <tr>\n",
       "      <th>25%</th>\n",
       "      <td>46.000000</td>\n",
       "      <td>1.000000</td>\n",
       "      <td>0.000000</td>\n",
       "      <td>22.550000</td>\n",
       "    </tr>\n",
       "    <tr>\n",
       "      <th>50%</th>\n",
       "      <td>56.000000</td>\n",
       "      <td>1.500000</td>\n",
       "      <td>0.000000</td>\n",
       "      <td>42.966667</td>\n",
       "    </tr>\n",
       "    <tr>\n",
       "      <th>75%</th>\n",
       "      <td>66.500000</td>\n",
       "      <td>2.200000</td>\n",
       "      <td>0.000000</td>\n",
       "      <td>65.583333</td>\n",
       "    </tr>\n",
       "    <tr>\n",
       "      <th>max</th>\n",
       "      <td>88.000000</td>\n",
       "      <td>7.000000</td>\n",
       "      <td>35.000000</td>\n",
       "      <td>133.800000</td>\n",
       "    </tr>\n",
       "  </tbody>\n",
       "</table>\n",
       "</div>"
      ],
      "text/plain": [
       "               age     pathsize        lnpos         time\n",
       "count  1207.000000  1121.000000  1207.000000  1207.000000\n",
       "mean     56.387738     1.733488     0.880696    46.956476\n",
       "std      13.327627     0.995857     2.535457    29.638977\n",
       "min      22.000000     0.100000     0.000000     2.633333\n",
       "25%      46.000000     1.000000     0.000000    22.550000\n",
       "50%      56.000000     1.500000     0.000000    42.966667\n",
       "75%      66.500000     2.200000     0.000000    65.583333\n",
       "max      88.000000     7.000000    35.000000   133.800000"
      ]
     },
     "execution_count": 11,
     "metadata": {},
     "output_type": "execute_result"
    }
   ],
   "source": [
    "df[continuous_columns].describe()"
   ]
  },
  {
   "cell_type": "markdown",
   "id": "0be3fcb5",
   "metadata": {
    "papermill": {
     "duration": 0.00675,
     "end_time": "2024-05-23T15:08:00.128078",
     "exception": false,
     "start_time": "2024-05-23T15:08:00.121328",
     "status": "completed"
    },
    "tags": []
   },
   "source": [
    "# Advanced statistical calculations for continuous_columns"
   ]
  },
  {
   "cell_type": "code",
   "execution_count": 12,
   "id": "e3eaba9c",
   "metadata": {
    "execution": {
     "iopub.execute_input": "2024-05-23T15:08:00.144606Z",
     "iopub.status.busy": "2024-05-23T15:08:00.144115Z",
     "iopub.status.idle": "2024-05-23T15:08:00.166384Z",
     "shell.execute_reply": "2024-05-23T15:08:00.164736Z"
    },
    "papermill": {
     "duration": 0.033835,
     "end_time": "2024-05-23T15:08:00.168941",
     "exception": false,
     "start_time": "2024-05-23T15:08:00.135106",
     "status": "completed"
    },
    "tags": []
   },
   "outputs": [
    {
     "name": "stdout",
     "output_type": "stream",
     "text": [
      "Variance:\n",
      " age         177.625654\n",
      "pathsize      0.991730\n",
      "lnpos         6.428541\n",
      "time        878.468930\n",
      "dtype: float64\n",
      "************************************************************\n",
      "Skewness:\n",
      " age         0.049489\n",
      "pathsize    1.340715\n",
      "lnpos       5.346459\n",
      "time        0.630557\n",
      "dtype: float64\n",
      "************************************************************\n",
      "Kurtosis:\n",
      " age         -0.765026\n",
      "pathsize     2.659314\n",
      "lnpos       43.047260\n",
      "time        -0.239387\n",
      "dtype: float64\n",
      "************************************************************\n",
      "Interquartile Range (IQR):\n",
      " age         20.500000\n",
      "pathsize     1.200000\n",
      "lnpos        0.000000\n",
      "time        43.033333\n",
      "dtype: float64\n"
     ]
    }
   ],
   "source": [
    "variance = df[continuous_columns].var()\n",
    "skewness = df[continuous_columns].skew()\n",
    "kurtosis_values = df[continuous_columns].kurt()\n",
    "Q1 = df[continuous_columns].quantile(0.25)\n",
    "Q3 = df[continuous_columns].quantile(0.75)\n",
    "IQR = Q3 - Q1\n",
    "\n",
    "# Displaying the advanced statistics\n",
    "print(\"Variance:\\n\", variance)\n",
    "print(\"**\"*30)\n",
    "print(\"Skewness:\\n\", skewness)\n",
    "print(\"**\"*30)\n",
    "print(\"Kurtosis:\\n\", kurtosis_values)\n",
    "print(\"**\"*30)\n",
    "print(\"Interquartile Range (IQR):\\n\", IQR)"
   ]
  },
  {
   "cell_type": "code",
   "execution_count": 13,
   "id": "16410b13",
   "metadata": {
    "execution": {
     "iopub.execute_input": "2024-05-23T15:08:00.186264Z",
     "iopub.status.busy": "2024-05-23T15:08:00.185397Z",
     "iopub.status.idle": "2024-05-23T15:08:00.210739Z",
     "shell.execute_reply": "2024-05-23T15:08:00.209385Z"
    },
    "papermill": {
     "duration": 0.037553,
     "end_time": "2024-05-23T15:08:00.213729",
     "exception": false,
     "start_time": "2024-05-23T15:08:00.176176",
     "status": "completed"
    },
    "tags": []
   },
   "outputs": [
    {
     "data": {
      "text/html": [
       "<div>\n",
       "<style scoped>\n",
       "    .dataframe tbody tr th:only-of-type {\n",
       "        vertical-align: middle;\n",
       "    }\n",
       "\n",
       "    .dataframe tbody tr th {\n",
       "        vertical-align: top;\n",
       "    }\n",
       "\n",
       "    .dataframe thead th {\n",
       "        text-align: right;\n",
       "    }\n",
       "</style>\n",
       "<table border=\"1\" class=\"dataframe\">\n",
       "  <thead>\n",
       "    <tr style=\"text-align: right;\">\n",
       "      <th></th>\n",
       "      <th>Variance</th>\n",
       "      <th>Skewness</th>\n",
       "      <th>Kurtosis</th>\n",
       "      <th>Q1</th>\n",
       "      <th>Q3</th>\n",
       "      <th>IQR</th>\n",
       "    </tr>\n",
       "  </thead>\n",
       "  <tbody>\n",
       "    <tr>\n",
       "      <th>age</th>\n",
       "      <td>177.625654</td>\n",
       "      <td>0.049489</td>\n",
       "      <td>-0.765026</td>\n",
       "      <td>46.00</td>\n",
       "      <td>66.500000</td>\n",
       "      <td>20.500000</td>\n",
       "    </tr>\n",
       "    <tr>\n",
       "      <th>pathsize</th>\n",
       "      <td>0.991730</td>\n",
       "      <td>1.340715</td>\n",
       "      <td>2.659314</td>\n",
       "      <td>1.00</td>\n",
       "      <td>2.200000</td>\n",
       "      <td>1.200000</td>\n",
       "    </tr>\n",
       "    <tr>\n",
       "      <th>lnpos</th>\n",
       "      <td>6.428541</td>\n",
       "      <td>5.346459</td>\n",
       "      <td>43.047260</td>\n",
       "      <td>0.00</td>\n",
       "      <td>0.000000</td>\n",
       "      <td>0.000000</td>\n",
       "    </tr>\n",
       "    <tr>\n",
       "      <th>time</th>\n",
       "      <td>878.468930</td>\n",
       "      <td>0.630557</td>\n",
       "      <td>-0.239387</td>\n",
       "      <td>22.55</td>\n",
       "      <td>65.583333</td>\n",
       "      <td>43.033333</td>\n",
       "    </tr>\n",
       "  </tbody>\n",
       "</table>\n",
       "</div>"
      ],
      "text/plain": [
       "            Variance  Skewness   Kurtosis     Q1         Q3        IQR\n",
       "age       177.625654  0.049489  -0.765026  46.00  66.500000  20.500000\n",
       "pathsize    0.991730  1.340715   2.659314   1.00   2.200000   1.200000\n",
       "lnpos       6.428541  5.346459  43.047260   0.00   0.000000   0.000000\n",
       "time      878.468930  0.630557  -0.239387  22.55  65.583333  43.033333"
      ]
     },
     "execution_count": 13,
     "metadata": {},
     "output_type": "execute_result"
    }
   ],
   "source": [
    "# Calculate various advanced statistics\n",
    "variance = df[continuous_columns].var().rename(\"Variance\")\n",
    "skewness = df[continuous_columns].skew().rename(\"Skewness\")\n",
    "kurtosis_values = df[continuous_columns].kurt().rename(\"Kurtosis\")\n",
    "Q1 = df[continuous_columns].quantile(0.25).rename(\"Q1\")\n",
    "Q3 = df[continuous_columns].quantile(0.75).rename(\"Q3\")\n",
    "IQR = (Q3 - Q1).rename(\"IQR\")\n",
    "\n",
    "# Combine all statistics into a single DataFrame for easy comparison\n",
    "advanced_stats = pd.concat([variance, skewness, kurtosis_values, Q1, Q3, IQR], axis=1)\n",
    "\n",
    "# Display the results\n",
    "advanced_stats"
   ]
  },
  {
   "cell_type": "code",
   "execution_count": 14,
   "id": "df01a0b3",
   "metadata": {
    "execution": {
     "iopub.execute_input": "2024-05-23T15:08:00.230629Z",
     "iopub.status.busy": "2024-05-23T15:08:00.230232Z",
     "iopub.status.idle": "2024-05-23T15:08:00.261743Z",
     "shell.execute_reply": "2024-05-23T15:08:00.260206Z"
    },
    "papermill": {
     "duration": 0.043254,
     "end_time": "2024-05-23T15:08:00.264413",
     "exception": false,
     "start_time": "2024-05-23T15:08:00.221159",
     "status": "completed"
    },
    "tags": []
   },
   "outputs": [
    {
     "data": {
      "text/html": [
       "<div>\n",
       "<style scoped>\n",
       "    .dataframe tbody tr th:only-of-type {\n",
       "        vertical-align: middle;\n",
       "    }\n",
       "\n",
       "    .dataframe tbody tr th {\n",
       "        vertical-align: top;\n",
       "    }\n",
       "\n",
       "    .dataframe thead th {\n",
       "        text-align: right;\n",
       "    }\n",
       "</style>\n",
       "<table border=\"1\" class=\"dataframe\">\n",
       "  <thead>\n",
       "    <tr style=\"text-align: right;\">\n",
       "      <th></th>\n",
       "      <th>Mean</th>\n",
       "      <th>Median</th>\n",
       "      <th>Std</th>\n",
       "      <th>Variance</th>\n",
       "      <th>Min</th>\n",
       "      <th>25%</th>\n",
       "      <th>75%</th>\n",
       "      <th>Max</th>\n",
       "      <th>Skewness</th>\n",
       "      <th>Kurtosis</th>\n",
       "    </tr>\n",
       "  </thead>\n",
       "  <tbody>\n",
       "    <tr>\n",
       "      <th>age</th>\n",
       "      <td>56.387738</td>\n",
       "      <td>56.000000</td>\n",
       "      <td>13.327627</td>\n",
       "      <td>177.625654</td>\n",
       "      <td>22.000000</td>\n",
       "      <td>46.00</td>\n",
       "      <td>66.500000</td>\n",
       "      <td>88.0</td>\n",
       "      <td>0.049489</td>\n",
       "      <td>-0.765026</td>\n",
       "    </tr>\n",
       "    <tr>\n",
       "      <th>pathsize</th>\n",
       "      <td>1.733488</td>\n",
       "      <td>1.500000</td>\n",
       "      <td>0.995857</td>\n",
       "      <td>0.991730</td>\n",
       "      <td>0.100000</td>\n",
       "      <td>1.00</td>\n",
       "      <td>2.200000</td>\n",
       "      <td>7.0</td>\n",
       "      <td>1.340715</td>\n",
       "      <td>2.659314</td>\n",
       "    </tr>\n",
       "    <tr>\n",
       "      <th>lnpos</th>\n",
       "      <td>0.880696</td>\n",
       "      <td>0.000000</td>\n",
       "      <td>2.535457</td>\n",
       "      <td>6.428541</td>\n",
       "      <td>0.000000</td>\n",
       "      <td>0.00</td>\n",
       "      <td>0.000000</td>\n",
       "      <td>35.0</td>\n",
       "      <td>5.346459</td>\n",
       "      <td>43.047260</td>\n",
       "    </tr>\n",
       "    <tr>\n",
       "      <th>time</th>\n",
       "      <td>46.956476</td>\n",
       "      <td>42.966667</td>\n",
       "      <td>29.638977</td>\n",
       "      <td>878.468930</td>\n",
       "      <td>2.633333</td>\n",
       "      <td>22.55</td>\n",
       "      <td>65.583333</td>\n",
       "      <td>133.8</td>\n",
       "      <td>0.630557</td>\n",
       "      <td>-0.239387</td>\n",
       "    </tr>\n",
       "  </tbody>\n",
       "</table>\n",
       "</div>"
      ],
      "text/plain": [
       "               Mean     Median        Std    Variance        Min    25%  \\\n",
       "age       56.387738  56.000000  13.327627  177.625654  22.000000  46.00   \n",
       "pathsize   1.733488   1.500000   0.995857    0.991730   0.100000   1.00   \n",
       "lnpos      0.880696   0.000000   2.535457    6.428541   0.000000   0.00   \n",
       "time      46.956476  42.966667  29.638977  878.468930   2.633333  22.55   \n",
       "\n",
       "                75%    Max  Skewness   Kurtosis  \n",
       "age       66.500000   88.0  0.049489  -0.765026  \n",
       "pathsize   2.200000    7.0  1.340715   2.659314  \n",
       "lnpos      0.000000   35.0  5.346459  43.047260  \n",
       "time      65.583333  133.8  0.630557  -0.239387  "
      ]
     },
     "execution_count": 14,
     "metadata": {},
     "output_type": "execute_result"
    }
   ],
   "source": [
    "# Define the continuous columns\n",
    "continuous_columns = ['age', 'pathsize', 'lnpos', 'time']\n",
    "\n",
    "# Initialize a dictionary to hold the results\n",
    "results = {}\n",
    "\n",
    "# Loop over each continuous variable to calculate statistics\n",
    "for col in continuous_columns:\n",
    "    # Collecting all statistics for the column\n",
    "    stats = {\n",
    "        'Mean': df[col].mean(),\n",
    "        'Median': df[col].median(),\n",
    "        'Std': df[col].std(),\n",
    "        'Variance': df[col].var(),\n",
    "        'Min': df[col].min(),\n",
    "        '25%': df[col].quantile(0.25),\n",
    "        '75%': df[col].quantile(0.75),\n",
    "        'Max': df[col].max(),\n",
    "        'Skewness': df[col].skew(),\n",
    "        'Kurtosis': df[col].kurt()\n",
    "    }\n",
    "    results[col] = stats\n",
    "\n",
    "# Convert the dictionary to a DataFrame\n",
    "stats_df = pd.DataFrame(results)\n",
    "\n",
    "# Transpose the DataFrame to get variables as columns and statistics as rows\n",
    "stats_df = stats_df.T\n",
    "\n",
    "# Print the resulting DataFrame\n",
    "stats_df"
   ]
  },
  {
   "cell_type": "markdown",
   "id": "3787dd04",
   "metadata": {
    "papermill": {
     "duration": 0.007799,
     "end_time": "2024-05-23T15:08:00.279899",
     "exception": false,
     "start_time": "2024-05-23T15:08:00.272100",
     "status": "completed"
    },
    "tags": []
   },
   "source": [
    "# Distribution Analysis of Continuous Variables"
   ]
  },
  {
   "cell_type": "code",
   "execution_count": 15,
   "id": "d0841330",
   "metadata": {
    "execution": {
     "iopub.execute_input": "2024-05-23T15:08:00.297720Z",
     "iopub.status.busy": "2024-05-23T15:08:00.297286Z",
     "iopub.status.idle": "2024-05-23T15:08:01.920968Z",
     "shell.execute_reply": "2024-05-23T15:08:01.919821Z"
    },
    "papermill": {
     "duration": 1.636854,
     "end_time": "2024-05-23T15:08:01.924451",
     "exception": false,
     "start_time": "2024-05-23T15:08:00.287597",
     "status": "completed"
    },
    "tags": []
   },
   "outputs": [
    {
     "name": "stderr",
     "output_type": "stream",
     "text": [
      "/opt/conda/lib/python3.10/site-packages/seaborn/_oldcore.py:1119: FutureWarning: use_inf_as_na option is deprecated and will be removed in a future version. Convert inf values to NaN before operating instead.\n",
      "  with pd.option_context('mode.use_inf_as_na', True):\n",
      "/opt/conda/lib/python3.10/site-packages/seaborn/_oldcore.py:1119: FutureWarning: use_inf_as_na option is deprecated and will be removed in a future version. Convert inf values to NaN before operating instead.\n",
      "  with pd.option_context('mode.use_inf_as_na', True):\n",
      "/opt/conda/lib/python3.10/site-packages/seaborn/_oldcore.py:1119: FutureWarning: use_inf_as_na option is deprecated and will be removed in a future version. Convert inf values to NaN before operating instead.\n",
      "  with pd.option_context('mode.use_inf_as_na', True):\n",
      "/opt/conda/lib/python3.10/site-packages/seaborn/_oldcore.py:1119: FutureWarning: use_inf_as_na option is deprecated and will be removed in a future version. Convert inf values to NaN before operating instead.\n",
      "  with pd.option_context('mode.use_inf_as_na', True):\n"
     ]
    },
    {
     "data": {
      "image/png": "[encoded data removed]",
      "text/plain": [
       "<Figure size 2000x500 with 4 Axes>"
      ]
     },
     "metadata": {},
     "output_type": "display_data"
    }
   ],
   "source": [
    "# Prepare to plot histograms for continuous variables\n",
    "plt.figure(figsize=(20, 5))  # Adjust figure size for clarity\n",
    "\n",
    "# Create a histogram for each continuous variable\n",
    "for i, col in enumerate(continuous_columns):\n",
    "    plt.subplot(1, len(continuous_columns), i+1)  # Arrange subplots in a single row\n",
    "    sns.histplot(df[col], kde=True, color=\"blue\")  # Adding KDE to smooth histogram\n",
    "    plt.title(f'Histogram of {col}')  # Title for each histogram\n",
    "    plt.xlabel(col)  # x-axis label\n",
    "    plt.ylabel('Frequency')  # y-axis label\n",
    "\n",
    "# Display the histograms\n",
    "plt.tight_layout()  # Ensure there is no overlap of plots\n",
    "plt.show()"
   ]
  },
  {
   "cell_type": "code",
   "execution_count": 16,
   "id": "d9e62e8e",
   "metadata": {
    "execution": {
     "iopub.execute_input": "2024-05-23T15:08:01.946141Z",
     "iopub.status.busy": "2024-05-23T15:08:01.945672Z",
     "iopub.status.idle": "2024-05-23T15:08:01.959729Z",
     "shell.execute_reply": "2024-05-23T15:08:01.958416Z"
    },
    "papermill": {
     "duration": 0.027813,
     "end_time": "2024-05-23T15:08:01.962070",
     "exception": false,
     "start_time": "2024-05-23T15:08:01.934257",
     "status": "completed"
    },
    "tags": []
   },
   "outputs": [
    {
     "name": "stdout",
     "output_type": "stream",
     "text": [
      "   lnpos lnpos_class\n",
      "0    0.0         Yes\n",
      "1    0.0         Yes\n",
      "2    0.0         Yes\n",
      "3    0.0         Yes\n",
      "4    0.0         Yes\n"
     ]
    }
   ],
   "source": [
    "# Compute the median of 'lnpos'\n",
    "median_value = df['lnpos'].median()\n",
    "\n",
    "# Discretize 'lnpos' into two categories based on the median\n",
    "df['lnpos_class'] = df['lnpos'].apply(lambda x: 'Yes' if x >= median_value else 'No')\n",
    "\n",
    "# Verify the discretization by checking the first few rows\n",
    "print(df[['lnpos', 'lnpos_class']].head())\n"
   ]
  },
  {
   "cell_type": "code",
   "execution_count": null,
   "id": "2f462e0b",
   "metadata": {
    "papermill": {
     "duration": 0.009172,
     "end_time": "2024-05-23T15:08:01.980673",
     "exception": false,
     "start_time": "2024-05-23T15:08:01.971501",
     "status": "completed"
    },
    "tags": []
   },
   "outputs": [],
   "source": []
  }
 ],
 "metadata": {
  "kaggle": {
   "accelerator": "none",
   "dataSources": [
    {
     "datasetId": 5068127,
     "sourceId": 8494116,
     "sourceType": "datasetVersion"
    }
   ],
   "dockerImageVersionId": 30698,
   "isGpuEnabled": false,
   "isInternetEnabled": true,
   "language": "python",
   "sourceType": "notebook"
  },
  "kernelspec": {
   "display_name": "Python 3",
   "language": "python",
   "name": "python3"
  },
  "language_info": {
   "codemirror_mode": {
    "name": "ipython",
    "version": 3
   },
   "file_extension": ".py",
   "mimetype": "text/x-python",
   "name": "python",
   "nbconvert_exporter": "python",
   "pygments_lexer": "ipython3",
   "version": "3.10.13"
  },
  "papermill": {
   "default_parameters": {},
   "duration": 23.000977,
   "end_time": "2024-05-23T15:08:02.711645",
   "environment_variables": {},
   "exception": null,
   "input_path": "__notebook__.ipynb",
   "output_path": "__notebook__.ipynb",
   "parameters": {},
   "start_time": "2024-05-23T15:07:39.710668",
   "version": "2.5.0"
  }
 },
 "nbformat": 4,
 "nbformat_minor": 5
}
