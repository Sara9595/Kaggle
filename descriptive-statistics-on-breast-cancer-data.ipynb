{
 "cells": [
  {
   "cell_type": "markdown",
   "id": "2b2d6e3f",
   "metadata": {
    "papermill": {
     "duration": 0.013026,
     "end_time": "2024-06-06T09:34:30.515960",
     "exception": false,
     "start_time": "2024-06-06T09:34:30.502934",
     "status": "completed"
    },
    "tags": []
   },
   "source": [
    "# Introduction\n",
    "Welcome to this detailed analysis where we explore a dataset focused on breast cancer survival rates. The goal is to provide a comprehensive understanding of the data through descriptive statistics, enhancing our knowledge about key factors influencing survival.\n",
    "\n"
   ]
  },
  {
   "cell_type": "markdown",
   "id": "374b0260",
   "metadata": {
    "papermill": {
     "duration": 0.012312,
     "end_time": "2024-06-06T09:34:30.541564",
     "exception": false,
     "start_time": "2024-06-06T09:34:30.529252",
     "status": "completed"
    },
    "tags": []
   },
   "source": [
    "# Objective\n",
    "Our primary objective is to use descriptive statistics to summarize and understand the data's behavior, which will assist in further analyses like predictive modeling or hypotheses testing."
   ]
  },
  {
   "cell_type": "markdown",
   "id": "d9c4d7e9",
   "metadata": {
    "papermill": {
     "duration": 0.018605,
     "end_time": "2024-06-06T09:34:30.576288",
     "exception": false,
     "start_time": "2024-06-06T09:34:30.557683",
     "status": "completed"
    },
    "tags": []
   },
   "source": [
    "# Data Description\n",
    "The dataset comes from a .sav file, commonly used in SPSS software, containing a mix of clinical and demographic variables related to breast cancer patients.\n",
    "\n"
   ]
  },
  {
   "cell_type": "code",
   "execution_count": 1,
   "id": "a556229f",
   "metadata": {
    "execution": {
     "iopub.execute_input": "2024-06-06T09:34:30.615585Z",
     "iopub.status.busy": "2024-06-06T09:34:30.614608Z",
     "iopub.status.idle": "2024-06-06T09:34:48.359960Z",
     "shell.execute_reply": "2024-06-06T09:34:48.358514Z"
    },
    "papermill": {
     "duration": 17.766614,
     "end_time": "2024-06-06T09:34:48.362848",
     "exception": false,
     "start_time": "2024-06-06T09:34:30.596234",
     "status": "completed"
    },
    "tags": []
   },
   "outputs": [
    {
     "name": "stdout",
     "output_type": "stream",
     "text": [
      "Collecting pyreadstat\r\n",
      "  Downloading pyreadstat-1.2.7-cp310-cp310-manylinux_2_17_x86_64.manylinux2014_x86_64.whl.metadata (1.0 kB)\r\n",
      "Requirement already satisfied: pandas>=1.2.0 in /opt/conda/lib/python3.10/site-packages (from pyreadstat) (2.2.2)\r\n",
      "Requirement already satisfied: numpy>=1.22.4 in /opt/conda/lib/python3.10/site-packages (from pandas>=1.2.0->pyreadstat) (1.26.4)\r\n",
      "Requirement already satisfied: python-dateutil>=2.8.2 in /opt/conda/lib/python3.10/site-packages (from pandas>=1.2.0->pyreadstat) (2.9.0.post0)\r\n",
      "Requirement already satisfied: pytz>=2020.1 in /opt/conda/lib/python3.10/site-packages (from pandas>=1.2.0->pyreadstat) (2023.3.post1)\r\n",
      "Requirement already satisfied: tzdata>=2022.7 in /opt/conda/lib/python3.10/site-packages (from pandas>=1.2.0->pyreadstat) (2023.4)\r\n",
      "Requirement already satisfied: six>=1.5 in /opt/conda/lib/python3.10/site-packages (from python-dateutil>=2.8.2->pandas>=1.2.0->pyreadstat) (1.16.0)\r\n",
      "Downloading pyreadstat-1.2.7-cp310-cp310-manylinux_2_17_x86_64.manylinux2014_x86_64.whl (2.8 MB)\r\n",
      "\u001b[2K   \u001b[90m━━━━━━━━━━━━━━━━━━━━━━━━━━━━━━━━━━━━━━━━\u001b[0m \u001b[32m2.8/2.8 MB\u001b[0m \u001b[31m21.3 MB/s\u001b[0m eta \u001b[36m0:00:00\u001b[0m\r\n",
      "\u001b[?25hInstalling collected packages: pyreadstat\r\n",
      "Successfully installed pyreadstat-1.2.7\r\n"
     ]
    }
   ],
   "source": [
    "!pip install pyreadstat"
   ]
  },
  {
   "cell_type": "markdown",
   "id": "8b782e2a",
   "metadata": {
    "papermill": {
     "duration": 0.01384,
     "end_time": "2024-06-06T09:34:48.390690",
     "exception": false,
     "start_time": "2024-06-06T09:34:48.376850",
     "status": "completed"
    },
    "tags": []
   },
   "source": [
    "# Load the Dataset\n",
    "Now, we will load the dataset from the SPSS file and inspect the initial few entries to understand the structure."
   ]
  },
  {
   "cell_type": "code",
   "execution_count": 2,
   "id": "10850e79",
   "metadata": {
    "execution": {
     "iopub.execute_input": "2024-06-06T09:34:48.420886Z",
     "iopub.status.busy": "2024-06-06T09:34:48.420402Z",
     "iopub.status.idle": "2024-06-06T09:34:51.343711Z",
     "shell.execute_reply": "2024-06-06T09:34:51.341693Z"
    },
    "papermill": {
     "duration": 2.942324,
     "end_time": "2024-06-06T09:34:51.346739",
     "exception": false,
     "start_time": "2024-06-06T09:34:48.404415",
     "status": "completed"
    },
    "tags": []
   },
   "outputs": [],
   "source": [
    "# Import necessary libraries\n",
    "import pandas as pd\n",
    "import pyreadstat  # To read SPSS files\n",
    "import numpy as np\n",
    "from scipy.stats import skew, kurtosis\n",
    "from scipy import stats\n",
    "from scipy.stats import t\n",
    "import matplotlib.pyplot as plt\n",
    "import seaborn as sns\n"
   ]
  },
  {
   "cell_type": "code",
   "execution_count": 3,
   "id": "c2236e60",
   "metadata": {
    "execution": {
     "iopub.execute_input": "2024-06-06T09:34:51.379498Z",
     "iopub.status.busy": "2024-06-06T09:34:51.378598Z",
     "iopub.status.idle": "2024-06-06T09:34:51.429720Z",
     "shell.execute_reply": "2024-06-06T09:34:51.428007Z"
    },
    "papermill": {
     "duration": 0.070463,
     "end_time": "2024-06-06T09:34:51.432767",
     "exception": false,
     "start_time": "2024-06-06T09:34:51.362304",
     "status": "completed"
    },
    "scrolled": true,
    "tags": []
   },
   "outputs": [
    {
     "name": "stdout",
     "output_type": "stream",
     "text": [
      "    id   age  pathsize  lnpos  histgrad   er   pr  status       time\n",
      "0  1.0  60.0       NaN    0.0       3.0  0.0  0.0     0.0   9.466667\n",
      "1  2.0  79.0       NaN    0.0       NaN  NaN  NaN     0.0   8.600000\n",
      "2  3.0  82.0       NaN    0.0       2.0  NaN  NaN     0.0  19.333333\n",
      "3  4.0  66.0       NaN    0.0       2.0  1.0  1.0     0.0  16.333333\n",
      "4  5.0  52.0       NaN    0.0       3.0  NaN  NaN     0.0   8.500000\n",
      "{'histgrad': {4.0: 'Unknown'}, 'er': {0.0: 'Negative', 1.0: 'Positive', 2.0: 'Unknown'}, 'pr': {0.0: 'Negative', 1.0: 'Positive', 2.0: 'Unknown'}, 'status': {0.0: 'Censored', 1.0: 'Died'}}\n"
     ]
    }
   ],
   "source": [
    "# Load the data\n",
    "df, meta = pyreadstat.read_sav('/kaggle/input/breast-cancer-dataset/Breast cancer survival.sav')\n",
    "\n",
    "# Display the first few rows to understand the data\n",
    "print(df.head())\n",
    "\n",
    "# Check metadata for any additional insights into variable labels\n",
    "print(meta.variable_value_labels)"
   ]
  },
  {
   "cell_type": "code",
   "execution_count": 4,
   "id": "9d7b476e",
   "metadata": {
    "execution": {
     "iopub.execute_input": "2024-06-06T09:34:51.463765Z",
     "iopub.status.busy": "2024-06-06T09:34:51.462779Z",
     "iopub.status.idle": "2024-06-06T09:34:51.511696Z",
     "shell.execute_reply": "2024-06-06T09:34:51.510265Z"
    },
    "papermill": {
     "duration": 0.067404,
     "end_time": "2024-06-06T09:34:51.514947",
     "exception": false,
     "start_time": "2024-06-06T09:34:51.447543",
     "status": "completed"
    },
    "tags": []
   },
   "outputs": [
    {
     "data": {
      "text/html": [
       "<div>\n",
       "<style scoped>\n",
       "    .dataframe tbody tr th:only-of-type {\n",
       "        vertical-align: middle;\n",
       "    }\n",
       "\n",
       "    .dataframe tbody tr th {\n",
       "        vertical-align: top;\n",
       "    }\n",
       "\n",
       "    .dataframe thead th {\n",
       "        text-align: right;\n",
       "    }\n",
       "</style>\n",
       "<table border=\"1\" class=\"dataframe\">\n",
       "  <thead>\n",
       "    <tr style=\"text-align: right;\">\n",
       "      <th></th>\n",
       "      <th>id</th>\n",
       "      <th>age</th>\n",
       "      <th>pathsize</th>\n",
       "      <th>lnpos</th>\n",
       "      <th>histgrad</th>\n",
       "      <th>er</th>\n",
       "      <th>pr</th>\n",
       "      <th>status</th>\n",
       "      <th>time</th>\n",
       "    </tr>\n",
       "  </thead>\n",
       "  <tbody>\n",
       "    <tr>\n",
       "      <th>count</th>\n",
       "      <td>1207.000000</td>\n",
       "      <td>1207.000000</td>\n",
       "      <td>1121.000000</td>\n",
       "      <td>1207.000000</td>\n",
       "      <td>920.000000</td>\n",
       "      <td>869.000000</td>\n",
       "      <td>851.000000</td>\n",
       "      <td>1207.000000</td>\n",
       "      <td>1207.000000</td>\n",
       "    </tr>\n",
       "    <tr>\n",
       "      <th>mean</th>\n",
       "      <td>621.072080</td>\n",
       "      <td>56.387738</td>\n",
       "      <td>1.733488</td>\n",
       "      <td>0.880696</td>\n",
       "      <td>2.269565</td>\n",
       "      <td>0.611047</td>\n",
       "      <td>0.542891</td>\n",
       "      <td>0.059652</td>\n",
       "      <td>46.956476</td>\n",
       "    </tr>\n",
       "    <tr>\n",
       "      <th>std</th>\n",
       "      <td>359.623207</td>\n",
       "      <td>13.327627</td>\n",
       "      <td>0.995857</td>\n",
       "      <td>2.535457</td>\n",
       "      <td>0.607487</td>\n",
       "      <td>0.487793</td>\n",
       "      <td>0.498450</td>\n",
       "      <td>0.236939</td>\n",
       "      <td>29.638977</td>\n",
       "    </tr>\n",
       "    <tr>\n",
       "      <th>min</th>\n",
       "      <td>1.000000</td>\n",
       "      <td>22.000000</td>\n",
       "      <td>0.100000</td>\n",
       "      <td>0.000000</td>\n",
       "      <td>1.000000</td>\n",
       "      <td>0.000000</td>\n",
       "      <td>0.000000</td>\n",
       "      <td>0.000000</td>\n",
       "      <td>2.633333</td>\n",
       "    </tr>\n",
       "    <tr>\n",
       "      <th>25%</th>\n",
       "      <td>310.500000</td>\n",
       "      <td>46.000000</td>\n",
       "      <td>1.000000</td>\n",
       "      <td>0.000000</td>\n",
       "      <td>2.000000</td>\n",
       "      <td>0.000000</td>\n",
       "      <td>0.000000</td>\n",
       "      <td>0.000000</td>\n",
       "      <td>22.550000</td>\n",
       "    </tr>\n",
       "    <tr>\n",
       "      <th>50%</th>\n",
       "      <td>619.000000</td>\n",
       "      <td>56.000000</td>\n",
       "      <td>1.500000</td>\n",
       "      <td>0.000000</td>\n",
       "      <td>2.000000</td>\n",
       "      <td>1.000000</td>\n",
       "      <td>1.000000</td>\n",
       "      <td>0.000000</td>\n",
       "      <td>42.966667</td>\n",
       "    </tr>\n",
       "    <tr>\n",
       "      <th>75%</th>\n",
       "      <td>931.500000</td>\n",
       "      <td>66.500000</td>\n",
       "      <td>2.200000</td>\n",
       "      <td>0.000000</td>\n",
       "      <td>3.000000</td>\n",
       "      <td>1.000000</td>\n",
       "      <td>1.000000</td>\n",
       "      <td>0.000000</td>\n",
       "      <td>65.583333</td>\n",
       "    </tr>\n",
       "    <tr>\n",
       "      <th>max</th>\n",
       "      <td>1266.000000</td>\n",
       "      <td>88.000000</td>\n",
       "      <td>7.000000</td>\n",
       "      <td>35.000000</td>\n",
       "      <td>3.000000</td>\n",
       "      <td>1.000000</td>\n",
       "      <td>1.000000</td>\n",
       "      <td>1.000000</td>\n",
       "      <td>133.800000</td>\n",
       "    </tr>\n",
       "  </tbody>\n",
       "</table>\n",
       "</div>"
      ],
      "text/plain": [
       "                id          age     pathsize        lnpos    histgrad  \\\n",
       "count  1207.000000  1207.000000  1121.000000  1207.000000  920.000000   \n",
       "mean    621.072080    56.387738     1.733488     0.880696    2.269565   \n",
       "std     359.623207    13.327627     0.995857     2.535457    0.607487   \n",
       "min       1.000000    22.000000     0.100000     0.000000    1.000000   \n",
       "25%     310.500000    46.000000     1.000000     0.000000    2.000000   \n",
       "50%     619.000000    56.000000     1.500000     0.000000    2.000000   \n",
       "75%     931.500000    66.500000     2.200000     0.000000    3.000000   \n",
       "max    1266.000000    88.000000     7.000000    35.000000    3.000000   \n",
       "\n",
       "               er          pr       status         time  \n",
       "count  869.000000  851.000000  1207.000000  1207.000000  \n",
       "mean     0.611047    0.542891     0.059652    46.956476  \n",
       "std      0.487793    0.498450     0.236939    29.638977  \n",
       "min      0.000000    0.000000     0.000000     2.633333  \n",
       "25%      0.000000    0.000000     0.000000    22.550000  \n",
       "50%      1.000000    1.000000     0.000000    42.966667  \n",
       "75%      1.000000    1.000000     0.000000    65.583333  \n",
       "max      1.000000    1.000000     1.000000   133.800000  "
      ]
     },
     "execution_count": 4,
     "metadata": {},
     "output_type": "execute_result"
    }
   ],
   "source": [
    "df.describe()"
   ]
  },
  {
   "cell_type": "code",
   "execution_count": 5,
   "id": "a411c6b5",
   "metadata": {
    "execution": {
     "iopub.execute_input": "2024-06-06T09:34:51.549123Z",
     "iopub.status.busy": "2024-06-06T09:34:51.548677Z",
     "iopub.status.idle": "2024-06-06T09:34:51.577486Z",
     "shell.execute_reply": "2024-06-06T09:34:51.576386Z"
    },
    "papermill": {
     "duration": 0.048862,
     "end_time": "2024-06-06T09:34:51.580238",
     "exception": false,
     "start_time": "2024-06-06T09:34:51.531376",
     "status": "completed"
    },
    "tags": []
   },
   "outputs": [
    {
     "name": "stdout",
     "output_type": "stream",
     "text": [
      "<class 'pandas.core.frame.DataFrame'>\n",
      "RangeIndex: 1207 entries, 0 to 1206\n",
      "Data columns (total 9 columns):\n",
      " #   Column    Non-Null Count  Dtype  \n",
      "---  ------    --------------  -----  \n",
      " 0   id        1207 non-null   float64\n",
      " 1   age       1207 non-null   float64\n",
      " 2   pathsize  1121 non-null   float64\n",
      " 3   lnpos     1207 non-null   float64\n",
      " 4   histgrad  920 non-null    float64\n",
      " 5   er        869 non-null    float64\n",
      " 6   pr        851 non-null    float64\n",
      " 7   status    1207 non-null   float64\n",
      " 8   time      1207 non-null   float64\n",
      "dtypes: float64(9)\n",
      "memory usage: 85.0 KB\n"
     ]
    }
   ],
   "source": [
    "df.info()"
   ]
  },
  {
   "cell_type": "markdown",
   "id": "2ce6b8a7",
   "metadata": {
    "papermill": {
     "duration": 0.014442,
     "end_time": "2024-06-06T09:34:51.610058",
     "exception": false,
     "start_time": "2024-06-06T09:34:51.595616",
     "status": "completed"
    },
    "tags": []
   },
   "source": [
    "**Identifying Categorical Variables**\n",
    "histgrad\n",
    "Based on the data inspection, we identified four categorical columns: 'histgrad', 'er', 'pr', and 'status'. These columns contain categorical data that need to be converted into a format suitable for analysis and modeling."
   ]
  },
  {
   "cell_type": "code",
   "execution_count": 6,
   "id": "c50fa23b",
   "metadata": {
    "execution": {
     "iopub.execute_input": "2024-06-06T09:34:51.641343Z",
     "iopub.status.busy": "2024-06-06T09:34:51.640868Z",
     "iopub.status.idle": "2024-06-06T09:34:51.659329Z",
     "shell.execute_reply": "2024-06-06T09:34:51.658089Z"
    },
    "papermill": {
     "duration": 0.036823,
     "end_time": "2024-06-06T09:34:51.662002",
     "exception": false,
     "start_time": "2024-06-06T09:34:51.625179",
     "status": "completed"
    },
    "tags": []
   },
   "outputs": [],
   "source": [
    "# List of categorical columns\n",
    "categorical_columns = ['histgrad', 'er', 'pr', 'status']\n",
    "\n",
    "# Using a for loop to convert columns to string type\n",
    "for col in categorical_columns:\n",
    "    df[col] = df[col].astype(str).replace('nan',np.nan)\n",
    "    \n",
    "# in the \"histgrad\" column by converting them from 'nan' (string) to np.nan (actual NaN object). \n",
    "# this ensures that these values are treated appropriately in analyses as missing data rather than as a category. "
   ]
  },
  {
   "cell_type": "code",
   "execution_count": 7,
   "id": "98a41f32",
   "metadata": {
    "execution": {
     "iopub.execute_input": "2024-06-06T09:34:51.693312Z",
     "iopub.status.busy": "2024-06-06T09:34:51.692836Z",
     "iopub.status.idle": "2024-06-06T09:34:51.700643Z",
     "shell.execute_reply": "2024-06-06T09:34:51.699219Z"
    },
    "papermill": {
     "duration": 0.027141,
     "end_time": "2024-06-06T09:34:51.703505",
     "exception": false,
     "start_time": "2024-06-06T09:34:51.676364",
     "status": "completed"
    },
    "tags": []
   },
   "outputs": [
    {
     "name": "stdout",
     "output_type": "stream",
     "text": [
      "id          float64\n",
      "age         float64\n",
      "pathsize    float64\n",
      "lnpos       float64\n",
      "histgrad     object\n",
      "er           object\n",
      "pr           object\n",
      "status       object\n",
      "time        float64\n",
      "dtype: object\n"
     ]
    }
   ],
   "source": [
    "# Display the updated data types to confirm the changes\n",
    "print(df.dtypes)"
   ]
  },
  {
   "cell_type": "code",
   "execution_count": 8,
   "id": "e90a636e",
   "metadata": {
    "execution": {
     "iopub.execute_input": "2024-06-06T09:34:51.734091Z",
     "iopub.status.busy": "2024-06-06T09:34:51.733647Z",
     "iopub.status.idle": "2024-06-06T09:34:51.747837Z",
     "shell.execute_reply": "2024-06-06T09:34:51.746703Z"
    },
    "papermill": {
     "duration": 0.032781,
     "end_time": "2024-06-06T09:34:51.750861",
     "exception": false,
     "start_time": "2024-06-06T09:34:51.718080",
     "status": "completed"
    },
    "tags": []
   },
   "outputs": [
    {
     "name": "stdout",
     "output_type": "stream",
     "text": [
      "<class 'pandas.core.frame.DataFrame'>\n",
      "RangeIndex: 1207 entries, 0 to 1206\n",
      "Data columns (total 9 columns):\n",
      " #   Column    Non-Null Count  Dtype  \n",
      "---  ------    --------------  -----  \n",
      " 0   id        1207 non-null   float64\n",
      " 1   age       1207 non-null   float64\n",
      " 2   pathsize  1121 non-null   float64\n",
      " 3   lnpos     1207 non-null   float64\n",
      " 4   histgrad  920 non-null    object \n",
      " 5   er        869 non-null    object \n",
      " 6   pr        851 non-null    object \n",
      " 7   status    1207 non-null   object \n",
      " 8   time      1207 non-null   float64\n",
      "dtypes: float64(5), object(4)\n",
      "memory usage: 85.0+ KB\n"
     ]
    }
   ],
   "source": [
    "df.info()"
   ]
  },
  {
   "cell_type": "code",
   "execution_count": 9,
   "id": "9b3e5413",
   "metadata": {
    "execution": {
     "iopub.execute_input": "2024-06-06T09:34:51.782524Z",
     "iopub.status.busy": "2024-06-06T09:34:51.782036Z",
     "iopub.status.idle": "2024-06-06T09:34:51.788124Z",
     "shell.execute_reply": "2024-06-06T09:34:51.786603Z"
    },
    "papermill": {
     "duration": 0.025161,
     "end_time": "2024-06-06T09:34:51.790888",
     "exception": false,
     "start_time": "2024-06-06T09:34:51.765727",
     "status": "completed"
    },
    "tags": []
   },
   "outputs": [],
   "source": [
    "categorical_columns = ['histgrad', 'er', 'pr', 'status']\n",
    "continuous_columns = ['age', 'pathsize', 'lnpos', 'time']"
   ]
  },
  {
   "cell_type": "code",
   "execution_count": 10,
   "id": "5adbb010",
   "metadata": {
    "execution": {
     "iopub.execute_input": "2024-06-06T09:34:51.822963Z",
     "iopub.status.busy": "2024-06-06T09:34:51.822553Z",
     "iopub.status.idle": "2024-06-06T09:34:51.837457Z",
     "shell.execute_reply": "2024-06-06T09:34:51.836232Z"
    },
    "papermill": {
     "duration": 0.034407,
     "end_time": "2024-06-06T09:34:51.840421",
     "exception": false,
     "start_time": "2024-06-06T09:34:51.806014",
     "status": "completed"
    },
    "tags": []
   },
   "outputs": [
    {
     "name": "stdout",
     "output_type": "stream",
     "text": [
      "Frequency table for histgrad:\n",
      "histgrad\n",
      "2.0    514\n",
      "3.0    327\n",
      "1.0     79\n",
      "Name: count, dtype: int64\n",
      "\n",
      "Mode for histgrad: 2.0\n",
      "\n",
      "************************************************************\n",
      "Frequency table for er:\n",
      "er\n",
      "1.0    531\n",
      "0.0    338\n",
      "Name: count, dtype: int64\n",
      "\n",
      "Mode for er: 1.0\n",
      "\n",
      "************************************************************\n",
      "Frequency table for pr:\n",
      "pr\n",
      "1.0    462\n",
      "0.0    389\n",
      "Name: count, dtype: int64\n",
      "\n",
      "Mode for pr: 1.0\n",
      "\n",
      "************************************************************\n",
      "Frequency table for status:\n",
      "status\n",
      "0.0    1135\n",
      "1.0      72\n",
      "Name: count, dtype: int64\n",
      "\n",
      "Mode for status: 0.0\n",
      "\n",
      "************************************************************\n"
     ]
    }
   ],
   "source": [
    "# Generate frequency tables and find the mode for each categorical column\n",
    "for col in ['histgrad', 'er', 'pr', 'status']:\n",
    "    frequency_table = df[col].value_counts()\n",
    "    mode_value = df[col].mode()[0]\n",
    "    print(f\"Frequency table for {col}:\\n{frequency_table}\\n\")\n",
    "    print(f\"Mode for {col}: {mode_value}\\n\")\n",
    "    print('**'*30)"
   ]
  },
  {
   "cell_type": "code",
   "execution_count": 11,
   "id": "8e2648f2",
   "metadata": {
    "execution": {
     "iopub.execute_input": "2024-06-06T09:34:51.875082Z",
     "iopub.status.busy": "2024-06-06T09:34:51.874646Z",
     "iopub.status.idle": "2024-06-06T09:34:51.903309Z",
     "shell.execute_reply": "2024-06-06T09:34:51.901841Z"
    },
    "papermill": {
     "duration": 0.049396,
     "end_time": "2024-06-06T09:34:51.906665",
     "exception": false,
     "start_time": "2024-06-06T09:34:51.857269",
     "status": "completed"
    },
    "tags": []
   },
   "outputs": [
    {
     "data": {
      "text/html": [
       "<div>\n",
       "<style scoped>\n",
       "    .dataframe tbody tr th:only-of-type {\n",
       "        vertical-align: middle;\n",
       "    }\n",
       "\n",
       "    .dataframe tbody tr th {\n",
       "        vertical-align: top;\n",
       "    }\n",
       "\n",
       "    .dataframe thead th {\n",
       "        text-align: right;\n",
       "    }\n",
       "</style>\n",
       "<table border=\"1\" class=\"dataframe\">\n",
       "  <thead>\n",
       "    <tr style=\"text-align: right;\">\n",
       "      <th></th>\n",
       "      <th>age</th>\n",
       "      <th>pathsize</th>\n",
       "      <th>lnpos</th>\n",
       "      <th>time</th>\n",
       "    </tr>\n",
       "  </thead>\n",
       "  <tbody>\n",
       "    <tr>\n",
       "      <th>count</th>\n",
       "      <td>1207.000000</td>\n",
       "      <td>1121.000000</td>\n",
       "      <td>1207.000000</td>\n",
       "      <td>1207.000000</td>\n",
       "    </tr>\n",
       "    <tr>\n",
       "      <th>mean</th>\n",
       "      <td>56.387738</td>\n",
       "      <td>1.733488</td>\n",
       "      <td>0.880696</td>\n",
       "      <td>46.956476</td>\n",
       "    </tr>\n",
       "    <tr>\n",
       "      <th>std</th>\n",
       "      <td>13.327627</td>\n",
       "      <td>0.995857</td>\n",
       "      <td>2.535457</td>\n",
       "      <td>29.638977</td>\n",
       "    </tr>\n",
       "    <tr>\n",
       "      <th>min</th>\n",
       "      <td>22.000000</td>\n",
       "      <td>0.100000</td>\n",
       "      <td>0.000000</td>\n",
       "      <td>2.633333</td>\n",
       "    </tr>\n",
       "    <tr>\n",
       "      <th>25%</th>\n",
       "      <td>46.000000</td>\n",
       "      <td>1.000000</td>\n",
       "      <td>0.000000</td>\n",
       "      <td>22.550000</td>\n",
       "    </tr>\n",
       "    <tr>\n",
       "      <th>50%</th>\n",
       "      <td>56.000000</td>\n",
       "      <td>1.500000</td>\n",
       "      <td>0.000000</td>\n",
       "      <td>42.966667</td>\n",
       "    </tr>\n",
       "    <tr>\n",
       "      <th>75%</th>\n",
       "      <td>66.500000</td>\n",
       "      <td>2.200000</td>\n",
       "      <td>0.000000</td>\n",
       "      <td>65.583333</td>\n",
       "    </tr>\n",
       "    <tr>\n",
       "      <th>max</th>\n",
       "      <td>88.000000</td>\n",
       "      <td>7.000000</td>\n",
       "      <td>35.000000</td>\n",
       "      <td>133.800000</td>\n",
       "    </tr>\n",
       "  </tbody>\n",
       "</table>\n",
       "</div>"
      ],
      "text/plain": [
       "               age     pathsize        lnpos         time\n",
       "count  1207.000000  1121.000000  1207.000000  1207.000000\n",
       "mean     56.387738     1.733488     0.880696    46.956476\n",
       "std      13.327627     0.995857     2.535457    29.638977\n",
       "min      22.000000     0.100000     0.000000     2.633333\n",
       "25%      46.000000     1.000000     0.000000    22.550000\n",
       "50%      56.000000     1.500000     0.000000    42.966667\n",
       "75%      66.500000     2.200000     0.000000    65.583333\n",
       "max      88.000000     7.000000    35.000000   133.800000"
      ]
     },
     "execution_count": 11,
     "metadata": {},
     "output_type": "execute_result"
    }
   ],
   "source": [
    "df[continuous_columns].describe()"
   ]
  },
  {
   "cell_type": "markdown",
   "id": "41e9f6be",
   "metadata": {
    "papermill": {
     "duration": 0.015048,
     "end_time": "2024-06-06T09:34:51.936728",
     "exception": false,
     "start_time": "2024-06-06T09:34:51.921680",
     "status": "completed"
    },
    "tags": []
   },
   "source": [
    "# Advanced statistical calculations for continuous_columns"
   ]
  },
  {
   "cell_type": "code",
   "execution_count": 12,
   "id": "09ba5ff4",
   "metadata": {
    "execution": {
     "iopub.execute_input": "2024-06-06T09:34:51.970501Z",
     "iopub.status.busy": "2024-06-06T09:34:51.970065Z",
     "iopub.status.idle": "2024-06-06T09:34:51.991933Z",
     "shell.execute_reply": "2024-06-06T09:34:51.990388Z"
    },
    "papermill": {
     "duration": 0.042303,
     "end_time": "2024-06-06T09:34:51.994732",
     "exception": false,
     "start_time": "2024-06-06T09:34:51.952429",
     "status": "completed"
    },
    "tags": []
   },
   "outputs": [
    {
     "name": "stdout",
     "output_type": "stream",
     "text": [
      "Variance:\n",
      " age         177.625654\n",
      "pathsize      0.991730\n",
      "lnpos         6.428541\n",
      "time        878.468930\n",
      "dtype: float64\n",
      "************************************************************\n",
      "Skewness:\n",
      " age         0.049489\n",
      "pathsize    1.340715\n",
      "lnpos       5.346459\n",
      "time        0.630557\n",
      "dtype: float64\n",
      "************************************************************\n",
      "Kurtosis:\n",
      " age         -0.765026\n",
      "pathsize     2.659314\n",
      "lnpos       43.047260\n",
      "time        -0.239387\n",
      "dtype: float64\n",
      "************************************************************\n",
      "Interquartile Range (IQR):\n",
      " age         20.500000\n",
      "pathsize     1.200000\n",
      "lnpos        0.000000\n",
      "time        43.033333\n",
      "dtype: float64\n"
     ]
    }
   ],
   "source": [
    "variance = df[continuous_columns].var()\n",
    "skewness = df[continuous_columns].skew()\n",
    "kurtosis_values = df[continuous_columns].kurt()\n",
    "Q1 = df[continuous_columns].quantile(0.25)\n",
    "Q3 = df[continuous_columns].quantile(0.75)\n",
    "IQR = Q3 - Q1\n",
    "\n",
    "# Displaying the advanced statistics\n",
    "print(\"Variance:\\n\", variance)\n",
    "print(\"**\"*30)\n",
    "print(\"Skewness:\\n\", skewness)\n",
    "print(\"**\"*30)\n",
    "print(\"Kurtosis:\\n\", kurtosis_values)\n",
    "print(\"**\"*30)\n",
    "print(\"Interquartile Range (IQR):\\n\", IQR)"
   ]
  },
  {
   "cell_type": "code",
   "execution_count": 13,
   "id": "dacc9334",
   "metadata": {
    "execution": {
     "iopub.execute_input": "2024-06-06T09:34:52.028528Z",
     "iopub.status.busy": "2024-06-06T09:34:52.028108Z",
     "iopub.status.idle": "2024-06-06T09:34:52.060606Z",
     "shell.execute_reply": "2024-06-06T09:34:52.059019Z"
    },
    "papermill": {
     "duration": 0.052109,
     "end_time": "2024-06-06T09:34:52.063344",
     "exception": false,
     "start_time": "2024-06-06T09:34:52.011235",
     "status": "completed"
    },
    "tags": []
   },
   "outputs": [
    {
     "data": {
      "text/html": [
       "<div>\n",
       "<style scoped>\n",
       "    .dataframe tbody tr th:only-of-type {\n",
       "        vertical-align: middle;\n",
       "    }\n",
       "\n",
       "    .dataframe tbody tr th {\n",
       "        vertical-align: top;\n",
       "    }\n",
       "\n",
       "    .dataframe thead th {\n",
       "        text-align: right;\n",
       "    }\n",
       "</style>\n",
       "<table border=\"1\" class=\"dataframe\">\n",
       "  <thead>\n",
       "    <tr style=\"text-align: right;\">\n",
       "      <th></th>\n",
       "      <th>Variance</th>\n",
       "      <th>Skewness</th>\n",
       "      <th>Kurtosis</th>\n",
       "      <th>Q1</th>\n",
       "      <th>Q3</th>\n",
       "      <th>IQR</th>\n",
       "    </tr>\n",
       "  </thead>\n",
       "  <tbody>\n",
       "    <tr>\n",
       "      <th>age</th>\n",
       "      <td>177.625654</td>\n",
       "      <td>0.049489</td>\n",
       "      <td>-0.765026</td>\n",
       "      <td>46.00</td>\n",
       "      <td>66.500000</td>\n",
       "      <td>20.500000</td>\n",
       "    </tr>\n",
       "    <tr>\n",
       "      <th>pathsize</th>\n",
       "      <td>0.991730</td>\n",
       "      <td>1.340715</td>\n",
       "      <td>2.659314</td>\n",
       "      <td>1.00</td>\n",
       "      <td>2.200000</td>\n",
       "      <td>1.200000</td>\n",
       "    </tr>\n",
       "    <tr>\n",
       "      <th>lnpos</th>\n",
       "      <td>6.428541</td>\n",
       "      <td>5.346459</td>\n",
       "      <td>43.047260</td>\n",
       "      <td>0.00</td>\n",
       "      <td>0.000000</td>\n",
       "      <td>0.000000</td>\n",
       "    </tr>\n",
       "    <tr>\n",
       "      <th>time</th>\n",
       "      <td>878.468930</td>\n",
       "      <td>0.630557</td>\n",
       "      <td>-0.239387</td>\n",
       "      <td>22.55</td>\n",
       "      <td>65.583333</td>\n",
       "      <td>43.033333</td>\n",
       "    </tr>\n",
       "  </tbody>\n",
       "</table>\n",
       "</div>"
      ],
      "text/plain": [
       "            Variance  Skewness   Kurtosis     Q1         Q3        IQR\n",
       "age       177.625654  0.049489  -0.765026  46.00  66.500000  20.500000\n",
       "pathsize    0.991730  1.340715   2.659314   1.00   2.200000   1.200000\n",
       "lnpos       6.428541  5.346459  43.047260   0.00   0.000000   0.000000\n",
       "time      878.468930  0.630557  -0.239387  22.55  65.583333  43.033333"
      ]
     },
     "execution_count": 13,
     "metadata": {},
     "output_type": "execute_result"
    }
   ],
   "source": [
    "# Calculate various advanced statistics\n",
    "variance = df[continuous_columns].var().rename(\"Variance\")\n",
    "skewness = df[continuous_columns].skew().rename(\"Skewness\")\n",
    "kurtosis_values = df[continuous_columns].kurt().rename(\"Kurtosis\")\n",
    "Q1 = df[continuous_columns].quantile(0.25).rename(\"Q1\")\n",
    "Q3 = df[continuous_columns].quantile(0.75).rename(\"Q3\")\n",
    "IQR = (Q3 - Q1).rename(\"IQR\")\n",
    "\n",
    "# Combine all statistics into a single DataFrame for easy comparison\n",
    "advanced_stats = pd.concat([variance, skewness, kurtosis_values, Q1, Q3, IQR], axis=1)\n",
    "\n",
    "# Display the results\n",
    "advanced_stats"
   ]
  },
  {
   "cell_type": "code",
   "execution_count": 14,
   "id": "de5c36c7",
   "metadata": {
    "execution": {
     "iopub.execute_input": "2024-06-06T09:34:52.096056Z",
     "iopub.status.busy": "2024-06-06T09:34:52.095630Z",
     "iopub.status.idle": "2024-06-06T09:34:52.130623Z",
     "shell.execute_reply": "2024-06-06T09:34:52.129482Z"
    },
    "papermill": {
     "duration": 0.054536,
     "end_time": "2024-06-06T09:34:52.133385",
     "exception": false,
     "start_time": "2024-06-06T09:34:52.078849",
     "status": "completed"
    },
    "tags": []
   },
   "outputs": [
    {
     "data": {
      "text/html": [
       "<div>\n",
       "<style scoped>\n",
       "    .dataframe tbody tr th:only-of-type {\n",
       "        vertical-align: middle;\n",
       "    }\n",
       "\n",
       "    .dataframe tbody tr th {\n",
       "        vertical-align: top;\n",
       "    }\n",
       "\n",
       "    .dataframe thead th {\n",
       "        text-align: right;\n",
       "    }\n",
       "</style>\n",
       "<table border=\"1\" class=\"dataframe\">\n",
       "  <thead>\n",
       "    <tr style=\"text-align: right;\">\n",
       "      <th></th>\n",
       "      <th>Mean</th>\n",
       "      <th>Median</th>\n",
       "      <th>Std</th>\n",
       "      <th>Variance</th>\n",
       "      <th>Min</th>\n",
       "      <th>25%</th>\n",
       "      <th>75%</th>\n",
       "      <th>Max</th>\n",
       "      <th>Skewness</th>\n",
       "      <th>Kurtosis</th>\n",
       "    </tr>\n",
       "  </thead>\n",
       "  <tbody>\n",
       "    <tr>\n",
       "      <th>age</th>\n",
       "      <td>56.387738</td>\n",
       "      <td>56.000000</td>\n",
       "      <td>13.327627</td>\n",
       "      <td>177.625654</td>\n",
       "      <td>22.000000</td>\n",
       "      <td>46.00</td>\n",
       "      <td>66.500000</td>\n",
       "      <td>88.0</td>\n",
       "      <td>0.049489</td>\n",
       "      <td>-0.765026</td>\n",
       "    </tr>\n",
       "    <tr>\n",
       "      <th>pathsize</th>\n",
       "      <td>1.733488</td>\n",
       "      <td>1.500000</td>\n",
       "      <td>0.995857</td>\n",
       "      <td>0.991730</td>\n",
       "      <td>0.100000</td>\n",
       "      <td>1.00</td>\n",
       "      <td>2.200000</td>\n",
       "      <td>7.0</td>\n",
       "      <td>1.340715</td>\n",
       "      <td>2.659314</td>\n",
       "    </tr>\n",
       "    <tr>\n",
       "      <th>lnpos</th>\n",
       "      <td>0.880696</td>\n",
       "      <td>0.000000</td>\n",
       "      <td>2.535457</td>\n",
       "      <td>6.428541</td>\n",
       "      <td>0.000000</td>\n",
       "      <td>0.00</td>\n",
       "      <td>0.000000</td>\n",
       "      <td>35.0</td>\n",
       "      <td>5.346459</td>\n",
       "      <td>43.047260</td>\n",
       "    </tr>\n",
       "    <tr>\n",
       "      <th>time</th>\n",
       "      <td>46.956476</td>\n",
       "      <td>42.966667</td>\n",
       "      <td>29.638977</td>\n",
       "      <td>878.468930</td>\n",
       "      <td>2.633333</td>\n",
       "      <td>22.55</td>\n",
       "      <td>65.583333</td>\n",
       "      <td>133.8</td>\n",
       "      <td>0.630557</td>\n",
       "      <td>-0.239387</td>\n",
       "    </tr>\n",
       "  </tbody>\n",
       "</table>\n",
       "</div>"
      ],
      "text/plain": [
       "               Mean     Median        Std    Variance        Min    25%  \\\n",
       "age       56.387738  56.000000  13.327627  177.625654  22.000000  46.00   \n",
       "pathsize   1.733488   1.500000   0.995857    0.991730   0.100000   1.00   \n",
       "lnpos      0.880696   0.000000   2.535457    6.428541   0.000000   0.00   \n",
       "time      46.956476  42.966667  29.638977  878.468930   2.633333  22.55   \n",
       "\n",
       "                75%    Max  Skewness   Kurtosis  \n",
       "age       66.500000   88.0  0.049489  -0.765026  \n",
       "pathsize   2.200000    7.0  1.340715   2.659314  \n",
       "lnpos      0.000000   35.0  5.346459  43.047260  \n",
       "time      65.583333  133.8  0.630557  -0.239387  "
      ]
     },
     "execution_count": 14,
     "metadata": {},
     "output_type": "execute_result"
    }
   ],
   "source": [
    "# Define the continuous columns\n",
    "continuous_columns = ['age', 'pathsize', 'lnpos', 'time']\n",
    "\n",
    "# Initialize a dictionary to hold the results\n",
    "results = {}\n",
    "\n",
    "# Loop over each continuous variable to calculate statistics\n",
    "for col in continuous_columns:\n",
    "    # Collecting all statistics for the column\n",
    "    stats = {\n",
    "        'Mean': df[col].mean(),\n",
    "        'Median': df[col].median(),\n",
    "        'Std': df[col].std(),\n",
    "        'Variance': df[col].var(),\n",
    "        'Min': df[col].min(),\n",
    "        '25%': df[col].quantile(0.25),\n",
    "        '75%': df[col].quantile(0.75),\n",
    "        'Max': df[col].max(),\n",
    "        'Skewness': df[col].skew(),\n",
    "        'Kurtosis': df[col].kurt()\n",
    "    }\n",
    "    results[col] = stats\n",
    "\n",
    "# Convert the dictionary to a DataFrame\n",
    "stats_df = pd.DataFrame(results)\n",
    "\n",
    "# Transpose the DataFrame to get variables as columns and statistics as rows\n",
    "stats_df = stats_df.T\n",
    "\n",
    "# Print the resulting DataFrame\n",
    "stats_df"
   ]
  },
  {
   "cell_type": "markdown",
   "id": "55eeaf60",
   "metadata": {
    "papermill": {
     "duration": 0.016757,
     "end_time": "2024-06-06T09:34:52.165557",
     "exception": false,
     "start_time": "2024-06-06T09:34:52.148800",
     "status": "completed"
    },
    "tags": []
   },
   "source": [
    "# Distribution Analysis of Continuous Variables"
   ]
  },
  {
   "cell_type": "code",
   "execution_count": 15,
   "id": "386da4a8",
   "metadata": {
    "execution": {
     "iopub.execute_input": "2024-06-06T09:34:52.198698Z",
     "iopub.status.busy": "2024-06-06T09:34:52.198316Z",
     "iopub.status.idle": "2024-06-06T09:34:54.088106Z",
     "shell.execute_reply": "2024-06-06T09:34:54.086901Z"
    },
    "papermill": {
     "duration": 1.910384,
     "end_time": "2024-06-06T09:34:54.091642",
     "exception": false,
     "start_time": "2024-06-06T09:34:52.181258",
     "status": "completed"
    },
    "tags": []
   },
   "outputs": [
    {
     "name": "stderr",
     "output_type": "stream",
     "text": [
      "/opt/conda/lib/python3.10/site-packages/seaborn/_oldcore.py:1119: FutureWarning: use_inf_as_na option is deprecated and will be removed in a future version. Convert inf values to NaN before operating instead.\n",
      "  with pd.option_context('mode.use_inf_as_na', True):\n",
      "/opt/conda/lib/python3.10/site-packages/seaborn/_oldcore.py:1119: FutureWarning: use_inf_as_na option is deprecated and will be removed in a future version. Convert inf values to NaN before operating instead.\n",
      "  with pd.option_context('mode.use_inf_as_na', True):\n",
      "/opt/conda/lib/python3.10/site-packages/seaborn/_oldcore.py:1119: FutureWarning: use_inf_as_na option is deprecated and will be removed in a future version. Convert inf values to NaN before operating instead.\n",
      "  with pd.option_context('mode.use_inf_as_na', True):\n",
      "/opt/conda/lib/python3.10/site-packages/seaborn/_oldcore.py:1119: FutureWarning: use_inf_as_na option is deprecated and will be removed in a future version. Convert inf values to NaN before operating instead.\n",
      "  with pd.option_context('mode.use_inf_as_na', True):\n"
     ]
    },
    {
     "data": {
      "image/png": "[encoded data removed]",
      "text/plain": [
       "<Figure size 2000x500 with 4 Axes>"
      ]
     },
     "metadata": {},
     "output_type": "display_data"
    }
   ],
   "source": [
    "# Prepare to plot histograms for continuous variables\n",
    "plt.figure(figsize=(20, 5))  # Adjust figure size for clarity\n",
    "\n",
    "# Create a histogram for each continuous variable\n",
    "for i, col in enumerate(continuous_columns):\n",
    "    plt.subplot(1, len(continuous_columns), i+1)  # Arrange subplots in a single row\n",
    "    sns.histplot(df[col], kde=True, color=\"blue\")  # Adding KDE to smooth histogram\n",
    "    plt.title(f'Histogram of {col}')  # Title for each histogram\n",
    "    plt.xlabel(col)  # x-axis label\n",
    "    plt.ylabel('Frequency')  # y-axis label\n",
    "\n",
    "# Display the histograms\n",
    "plt.tight_layout()  # Ensure there is no overlap of plots\n",
    "plt.show()"
   ]
  },
  {
   "cell_type": "markdown",
   "id": "073fd6c7",
   "metadata": {
    "papermill": {
     "duration": 0.017746,
     "end_time": "2024-06-06T09:34:54.127264",
     "exception": false,
     "start_time": "2024-06-06T09:34:54.109518",
     "status": "completed"
    },
    "tags": []
   },
   "source": [
    "# Discretization of the 'lnpos' Variable"
   ]
  },
  {
   "cell_type": "code",
   "execution_count": 16,
   "id": "b84449da",
   "metadata": {
    "execution": {
     "iopub.execute_input": "2024-06-06T09:34:54.165505Z",
     "iopub.status.busy": "2024-06-06T09:34:54.165025Z",
     "iopub.status.idle": "2024-06-06T09:34:54.191400Z",
     "shell.execute_reply": "2024-06-06T09:34:54.188629Z"
    },
    "papermill": {
     "duration": 0.049683,
     "end_time": "2024-06-06T09:34:54.194855",
     "exception": false,
     "start_time": "2024-06-06T09:34:54.145172",
     "status": "completed"
    },
    "tags": []
   },
   "outputs": [
    {
     "name": "stdout",
     "output_type": "stream",
     "text": [
      "   lnpos lnpos_YN\n",
      "0    0.0       No\n",
      "1    0.0       No\n",
      "2    0.0       No\n",
      "3    0.0       No\n",
      "4    0.0       No\n",
      "      lnpos lnpos_YN\n",
      "1202    5.0      Yes\n",
      "1203    0.0       No\n",
      "1204    7.0      Yes\n",
      "1205   11.0      Yes\n",
      "1206    0.0       No\n"
     ]
    }
   ],
   "source": [
    "\n",
    "# Check the unique values\n",
    "unique_values = df['lnpos'].unique()\n",
    "\n",
    "if len(unique_values) > 1:\n",
    "    # Define the bins by directly dividing the range into two\n",
    "    min_value = df['lnpos'].min()\n",
    "    max_value = df['lnpos'].max()\n",
    "    median_value = df['lnpos'].median()\n",
    "\n",
    "    # Adjust bin edges if necessary to ensure they are unique\n",
    "    bins = [min_value - 0.1, median_value, max_value]\n",
    "\n",
    "    # Use pd.cut to discretize 'lnpos'\n",
    "    df['lnpos_YN'] = pd.cut(df['lnpos'], bins=bins, labels=['No', 'Yes'], include_lowest=True)\n",
    "\n",
    "# If only one unique value, handle separately\n",
    "else:\n",
    "    df['lnpos_YN'] = 'Yes'  # or 'No', depending on your analysis needs\n",
    "\n",
    "# Verify the discretization by checking the first few rows\n",
    "print(df[['lnpos', 'lnpos_YN']].head())\n",
    "print(df[['lnpos', 'lnpos_YN']].tail())"
   ]
  },
  {
   "cell_type": "code",
   "execution_count": 17,
   "id": "12e44d64",
   "metadata": {
    "execution": {
     "iopub.execute_input": "2024-06-06T09:34:54.235630Z",
     "iopub.status.busy": "2024-06-06T09:34:54.235233Z",
     "iopub.status.idle": "2024-06-06T09:34:54.247537Z",
     "shell.execute_reply": "2024-06-06T09:34:54.245598Z"
    },
    "papermill": {
     "duration": 0.036098,
     "end_time": "2024-06-06T09:34:54.251217",
     "exception": false,
     "start_time": "2024-06-06T09:34:54.215119",
     "status": "completed"
    },
    "tags": []
   },
   "outputs": [
    {
     "data": {
      "text/plain": [
       "lnpos_YN\n",
       "No     929\n",
       "Yes    278\n",
       "Name: count, dtype: int64"
      ]
     },
     "execution_count": 17,
     "metadata": {},
     "output_type": "execute_result"
    }
   ],
   "source": [
    "# Calculate the frequency table for 'lnpos_YN'\n",
    "lnpos_YN_frequency = df['lnpos_YN'].value_counts()\n",
    "lnpos_YN_frequency"
   ]
  },
  {
   "cell_type": "markdown",
   "id": "37eda488",
   "metadata": {
    "papermill": {
     "duration": 0.018069,
     "end_time": "2024-06-06T09:34:54.287764",
     "exception": false,
     "start_time": "2024-06-06T09:34:54.269695",
     "status": "completed"
    },
    "tags": []
   },
   "source": [
    "# Discretization of the 'pathsize' Variable"
   ]
  },
  {
   "cell_type": "code",
   "execution_count": 18,
   "id": "76959e69",
   "metadata": {
    "execution": {
     "iopub.execute_input": "2024-06-06T09:34:54.325665Z",
     "iopub.status.busy": "2024-06-06T09:34:54.325247Z",
     "iopub.status.idle": "2024-06-06T09:34:54.341382Z",
     "shell.execute_reply": "2024-06-06T09:34:54.340282Z"
    },
    "papermill": {
     "duration": 0.038201,
     "end_time": "2024-06-06T09:34:54.344164",
     "exception": false,
     "start_time": "2024-06-06T09:34:54.305963",
     "status": "completed"
    },
    "tags": []
   },
   "outputs": [
    {
     "name": "stdout",
     "output_type": "stream",
     "text": [
      "   pathsize pathsize_category\n",
      "0       NaN               NaN\n",
      "1       NaN               NaN\n",
      "2       NaN               NaN\n",
      "3       NaN               NaN\n",
      "4       NaN               NaN\n",
      "      pathsize pathsize_category\n",
      "1202       5.5                >5\n",
      "1203       6.0                >5\n",
      "1204       6.5                >5\n",
      "1205       5.5                >5\n",
      "1206       7.0                >5\n"
     ]
    }
   ],
   "source": [
    "# Define the bins and labels according to your specification\n",
    "bins = [-float('inf'), 2, 5, float('inf')]  # Extending bins to negative infinity\n",
    "labels = ['<2', '2 <= pathsize <= 5', '>5']\n",
    "\n",
    "# Use pd.cut to discretize 'pathsize'\n",
    "df['pathsize_category'] = pd.cut(df['pathsize'], bins=bins, labels=labels, include_lowest=True)\n",
    "\n",
    "# Verify the discretization by checking the first few rows\n",
    "print(df[['pathsize', 'pathsize_category']].head())\n",
    "print(df[['pathsize', 'pathsize_category']].tail())"
   ]
  },
  {
   "cell_type": "code",
   "execution_count": 19,
   "id": "3fcc4366",
   "metadata": {
    "execution": {
     "iopub.execute_input": "2024-06-06T09:34:54.384824Z",
     "iopub.status.busy": "2024-06-06T09:34:54.384432Z",
     "iopub.status.idle": "2024-06-06T09:34:54.395463Z",
     "shell.execute_reply": "2024-06-06T09:34:54.394222Z"
    },
    "papermill": {
     "duration": 0.035151,
     "end_time": "2024-06-06T09:34:54.398047",
     "exception": false,
     "start_time": "2024-06-06T09:34:54.362896",
     "status": "completed"
    },
    "tags": []
   },
   "outputs": [
    {
     "data": {
      "text/plain": [
       "pathsize_category\n",
       "<2                    826\n",
       "2 <= pathsize <= 5    283\n",
       ">5                     12\n",
       "Name: count, dtype: int64"
      ]
     },
     "execution_count": 19,
     "metadata": {},
     "output_type": "execute_result"
    }
   ],
   "source": [
    "# Calculate the frequency table for 'pathsize_category'\n",
    "pathsize_category_frequency = df['pathsize_category'].value_counts()\n",
    "pathsize_category_frequency"
   ]
  },
  {
   "cell_type": "code",
   "execution_count": 20,
   "id": "775641a1",
   "metadata": {
    "execution": {
     "iopub.execute_input": "2024-06-06T09:34:54.437827Z",
     "iopub.status.busy": "2024-06-06T09:34:54.437394Z",
     "iopub.status.idle": "2024-06-06T09:34:54.453700Z",
     "shell.execute_reply": "2024-06-06T09:34:54.452380Z"
    },
    "papermill": {
     "duration": 0.03975,
     "end_time": "2024-06-06T09:34:54.456716",
     "exception": false,
     "start_time": "2024-06-06T09:34:54.416966",
     "status": "completed"
    },
    "tags": []
   },
   "outputs": [
    {
     "name": "stdout",
     "output_type": "stream",
     "text": [
      "<class 'pandas.core.frame.DataFrame'>\n",
      "RangeIndex: 1207 entries, 0 to 1206\n",
      "Data columns (total 11 columns):\n",
      " #   Column             Non-Null Count  Dtype   \n",
      "---  ------             --------------  -----   \n",
      " 0   id                 1207 non-null   float64 \n",
      " 1   age                1207 non-null   float64 \n",
      " 2   pathsize           1121 non-null   float64 \n",
      " 3   lnpos              1207 non-null   float64 \n",
      " 4   histgrad           920 non-null    object  \n",
      " 5   er                 869 non-null    object  \n",
      " 6   pr                 851 non-null    object  \n",
      " 7   status             1207 non-null   object  \n",
      " 8   time               1207 non-null   float64 \n",
      " 9   lnpos_YN           1207 non-null   category\n",
      " 10  pathsize_category  1121 non-null   category\n",
      "dtypes: category(2), float64(5), object(4)\n",
      "memory usage: 87.6+ KB\n"
     ]
    }
   ],
   "source": [
    "df.info()"
   ]
  },
  {
   "cell_type": "markdown",
   "id": "78ada261",
   "metadata": {
    "papermill": {
     "duration": 0.018688,
     "end_time": "2024-06-06T09:34:54.494103",
     "exception": false,
     "start_time": "2024-06-06T09:34:54.475415",
     "status": "completed"
    },
    "tags": []
   },
   "source": [
    "# \"Can involved lymph nodes (lnpos_YN) and (pathsize_category) affect their status?\""
   ]
  },
  {
   "cell_type": "markdown",
   "id": "f9ad0de1",
   "metadata": {
    "papermill": {
     "duration": 0.022052,
     "end_time": "2024-06-06T09:34:54.536432",
     "exception": false,
     "start_time": "2024-06-06T09:34:54.514380",
     "status": "completed"
    },
    "tags": []
   },
   "source": [
    "**Analyzing the Impact of 'lnpos_YN' and 'pathsize_category' Involvement on Patient Status Through Cross-Tabulation**"
   ]
  },
  {
   "cell_type": "code",
   "execution_count": 21,
   "id": "ac3a1858",
   "metadata": {
    "execution": {
     "iopub.execute_input": "2024-06-06T09:34:54.648744Z",
     "iopub.status.busy": "2024-06-06T09:34:54.648071Z",
     "iopub.status.idle": "2024-06-06T09:34:54.678226Z",
     "shell.execute_reply": "2024-06-06T09:34:54.676932Z"
    },
    "papermill": {
     "duration": 0.125364,
     "end_time": "2024-06-06T09:34:54.680974",
     "exception": false,
     "start_time": "2024-06-06T09:34:54.555610",
     "status": "completed"
    },
    "tags": []
   },
   "outputs": [
    {
     "data": {
      "text/html": [
       "<div>\n",
       "<style scoped>\n",
       "    .dataframe tbody tr th:only-of-type {\n",
       "        vertical-align: middle;\n",
       "    }\n",
       "\n",
       "    .dataframe tbody tr th {\n",
       "        vertical-align: top;\n",
       "    }\n",
       "\n",
       "    .dataframe thead th {\n",
       "        text-align: right;\n",
       "    }\n",
       "</style>\n",
       "<table border=\"1\" class=\"dataframe\">\n",
       "  <thead>\n",
       "    <tr style=\"text-align: right;\">\n",
       "      <th>status</th>\n",
       "      <th>0.0</th>\n",
       "      <th>1.0</th>\n",
       "    </tr>\n",
       "    <tr>\n",
       "      <th>lnpos_YN</th>\n",
       "      <th></th>\n",
       "      <th></th>\n",
       "    </tr>\n",
       "  </thead>\n",
       "  <tbody>\n",
       "    <tr>\n",
       "      <th>No</th>\n",
       "      <td>0.954790</td>\n",
       "      <td>0.045210</td>\n",
       "    </tr>\n",
       "    <tr>\n",
       "      <th>Yes</th>\n",
       "      <td>0.892086</td>\n",
       "      <td>0.107914</td>\n",
       "    </tr>\n",
       "  </tbody>\n",
       "</table>\n",
       "</div>"
      ],
      "text/plain": [
       "status         0.0       1.0\n",
       "lnpos_YN                    \n",
       "No        0.954790  0.045210\n",
       "Yes       0.892086  0.107914"
      ]
     },
     "execution_count": 21,
     "metadata": {},
     "output_type": "execute_result"
    }
   ],
   "source": [
    "# Create a cross-tabulation of the 'lnpos_YN' and 'status' columns\n",
    "cross_tab = pd.crosstab(df['lnpos_YN'], df['status'] , normalize='index')\n",
    "cross_tab"
   ]
  },
  {
   "cell_type": "code",
   "execution_count": 22,
   "id": "b83757c4",
   "metadata": {
    "execution": {
     "iopub.execute_input": "2024-06-06T09:34:54.722377Z",
     "iopub.status.busy": "2024-06-06T09:34:54.721689Z",
     "iopub.status.idle": "2024-06-06T09:34:54.746503Z",
     "shell.execute_reply": "2024-06-06T09:34:54.745010Z"
    },
    "papermill": {
     "duration": 0.047957,
     "end_time": "2024-06-06T09:34:54.749547",
     "exception": false,
     "start_time": "2024-06-06T09:34:54.701590",
     "status": "completed"
    },
    "tags": []
   },
   "outputs": [
    {
     "data": {
      "text/html": [
       "<div>\n",
       "<style scoped>\n",
       "    .dataframe tbody tr th:only-of-type {\n",
       "        vertical-align: middle;\n",
       "    }\n",
       "\n",
       "    .dataframe tbody tr th {\n",
       "        vertical-align: top;\n",
       "    }\n",
       "\n",
       "    .dataframe thead th {\n",
       "        text-align: right;\n",
       "    }\n",
       "</style>\n",
       "<table border=\"1\" class=\"dataframe\">\n",
       "  <thead>\n",
       "    <tr style=\"text-align: right;\">\n",
       "      <th>status</th>\n",
       "      <th>0.0</th>\n",
       "      <th>1.0</th>\n",
       "    </tr>\n",
       "    <tr>\n",
       "      <th>pathsize_category</th>\n",
       "      <th></th>\n",
       "      <th></th>\n",
       "    </tr>\n",
       "  </thead>\n",
       "  <tbody>\n",
       "    <tr>\n",
       "      <th>&lt;2</th>\n",
       "      <td>0.962470</td>\n",
       "      <td>0.037530</td>\n",
       "    </tr>\n",
       "    <tr>\n",
       "      <th>2 &lt;= pathsize &lt;= 5</th>\n",
       "      <td>0.883392</td>\n",
       "      <td>0.116608</td>\n",
       "    </tr>\n",
       "    <tr>\n",
       "      <th>&gt;5</th>\n",
       "      <td>0.833333</td>\n",
       "      <td>0.166667</td>\n",
       "    </tr>\n",
       "  </tbody>\n",
       "</table>\n",
       "</div>"
      ],
      "text/plain": [
       "status                   0.0       1.0\n",
       "pathsize_category                     \n",
       "<2                  0.962470  0.037530\n",
       "2 <= pathsize <= 5  0.883392  0.116608\n",
       ">5                  0.833333  0.166667"
      ]
     },
     "execution_count": 22,
     "metadata": {},
     "output_type": "execute_result"
    }
   ],
   "source": [
    "cross_tab = pd.crosstab(df['pathsize_category'], df['status'], normalize='index')\n",
    "cross_tab"
   ]
  },
  {
   "cell_type": "markdown",
   "id": "78bfafaa",
   "metadata": {
    "papermill": {
     "duration": 0.019451,
     "end_time": "2024-06-06T09:34:54.787879",
     "exception": false,
     "start_time": "2024-06-06T09:34:54.768428",
     "status": "completed"
    },
    "tags": []
   },
   "source": [
    "# Comparing some categorical and continuous variables using Pivot table"
   ]
  },
  {
   "cell_type": "code",
   "execution_count": 23,
   "id": "f241f94a",
   "metadata": {
    "execution": {
     "iopub.execute_input": "2024-06-06T09:34:54.827699Z",
     "iopub.status.busy": "2024-06-06T09:34:54.827261Z",
     "iopub.status.idle": "2024-06-06T09:34:54.846515Z",
     "shell.execute_reply": "2024-06-06T09:34:54.845064Z"
    },
    "papermill": {
     "duration": 0.043396,
     "end_time": "2024-06-06T09:34:54.849870",
     "exception": false,
     "start_time": "2024-06-06T09:34:54.806474",
     "status": "completed"
    },
    "tags": []
   },
   "outputs": [
    {
     "name": "stderr",
     "output_type": "stream",
     "text": [
      "/tmp/ipykernel_19/515169679.py:2: FutureWarning: The default value of observed=False is deprecated and will change to observed=True in a future version of pandas. Specify observed=False to silence this warning and retain the current behavior\n",
      "  pivot_table = df.pivot_table(values='time', index='pathsize_category', aggfunc='mean')\n"
     ]
    },
    {
     "data": {
      "text/html": [
       "<div>\n",
       "<style scoped>\n",
       "    .dataframe tbody tr th:only-of-type {\n",
       "        vertical-align: middle;\n",
       "    }\n",
       "\n",
       "    .dataframe tbody tr th {\n",
       "        vertical-align: top;\n",
       "    }\n",
       "\n",
       "    .dataframe thead th {\n",
       "        text-align: right;\n",
       "    }\n",
       "</style>\n",
       "<table border=\"1\" class=\"dataframe\">\n",
       "  <thead>\n",
       "    <tr style=\"text-align: right;\">\n",
       "      <th></th>\n",
       "      <th>time</th>\n",
       "    </tr>\n",
       "    <tr>\n",
       "      <th>pathsize_category</th>\n",
       "      <th></th>\n",
       "    </tr>\n",
       "  </thead>\n",
       "  <tbody>\n",
       "    <tr>\n",
       "      <th>&lt;2</th>\n",
       "      <td>47.652542</td>\n",
       "    </tr>\n",
       "    <tr>\n",
       "      <th>2 &lt;= pathsize &lt;= 5</th>\n",
       "      <td>43.195995</td>\n",
       "    </tr>\n",
       "    <tr>\n",
       "      <th>&gt;5</th>\n",
       "      <td>34.347222</td>\n",
       "    </tr>\n",
       "  </tbody>\n",
       "</table>\n",
       "</div>"
      ],
      "text/plain": [
       "                         time\n",
       "pathsize_category            \n",
       "<2                  47.652542\n",
       "2 <= pathsize <= 5  43.195995\n",
       ">5                  34.347222"
      ]
     },
     "execution_count": 23,
     "metadata": {},
     "output_type": "execute_result"
    }
   ],
   "source": [
    "# Create a pivot table that calculates the mean of 'time' for each category in 'pathsize_category'\n",
    "pivot_table = df.pivot_table(values='time', index='pathsize_category', aggfunc='mean')\n",
    "#index => categorical\n",
    "#value => continous \n",
    "# Print the pivot table\n",
    "pivot_table"
   ]
  },
  {
   "cell_type": "code",
   "execution_count": 24,
   "id": "833e7d58",
   "metadata": {
    "execution": {
     "iopub.execute_input": "2024-06-06T09:34:54.890413Z",
     "iopub.status.busy": "2024-06-06T09:34:54.890010Z",
     "iopub.status.idle": "2024-06-06T09:34:54.921744Z",
     "shell.execute_reply": "2024-06-06T09:34:54.920219Z"
    },
    "papermill": {
     "duration": 0.055862,
     "end_time": "2024-06-06T09:34:54.924629",
     "exception": false,
     "start_time": "2024-06-06T09:34:54.868767",
     "status": "completed"
    },
    "tags": []
   },
   "outputs": [
    {
     "name": "stderr",
     "output_type": "stream",
     "text": [
      "/tmp/ipykernel_19/1864406513.py:2: FutureWarning: The default value of observed=False is deprecated and will change to observed=True in a future version of pandas. Specify observed=False to silence this warning and retain the current behavior\n",
      "  pivot_table = df.pivot_table(values=['time','age'], index='lnpos_YN', aggfunc={'time':['mean','std'],\n"
     ]
    },
    {
     "data": {
      "text/html": [
       "<div>\n",
       "<style scoped>\n",
       "    .dataframe tbody tr th:only-of-type {\n",
       "        vertical-align: middle;\n",
       "    }\n",
       "\n",
       "    .dataframe tbody tr th {\n",
       "        vertical-align: top;\n",
       "    }\n",
       "\n",
       "    .dataframe thead tr th {\n",
       "        text-align: left;\n",
       "    }\n",
       "\n",
       "    .dataframe thead tr:last-of-type th {\n",
       "        text-align: right;\n",
       "    }\n",
       "</style>\n",
       "<table border=\"1\" class=\"dataframe\">\n",
       "  <thead>\n",
       "    <tr>\n",
       "      <th></th>\n",
       "      <th colspan=\"2\" halign=\"left\">age</th>\n",
       "      <th colspan=\"2\" halign=\"left\">time</th>\n",
       "    </tr>\n",
       "    <tr>\n",
       "      <th></th>\n",
       "      <th>max</th>\n",
       "      <th>min</th>\n",
       "      <th>mean</th>\n",
       "      <th>std</th>\n",
       "    </tr>\n",
       "    <tr>\n",
       "      <th>lnpos_YN</th>\n",
       "      <th></th>\n",
       "      <th></th>\n",
       "      <th></th>\n",
       "      <th></th>\n",
       "    </tr>\n",
       "  </thead>\n",
       "  <tbody>\n",
       "    <tr>\n",
       "      <th>No</th>\n",
       "      <td>88.0</td>\n",
       "      <td>22.0</td>\n",
       "      <td>47.385181</td>\n",
       "      <td>29.378292</td>\n",
       "    </tr>\n",
       "    <tr>\n",
       "      <th>Yes</th>\n",
       "      <td>82.0</td>\n",
       "      <td>24.0</td>\n",
       "      <td>45.523861</td>\n",
       "      <td>30.504200</td>\n",
       "    </tr>\n",
       "  </tbody>\n",
       "</table>\n",
       "</div>"
      ],
      "text/plain": [
       "           age             time           \n",
       "           max   min       mean        std\n",
       "lnpos_YN                                  \n",
       "No        88.0  22.0  47.385181  29.378292\n",
       "Yes       82.0  24.0  45.523861  30.504200"
      ]
     },
     "execution_count": 24,
     "metadata": {},
     "output_type": "execute_result"
    }
   ],
   "source": [
    "# Create a pivot table that calculates the mean of 'time' and 'age' for each category in 'lnpos_YN'\n",
    "pivot_table = df.pivot_table(values=['time','age'], index='lnpos_YN', aggfunc={'time':['mean','std'],\n",
    "                                                                              'age': ['min','max']})\n",
    "\n",
    "# Print the pivot table\n",
    "pivot_table"
   ]
  },
  {
   "cell_type": "code",
   "execution_count": 25,
   "id": "91f2522f",
   "metadata": {
    "execution": {
     "iopub.execute_input": "2024-06-06T09:34:54.964483Z",
     "iopub.status.busy": "2024-06-06T09:34:54.964068Z",
     "iopub.status.idle": "2024-06-06T09:34:54.995818Z",
     "shell.execute_reply": "2024-06-06T09:34:54.994593Z"
    },
    "papermill": {
     "duration": 0.055123,
     "end_time": "2024-06-06T09:34:54.998780",
     "exception": false,
     "start_time": "2024-06-06T09:34:54.943657",
     "status": "completed"
    },
    "tags": []
   },
   "outputs": [
    {
     "name": "stderr",
     "output_type": "stream",
     "text": [
      "/tmp/ipykernel_19/1437472375.py:2: FutureWarning: The default value of observed=False is deprecated and will change to observed=True in a future version of pandas. Specify observed=False to silence this warning and retain the current behavior\n",
      "  pivot_table = df.pivot_table(values='time', index=['pathsize_category','lnpos_YN'], aggfunc=['mean','std'])\n",
      "/tmp/ipykernel_19/1437472375.py:2: FutureWarning: The default value of observed=False is deprecated and will change to observed=True in a future version of pandas. Specify observed=False to silence this warning and retain the current behavior\n",
      "  pivot_table = df.pivot_table(values='time', index=['pathsize_category','lnpos_YN'], aggfunc=['mean','std'])\n"
     ]
    },
    {
     "data": {
      "text/html": [
       "<div>\n",
       "<style scoped>\n",
       "    .dataframe tbody tr th:only-of-type {\n",
       "        vertical-align: middle;\n",
       "    }\n",
       "\n",
       "    .dataframe tbody tr th {\n",
       "        vertical-align: top;\n",
       "    }\n",
       "\n",
       "    .dataframe thead tr th {\n",
       "        text-align: left;\n",
       "    }\n",
       "\n",
       "    .dataframe thead tr:last-of-type th {\n",
       "        text-align: right;\n",
       "    }\n",
       "</style>\n",
       "<table border=\"1\" class=\"dataframe\">\n",
       "  <thead>\n",
       "    <tr>\n",
       "      <th></th>\n",
       "      <th></th>\n",
       "      <th>mean</th>\n",
       "      <th>std</th>\n",
       "    </tr>\n",
       "    <tr>\n",
       "      <th></th>\n",
       "      <th></th>\n",
       "      <th>time</th>\n",
       "      <th>time</th>\n",
       "    </tr>\n",
       "    <tr>\n",
       "      <th>pathsize_category</th>\n",
       "      <th>lnpos_YN</th>\n",
       "      <th></th>\n",
       "      <th></th>\n",
       "    </tr>\n",
       "  </thead>\n",
       "  <tbody>\n",
       "    <tr>\n",
       "      <th rowspan=\"2\" valign=\"top\">&lt;2</th>\n",
       "      <th>No</th>\n",
       "      <td>47.057558</td>\n",
       "      <td>28.835447</td>\n",
       "    </tr>\n",
       "    <tr>\n",
       "      <th>Yes</th>\n",
       "      <td>50.129167</td>\n",
       "      <td>31.580492</td>\n",
       "    </tr>\n",
       "    <tr>\n",
       "      <th rowspan=\"2\" valign=\"top\">2 &lt;= pathsize &lt;= 5</th>\n",
       "      <th>No</th>\n",
       "      <td>46.315263</td>\n",
       "      <td>29.784837</td>\n",
       "    </tr>\n",
       "    <tr>\n",
       "      <th>Yes</th>\n",
       "      <td>36.823297</td>\n",
       "      <td>26.825617</td>\n",
       "    </tr>\n",
       "    <tr>\n",
       "      <th rowspan=\"2\" valign=\"top\">&gt;5</th>\n",
       "      <th>No</th>\n",
       "      <td>31.808333</td>\n",
       "      <td>16.465663</td>\n",
       "    </tr>\n",
       "    <tr>\n",
       "      <th>Yes</th>\n",
       "      <td>35.616667</td>\n",
       "      <td>22.173851</td>\n",
       "    </tr>\n",
       "  </tbody>\n",
       "</table>\n",
       "</div>"
      ],
      "text/plain": [
       "                                  mean        std\n",
       "                                  time       time\n",
       "pathsize_category  lnpos_YN                      \n",
       "<2                 No        47.057558  28.835447\n",
       "                   Yes       50.129167  31.580492\n",
       "2 <= pathsize <= 5 No        46.315263  29.784837\n",
       "                   Yes       36.823297  26.825617\n",
       ">5                 No        31.808333  16.465663\n",
       "                   Yes       35.616667  22.173851"
      ]
     },
     "execution_count": 25,
     "metadata": {},
     "output_type": "execute_result"
    }
   ],
   "source": [
    "# Create a pivot table that calculates the mean of 'time' for each category in 'pathsize_category' and 'lnpos_YN'\n",
    "pivot_table = df.pivot_table(values='time', index=['pathsize_category','lnpos_YN'], aggfunc=['mean','std'])\n",
    "\n",
    "# Print the pivot table\n",
    "pivot_table"
   ]
  },
  {
   "cell_type": "markdown",
   "id": "ebf63132",
   "metadata": {
    "papermill": {
     "duration": 0.019449,
     "end_time": "2024-06-06T09:34:55.039417",
     "exception": false,
     "start_time": "2024-06-06T09:34:55.019968",
     "status": "completed"
    },
    "tags": []
   },
   "source": [
    "# Visualization Section"
   ]
  },
  {
   "cell_type": "code",
   "execution_count": 26,
   "id": "1358ec20",
   "metadata": {
    "execution": {
     "iopub.execute_input": "2024-06-06T09:34:55.081830Z",
     "iopub.status.busy": "2024-06-06T09:34:55.081409Z",
     "iopub.status.idle": "2024-06-06T09:34:55.696462Z",
     "shell.execute_reply": "2024-06-06T09:34:55.694892Z"
    },
    "papermill": {
     "duration": 0.638736,
     "end_time": "2024-06-06T09:34:55.699237",
     "exception": false,
     "start_time": "2024-06-06T09:34:55.060501",
     "status": "completed"
    },
    "tags": []
   },
   "outputs": [
    {
     "name": "stderr",
     "output_type": "stream",
     "text": [
      "/opt/conda/lib/python3.10/site-packages/seaborn/_oldcore.py:1119: FutureWarning: use_inf_as_na option is deprecated and will be removed in a future version. Convert inf values to NaN before operating instead.\n",
      "  with pd.option_context('mode.use_inf_as_na', True):\n"
     ]
    },
    {
     "data": {
      "image/png": "[encoded data removed]",
      "text/plain": [
       "<Figure size 1000x600 with 1 Axes>"
      ]
     },
     "metadata": {},
     "output_type": "display_data"
    }
   ],
   "source": [
    "# Set the aesthetic style of the plots\n",
    "sns.set(style=\"whitegrid\")\n",
    "\n",
    "# Create a histogram combined with a kernel density estimate\n",
    "plt.figure(figsize=(10, 6))\n",
    "sns.histplot(df['age'], kde=True, color=\"blue\",edgecolor=\"black\", binwidth=3, binrange=(df['age'].min(), df['age'].max()))\n",
    "\n",
    "# Adding more details to the plot\n",
    "plt.title('Distribution of Age with KDE')\n",
    "plt.xlabel('Age')\n",
    "plt.ylabel('Frequency')\n",
    "\n",
    "# Show the plot\n",
    "plt.show()\n"
   ]
  },
  {
   "cell_type": "code",
   "execution_count": 27,
   "id": "f1efff4b",
   "metadata": {
    "execution": {
     "iopub.execute_input": "2024-06-06T09:34:55.743050Z",
     "iopub.status.busy": "2024-06-06T09:34:55.742621Z",
     "iopub.status.idle": "2024-06-06T09:34:56.205294Z",
     "shell.execute_reply": "2024-06-06T09:34:56.204112Z"
    },
    "papermill": {
     "duration": 0.487766,
     "end_time": "2024-06-06T09:34:56.207815",
     "exception": false,
     "start_time": "2024-06-06T09:34:55.720049",
     "status": "completed"
    },
    "tags": []
   },
   "outputs": [
    {
     "data": {
      "image/png": "[encoded data removed]",
      "text/plain": [
       "<Figure size 640x480 with 1 Axes>"
      ]
     },
     "metadata": {},
     "output_type": "display_data"
    }
   ],
   "source": [
    "\n",
    "# Create a scatter plot for 'age' and 'time'\n",
    "sns.scatterplot(x='age', y='time', data=df)\n",
    "plt.title('Scatter Plot of Age vs. Time')\n",
    "plt.xlabel('Age')\n",
    "plt.ylabel('Time')\n",
    "plt.show()\n"
   ]
  },
  {
   "cell_type": "code",
   "execution_count": 28,
   "id": "53814327",
   "metadata": {
    "execution": {
     "iopub.execute_input": "2024-06-06T09:34:56.253547Z",
     "iopub.status.busy": "2024-06-06T09:34:56.253064Z",
     "iopub.status.idle": "2024-06-06T09:34:57.467309Z",
     "shell.execute_reply": "2024-06-06T09:34:57.466150Z"
    },
    "papermill": {
     "duration": 1.240715,
     "end_time": "2024-06-06T09:34:57.470017",
     "exception": false,
     "start_time": "2024-06-06T09:34:56.229302",
     "status": "completed"
    },
    "tags": []
   },
   "outputs": [
    {
     "name": "stderr",
     "output_type": "stream",
     "text": [
      "/opt/conda/lib/python3.10/site-packages/seaborn/_oldcore.py:1119: FutureWarning: use_inf_as_na option is deprecated and will be removed in a future version. Convert inf values to NaN before operating instead.\n",
      "  with pd.option_context('mode.use_inf_as_na', True):\n",
      "/opt/conda/lib/python3.10/site-packages/seaborn/_oldcore.py:1119: FutureWarning: use_inf_as_na option is deprecated and will be removed in a future version. Convert inf values to NaN before operating instead.\n",
      "  with pd.option_context('mode.use_inf_as_na', True):\n"
     ]
    },
    {
     "data": {
      "image/png": "[encoded data removed]",
      "text/plain": [
       "<Figure size 1400x500 with 2 Axes>"
      ]
     },
     "metadata": {},
     "output_type": "display_data"
    }
   ],
   "source": [
    "# Setting the aesthetic style of the plots\n",
    "sns.set(style=\"whitegrid\")\n",
    "\n",
    "# Create a figure to hold the subplots\n",
    "fig, axes = plt.subplots(1, 2, figsize=(14, 5))\n",
    "\n",
    "# Histogram for 'age'\n",
    "sns.histplot(df['age'], kde=True, color=\"purple\", ax=axes[0])\n",
    "axes[0].set_title('Histogram of Age')\n",
    "axes[0].set_xlabel('Age')\n",
    "axes[0].set_ylabel('Frequency')\n",
    "\n",
    "# Histogram for 'time'\n",
    "sns.histplot(df['time'], kde=True, color=\"green\", ax=axes[1])\n",
    "axes[1].set_title('Histogram of Time')\n",
    "axes[1].set_xlabel('Time')\n",
    "axes[1].set_ylabel('Frequency')\n",
    "\n",
    "# Display the plots\n",
    "plt.tight_layout()\n",
    "plt.show()\n"
   ]
  },
  {
   "cell_type": "code",
   "execution_count": 29,
   "id": "e64cc254",
   "metadata": {
    "execution": {
     "iopub.execute_input": "2024-06-06T09:34:57.517668Z",
     "iopub.status.busy": "2024-06-06T09:34:57.517280Z",
     "iopub.status.idle": "2024-06-06T09:34:57.740848Z",
     "shell.execute_reply": "2024-06-06T09:34:57.739472Z"
    },
    "papermill": {
     "duration": 0.250872,
     "end_time": "2024-06-06T09:34:57.743727",
     "exception": false,
     "start_time": "2024-06-06T09:34:57.492855",
     "status": "completed"
    },
    "tags": []
   },
   "outputs": [
    {
     "data": {
      "image/png": "[encoded data removed]",
      "text/plain": [
       "<Figure size 800x800 with 1 Axes>"
      ]
     },
     "metadata": {},
     "output_type": "display_data"
    }
   ],
   "source": [
    "# Count the occurrences of each category in 'histgrad'\n",
    "histgrad_counts = df['histgrad'].value_counts()\n",
    "\n",
    "# Create a pie chart\n",
    "plt.figure(figsize=(8, 8))\n",
    "plt.pie(histgrad_counts, labels=histgrad_counts.index, autopct='%1.1f%%', startangle=140, colors=plt.cm.Pastel1.colors)\n",
    "plt.title('Pie Chart of Histgrad Categories')\n",
    "plt.show()\n"
   ]
  },
  {
   "cell_type": "code",
   "execution_count": null,
   "id": "93b9729e",
   "metadata": {
    "papermill": {
     "duration": 0.025155,
     "end_time": "2024-06-06T09:34:57.793816",
     "exception": false,
     "start_time": "2024-06-06T09:34:57.768661",
     "status": "completed"
    },
    "tags": []
   },
   "outputs": [],
   "source": []
  }
 ],
 "metadata": {
  "kaggle": {
   "accelerator": "none",
   "dataSources": [
    {
     "datasetId": 5068127,
     "sourceId": 8494116,
     "sourceType": "datasetVersion"
    }
   ],
   "dockerImageVersionId": 30698,
   "isGpuEnabled": false,
   "isInternetEnabled": true,
   "language": "python",
   "sourceType": "notebook"
  },
  "kernelspec": {
   "display_name": "Python 3",
   "language": "python",
   "name": "python3"
  },
  "language_info": {
   "codemirror_mode": {
    "name": "ipython",
    "version": 3
   },
   "file_extension": ".py",
   "mimetype": "text/x-python",
   "name": "python",
   "nbconvert_exporter": "python",
   "pygments_lexer": "ipython3",
   "version": "3.10.13"
  },
  "papermill": {
   "default_parameters": {},
   "duration": 31.276033,
   "end_time": "2024-06-06T09:34:58.540658",
   "environment_variables": {},
   "exception": null,
   "input_path": "__notebook__.ipynb",
   "output_path": "__notebook__.ipynb",
   "parameters": {},
   "start_time": "2024-06-06T09:34:27.264625",
   "version": "2.5.0"
  }
 },
 "nbformat": 4,
 "nbformat_minor": 5
}
